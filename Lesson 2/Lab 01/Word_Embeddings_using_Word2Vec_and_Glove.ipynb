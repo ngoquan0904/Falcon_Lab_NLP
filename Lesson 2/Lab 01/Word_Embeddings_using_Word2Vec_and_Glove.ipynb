{
  "nbformat": 4,
  "nbformat_minor": 0,
  "metadata": {
    "colab": {
      "provenance": [],
      "machine_shape": "hm",
      "toc_visible": true
    },
    "kernelspec": {
      "name": "python3",
      "display_name": "Python 3"
    },
    "language_info": {
      "name": "python"
    }
  },
  "cells": [
    {
      "cell_type": "code",
      "source": [
        "!pip install --upgrade numpy gensim --quiet"
      ],
      "metadata": {
        "id": "x4RFYOl9uq8_",
        "colab": {
          "base_uri": "https://localhost:8080/"
        },
        "outputId": "296ee8a6-7c55-4e8f-9b33-083a86163311"
      },
      "execution_count": 1,
      "outputs": [
        {
          "output_type": "stream",
          "name": "stdout",
          "text": [
            "\u001b[2K     \u001b[90m━━━━━━━━━━━━━━━━━━━━━━━━━━━━━━━━━━━━━━━━\u001b[0m \u001b[32m62.0/62.0 kB\u001b[0m \u001b[31m1.4 MB/s\u001b[0m eta \u001b[36m0:00:00\u001b[0m\n",
            "\u001b[2K     \u001b[90m━━━━━━━━━━━━━━━━━━━━━━━━━━━━━━━━━━━━━━━━\u001b[0m \u001b[32m61.0/61.0 kB\u001b[0m \u001b[31m1.6 MB/s\u001b[0m eta \u001b[36m0:00:00\u001b[0m\n",
            "\u001b[2K     \u001b[90m━━━━━━━━━━━━━━━━━━━━━━━━━━━━━━━━━━━━━━━━\u001b[0m \u001b[32m60.6/60.6 kB\u001b[0m \u001b[31m1.3 MB/s\u001b[0m eta \u001b[36m0:00:00\u001b[0m\n",
            "\u001b[2K   \u001b[90m━━━━━━━━━━━━━━━━━━━━━━━━━━━━━━━━━━━━━━━━\u001b[0m \u001b[32m26.7/26.7 MB\u001b[0m \u001b[31m27.5 MB/s\u001b[0m eta \u001b[36m0:00:00\u001b[0m\n",
            "\u001b[2K   \u001b[90m━━━━━━━━━━━━━━━━━━━━━━━━━━━━━━━━━━━━━━━━\u001b[0m \u001b[32m18.3/18.3 MB\u001b[0m \u001b[31m26.0 MB/s\u001b[0m eta \u001b[36m0:00:00\u001b[0m\n",
            "\u001b[2K   \u001b[90m━━━━━━━━━━━━━━━━━━━━━━━━━━━━━━━━━━━━━━━━\u001b[0m \u001b[32m38.6/38.6 MB\u001b[0m \u001b[31m10.8 MB/s\u001b[0m eta \u001b[36m0:00:00\u001b[0m\n",
            "\u001b[?25h\u001b[31mERROR: pip's dependency resolver does not currently take into account all the packages that are installed. This behaviour is the source of the following dependency conflicts.\n",
            "thinc 8.3.6 requires numpy<3.0.0,>=2.0.0, but you have numpy 1.26.4 which is incompatible.\u001b[0m\u001b[31m\n",
            "\u001b[0m"
          ]
        }
      ]
    },
    {
      "cell_type": "markdown",
      "metadata": {
        "id": "9RH8Ecq9sbYU"
      },
      "source": [
        "# Import các thư viện cần thiết\n"
      ]
    },
    {
      "cell_type": "code",
      "metadata": {
        "id": "DFl76_ngsasw"
      },
      "source": [
        "import pandas as pd\n",
        "import numpy as np\n",
        "import seaborn as sns\n",
        "import re\n",
        "import string\n",
        "import gensim\n",
        "import matplotlib.pyplot as plt\n",
        "from sklearn.decomposition import PCA"
      ],
      "execution_count": 1,
      "outputs": []
    },
    {
      "cell_type": "markdown",
      "source": [
        "# Word2Vec"
      ],
      "metadata": {
        "id": "nCm0bhPFrISV"
      }
    },
    {
      "cell_type": "markdown",
      "metadata": {
        "id": "ymsi9IR9OEKC"
      },
      "source": [
        "## Load Pre-trained Embedding"
      ]
    },
    {
      "cell_type": "code",
      "source": [
        "import gensim.downloader as api"
      ],
      "metadata": {
        "id": "OzO4vkDXuu25"
      },
      "execution_count": 2,
      "outputs": []
    },
    {
      "cell_type": "code",
      "source": [
        "w2v = api.load('word2vec-google-news-300')"
      ],
      "metadata": {
        "id": "PhP6YepNwJDR",
        "colab": {
          "base_uri": "https://localhost:8080/"
        },
        "outputId": "bd9276ec-5ce7-4b42-9541-cbc3be2991ef"
      },
      "execution_count": null,
      "outputs": [
        {
          "output_type": "stream",
          "name": "stdout",
          "text": [
            "[==================================================] 100.0% 1662.8/1662.8MB downloaded\n"
          ]
        }
      ]
    },
    {
      "cell_type": "code",
      "source": [
        "# Word embedding\n",
        "print(w2v['dog'])"
      ],
      "metadata": {
        "id": "Z-jIXR83GLC4",
        "colab": {
          "base_uri": "https://localhost:8080/"
        },
        "outputId": "3751b0c9-4872-42f4-8bea-40717d80c163"
      },
      "execution_count": null,
      "outputs": [
        {
          "output_type": "stream",
          "name": "stdout",
          "text": [
            "[ 5.12695312e-02 -2.23388672e-02 -1.72851562e-01  1.61132812e-01\n",
            " -8.44726562e-02  5.73730469e-02  5.85937500e-02 -8.25195312e-02\n",
            " -1.53808594e-02 -6.34765625e-02  1.79687500e-01 -4.23828125e-01\n",
            " -2.25830078e-02 -1.66015625e-01 -2.51464844e-02  1.07421875e-01\n",
            " -1.99218750e-01  1.59179688e-01 -1.87500000e-01 -1.20117188e-01\n",
            "  1.55273438e-01 -9.91210938e-02  1.42578125e-01 -1.64062500e-01\n",
            " -8.93554688e-02  2.00195312e-01 -1.49414062e-01  3.20312500e-01\n",
            "  3.28125000e-01  2.44140625e-02 -9.71679688e-02 -8.20312500e-02\n",
            " -3.63769531e-02 -8.59375000e-02 -9.86328125e-02  7.78198242e-03\n",
            " -1.34277344e-02  5.27343750e-02  1.48437500e-01  3.33984375e-01\n",
            "  1.66015625e-02 -2.12890625e-01 -1.50756836e-02  5.24902344e-02\n",
            " -1.07421875e-01 -8.88671875e-02  2.49023438e-01 -7.03125000e-02\n",
            " -1.59912109e-02  7.56835938e-02 -7.03125000e-02  1.19140625e-01\n",
            "  2.29492188e-01  1.41601562e-02  1.15234375e-01  7.50732422e-03\n",
            "  2.75390625e-01 -2.44140625e-01  2.96875000e-01  3.49121094e-02\n",
            "  2.42187500e-01  1.35742188e-01  1.42578125e-01  1.75781250e-02\n",
            "  2.92968750e-02 -1.21582031e-01  2.28271484e-02 -4.76074219e-02\n",
            " -1.55273438e-01  3.14331055e-03  3.45703125e-01  1.22558594e-01\n",
            " -1.95312500e-01  8.10546875e-02 -6.83593750e-02 -1.47094727e-02\n",
            "  2.14843750e-01 -1.21093750e-01  1.57226562e-01 -2.07031250e-01\n",
            "  1.36718750e-01 -1.29882812e-01  5.29785156e-02 -2.71484375e-01\n",
            " -2.98828125e-01 -1.84570312e-01 -2.29492188e-01  1.19140625e-01\n",
            "  1.53198242e-02 -2.61718750e-01 -1.23046875e-01 -1.86767578e-02\n",
            " -6.49414062e-02 -8.15429688e-02  7.86132812e-02 -3.53515625e-01\n",
            "  5.24902344e-02 -2.45361328e-02 -5.43212891e-03 -2.08984375e-01\n",
            " -2.10937500e-01 -1.79687500e-01  2.42187500e-01  2.57812500e-01\n",
            "  1.37695312e-01 -2.10937500e-01 -2.17285156e-02 -1.38671875e-01\n",
            "  1.84326172e-02 -1.23901367e-02 -1.59179688e-01  1.61132812e-01\n",
            "  2.08007812e-01  1.03027344e-01  9.81445312e-02 -6.83593750e-02\n",
            " -8.72802734e-03 -2.89062500e-01 -2.14843750e-01 -1.14257812e-01\n",
            " -2.21679688e-01  4.12597656e-02 -3.12500000e-01 -5.59082031e-02\n",
            " -9.76562500e-02  5.81054688e-02 -4.05273438e-02 -1.73828125e-01\n",
            "  1.64062500e-01 -2.53906250e-01 -1.54296875e-01 -2.31933594e-02\n",
            " -2.38281250e-01  2.07519531e-02 -2.73437500e-01  3.90625000e-03\n",
            "  1.13769531e-01 -1.73828125e-01  2.57812500e-01  2.35351562e-01\n",
            "  5.22460938e-02  6.83593750e-02 -1.75781250e-01  1.60156250e-01\n",
            " -5.98907471e-04  5.98144531e-02 -2.11914062e-01 -5.54199219e-02\n",
            " -7.51953125e-02 -3.06640625e-01  4.27734375e-01  5.32226562e-02\n",
            " -2.08984375e-01 -5.71289062e-02 -2.09960938e-01  3.29589844e-02\n",
            "  1.05468750e-01 -1.50390625e-01 -9.37500000e-02  1.16699219e-01\n",
            "  6.44531250e-02  2.80761719e-02  2.41210938e-01 -1.25976562e-01\n",
            " -1.00585938e-01 -1.22680664e-02 -3.26156616e-04  1.58691406e-02\n",
            "  1.27929688e-01 -3.32031250e-02  4.07714844e-02 -1.31835938e-01\n",
            "  9.81445312e-02  1.74804688e-01 -2.36328125e-01  5.17578125e-02\n",
            "  1.83593750e-01  2.42919922e-02 -4.31640625e-01  2.46093750e-01\n",
            " -3.03955078e-02 -2.47802734e-02 -1.17187500e-01  1.61132812e-01\n",
            " -5.71289062e-02  1.16577148e-02  2.81250000e-01  4.27734375e-01\n",
            "  4.56542969e-02  1.01074219e-01 -3.95507812e-02  1.77001953e-02\n",
            " -8.98437500e-02  1.35742188e-01  2.08007812e-01  1.88476562e-01\n",
            " -1.52343750e-01 -2.37304688e-01 -1.90429688e-01  7.12890625e-02\n",
            " -2.46093750e-01 -2.61718750e-01 -2.34375000e-01 -1.45507812e-01\n",
            " -1.17187500e-02 -1.50390625e-01 -1.13281250e-01  1.82617188e-01\n",
            "  2.63671875e-01 -1.37695312e-01 -4.58984375e-01 -4.68750000e-02\n",
            " -1.26953125e-01 -4.22363281e-02 -1.66992188e-01  1.26953125e-01\n",
            "  2.59765625e-01 -2.44140625e-01 -2.19726562e-01 -8.69140625e-02\n",
            "  1.59179688e-01 -3.78417969e-02  8.97216797e-03 -2.77343750e-01\n",
            " -1.04980469e-01 -1.75781250e-01  2.28515625e-01 -2.70996094e-02\n",
            "  2.85156250e-01 -2.73437500e-01  1.61132812e-02  5.90820312e-02\n",
            " -2.39257812e-01  1.77734375e-01 -1.34765625e-01  1.38671875e-01\n",
            "  3.53515625e-01  1.22070312e-01  1.43554688e-01  9.22851562e-02\n",
            "  2.29492188e-01 -3.00781250e-01 -4.88281250e-02 -1.79687500e-01\n",
            "  2.96875000e-01  1.75781250e-01  4.80957031e-02 -3.38745117e-03\n",
            "  7.91015625e-02 -2.38281250e-01 -2.31445312e-01  1.66015625e-01\n",
            " -2.13867188e-01 -7.03125000e-02 -7.56835938e-02  1.96289062e-01\n",
            " -1.29882812e-01 -1.05957031e-01 -3.53515625e-01 -1.16699219e-01\n",
            " -5.10253906e-02  3.39355469e-02 -1.43554688e-01 -3.90625000e-03\n",
            "  1.73828125e-01 -9.96093750e-02 -1.66015625e-01 -8.54492188e-02\n",
            " -3.82812500e-01  5.90820312e-02 -6.22558594e-02  8.83789062e-02\n",
            " -8.88671875e-02  3.28125000e-01  6.83593750e-02 -1.91406250e-01\n",
            " -8.35418701e-04  1.04003906e-01  1.52343750e-01 -1.53350830e-03\n",
            "  4.16015625e-01 -3.32031250e-02  1.49414062e-01  2.42187500e-01\n",
            " -1.76757812e-01 -4.93164062e-02 -1.24511719e-01  1.25976562e-01\n",
            "  1.74804688e-01  2.81250000e-01 -1.80664062e-01  1.03027344e-01\n",
            " -2.75390625e-01  2.61718750e-01  2.46093750e-01 -4.71191406e-02\n",
            "  6.25000000e-02  4.16015625e-01 -3.55468750e-01  2.22656250e-01]\n"
          ]
        }
      ]
    },
    {
      "cell_type": "code",
      "source": [
        "words = ['king', 'queen', 'river', 'water', 'ocean', 'tree', 'leaf', 'happy', 'glad', 'mother', 'daughter']"
      ],
      "metadata": {
        "id": "hVHVWAIbX8UE"
      },
      "execution_count": null,
      "outputs": []
    },
    {
      "cell_type": "code",
      "source": [
        "word2vec = []\n",
        "for word in words:\n",
        "    try:\n",
        "        word2vec.append(w2v[word])\n",
        "    except:\n",
        "        pass\n",
        "print(\"There are %d words and the vector size of each word is %d\" %(len(word2vec),len(word2vec[0])))"
      ],
      "metadata": {
        "id": "d13wqYtZJUGr",
        "colab": {
          "base_uri": "https://localhost:8080/"
        },
        "outputId": "d3d8785a-4d0e-4f07-e671-4f3d2bb64ed6"
      },
      "execution_count": null,
      "outputs": [
        {
          "output_type": "stream",
          "name": "stdout",
          "text": [
            "There are 11 words and the vector size of each word is 300\n"
          ]
        }
      ]
    },
    {
      "cell_type": "markdown",
      "metadata": {
        "id": "w23olxol8BIf"
      },
      "source": [
        "## Tính độ tương đồng cosine_similarity\n"
      ]
    },
    {
      "cell_type": "code",
      "source": [
        "from sklearn.metrics.pairwise import cosine_similarity\n",
        "\n",
        "def cosine_sim(vec1, vec2):\n",
        "  vec1 = vec1.reshape(1, -1)\n",
        "  vec2 = vec2.reshape(1, -1)\n",
        "  return cosine_similarity(vec1, vec2)[0][0]"
      ],
      "metadata": {
        "id": "VCABxDjE9zsG"
      },
      "execution_count": null,
      "outputs": []
    },
    {
      "cell_type": "code",
      "source": [
        "w2v_similarity = []\n",
        "\n",
        "for i, word_1 in enumerate(words):\n",
        "    w2v_row_wise_simiarity = []\n",
        "    for j, word_2 in enumerate(words):\n",
        "        vec_1, vec_2 = w2v[word_1], w2v[word_2]\n",
        "\n",
        "        # Tính cosine_sim\n",
        "        similarity = cosine_sim(vec_1,vec_2)\n",
        "        w2v_row_wise_simiarity.append(np.array(similarity).item())\n",
        "\n",
        "    w2v_similarity.append(w2v_row_wise_simiarity)\n",
        "\n",
        "pd.DataFrame(w2v_similarity, columns = words, index = words)"
      ],
      "metadata": {
        "id": "8BmU3uD3KT58",
        "colab": {
          "base_uri": "https://localhost:8080/",
          "height": 394
        },
        "outputId": "8dcc59a2-9e24-4781-c725-3c2e52698492"
      },
      "execution_count": null,
      "outputs": [
        {
          "output_type": "execute_result",
          "data": {
            "text/plain": [
              "              king     queen     river     water     ocean      tree  \\\n",
              "king      1.000000  0.651096  0.086155  0.035606  0.065263  0.109141   \n",
              "queen     0.651096  1.000000  0.103566  0.018264  0.099157  0.112222   \n",
              "river     0.086155  0.103566  1.000000  0.576898  0.477181  0.230746   \n",
              "water     0.035606  0.018264  0.576898  1.000000  0.471691  0.196022   \n",
              "ocean     0.065263  0.099157  0.477181  0.471691  1.000000  0.141859   \n",
              "tree      0.109141  0.112222  0.230746  0.196022  0.141859  1.000000   \n",
              "leaf      0.094281  0.155300  0.138517  0.173613  0.080042  0.482285   \n",
              "happy     0.113239  0.121214  0.073289  0.067675 -0.000511  0.076933   \n",
              "glad      0.063524  0.082538  0.071341  0.085623  0.014122  0.105760   \n",
              "mother    0.160052  0.288445  0.131063  0.110723  0.105623  0.188985   \n",
              "daughter  0.148813  0.305139  0.116944  0.079457  0.081207  0.173518   \n",
              "\n",
              "              leaf     happy      glad    mother  daughter  \n",
              "king      0.094281  0.113239  0.063524  0.160052  0.148813  \n",
              "queen     0.155300  0.121214  0.082538  0.288445  0.305139  \n",
              "river     0.138517  0.073289  0.071341  0.131063  0.116944  \n",
              "water     0.173613  0.067675  0.085623  0.110723  0.079457  \n",
              "ocean     0.080042 -0.000511  0.014122  0.105623  0.081207  \n",
              "tree      0.482285  0.076933  0.105760  0.188985  0.173518  \n",
              "leaf      1.000000  0.064716  0.060144  0.076172  0.062331  \n",
              "happy     0.064716  1.000000  0.740889  0.119672  0.152536  \n",
              "glad      0.060144  0.740889  1.000000  0.125566  0.181102  \n",
              "mother    0.076172  0.119672  0.125566  1.000000  0.870623  \n",
              "daughter  0.062331  0.152536  0.181102  0.870623  1.000000  "
            ],
            "text/html": [
              "\n",
              "  <div id=\"df-46be770c-ddda-45f9-946e-62136980c88a\" class=\"colab-df-container\">\n",
              "    <div>\n",
              "<style scoped>\n",
              "    .dataframe tbody tr th:only-of-type {\n",
              "        vertical-align: middle;\n",
              "    }\n",
              "\n",
              "    .dataframe tbody tr th {\n",
              "        vertical-align: top;\n",
              "    }\n",
              "\n",
              "    .dataframe thead th {\n",
              "        text-align: right;\n",
              "    }\n",
              "</style>\n",
              "<table border=\"1\" class=\"dataframe\">\n",
              "  <thead>\n",
              "    <tr style=\"text-align: right;\">\n",
              "      <th></th>\n",
              "      <th>king</th>\n",
              "      <th>queen</th>\n",
              "      <th>river</th>\n",
              "      <th>water</th>\n",
              "      <th>ocean</th>\n",
              "      <th>tree</th>\n",
              "      <th>leaf</th>\n",
              "      <th>happy</th>\n",
              "      <th>glad</th>\n",
              "      <th>mother</th>\n",
              "      <th>daughter</th>\n",
              "    </tr>\n",
              "  </thead>\n",
              "  <tbody>\n",
              "    <tr>\n",
              "      <th>king</th>\n",
              "      <td>1.000000</td>\n",
              "      <td>0.651096</td>\n",
              "      <td>0.086155</td>\n",
              "      <td>0.035606</td>\n",
              "      <td>0.065263</td>\n",
              "      <td>0.109141</td>\n",
              "      <td>0.094281</td>\n",
              "      <td>0.113239</td>\n",
              "      <td>0.063524</td>\n",
              "      <td>0.160052</td>\n",
              "      <td>0.148813</td>\n",
              "    </tr>\n",
              "    <tr>\n",
              "      <th>queen</th>\n",
              "      <td>0.651096</td>\n",
              "      <td>1.000000</td>\n",
              "      <td>0.103566</td>\n",
              "      <td>0.018264</td>\n",
              "      <td>0.099157</td>\n",
              "      <td>0.112222</td>\n",
              "      <td>0.155300</td>\n",
              "      <td>0.121214</td>\n",
              "      <td>0.082538</td>\n",
              "      <td>0.288445</td>\n",
              "      <td>0.305139</td>\n",
              "    </tr>\n",
              "    <tr>\n",
              "      <th>river</th>\n",
              "      <td>0.086155</td>\n",
              "      <td>0.103566</td>\n",
              "      <td>1.000000</td>\n",
              "      <td>0.576898</td>\n",
              "      <td>0.477181</td>\n",
              "      <td>0.230746</td>\n",
              "      <td>0.138517</td>\n",
              "      <td>0.073289</td>\n",
              "      <td>0.071341</td>\n",
              "      <td>0.131063</td>\n",
              "      <td>0.116944</td>\n",
              "    </tr>\n",
              "    <tr>\n",
              "      <th>water</th>\n",
              "      <td>0.035606</td>\n",
              "      <td>0.018264</td>\n",
              "      <td>0.576898</td>\n",
              "      <td>1.000000</td>\n",
              "      <td>0.471691</td>\n",
              "      <td>0.196022</td>\n",
              "      <td>0.173613</td>\n",
              "      <td>0.067675</td>\n",
              "      <td>0.085623</td>\n",
              "      <td>0.110723</td>\n",
              "      <td>0.079457</td>\n",
              "    </tr>\n",
              "    <tr>\n",
              "      <th>ocean</th>\n",
              "      <td>0.065263</td>\n",
              "      <td>0.099157</td>\n",
              "      <td>0.477181</td>\n",
              "      <td>0.471691</td>\n",
              "      <td>1.000000</td>\n",
              "      <td>0.141859</td>\n",
              "      <td>0.080042</td>\n",
              "      <td>-0.000511</td>\n",
              "      <td>0.014122</td>\n",
              "      <td>0.105623</td>\n",
              "      <td>0.081207</td>\n",
              "    </tr>\n",
              "    <tr>\n",
              "      <th>tree</th>\n",
              "      <td>0.109141</td>\n",
              "      <td>0.112222</td>\n",
              "      <td>0.230746</td>\n",
              "      <td>0.196022</td>\n",
              "      <td>0.141859</td>\n",
              "      <td>1.000000</td>\n",
              "      <td>0.482285</td>\n",
              "      <td>0.076933</td>\n",
              "      <td>0.105760</td>\n",
              "      <td>0.188985</td>\n",
              "      <td>0.173518</td>\n",
              "    </tr>\n",
              "    <tr>\n",
              "      <th>leaf</th>\n",
              "      <td>0.094281</td>\n",
              "      <td>0.155300</td>\n",
              "      <td>0.138517</td>\n",
              "      <td>0.173613</td>\n",
              "      <td>0.080042</td>\n",
              "      <td>0.482285</td>\n",
              "      <td>1.000000</td>\n",
              "      <td>0.064716</td>\n",
              "      <td>0.060144</td>\n",
              "      <td>0.076172</td>\n",
              "      <td>0.062331</td>\n",
              "    </tr>\n",
              "    <tr>\n",
              "      <th>happy</th>\n",
              "      <td>0.113239</td>\n",
              "      <td>0.121214</td>\n",
              "      <td>0.073289</td>\n",
              "      <td>0.067675</td>\n",
              "      <td>-0.000511</td>\n",
              "      <td>0.076933</td>\n",
              "      <td>0.064716</td>\n",
              "      <td>1.000000</td>\n",
              "      <td>0.740889</td>\n",
              "      <td>0.119672</td>\n",
              "      <td>0.152536</td>\n",
              "    </tr>\n",
              "    <tr>\n",
              "      <th>glad</th>\n",
              "      <td>0.063524</td>\n",
              "      <td>0.082538</td>\n",
              "      <td>0.071341</td>\n",
              "      <td>0.085623</td>\n",
              "      <td>0.014122</td>\n",
              "      <td>0.105760</td>\n",
              "      <td>0.060144</td>\n",
              "      <td>0.740889</td>\n",
              "      <td>1.000000</td>\n",
              "      <td>0.125566</td>\n",
              "      <td>0.181102</td>\n",
              "    </tr>\n",
              "    <tr>\n",
              "      <th>mother</th>\n",
              "      <td>0.160052</td>\n",
              "      <td>0.288445</td>\n",
              "      <td>0.131063</td>\n",
              "      <td>0.110723</td>\n",
              "      <td>0.105623</td>\n",
              "      <td>0.188985</td>\n",
              "      <td>0.076172</td>\n",
              "      <td>0.119672</td>\n",
              "      <td>0.125566</td>\n",
              "      <td>1.000000</td>\n",
              "      <td>0.870623</td>\n",
              "    </tr>\n",
              "    <tr>\n",
              "      <th>daughter</th>\n",
              "      <td>0.148813</td>\n",
              "      <td>0.305139</td>\n",
              "      <td>0.116944</td>\n",
              "      <td>0.079457</td>\n",
              "      <td>0.081207</td>\n",
              "      <td>0.173518</td>\n",
              "      <td>0.062331</td>\n",
              "      <td>0.152536</td>\n",
              "      <td>0.181102</td>\n",
              "      <td>0.870623</td>\n",
              "      <td>1.000000</td>\n",
              "    </tr>\n",
              "  </tbody>\n",
              "</table>\n",
              "</div>\n",
              "    <div class=\"colab-df-buttons\">\n",
              "\n",
              "  <div class=\"colab-df-container\">\n",
              "    <button class=\"colab-df-convert\" onclick=\"convertToInteractive('df-46be770c-ddda-45f9-946e-62136980c88a')\"\n",
              "            title=\"Convert this dataframe to an interactive table.\"\n",
              "            style=\"display:none;\">\n",
              "\n",
              "  <svg xmlns=\"http://www.w3.org/2000/svg\" height=\"24px\" viewBox=\"0 -960 960 960\">\n",
              "    <path d=\"M120-120v-720h720v720H120Zm60-500h600v-160H180v160Zm220 220h160v-160H400v160Zm0 220h160v-160H400v160ZM180-400h160v-160H180v160Zm440 0h160v-160H620v160ZM180-180h160v-160H180v160Zm440 0h160v-160H620v160Z\"/>\n",
              "  </svg>\n",
              "    </button>\n",
              "\n",
              "  <style>\n",
              "    .colab-df-container {\n",
              "      display:flex;\n",
              "      gap: 12px;\n",
              "    }\n",
              "\n",
              "    .colab-df-convert {\n",
              "      background-color: #E8F0FE;\n",
              "      border: none;\n",
              "      border-radius: 50%;\n",
              "      cursor: pointer;\n",
              "      display: none;\n",
              "      fill: #1967D2;\n",
              "      height: 32px;\n",
              "      padding: 0 0 0 0;\n",
              "      width: 32px;\n",
              "    }\n",
              "\n",
              "    .colab-df-convert:hover {\n",
              "      background-color: #E2EBFA;\n",
              "      box-shadow: 0px 1px 2px rgba(60, 64, 67, 0.3), 0px 1px 3px 1px rgba(60, 64, 67, 0.15);\n",
              "      fill: #174EA6;\n",
              "    }\n",
              "\n",
              "    .colab-df-buttons div {\n",
              "      margin-bottom: 4px;\n",
              "    }\n",
              "\n",
              "    [theme=dark] .colab-df-convert {\n",
              "      background-color: #3B4455;\n",
              "      fill: #D2E3FC;\n",
              "    }\n",
              "\n",
              "    [theme=dark] .colab-df-convert:hover {\n",
              "      background-color: #434B5C;\n",
              "      box-shadow: 0px 1px 3px 1px rgba(0, 0, 0, 0.15);\n",
              "      filter: drop-shadow(0px 1px 2px rgba(0, 0, 0, 0.3));\n",
              "      fill: #FFFFFF;\n",
              "    }\n",
              "  </style>\n",
              "\n",
              "    <script>\n",
              "      const buttonEl =\n",
              "        document.querySelector('#df-46be770c-ddda-45f9-946e-62136980c88a button.colab-df-convert');\n",
              "      buttonEl.style.display =\n",
              "        google.colab.kernel.accessAllowed ? 'block' : 'none';\n",
              "\n",
              "      async function convertToInteractive(key) {\n",
              "        const element = document.querySelector('#df-46be770c-ddda-45f9-946e-62136980c88a');\n",
              "        const dataTable =\n",
              "          await google.colab.kernel.invokeFunction('convertToInteractive',\n",
              "                                                    [key], {});\n",
              "        if (!dataTable) return;\n",
              "\n",
              "        const docLinkHtml = 'Like what you see? Visit the ' +\n",
              "          '<a target=\"_blank\" href=https://colab.research.google.com/notebooks/data_table.ipynb>data table notebook</a>'\n",
              "          + ' to learn more about interactive tables.';\n",
              "        element.innerHTML = '';\n",
              "        dataTable['output_type'] = 'display_data';\n",
              "        await google.colab.output.renderOutput(dataTable, element);\n",
              "        const docLink = document.createElement('div');\n",
              "        docLink.innerHTML = docLinkHtml;\n",
              "        element.appendChild(docLink);\n",
              "      }\n",
              "    </script>\n",
              "  </div>\n",
              "\n",
              "\n",
              "<div id=\"df-fd5042a1-53c5-4792-a68c-1e31cab23f68\">\n",
              "  <button class=\"colab-df-quickchart\" onclick=\"quickchart('df-fd5042a1-53c5-4792-a68c-1e31cab23f68')\"\n",
              "            title=\"Suggest charts\"\n",
              "            style=\"display:none;\">\n",
              "\n",
              "<svg xmlns=\"http://www.w3.org/2000/svg\" height=\"24px\"viewBox=\"0 0 24 24\"\n",
              "     width=\"24px\">\n",
              "    <g>\n",
              "        <path d=\"M19 3H5c-1.1 0-2 .9-2 2v14c0 1.1.9 2 2 2h14c1.1 0 2-.9 2-2V5c0-1.1-.9-2-2-2zM9 17H7v-7h2v7zm4 0h-2V7h2v10zm4 0h-2v-4h2v4z\"/>\n",
              "    </g>\n",
              "</svg>\n",
              "  </button>\n",
              "\n",
              "<style>\n",
              "  .colab-df-quickchart {\n",
              "      --bg-color: #E8F0FE;\n",
              "      --fill-color: #1967D2;\n",
              "      --hover-bg-color: #E2EBFA;\n",
              "      --hover-fill-color: #174EA6;\n",
              "      --disabled-fill-color: #AAA;\n",
              "      --disabled-bg-color: #DDD;\n",
              "  }\n",
              "\n",
              "  [theme=dark] .colab-df-quickchart {\n",
              "      --bg-color: #3B4455;\n",
              "      --fill-color: #D2E3FC;\n",
              "      --hover-bg-color: #434B5C;\n",
              "      --hover-fill-color: #FFFFFF;\n",
              "      --disabled-bg-color: #3B4455;\n",
              "      --disabled-fill-color: #666;\n",
              "  }\n",
              "\n",
              "  .colab-df-quickchart {\n",
              "    background-color: var(--bg-color);\n",
              "    border: none;\n",
              "    border-radius: 50%;\n",
              "    cursor: pointer;\n",
              "    display: none;\n",
              "    fill: var(--fill-color);\n",
              "    height: 32px;\n",
              "    padding: 0;\n",
              "    width: 32px;\n",
              "  }\n",
              "\n",
              "  .colab-df-quickchart:hover {\n",
              "    background-color: var(--hover-bg-color);\n",
              "    box-shadow: 0 1px 2px rgba(60, 64, 67, 0.3), 0 1px 3px 1px rgba(60, 64, 67, 0.15);\n",
              "    fill: var(--button-hover-fill-color);\n",
              "  }\n",
              "\n",
              "  .colab-df-quickchart-complete:disabled,\n",
              "  .colab-df-quickchart-complete:disabled:hover {\n",
              "    background-color: var(--disabled-bg-color);\n",
              "    fill: var(--disabled-fill-color);\n",
              "    box-shadow: none;\n",
              "  }\n",
              "\n",
              "  .colab-df-spinner {\n",
              "    border: 2px solid var(--fill-color);\n",
              "    border-color: transparent;\n",
              "    border-bottom-color: var(--fill-color);\n",
              "    animation:\n",
              "      spin 1s steps(1) infinite;\n",
              "  }\n",
              "\n",
              "  @keyframes spin {\n",
              "    0% {\n",
              "      border-color: transparent;\n",
              "      border-bottom-color: var(--fill-color);\n",
              "      border-left-color: var(--fill-color);\n",
              "    }\n",
              "    20% {\n",
              "      border-color: transparent;\n",
              "      border-left-color: var(--fill-color);\n",
              "      border-top-color: var(--fill-color);\n",
              "    }\n",
              "    30% {\n",
              "      border-color: transparent;\n",
              "      border-left-color: var(--fill-color);\n",
              "      border-top-color: var(--fill-color);\n",
              "      border-right-color: var(--fill-color);\n",
              "    }\n",
              "    40% {\n",
              "      border-color: transparent;\n",
              "      border-right-color: var(--fill-color);\n",
              "      border-top-color: var(--fill-color);\n",
              "    }\n",
              "    60% {\n",
              "      border-color: transparent;\n",
              "      border-right-color: var(--fill-color);\n",
              "    }\n",
              "    80% {\n",
              "      border-color: transparent;\n",
              "      border-right-color: var(--fill-color);\n",
              "      border-bottom-color: var(--fill-color);\n",
              "    }\n",
              "    90% {\n",
              "      border-color: transparent;\n",
              "      border-bottom-color: var(--fill-color);\n",
              "    }\n",
              "  }\n",
              "</style>\n",
              "\n",
              "  <script>\n",
              "    async function quickchart(key) {\n",
              "      const quickchartButtonEl =\n",
              "        document.querySelector('#' + key + ' button');\n",
              "      quickchartButtonEl.disabled = true;  // To prevent multiple clicks.\n",
              "      quickchartButtonEl.classList.add('colab-df-spinner');\n",
              "      try {\n",
              "        const charts = await google.colab.kernel.invokeFunction(\n",
              "            'suggestCharts', [key], {});\n",
              "      } catch (error) {\n",
              "        console.error('Error during call to suggestCharts:', error);\n",
              "      }\n",
              "      quickchartButtonEl.classList.remove('colab-df-spinner');\n",
              "      quickchartButtonEl.classList.add('colab-df-quickchart-complete');\n",
              "    }\n",
              "    (() => {\n",
              "      let quickchartButtonEl =\n",
              "        document.querySelector('#df-fd5042a1-53c5-4792-a68c-1e31cab23f68 button');\n",
              "      quickchartButtonEl.style.display =\n",
              "        google.colab.kernel.accessAllowed ? 'block' : 'none';\n",
              "    })();\n",
              "  </script>\n",
              "</div>\n",
              "\n",
              "    </div>\n",
              "  </div>\n"
            ],
            "application/vnd.google.colaboratory.intrinsic+json": {
              "type": "dataframe",
              "summary": "{\n  \"name\": \"pd\",\n  \"rows\": 11,\n  \"fields\": [\n    {\n      \"column\": \"king\",\n      \"properties\": {\n        \"dtype\": \"number\",\n        \"std\": 0.3068709099911347,\n        \"min\": 0.035605888813734055,\n        \"max\": 1.0000001192092896,\n        \"num_unique_values\": 11,\n        \"samples\": [\n          0.10914137959480286,\n          1.0000001192092896,\n          0.16005168855190277\n        ],\n        \"semantic_type\": \"\",\n        \"description\": \"\"\n      }\n    },\n    {\n      \"column\": \"queen\",\n      \"properties\": {\n        \"dtype\": \"number\",\n        \"std\": 0.29919856862043415,\n        \"min\": 0.01826414093375206,\n        \"max\": 1.0000001192092896,\n        \"num_unique_values\": 11,\n        \"samples\": [\n          0.11222155392169952,\n          0.6510956883430481,\n          0.2884449362754822\n        ],\n        \"semantic_type\": \"\",\n        \"description\": \"\"\n      }\n    },\n    {\n      \"column\": \"river\",\n      \"properties\": {\n        \"dtype\": \"number\",\n        \"std\": 0.295146263473422,\n        \"min\": 0.07134106755256653,\n        \"max\": 1.0000001192092896,\n        \"num_unique_values\": 11,\n        \"samples\": [\n          0.2307455837726593,\n          0.08615532517433167,\n          0.13106250762939453\n        ],\n        \"semantic_type\": \"\",\n        \"description\": \"\"\n      }\n    },\n    {\n      \"column\": \"water\",\n      \"properties\": {\n        \"dtype\": \"number\",\n        \"std\": 0.3058232360490657,\n        \"min\": 0.01826414093375206,\n        \"max\": 1.0,\n        \"num_unique_values\": 11,\n        \"samples\": [\n          0.19602181017398834,\n          0.035605888813734055,\n          0.11072272807359695\n        ],\n        \"semantic_type\": \"\",\n        \"description\": \"\"\n      }\n    },\n    {\n      \"column\": \"ocean\",\n      \"properties\": {\n        \"dtype\": \"number\",\n        \"std\": 0.304018468315421,\n        \"min\": -0.0005110625643283129,\n        \"max\": 0.9999999403953552,\n        \"num_unique_values\": 11,\n        \"samples\": [\n          0.1418588012456894,\n          0.06526347994804382,\n          0.10562343150377274\n        ],\n        \"semantic_type\": \"\",\n        \"description\": \"\"\n      }\n    },\n    {\n      \"column\": \"tree\",\n      \"properties\": {\n        \"dtype\": \"number\",\n        \"std\": 0.2702176124384625,\n        \"min\": 0.07693255692720413,\n        \"max\": 1.0000001192092896,\n        \"num_unique_values\": 11,\n        \"samples\": [\n          1.0000001192092896,\n          0.10914137959480286,\n          0.18898500502109528\n        ],\n        \"semantic_type\": \"\",\n        \"description\": \"\"\n      }\n    },\n    {\n      \"column\": \"leaf\",\n      \"properties\": {\n        \"dtype\": \"number\",\n        \"std\": 0.2864752524516466,\n        \"min\": 0.06014419347047806,\n        \"max\": 1.0,\n        \"num_unique_values\": 11,\n        \"samples\": [\n          0.48228538036346436,\n          0.09428061544895172,\n          0.07617198675870895\n        ],\n        \"semantic_type\": \"\",\n        \"description\": \"\"\n      }\n    },\n    {\n      \"column\": \"happy\",\n      \"properties\": {\n        \"dtype\": \"number\",\n        \"std\": 0.32439787783504476,\n        \"min\": -0.0005110625643283129,\n        \"max\": 1.000000238418579,\n        \"num_unique_values\": 11,\n        \"samples\": [\n          0.07693255692720413,\n          0.11323946714401245,\n          0.11967188864946365\n        ],\n        \"semantic_type\": \"\",\n        \"description\": \"\"\n      }\n    },\n    {\n      \"column\": \"glad\",\n      \"properties\": {\n        \"dtype\": \"number\",\n        \"std\": 0.32458774366592946,\n        \"min\": 0.01412154920399189,\n        \"max\": 1.0000001192092896,\n        \"num_unique_values\": 11,\n        \"samples\": [\n          0.1057598888874054,\n          0.06352376937866211,\n          0.12556621432304382\n        ],\n        \"semantic_type\": \"\",\n        \"description\": \"\"\n      }\n    },\n    {\n      \"column\": \"mother\",\n      \"properties\": {\n        \"dtype\": \"number\",\n        \"std\": 0.32580205961000663,\n        \"min\": 0.07617198675870895,\n        \"max\": 1.0,\n        \"num_unique_values\": 11,\n        \"samples\": [\n          0.18898500502109528,\n          0.16005168855190277,\n          1.0\n        ],\n        \"semantic_type\": \"\",\n        \"description\": \"\"\n      }\n    },\n    {\n      \"column\": \"daughter\",\n      \"properties\": {\n        \"dtype\": \"number\",\n        \"std\": 0.32793039788989403,\n        \"min\": 0.0623309426009655,\n        \"max\": 1.0000001192092896,\n        \"num_unique_values\": 11,\n        \"samples\": [\n          0.17351849377155304,\n          0.14881283044815063,\n          0.8706234693527222\n        ],\n        \"semantic_type\": \"\",\n        \"description\": \"\"\n      }\n    }\n  ]\n}"
            }
          },
          "metadata": {},
          "execution_count": 10
        }
      ]
    },
    {
      "cell_type": "markdown",
      "source": [
        "## Visualize biểu đồ heatmap"
      ],
      "metadata": {
        "id": "-XwsqmZnBpSP"
      }
    },
    {
      "cell_type": "code",
      "source": [
        "sns.heatmap(pd.DataFrame(w2v_similarity, columns = words, index = words))"
      ],
      "metadata": {
        "id": "uVrN6GJyKkB4",
        "colab": {
          "base_uri": "https://localhost:8080/",
          "height": 503
        },
        "outputId": "e3f6ed2d-068b-4232-a927-1ed49133a8b2"
      },
      "execution_count": null,
      "outputs": [
        {
          "output_type": "execute_result",
          "data": {
            "text/plain": [
              "<Axes: >"
            ]
          },
          "metadata": {},
          "execution_count": 11
        },
        {
          "output_type": "display_data",
          "data": {
            "text/plain": [
              "<Figure size 640x480 with 2 Axes>"
            ],
            "image/png": "[encoded data removed]"
          },
          "metadata": {}
        }
      ]
    },
    {
      "cell_type": "markdown",
      "source": [
        "=> ***Higher the cosine similarity, the words are more closer***"
      ],
      "metadata": {
        "id": "2SmIn1PFCzUq"
      }
    },
    {
      "cell_type": "markdown",
      "source": [
        "## Visualize 2D bằng PCA"
      ],
      "metadata": {
        "id": "LC2LpnlACCzb"
      }
    },
    {
      "cell_type": "code",
      "source": [
        "pca = PCA(n_components=2)\n",
        "\n",
        "reduced_w2v = pca.fit_transform(word2vec)"
      ],
      "metadata": {
        "id": "60tkmOdLLF7W"
      },
      "execution_count": null,
      "outputs": []
    },
    {
      "cell_type": "code",
      "source": [
        "plt.figure(figsize=(8,5))\n",
        "plt.scatter(reduced_w2v[:,0],reduced_w2v[:,1], s = 12, color = 'red')\n",
        "plt.xlim([-2.5,2.5])\n",
        "plt.ylim([-2.5,2.5])\n",
        "x, y = reduced_w2v[:,0] , reduced_w2v[:,1]\n",
        "for i in range(len(x)):\n",
        "    plt.annotate(words[i],xy=(x[i], y[i]),xytext=(x[i]+0.05,y[i]+0.05))"
      ],
      "metadata": {
        "id": "zZnZUMZXYhY1",
        "colab": {
          "base_uri": "https://localhost:8080/",
          "height": 445
        },
        "outputId": "99d39713-a7e0-45fe-d6e6-fa60704039f6"
      },
      "execution_count": null,
      "outputs": [
        {
          "output_type": "display_data",
          "data": {
            "text/plain": [
              "<Figure size 800x500 with 1 Axes>"
            ],
            "image/png": "[encoded data removed]"
          },
          "metadata": {}
        }
      ]
    },
    {
      "cell_type": "markdown",
      "source": [
        "# GloVe\n",
        "\n"
      ],
      "metadata": {
        "id": "NT0BRZL7RfPr"
      }
    },
    {
      "cell_type": "markdown",
      "source": [
        "## Load Pre-trained Embedding"
      ],
      "metadata": {
        "id": "IxW18y6vBRSZ"
      }
    },
    {
      "cell_type": "code",
      "source": [
        "glove = api.load('glove-wiki-gigaword-50')"
      ],
      "metadata": {
        "id": "TWAIM9frxiGk",
        "outputId": "40bf0870-8fad-4802-8960-fbdca76a136a",
        "colab": {
          "base_uri": "https://localhost:8080/"
        }
      },
      "execution_count": null,
      "outputs": [
        {
          "output_type": "stream",
          "name": "stdout",
          "text": [
            "[==================================================] 100.0% 66.0/66.0MB downloaded\n"
          ]
        }
      ]
    },
    {
      "cell_type": "code",
      "source": [
        "print(glove[\"dog\"])"
      ],
      "metadata": {
        "colab": {
          "base_uri": "https://localhost:8080/"
        },
        "id": "xk3obnMK0-To",
        "outputId": "950df8f3-c47a-4f1e-a984-64a648fa2b3f"
      },
      "execution_count": null,
      "outputs": [
        {
          "output_type": "stream",
          "name": "stdout",
          "text": [
            "[ 0.11008   -0.38781   -0.57615   -0.27714    0.70521    0.53994\n",
            " -1.0786    -0.40146    1.1504    -0.5678     0.0038977  0.52878\n",
            "  0.64561    0.47262    0.48549   -0.18407    0.1801     0.91397\n",
            " -1.1979    -0.5778    -0.37985    0.33606    0.772      0.75555\n",
            "  0.45506   -1.7671    -1.0503     0.42566    0.41893   -0.68327\n",
            "  1.5673     0.27685   -0.61708    0.64638   -0.076996   0.37118\n",
            "  0.1308    -0.45137    0.25398   -0.74392   -0.086199   0.24068\n",
            " -0.64819    0.83549    1.2502    -0.51379    0.04224   -0.88118\n",
            "  0.7158     0.38519  ]\n"
          ]
        }
      ]
    },
    {
      "cell_type": "code",
      "source": [
        "words = [\n",
        "    'doctor', 'patient',\n",
        "    'teacher', 'student', 'school',\n",
        "    'king', 'queen', 'palace',\n",
        "    'dog', 'animal', 'pet'\n",
        "]"
      ],
      "metadata": {
        "id": "PkoPl8oZFVa5"
      },
      "execution_count": null,
      "outputs": []
    },
    {
      "cell_type": "code",
      "source": [
        "# Vector representation of each word using GloVe\n",
        "vectors = []\n",
        "for word in words:\n",
        "    try:\n",
        "        vector = glove[word]\n",
        "        vectors.append(vector)\n",
        "    except:\n",
        "        pass\n",
        "print(\"There are %d words and the vector size of each word is %d\" %((len(vectors),len(vectors[0]))))"
      ],
      "metadata": {
        "id": "iNqgAxf-Viu0",
        "colab": {
          "base_uri": "https://localhost:8080/"
        },
        "outputId": "f47a962f-4cec-441d-b8bd-f4f9f2c7526c"
      },
      "execution_count": null,
      "outputs": [
        {
          "output_type": "stream",
          "name": "stdout",
          "text": [
            "There are 11 words and the vector size of each word is 50\n"
          ]
        }
      ]
    },
    {
      "cell_type": "markdown",
      "metadata": {
        "id": "1J8Kjgo_PaKh"
      },
      "source": [
        "## Tính độ tương đồng cosine_similarity"
      ]
    },
    {
      "cell_type": "code",
      "source": [
        "### YOUR CODE HERE ###\n",
        "\n",
        "### YOUR CODE HERE ###"
      ],
      "metadata": {
        "id": "xMPsOKc6XPNW"
      },
      "execution_count": null,
      "outputs": []
    },
    {
      "cell_type": "markdown",
      "source": [
        "## Visualize biểu đồ heatmap"
      ],
      "metadata": {
        "id": "AiC6jQPaCQMJ"
      }
    },
    {
      "cell_type": "code",
      "source": [
        "sns.heatmap(pd.DataFrame(word_similarity, columns=words, index=words))"
      ],
      "metadata": {
        "id": "KEYx2ECwXTms",
        "colab": {
          "base_uri": "https://localhost:8080/",
          "height": 493
        },
        "outputId": "2ed7ecef-3b2b-4d1b-f961-e85f83ce0cf1"
      },
      "execution_count": null,
      "outputs": [
        {
          "output_type": "execute_result",
          "data": {
            "text/plain": [
              "<Axes: >"
            ]
          },
          "metadata": {},
          "execution_count": 67
        },
        {
          "output_type": "display_data",
          "data": {
            "text/plain": [
              "<Figure size 640x480 with 2 Axes>"
            ],
            "image/png": "[encoded data removed]"
          },
          "metadata": {}
        }
      ]
    },
    {
      "cell_type": "markdown",
      "source": [
        "GloVe derives the semantic relationship between the words. Higher the cosine similarity, the words are relatively closer"
      ],
      "metadata": {
        "id": "asdrSoL-DOo8"
      }
    },
    {
      "cell_type": "markdown",
      "source": [
        "## Visualize 2D bằng PCA"
      ],
      "metadata": {
        "id": "OOGROPnACaGl"
      }
    },
    {
      "cell_type": "code",
      "metadata": {
        "id": "xVPYkoF5S9rm"
      },
      "source": [
        "pca = PCA(n_components=2)\n",
        "\n",
        "reduced_vectors = pca.fit_transform(vectors)"
      ],
      "execution_count": null,
      "outputs": []
    },
    {
      "cell_type": "code",
      "metadata": {
        "id": "6QnczXr2BLNj",
        "colab": {
          "base_uri": "https://localhost:8080/",
          "height": 445
        },
        "outputId": "c359b686-0c7d-40b1-af9b-a8577f16d5de"
      },
      "source": [
        "plt.figure(figsize=(7,5))\n",
        "plt.scatter(reduced_vectors[:,0],reduced_vectors[:,1], s = 12, color = 'red')\n",
        "plt.xlim([-3.5,4.5])\n",
        "plt.ylim([-3.5,3.5])\n",
        "x, y = reduced_vectors[:,0] , reduced_vectors[:,1]\n",
        "for i in range(len(x)):\n",
        "    plt.annotate(words[i],xy=(x[i], y[i]),xytext=(x[i]+0.05,y[i]+0.05))"
      ],
      "execution_count": null,
      "outputs": [
        {
          "output_type": "display_data",
          "data": {
            "text/plain": [
              "<Figure size 700x500 with 1 Axes>"
            ],
            "image/png": "[encoded data removed]"
          },
          "metadata": {}
        }
      ]
    },
    {
      "cell_type": "markdown",
      "source": [
        "# Sentence Embedding"
      ],
      "metadata": {
        "id": "ToSdzl_enc8p"
      }
    },
    {
      "cell_type": "code",
      "source": [
        "def get_sentence_embedding(sentence, model):\n",
        "    ### YOUR CODE HERE ###\n",
        "\n",
        "    ### YOUR CODE HERE ###\n",
        "\n",
        "# Example sentence\n",
        "sentence = \"Artificial intelligence will rule the world.\"\n",
        "embedding = get_sentence_embedding(sentence, w2v)\n",
        "print(embedding)"
      ],
      "metadata": {
        "id": "fzBvGr2BneW7"
      },
      "execution_count": null,
      "outputs": []
    },
    {
      "cell_type": "code",
      "source": [
        "def cosine_sim(vec1, vec2):\n",
        "    ### YOUR CODE HERE ###\n",
        "\n",
        "    ### YOUR CODE HERE ###"
      ],
      "metadata": {
        "id": "pk1bMlEjniKa"
      },
      "execution_count": null,
      "outputs": []
    },
    {
      "cell_type": "code",
      "source": [
        "sentences = [\n",
        "    \"Cat will rule the world.\",\n",
        "    \"Animal will destroy human\",\n",
        "    \"The weather is lovely today.\",\n",
        "]\n",
        "# Cosine similarity\n",
        "for i in range(len(sentences)):\n",
        "  embedding1 = get_sentence_embedding(sentences[i], w2v)\n",
        "  for j in range(i+1, len(sentences)):\n",
        "    embedding2 = get_sentence_embedding(sentences[j], w2v)\n",
        "    similarity = cosine_sim(embedding1, embedding2)\n",
        "    print(f\"Cosine Similarity between sentence {i} and sentence {j}: {similarity}\")"
      ],
      "metadata": {
        "colab": {
          "base_uri": "https://localhost:8080/"
        },
        "id": "AzV2iaebn6io",
        "outputId": "f9f7e070-2337-4906-e423-50f7228ce544"
      },
      "execution_count": null,
      "outputs": [
        {
          "output_type": "stream",
          "name": "stdout",
          "text": [
            "Cosine Similarity between sentence 0 and sentence 1: 0.5059559941291809\n",
            "Cosine Similarity between sentence 0 and sentence 2: 0.3433777987957001\n",
            "Cosine Similarity between sentence 1 and sentence 2: 0.20736929774284363\n"
          ]
        }
      ]
    },
    {
      "cell_type": "markdown",
      "source": [
        "## Problem"
      ],
      "metadata": {
        "id": "atFyQj79n9Oj"
      }
    },
    {
      "cell_type": "code",
      "source": [
        "sentences = [\n",
        "    \"The movie was thrilling and suspenseful.\",\n",
        "    \"I felt tense and anxious during the film.\",\n",
        "    \"The book was boring and uneventful.\",\n",
        "]\n",
        "# Cosine similarity\n",
        "for i in range(len(sentences)):\n",
        "  embedding1 = get_sentence_embedding(sentences[i], w2v)\n",
        "  for j in range(i+1, len(sentences)):\n",
        "    embedding2 = get_sentence_embedding(sentences[j], w2v)\n",
        "    similarity = cosine_sim(embedding1, embedding2)\n",
        "    print(f\"Cosine Similarity between sentence {i} and sentence {j}: {similarity}\")"
      ],
      "metadata": {
        "colab": {
          "base_uri": "https://localhost:8080/"
        },
        "id": "-3HSVgEin-Q9",
        "outputId": "b1940948-bb2c-45e5-a676-e234c3d0cf9b"
      },
      "execution_count": null,
      "outputs": [
        {
          "output_type": "stream",
          "name": "stdout",
          "text": [
            "Cosine Similarity between sentence 0 and sentence 1: 0.49398937821388245\n",
            "Cosine Similarity between sentence 0 and sentence 2: 0.6155940890312195\n",
            "Cosine Similarity between sentence 1 and sentence 2: 0.45402878522872925\n"
          ]
        }
      ]
    },
    {
      "cell_type": "code",
      "source": [],
      "metadata": {
        "id": "NyfcCU0B1l2C"
      },
      "execution_count": null,
      "outputs": []
    }
  ]
}