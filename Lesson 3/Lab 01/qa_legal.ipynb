{
  "cells": [
    {
      "cell_type": "markdown",
      "metadata": {
        "id": "ytXBXNEjkxMs"
      },
      "source": [
        "# Import các thư viện cần thiết"
      ]
    },
    {
      "cell_type": "code",
      "execution_count": null,
      "metadata": {},
      "outputs": [],
      "source": [
        "# Link drive data\n",
        "# https://drive.google.com/drive/folders/1WKF9C-l-SbOKaYnxSQV1JYiuBZmI82My?usp=drive_link"
      ]
    },
    {
      "cell_type": "code",
      "execution_count": null,
      "metadata": {
        "colab": {
          "base_uri": "https://localhost:8080/"
        },
        "execution": {
          "iopub.execute_input": "2025-05-08T03:36:29.352269Z",
          "iopub.status.busy": "2025-05-08T03:36:29.351987Z",
          "iopub.status.idle": "2025-05-08T03:36:44.794042Z",
          "shell.execute_reply": "2025-05-08T03:36:44.793127Z",
          "shell.execute_reply.started": "2025-05-08T03:36:29.352244Z"
        },
        "id": "y-c2ZRLElNz1",
        "outputId": "3c8eef73-cb0c-4ae9-c5b1-51750fd4e66b",
        "trusted": true
      },
      "outputs": [
        {
          "name": "stdout",
          "output_type": "stream",
          "text": [
            "Requirement already satisfied: sentence-transformers in /usr/local/lib/python3.10/dist-packages (3.3.1)\n",
            "Collecting sentence-transformers\n",
            "  Downloading sentence_transformers-4.1.0-py3-none-any.whl.metadata (13 kB)\n",
            "Collecting FlagEmbedding\n",
            "  Downloading FlagEmbedding-1.3.4.tar.gz (163 kB)\n",
            "\u001b[2K     \u001b[90m━━━━━━━━━━━━━━━━━━━━━━━━━━━━━━━━━━━━━━━━\u001b[0m \u001b[32m163.8/163.8 kB\u001b[0m \u001b[31m3.8 MB/s\u001b[0m eta \u001b[36m0:00:00\u001b[0ma \u001b[36m0:00:01\u001b[0m\n",
            "\u001b[?25h  Preparing metadata (setup.py) ... \u001b[?25l\u001b[?25hdone\n",
            "Requirement already satisfied: transformers<5.0.0,>=4.41.0 in /usr/local/lib/python3.10/dist-packages (from sentence-transformers) (4.47.0)\n",
            "Requirement already satisfied: tqdm in /usr/local/lib/python3.10/dist-packages (from sentence-transformers) (4.67.1)\n",
            "Requirement already satisfied: torch>=1.11.0 in /usr/local/lib/python3.10/dist-packages (from sentence-transformers) (2.5.1+cu121)\n",
            "Requirement already satisfied: scikit-learn in /usr/local/lib/python3.10/dist-packages (from sentence-transformers) (1.2.2)\n",
            "Requirement already satisfied: scipy in /usr/local/lib/python3.10/dist-packages (from sentence-transformers) (1.13.1)\n",
            "Requirement already satisfied: huggingface-hub>=0.20.0 in /usr/local/lib/python3.10/dist-packages (from sentence-transformers) (0.29.0)\n",
            "Requirement already satisfied: Pillow in /usr/local/lib/python3.10/dist-packages (from sentence-transformers) (11.0.0)\n",
            "Requirement already satisfied: typing_extensions>=4.5.0 in /usr/local/lib/python3.10/dist-packages (from sentence-transformers) (4.12.2)\n",
            "Requirement already satisfied: datasets>=2.19.0 in /usr/local/lib/python3.10/dist-packages (from FlagEmbedding) (3.3.1)\n",
            "Requirement already satisfied: accelerate>=0.20.1 in /usr/local/lib/python3.10/dist-packages (from FlagEmbedding) (1.2.1)\n",
            "Requirement already satisfied: peft in /usr/local/lib/python3.10/dist-packages (from FlagEmbedding) (0.14.0)\n",
            "Collecting ir-datasets (from FlagEmbedding)\n",
            "  Downloading ir_datasets-0.5.10-py3-none-any.whl.metadata (12 kB)\n",
            "Requirement already satisfied: sentencepiece in /usr/local/lib/python3.10/dist-packages (from FlagEmbedding) (0.2.0)\n",
            "Requirement already satisfied: protobuf in /usr/local/lib/python3.10/dist-packages (from FlagEmbedding) (3.20.3)\n",
            "Requirement already satisfied: numpy<3.0.0,>=1.17 in /usr/local/lib/python3.10/dist-packages (from accelerate>=0.20.1->FlagEmbedding) (1.26.4)\n",
            "Requirement already satisfied: packaging>=20.0 in /usr/local/lib/python3.10/dist-packages (from accelerate>=0.20.1->FlagEmbedding) (24.2)\n",
            "Requirement already satisfied: psutil in /usr/local/lib/python3.10/dist-packages (from accelerate>=0.20.1->FlagEmbedding) (5.9.5)\n",
            "Requirement already satisfied: pyyaml in /usr/local/lib/python3.10/dist-packages (from accelerate>=0.20.1->FlagEmbedding) (6.0.2)\n",
            "Requirement already satisfied: safetensors>=0.4.3 in /usr/local/lib/python3.10/dist-packages (from accelerate>=0.20.1->FlagEmbedding) (0.4.5)\n",
            "Requirement already satisfied: filelock in /usr/local/lib/python3.10/dist-packages (from datasets>=2.19.0->FlagEmbedding) (3.17.0)\n",
            "Requirement already satisfied: pyarrow>=15.0.0 in /usr/local/lib/python3.10/dist-packages (from datasets>=2.19.0->FlagEmbedding) (19.0.1)\n",
            "Requirement already satisfied: dill<0.3.9,>=0.3.0 in /usr/local/lib/python3.10/dist-packages (from datasets>=2.19.0->FlagEmbedding) (0.3.8)\n",
            "Requirement already satisfied: pandas in /usr/local/lib/python3.10/dist-packages (from datasets>=2.19.0->FlagEmbedding) (2.2.3)\n",
            "Requirement already satisfied: requests>=2.32.2 in /usr/local/lib/python3.10/dist-packages (from datasets>=2.19.0->FlagEmbedding) (2.32.3)\n",
            "Requirement already satisfied: xxhash in /usr/local/lib/python3.10/dist-packages (from datasets>=2.19.0->FlagEmbedding) (3.5.0)\n",
            "Requirement already satisfied: multiprocess<0.70.17 in /usr/local/lib/python3.10/dist-packages (from datasets>=2.19.0->FlagEmbedding) (0.70.16)\n",
            "Requirement already satisfied: fsspec<=2024.12.0,>=2023.1.0 in /usr/local/lib/python3.10/dist-packages (from fsspec[http]<=2024.12.0,>=2023.1.0->datasets>=2.19.0->FlagEmbedding) (2024.12.0)\n",
            "Requirement already satisfied: aiohttp in /usr/local/lib/python3.10/dist-packages (from datasets>=2.19.0->FlagEmbedding) (3.11.12)\n",
            "Requirement already satisfied: networkx in /usr/local/lib/python3.10/dist-packages (from torch>=1.11.0->sentence-transformers) (3.4.2)\n",
            "Requirement already satisfied: jinja2 in /usr/local/lib/python3.10/dist-packages (from torch>=1.11.0->sentence-transformers) (3.1.4)\n",
            "Requirement already satisfied: sympy==1.13.1 in /usr/local/lib/python3.10/dist-packages (from torch>=1.11.0->sentence-transformers) (1.13.1)\n",
            "Requirement already satisfied: mpmath<1.4,>=1.1.0 in /usr/local/lib/python3.10/dist-packages (from sympy==1.13.1->torch>=1.11.0->sentence-transformers) (1.3.0)\n",
            "Requirement already satisfied: regex!=2019.12.17 in /usr/local/lib/python3.10/dist-packages (from transformers<5.0.0,>=4.41.0->sentence-transformers) (2024.11.6)\n",
            "Requirement already satisfied: tokenizers<0.22,>=0.21 in /usr/local/lib/python3.10/dist-packages (from transformers<5.0.0,>=4.41.0->sentence-transformers) (0.21.0)\n",
            "Requirement already satisfied: beautifulsoup4>=4.4.1 in /usr/local/lib/python3.10/dist-packages (from ir-datasets->FlagEmbedding) (4.12.3)\n",
            "Collecting inscriptis>=2.2.0 (from ir-datasets->FlagEmbedding)\n",
            "  Downloading inscriptis-2.6.0-py3-none-any.whl.metadata (25 kB)\n",
            "Requirement already satisfied: lxml>=4.5.2 in /usr/local/lib/python3.10/dist-packages (from ir-datasets->FlagEmbedding) (5.3.0)\n",
            "Collecting trec-car-tools>=2.5.4 (from ir-datasets->FlagEmbedding)\n",
            "  Downloading trec_car_tools-2.6-py3-none-any.whl.metadata (640 bytes)\n",
            "Collecting lz4>=3.1.10 (from ir-datasets->FlagEmbedding)\n",
            "  Downloading lz4-4.4.4-cp310-cp310-manylinux_2_17_x86_64.manylinux2014_x86_64.whl.metadata (3.8 kB)\n",
            "Collecting warc3-wet>=0.2.3 (from ir-datasets->FlagEmbedding)\n",
            "  Downloading warc3_wet-0.2.5-py3-none-any.whl.metadata (2.2 kB)\n",
            "Collecting warc3-wet-clueweb09>=0.2.5 (from ir-datasets->FlagEmbedding)\n",
            "  Downloading warc3-wet-clueweb09-0.2.5.tar.gz (17 kB)\n",
            "  Preparing metadata (setup.py) ... \u001b[?25l\u001b[?25hdone\n",
            "Collecting zlib-state>=0.1.3 (from ir-datasets->FlagEmbedding)\n",
            "  Downloading zlib_state-0.1.9-cp310-cp310-manylinux_2_17_x86_64.manylinux2014_x86_64.whl.metadata (3.3 kB)\n",
            "Collecting ijson>=3.1.3 (from ir-datasets->FlagEmbedding)\n",
            "  Downloading ijson-3.4.0-cp310-cp310-manylinux_2_17_x86_64.manylinux2014_x86_64.whl.metadata (21 kB)\n",
            "Collecting unlzw3>=0.2.1 (from ir-datasets->FlagEmbedding)\n",
            "  Downloading unlzw3-0.2.3-py3-none-any.whl.metadata (2.3 kB)\n",
            "Requirement already satisfied: joblib>=1.1.1 in /usr/local/lib/python3.10/dist-packages (from scikit-learn->sentence-transformers) (1.4.2)\n",
            "Requirement already satisfied: threadpoolctl>=2.0.0 in /usr/local/lib/python3.10/dist-packages (from scikit-learn->sentence-transformers) (3.5.0)\n",
            "Requirement already satisfied: soupsieve>1.2 in /usr/local/lib/python3.10/dist-packages (from beautifulsoup4>=4.4.1->ir-datasets->FlagEmbedding) (2.6)\n",
            "Requirement already satisfied: aiohappyeyeballs>=2.3.0 in /usr/local/lib/python3.10/dist-packages (from aiohttp->datasets>=2.19.0->FlagEmbedding) (2.4.6)\n",
            "Requirement already satisfied: aiosignal>=1.1.2 in /usr/local/lib/python3.10/dist-packages (from aiohttp->datasets>=2.19.0->FlagEmbedding) (1.3.2)\n",
            "Requirement already satisfied: async-timeout<6.0,>=4.0 in /usr/local/lib/python3.10/dist-packages (from aiohttp->datasets>=2.19.0->FlagEmbedding) (5.0.1)\n",
            "Requirement already satisfied: attrs>=17.3.0 in /usr/local/lib/python3.10/dist-packages (from aiohttp->datasets>=2.19.0->FlagEmbedding) (25.1.0)\n",
            "Requirement already satisfied: frozenlist>=1.1.1 in /usr/local/lib/python3.10/dist-packages (from aiohttp->datasets>=2.19.0->FlagEmbedding) (1.5.0)\n",
            "Requirement already satisfied: multidict<7.0,>=4.5 in /usr/local/lib/python3.10/dist-packages (from aiohttp->datasets>=2.19.0->FlagEmbedding) (6.1.0)\n",
            "Requirement already satisfied: propcache>=0.2.0 in /usr/local/lib/python3.10/dist-packages (from aiohttp->datasets>=2.19.0->FlagEmbedding) (0.2.1)\n",
            "Requirement already satisfied: yarl<2.0,>=1.17.0 in /usr/local/lib/python3.10/dist-packages (from aiohttp->datasets>=2.19.0->FlagEmbedding) (1.18.3)\n",
            "Requirement already satisfied: mkl_fft in /usr/local/lib/python3.10/dist-packages (from numpy<3.0.0,>=1.17->accelerate>=0.20.1->FlagEmbedding) (1.3.8)\n",
            "Requirement already satisfied: mkl_random in /usr/local/lib/python3.10/dist-packages (from numpy<3.0.0,>=1.17->accelerate>=0.20.1->FlagEmbedding) (1.2.4)\n",
            "Requirement already satisfied: mkl_umath in /usr/local/lib/python3.10/dist-packages (from numpy<3.0.0,>=1.17->accelerate>=0.20.1->FlagEmbedding) (0.1.1)\n",
            "Requirement already satisfied: mkl in /usr/local/lib/python3.10/dist-packages (from numpy<3.0.0,>=1.17->accelerate>=0.20.1->FlagEmbedding) (2025.0.1)\n",
            "Requirement already satisfied: tbb4py in /usr/local/lib/python3.10/dist-packages (from numpy<3.0.0,>=1.17->accelerate>=0.20.1->FlagEmbedding) (2022.0.0)\n",
            "Requirement already satisfied: mkl-service in /usr/local/lib/python3.10/dist-packages (from numpy<3.0.0,>=1.17->accelerate>=0.20.1->FlagEmbedding) (2.4.1)\n",
            "Requirement already satisfied: charset-normalizer<4,>=2 in /usr/local/lib/python3.10/dist-packages (from requests>=2.32.2->datasets>=2.19.0->FlagEmbedding) (3.4.1)\n",
            "Requirement already satisfied: idna<4,>=2.5 in /usr/local/lib/python3.10/dist-packages (from requests>=2.32.2->datasets>=2.19.0->FlagEmbedding) (3.10)\n",
            "Requirement already satisfied: urllib3<3,>=1.21.1 in /usr/local/lib/python3.10/dist-packages (from requests>=2.32.2->datasets>=2.19.0->FlagEmbedding) (2.3.0)\n",
            "Requirement already satisfied: certifi>=2017.4.17 in /usr/local/lib/python3.10/dist-packages (from requests>=2.32.2->datasets>=2.19.0->FlagEmbedding) (2025.1.31)\n",
            "Collecting cbor>=1.0.0 (from trec-car-tools>=2.5.4->ir-datasets->FlagEmbedding)\n",
            "  Downloading cbor-1.0.0.tar.gz (20 kB)\n",
            "  Preparing metadata (setup.py) ... \u001b[?25l\u001b[?25hdone\n",
            "Requirement already satisfied: MarkupSafe>=2.0 in /usr/local/lib/python3.10/dist-packages (from jinja2->torch>=1.11.0->sentence-transformers) (3.0.2)\n",
            "Requirement already satisfied: python-dateutil>=2.8.2 in /usr/local/lib/python3.10/dist-packages (from pandas->datasets>=2.19.0->FlagEmbedding) (2.9.0.post0)\n",
            "Requirement already satisfied: pytz>=2020.1 in /usr/local/lib/python3.10/dist-packages (from pandas->datasets>=2.19.0->FlagEmbedding) (2025.1)\n",
            "Requirement already satisfied: tzdata>=2022.7 in /usr/local/lib/python3.10/dist-packages (from pandas->datasets>=2.19.0->FlagEmbedding) (2025.1)\n",
            "Requirement already satisfied: six>=1.5 in /usr/local/lib/python3.10/dist-packages (from python-dateutil>=2.8.2->pandas->datasets>=2.19.0->FlagEmbedding) (1.17.0)\n",
            "Requirement already satisfied: intel-openmp>=2024 in /usr/local/lib/python3.10/dist-packages (from mkl->numpy<3.0.0,>=1.17->accelerate>=0.20.1->FlagEmbedding) (2024.2.0)\n",
            "Requirement already satisfied: tbb==2022.* in /usr/local/lib/python3.10/dist-packages (from mkl->numpy<3.0.0,>=1.17->accelerate>=0.20.1->FlagEmbedding) (2022.0.0)\n",
            "Requirement already satisfied: tcmlib==1.* in /usr/local/lib/python3.10/dist-packages (from tbb==2022.*->mkl->numpy<3.0.0,>=1.17->accelerate>=0.20.1->FlagEmbedding) (1.2.0)\n",
            "Requirement already satisfied: intel-cmplr-lib-rt in /usr/local/lib/python3.10/dist-packages (from mkl_umath->numpy<3.0.0,>=1.17->accelerate>=0.20.1->FlagEmbedding) (2024.2.0)\n",
            "Requirement already satisfied: intel-cmplr-lib-ur==2024.2.0 in /usr/local/lib/python3.10/dist-packages (from intel-openmp>=2024->mkl->numpy<3.0.0,>=1.17->accelerate>=0.20.1->FlagEmbedding) (2024.2.0)\n",
            "Downloading sentence_transformers-4.1.0-py3-none-any.whl (345 kB)\n",
            "\u001b[2K   \u001b[90m━━━━━━━━━━━━━━━━━━━━━━━━━━━━━━━━━━━━━━━━\u001b[0m \u001b[32m345.7/345.7 kB\u001b[0m \u001b[31m11.7 MB/s\u001b[0m eta \u001b[36m0:00:00\u001b[0m\n",
            "\u001b[?25hDownloading ir_datasets-0.5.10-py3-none-any.whl (859 kB)\n",
            "\u001b[2K   \u001b[90m━━━━━━━━━━━━━━━━━━━━━━━━━━━━━━━━━━━━━━━━\u001b[0m \u001b[32m859.0/859.0 kB\u001b[0m \u001b[31m26.8 MB/s\u001b[0m eta \u001b[36m0:00:00\u001b[0m\n",
            "\u001b[?25hDownloading ijson-3.4.0-cp310-cp310-manylinux_2_17_x86_64.manylinux2014_x86_64.whl (130 kB)\n",
            "\u001b[2K   \u001b[90m━━━━━━━━━━━━━━━━━━━━━━━━━━━━━━━━━━━━━━━━\u001b[0m \u001b[32m130.2/130.2 kB\u001b[0m \u001b[31m7.9 MB/s\u001b[0m eta \u001b[36m0:00:00\u001b[0m\n",
            "\u001b[?25hDownloading inscriptis-2.6.0-py3-none-any.whl (45 kB)\n",
            "\u001b[2K   \u001b[90m━━━━━━━━━━━━━━━━━━━━━━━━━━━━━━━━━━━━━━━━\u001b[0m \u001b[32m45.1/45.1 kB\u001b[0m \u001b[31m2.2 MB/s\u001b[0m eta \u001b[36m0:00:00\u001b[0m\n",
            "\u001b[?25hDownloading lz4-4.4.4-cp310-cp310-manylinux_2_17_x86_64.manylinux2014_x86_64.whl (1.3 MB)\n",
            "\u001b[2K   \u001b[90m━━━━━━━━━━━━━━━━━━━━━━━━━━━━━━━━━━━━━━━━\u001b[0m \u001b[32m1.3/1.3 MB\u001b[0m \u001b[31m50.2 MB/s\u001b[0m eta \u001b[36m0:00:00\u001b[0m\n",
            "\u001b[?25hDownloading trec_car_tools-2.6-py3-none-any.whl (8.4 kB)\n",
            "Downloading unlzw3-0.2.3-py3-none-any.whl (6.7 kB)\n",
            "Downloading warc3_wet-0.2.5-py3-none-any.whl (18 kB)\n",
            "Downloading zlib_state-0.1.9-cp310-cp310-manylinux_2_17_x86_64.manylinux2014_x86_64.whl (21 kB)\n",
            "Building wheels for collected packages: FlagEmbedding, warc3-wet-clueweb09, cbor\n",
            "  Building wheel for FlagEmbedding (setup.py) ... \u001b[?25l\u001b[?25hdone\n",
            "  Created wheel for FlagEmbedding: filename=FlagEmbedding-1.3.4-py3-none-any.whl size=232500 sha256=d8d46c8f4ed12dc9011d6f82fa35566805615666a02ab450f283687e7a731946\n",
            "  Stored in directory: /root/.cache/pip/wheels/59/8c/ba/90918a0fe0371cda2d087cffe7eb4bb4495409b6c67873a410\n",
            "  Building wheel for warc3-wet-clueweb09 (setup.py) ... \u001b[?25l\u001b[?25hdone\n",
            "  Created wheel for warc3-wet-clueweb09: filename=warc3_wet_clueweb09-0.2.5-py3-none-any.whl size=18920 sha256=d1e83840563edc9eeb5933bbe3e463144a8cbaf2ef514d73f6004b2a106d74ba\n",
            "  Stored in directory: /root/.cache/pip/wheels/1a/d7/91/7ffb991df87e62355d945745035470ba2616aa3d83a250b5f9\n",
            "  Building wheel for cbor (setup.py) ... \u001b[?25l\u001b[?25hdone\n",
            "  Created wheel for cbor: filename=cbor-1.0.0-cp310-cp310-linux_x86_64.whl size=53433 sha256=71cc31086122331c709ea4904c5685960ccf109b749a19a92544f64089fcedff\n",
            "  Stored in directory: /root/.cache/pip/wheels/85/df/c9/b39e40eccaf76dbd218556639a6dc81562226f4c6a64902c85\n",
            "Successfully built FlagEmbedding warc3-wet-clueweb09 cbor\n",
            "Installing collected packages: warc3-wet-clueweb09, warc3-wet, cbor, zlib-state, unlzw3, lz4, ijson, inscriptis, trec-car-tools, sentence-transformers, ir-datasets, FlagEmbedding\n",
            "  Attempting uninstall: sentence-transformers\n",
            "    Found existing installation: sentence-transformers 3.3.1\n",
            "    Uninstalling sentence-transformers-3.3.1:\n",
            "      Successfully uninstalled sentence-transformers-3.3.1\n",
            "Successfully installed FlagEmbedding-1.3.4 cbor-1.0.0 ijson-3.4.0 inscriptis-2.6.0 ir-datasets-0.5.10 lz4-4.4.4 sentence-transformers-4.1.0 trec-car-tools-2.6 unlzw3-0.2.3 warc3-wet-0.2.5 warc3-wet-clueweb09-0.2.5 zlib-state-0.1.9\n"
          ]
        }
      ],
      "source": [
        "!pip install -U sentence-transformers FlagEmbedding"
      ]
    },
    {
      "cell_type": "code",
      "execution_count": null,
      "metadata": {
        "execution": {
          "iopub.execute_input": "2025-05-08T03:36:44.798088Z",
          "iopub.status.busy": "2025-05-08T03:36:44.797842Z",
          "iopub.status.idle": "2025-05-08T03:37:11.503073Z",
          "shell.execute_reply": "2025-05-08T03:37:11.502154Z",
          "shell.execute_reply.started": "2025-05-08T03:36:44.798065Z"
        },
        "id": "-R8mEekejT3L",
        "trusted": true
      },
      "outputs": [],
      "source": [
        "import json\n",
        "import copy\n",
        "import pandas as pd\n",
        "import os\n",
        "import torch\n",
        "from tqdm import tqdm\n",
        "from sentence_transformers import SentenceTransformer, CrossEncoder, util"
      ]
    },
    {
      "cell_type": "code",
      "execution_count": null,
      "metadata": {
        "colab": {
          "base_uri": "https://localhost:8080/"
        },
        "execution": {
          "iopub.execute_input": "2025-05-08T03:37:11.505188Z",
          "iopub.status.busy": "2025-05-08T03:37:11.504149Z",
          "iopub.status.idle": "2025-05-08T03:37:11.604651Z",
          "shell.execute_reply": "2025-05-08T03:37:11.603464Z",
          "shell.execute_reply.started": "2025-05-08T03:37:11.505149Z"
        },
        "id": "DOAI6mZVlklR",
        "outputId": "69390f8c-d216-45dd-be96-aced9485ec44",
        "trusted": true
      },
      "outputs": [
        {
          "name": "stdout",
          "output_type": "stream",
          "text": [
            "Using device:  cuda\n"
          ]
        }
      ],
      "source": [
        "device = torch.device(\"cuda\" if torch.cuda.is_available() else \"cpu\")\n",
        "print(\"Using device: \", device)"
      ]
    },
    {
      "cell_type": "code",
      "execution_count": null,
      "metadata": {
        "execution": {
          "iopub.execute_input": "2025-05-08T03:37:11.606543Z",
          "iopub.status.busy": "2025-05-08T03:37:11.606145Z",
          "iopub.status.idle": "2025-05-08T03:37:11.732341Z",
          "shell.execute_reply": "2025-05-08T03:37:11.731281Z",
          "shell.execute_reply.started": "2025-05-08T03:37:11.606501Z"
        },
        "id": "D_5O8LC2kxMx",
        "trusted": true
      },
      "outputs": [],
      "source": [
        "os.environ[\"WANDB_DISABLED\"] = \"true\""
      ]
    },
    {
      "cell_type": "markdown",
      "metadata": {
        "id": "DM_lPS7JkxMx"
      },
      "source": [
        "# Load Pretrained model"
      ]
    },
    {
      "cell_type": "code",
      "execution_count": null,
      "metadata": {
        "execution": {
          "iopub.execute_input": "2025-05-08T03:37:42.401251Z",
          "iopub.status.busy": "2025-05-08T03:37:42.400911Z",
          "iopub.status.idle": "2025-05-08T03:37:43.840027Z",
          "shell.execute_reply": "2025-05-08T03:37:43.838934Z",
          "shell.execute_reply.started": "2025-05-08T03:37:42.401217Z"
        },
        "id": "QqpnA3kElsIz",
        "trusted": true
      },
      "outputs": [],
      "source": [
        "# Model bi-encoder\n",
        "pretrain_bi_encoder = SentenceTransformer('bkai-foundation-models/vietnamese-bi-encoder')\n",
        "pretrain_bi_encoder.max_seq_length = 256\n",
        "top_k = 64"
      ]
    },
    {
      "cell_type": "code",
      "execution_count": null,
      "metadata": {
        "colab": {
          "base_uri": "https://localhost:8080/",
          "height": 209,
          "referenced_widgets": [
            "770840e3108f4cc6a375f1b89101662c",
            "57c2c715c70e44c08a7a7884532da619",
            "2c3656011526443ca7da848f2a7dd584",
            "31409ddd8b0d4be69048f0af8a5188c7",
            "84ca6116fc3a4398a1a25653c8915e0e",
            "c049bbf45ecb44d5990e89c68964171f",
            "5bcb5dddd5994516b09c8591ce37e256",
            "3f4c2a986c9045d4bf0de7f3855e5013",
            "900900b9b81444b8a1f5bfe81af6353a",
            "b42c7c3957014106939be2558c2cd62a",
            "e4db5b89eb5c46848d84d6bab511407e",
            "074253cff1a64c8dab249c555eada78c",
            "9b92731d177b4dbd825bb65d9d928de3",
            "ecf9edba34b04c85aeb9ed9a5900a8b3",
            "437ba0619ba24f64be3dd1f9e391e3eb",
            "4a1aa3866c4741248ad707ca1a3a7510",
            "5f4e8e67499f4662875609bc1b5453c9",
            "1ca87f587e634f0e9698c9d5b945675a",
            "9dfef6fcb80c4456ba8312ef1db5ee7c",
            "e61797592ba04cbea0d85eeb050f9e9f",
            "f356f66e95484fa89a83937f690ceaba",
            "23d82d23200e47179d5fd2eb2c8b50e1",
            "2318ba5df9a14869b1d45fd740a1200a",
            "18219bdeadf34f358090416d3249deb8",
            "7b4026bb071747c08e4b9553a5755b8f",
            "42262dc525bf4dc1998c25e22d0b41c8",
            "d232b47c1c1b4c5d9109885debcef7d6",
            "a85dfb60045544dc81fa14a39a7255b6",
            "01c0d462e917402497c4335db2d3ad58",
            "94dfb8a2e6df4814b7edbcec66a14ed3",
            "a2061eb0ac024b6a994ac74c355efd62",
            "9215305575534d57b884e8361642874a",
            "88d58ac45a9647ffb1887af5b0d4044b",
            "5b2a3684c7ab48c4a9df56aae8f06716",
            "d5104896ce4142d7b3975218c6b461d9",
            "594032efc15c458b9d4409f4d2e5266e",
            "2ffeff5ff4c645b4b18f0fcc073d7d28",
            "b3fd52c599d84dc4806e4720429620d0",
            "54785c6546b64bec90e099cd9a0ed57e",
            "8912cf0d88f446a28301a7fbd4c3bdad",
            "179492bea72540c19982112322bc1c58",
            "76813939ca05452e81a6eb2032720e81",
            "832b77604631474d9a1db93a47aba442",
            "c07c1f2a8f214d84b8995875321e776d",
            "524c73aa20904199bf363b7f53357fc9",
            "894572dc90f344bcbbb3ec0bd493413e",
            "ab62f830d9964da882d8630327abd8d4",
            "be4c8953d1cd4558b8830246187daac3",
            "4ac8a78c7ff149b4a4b2fb1ef1094412",
            "db1e1b4e740642f09177cb20e66f4edf",
            "f3a1c3ca834e432487ec0763c6d1021a",
            "914537bb17614355bf29ffbf0b10c2dc",
            "bf0621c680e34776bc384b958cb099f7",
            "3aee28199db545acbb43248362329f81",
            "db707a84eb07403481bbac9431af74a9",
            "5f9cb883aa234d16877998e431b1e9ae",
            "778e612d8f934caab3c67052850ffb61",
            "8508c7357a7c43b296f3bc63b8d7e23b",
            "4dd0547a307941538b73bf1808429e25",
            "7477980a31834e7e992d69ca9638bb28",
            "019214d7b0384958a2acf093c7c62a47",
            "1effedc5692d49e398a0b5bf960a2835",
            "26a3336dc74b417c8268e9fd99cc7edd",
            "f929e2a625b64ae3a39883866176d1ca",
            "d7e7c8ec417f4b368d5fed5b2d2066f7",
            "25cbbea17dff461c892338eb0eda6a81",
            "b73826cde8b1492b83cd9643090051ec",
            "a59eb3f78e49470c8bba88f2a22c56ca",
            "441188002c08454fbb576be8faf69dda",
            "d46f556626d14b64bc33b01e7106b469",
            "0f7d6174121c4239845cfca424b90403",
            "c98fb30fb95d4c2884650517d52e6d32"
          ]
        },
        "execution": {
          "iopub.execute_input": "2025-05-08T03:37:19.826578Z",
          "iopub.status.busy": "2025-05-08T03:37:19.826344Z",
          "iopub.status.idle": "2025-05-08T03:37:38.319905Z",
          "shell.execute_reply": "2025-05-08T03:37:38.318778Z",
          "shell.execute_reply.started": "2025-05-08T03:37:19.826556Z"
        },
        "id": "sbsF-PflkxMy",
        "outputId": "931075b6-3894-4e8f-9a15-dcbf92ade0b5",
        "trusted": true
      },
      "outputs": [
        {
          "data": {
            "application/vnd.jupyter.widget-view+json": {
              "model_id": "b73826cde8b1492b83cd9643090051ec",
              "version_major": 2,
              "version_minor": 0
            },
            "text/plain": [
              "tokenizer_config.json:   0%|          | 0.00/1.17k [00:00<?, ?B/s]"
            ]
          },
          "metadata": {},
          "output_type": "display_data"
        },
        {
          "data": {
            "application/vnd.jupyter.widget-view+json": {
              "model_id": "a59eb3f78e49470c8bba88f2a22c56ca",
              "version_major": 2,
              "version_minor": 0
            },
            "text/plain": [
              "sentencepiece.bpe.model:   0%|          | 0.00/5.07M [00:00<?, ?B/s]"
            ]
          },
          "metadata": {},
          "output_type": "display_data"
        },
        {
          "data": {
            "application/vnd.jupyter.widget-view+json": {
              "model_id": "441188002c08454fbb576be8faf69dda",
              "version_major": 2,
              "version_minor": 0
            },
            "text/plain": [
              "tokenizer.json:   0%|          | 0.00/17.1M [00:00<?, ?B/s]"
            ]
          },
          "metadata": {},
          "output_type": "display_data"
        },
        {
          "data": {
            "application/vnd.jupyter.widget-view+json": {
              "model_id": "d46f556626d14b64bc33b01e7106b469",
              "version_major": 2,
              "version_minor": 0
            },
            "text/plain": [
              "special_tokens_map.json:   0%|          | 0.00/964 [00:00<?, ?B/s]"
            ]
          },
          "metadata": {},
          "output_type": "display_data"
        },
        {
          "data": {
            "application/vnd.jupyter.widget-view+json": {
              "model_id": "0f7d6174121c4239845cfca424b90403",
              "version_major": 2,
              "version_minor": 0
            },
            "text/plain": [
              "config.json:   0%|          | 0.00/796 [00:00<?, ?B/s]"
            ]
          },
          "metadata": {},
          "output_type": "display_data"
        },
        {
          "data": {
            "application/vnd.jupyter.widget-view+json": {
              "model_id": "c98fb30fb95d4c2884650517d52e6d32",
              "version_major": 2,
              "version_minor": 0
            },
            "text/plain": [
              "model.safetensors:   0%|          | 0.00/2.27G [00:00<?, ?B/s]"
            ]
          },
          "metadata": {},
          "output_type": "display_data"
        }
      ],
      "source": [
        "# Model cross-encoder\n",
        "import os\n",
        "os.environ[\"TOKENIZERS_PARALLELISM\"] = \"false\"\n",
        "os.environ[\"DISABLE_TQDM\"] = \"true\"\n",
        "\n",
        "from FlagEmbedding import FlagReranker\n",
        "reranker = FlagReranker('namdp-ptit/ViRanker', use_fp16=True, show_progress=False)"
      ]
    },
    {
      "cell_type": "markdown",
      "metadata": {
        "id": "E5QXAemJkxMz"
      },
      "source": [
        "## Bi-encoder"
      ]
    },
    {
      "cell_type": "markdown",
      "metadata": {
        "id": "kf1FcCTtSfEo"
      },
      "source": [
        "### Xét lại ví dụ Sentence Embedding sử dụng Word2vec\n",
        "![image.png](data:image/png;base64,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)"
      ]
    },
    {
      "cell_type": "code",
      "execution_count": null,
      "metadata": {
        "colab": {
          "referenced_widgets": [
            "d438942c682f4923854b96e8de4231a7",
            "d97d889c4717411ea8282fefea6f13a0",
            "56013d4a18cc477ebc311790d0495e55",
            "e0e265b505084d9c822af7255221d7a3",
            "c6e03d6c2b8e490a99eaa6fc661f6cde",
            "f4ed9e86ba5d49d9b84a84fb0452adea",
            "5be97bd527f245b68a2832513a5b7b73",
            "51a241a8b4ad45a6b787a6c790b849ef",
            "23e0b5aec0764dc590629209a8556e9e",
            "47b788e01a30413b8fb1209c87ab4397",
            "4b3bb42b5a3844ffa19825668faaec7b"
          ]
        },
        "execution": {
          "iopub.execute_input": "2025-05-08T03:37:38.321937Z",
          "iopub.status.busy": "2025-05-08T03:37:38.321577Z",
          "iopub.status.idle": "2025-05-08T03:37:42.399485Z",
          "shell.execute_reply": "2025-05-08T03:37:42.398230Z",
          "shell.execute_reply.started": "2025-05-08T03:37:38.321901Z"
        },
        "id": "2ZjkYp7GSfEo",
        "outputId": "62df99c3-5135-4f04-f2ac-158831567539",
        "trusted": true
      },
      "outputs": [
        {
          "data": {
            "application/vnd.jupyter.widget-view+json": {
              "model_id": "d438942c682f4923854b96e8de4231a7",
              "version_major": 2,
              "version_minor": 0
            },
            "text/plain": [
              "modules.json:   0%|          | 0.00/349 [00:00<?, ?B/s]"
            ]
          },
          "metadata": {},
          "output_type": "display_data"
        },
        {
          "data": {
            "application/vnd.jupyter.widget-view+json": {
              "model_id": "d97d889c4717411ea8282fefea6f13a0",
              "version_major": 2,
              "version_minor": 0
            },
            "text/plain": [
              "config_sentence_transformers.json:   0%|          | 0.00/116 [00:00<?, ?B/s]"
            ]
          },
          "metadata": {},
          "output_type": "display_data"
        },
        {
          "data": {
            "application/vnd.jupyter.widget-view+json": {
              "model_id": "56013d4a18cc477ebc311790d0495e55",
              "version_major": 2,
              "version_minor": 0
            },
            "text/plain": [
              "README.md:   0%|          | 0.00/10.5k [00:00<?, ?B/s]"
            ]
          },
          "metadata": {},
          "output_type": "display_data"
        },
        {
          "data": {
            "application/vnd.jupyter.widget-view+json": {
              "model_id": "e0e265b505084d9c822af7255221d7a3",
              "version_major": 2,
              "version_minor": 0
            },
            "text/plain": [
              "sentence_bert_config.json:   0%|          | 0.00/53.0 [00:00<?, ?B/s]"
            ]
          },
          "metadata": {},
          "output_type": "display_data"
        },
        {
          "data": {
            "application/vnd.jupyter.widget-view+json": {
              "model_id": "c6e03d6c2b8e490a99eaa6fc661f6cde",
              "version_major": 2,
              "version_minor": 0
            },
            "text/plain": [
              "config.json:   0%|          | 0.00/612 [00:00<?, ?B/s]"
            ]
          },
          "metadata": {},
          "output_type": "display_data"
        },
        {
          "data": {
            "application/vnd.jupyter.widget-view+json": {
              "model_id": "f4ed9e86ba5d49d9b84a84fb0452adea",
              "version_major": 2,
              "version_minor": 0
            },
            "text/plain": [
              "model.safetensors:   0%|          | 0.00/90.9M [00:00<?, ?B/s]"
            ]
          },
          "metadata": {},
          "output_type": "display_data"
        },
        {
          "data": {
            "application/vnd.jupyter.widget-view+json": {
              "model_id": "5be97bd527f245b68a2832513a5b7b73",
              "version_major": 2,
              "version_minor": 0
            },
            "text/plain": [
              "tokenizer_config.json:   0%|          | 0.00/350 [00:00<?, ?B/s]"
            ]
          },
          "metadata": {},
          "output_type": "display_data"
        },
        {
          "data": {
            "application/vnd.jupyter.widget-view+json": {
              "model_id": "51a241a8b4ad45a6b787a6c790b849ef",
              "version_major": 2,
              "version_minor": 0
            },
            "text/plain": [
              "vocab.txt:   0%|          | 0.00/232k [00:00<?, ?B/s]"
            ]
          },
          "metadata": {},
          "output_type": "display_data"
        },
        {
          "data": {
            "application/vnd.jupyter.widget-view+json": {
              "model_id": "23e0b5aec0764dc590629209a8556e9e",
              "version_major": 2,
              "version_minor": 0
            },
            "text/plain": [
              "tokenizer.json:   0%|          | 0.00/466k [00:00<?, ?B/s]"
            ]
          },
          "metadata": {},
          "output_type": "display_data"
        },
        {
          "data": {
            "application/vnd.jupyter.widget-view+json": {
              "model_id": "47b788e01a30413b8fb1209c87ab4397",
              "version_major": 2,
              "version_minor": 0
            },
            "text/plain": [
              "special_tokens_map.json:   0%|          | 0.00/112 [00:00<?, ?B/s]"
            ]
          },
          "metadata": {},
          "output_type": "display_data"
        },
        {
          "data": {
            "application/vnd.jupyter.widget-view+json": {
              "model_id": "4b3bb42b5a3844ffa19825668faaec7b",
              "version_major": 2,
              "version_minor": 0
            },
            "text/plain": [
              "config.json:   0%|          | 0.00/190 [00:00<?, ?B/s]"
            ]
          },
          "metadata": {},
          "output_type": "display_data"
        }
      ],
      "source": [
        "# Model bi-encoder\n",
        "pretrain_bi_encoder = SentenceTransformer('sentence-transformers/all-MiniLM-L6-v2')\n",
        "pretrain_bi_encoder.max_seq_length = 256\n",
        "top_k = 64"
      ]
    },
    {
      "cell_type": "code",
      "execution_count": null,
      "metadata": {
        "execution": {
          "iopub.execute_input": "2025-05-08T03:10:05.670311Z",
          "iopub.status.busy": "2025-05-08T03:10:05.670002Z",
          "iopub.status.idle": "2025-05-08T03:10:05.673842Z",
          "shell.execute_reply": "2025-05-08T03:10:05.672932Z",
          "shell.execute_reply.started": "2025-05-08T03:10:05.670284Z"
        },
        "id": "ULC4sC8hSfEp",
        "trusted": true
      },
      "outputs": [],
      "source": [
        "sentences = [\n",
        "    \"The movie was thrilling and suspenseful.\",\n",
        "    \"I felt tense and anxious during the film.\",\n",
        "    \"The book was boring and uneventful.\",\n",
        "]"
      ]
    },
    {
      "cell_type": "code",
      "execution_count": null,
      "metadata": {
        "colab": {
          "referenced_widgets": [
            "97fdfa9d017d4ede89a9d56fd488583c"
          ]
        },
        "execution": {
          "iopub.execute_input": "2025-05-08T03:10:05.919266Z",
          "iopub.status.busy": "2025-05-08T03:10:05.919051Z",
          "iopub.status.idle": "2025-05-08T03:10:06.000658Z",
          "shell.execute_reply": "2025-05-08T03:10:05.999659Z",
          "shell.execute_reply.started": "2025-05-08T03:10:05.919248Z"
        },
        "id": "oBc-yEYjSfEp",
        "outputId": "e51a81b8-eea8-4c75-f922-b78d67da605f",
        "trusted": true
      },
      "outputs": [
        {
          "data": {
            "application/vnd.jupyter.widget-view+json": {
              "model_id": "97fdfa9d017d4ede89a9d56fd488583c",
              "version_major": 2,
              "version_minor": 0
            },
            "text/plain": [
              "Batches:   0%|          | 0/1 [00:00<?, ?it/s]"
            ]
          },
          "metadata": {},
          "output_type": "display_data"
        }
      ],
      "source": [
        "embeddings = pretrain_bi_encoder.encode(sentences)\n",
        "similarities = pretrain_bi_encoder.similarity(embeddings, embeddings)"
      ]
    },
    {
      "cell_type": "code",
      "execution_count": null,
      "metadata": {
        "execution": {
          "iopub.execute_input": "2025-05-08T03:10:07.325033Z",
          "iopub.status.busy": "2025-05-08T03:10:07.324718Z",
          "iopub.status.idle": "2025-05-08T03:10:07.329942Z",
          "shell.execute_reply": "2025-05-08T03:10:07.329124Z",
          "shell.execute_reply.started": "2025-05-08T03:10:07.325005Z"
        },
        "id": "GUmVQ6ECSfEp",
        "outputId": "731ab8d6-01ac-4e55-9485-c1e801ee201c",
        "trusted": true
      },
      "outputs": [
        {
          "name": "stdout",
          "output_type": "stream",
          "text": [
            "Cosine Similarity between sentence 0 and sentence 1: 0.574888288974762\n",
            "Cosine Similarity between sentence 0 and sentence 2: 0.5060065984725952\n",
            "Cosine Similarity between sentence 1 and sentence 2: 0.38437366485595703\n"
          ]
        }
      ],
      "source": [
        "for i in range(len(sentences)):\n",
        "  for j in range(i+1, len(sentences)):\n",
        "    print(f\"Cosine Similarity between sentence {i} and sentence {j}: {similarities[i][j]}\")"
      ]
    },
    {
      "cell_type": "markdown",
      "metadata": {
        "id": "d13O_mcsSfEp"
      },
      "source": [
        "### Bi-encoder với 2 tập"
      ]
    },
    {
      "cell_type": "markdown",
      "metadata": {
        "id": "DLgjjaDpkxMz"
      },
      "source": [
        "- Model bi-encoder tính toán vector biểu diễn cho từng phần tử, sau đó có thể tính toán độ tương đồng giữa em embedding vector\n",
        "- 2 list gồm n, m văn bản => cần n+m lần embedding"
      ]
    },
    {
      "cell_type": "code",
      "execution_count": null,
      "metadata": {
        "execution": {
          "iopub.execute_input": "2025-05-08T03:29:46.068956Z",
          "iopub.status.busy": "2025-05-08T03:29:46.068575Z",
          "iopub.status.idle": "2025-05-08T03:29:46.073115Z",
          "shell.execute_reply": "2025-05-08T03:29:46.072239Z",
          "shell.execute_reply.started": "2025-05-08T03:29:46.068926Z"
        },
        "id": "EkGk10DQkxM0",
        "trusted": true
      },
      "outputs": [],
      "source": [
        "# Two lists of sentences\n",
        "sentences1 = [\n",
        "    \"Bộ phim mới thật tuyệt vời\",\n",
        "    \"Con mèo ngồi bên ngoài\",\n",
        "    \"Một người đàn ông đang chơi đàn guitar\",\n",
        "]\n",
        "\n",
        "sentences2 = [\n",
        "    \"Con chó chơi trong vườn\",\n",
        "    \"Bộ phim mới thật tuyệt vời\",\n",
        "    \"Một người phụ nữ xem TV\",\n",
        "]"
      ]
    },
    {
      "cell_type": "code",
      "execution_count": null,
      "metadata": {
        "colab": {
          "base_uri": "https://localhost:8080/",
          "referenced_widgets": [
            "861f15f32b86479882c9795c4f65a463",
            "21407aff7534483d909c84dcfc5156f2"
          ]
        },
        "execution": {
          "iopub.execute_input": "2025-05-08T03:29:46.500218Z",
          "iopub.status.busy": "2025-05-08T03:29:46.499930Z",
          "iopub.status.idle": "2025-05-08T03:29:47.040053Z",
          "shell.execute_reply": "2025-05-08T03:29:47.039231Z",
          "shell.execute_reply.started": "2025-05-08T03:29:46.500182Z"
        },
        "id": "9iNrpb_ekxM0",
        "outputId": "f8ea6ab7-5631-4ef8-ae0d-1f885d16e5ff",
        "trusted": true
      },
      "outputs": [
        {
          "data": {
            "application/vnd.jupyter.widget-view+json": {
              "model_id": "861f15f32b86479882c9795c4f65a463",
              "version_major": 2,
              "version_minor": 0
            },
            "text/plain": [
              "Batches:   0%|          | 0/1 [00:00<?, ?it/s]"
            ]
          },
          "metadata": {},
          "output_type": "display_data"
        },
        {
          "data": {
            "application/vnd.jupyter.widget-view+json": {
              "model_id": "21407aff7534483d909c84dcfc5156f2",
              "version_major": 2,
              "version_minor": 0
            },
            "text/plain": [
              "Batches:   0%|          | 0/1 [00:00<?, ?it/s]"
            ]
          },
          "metadata": {},
          "output_type": "display_data"
        },
        {
          "name": "stdout",
          "output_type": "stream",
          "text": [
            "(3, 768)\n"
          ]
        }
      ],
      "source": [
        "# Encode\n",
        "### YOUR CODE HERE ###\n",
        "\n",
        "### YOUR CODE HERE ###"
      ]
    },
    {
      "cell_type": "code",
      "execution_count": null,
      "metadata": {
        "execution": {
          "iopub.execute_input": "2025-05-08T03:29:47.878454Z",
          "iopub.status.busy": "2025-05-08T03:29:47.878114Z",
          "iopub.status.idle": "2025-05-08T03:29:47.912481Z",
          "shell.execute_reply": "2025-05-08T03:29:47.911502Z",
          "shell.execute_reply.started": "2025-05-08T03:29:47.878423Z"
        },
        "id": "Mi0RM46VkxM0",
        "trusted": true
      },
      "outputs": [],
      "source": [
        "# Calculate the embedding similarities\n",
        "### YOUR CODE HERE ###\n",
        "\n",
        "### YOUR CODE HERE ###"
      ]
    },
    {
      "cell_type": "code",
      "execution_count": null,
      "metadata": {
        "colab": {
          "base_uri": "https://localhost:8080/"
        },
        "execution": {
          "iopub.execute_input": "2025-05-08T03:29:49.733339Z",
          "iopub.status.busy": "2025-05-08T03:29:49.733062Z",
          "iopub.status.idle": "2025-05-08T03:29:49.740649Z",
          "shell.execute_reply": "2025-05-08T03:29:49.739963Z",
          "shell.execute_reply.started": "2025-05-08T03:29:49.733318Z"
        },
        "id": "R72V4Wr2kxM1",
        "outputId": "33ff945c-84f8-4b7d-fdf8-ee39be2713a4",
        "trusted": true
      },
      "outputs": [
        {
          "name": "stdout",
          "output_type": "stream",
          "text": [
            "Bộ phim mới thật tuyệt vời\n",
            " - Con chó chơi trong vườn       : 0.0336\n",
            " - Bộ phim mới thật tuyệt vời    : 1.0000\n",
            " - Một người phụ nữ xem TV       : 0.0729\n",
            "Con mèo ngồi bên ngoài\n",
            " - Con chó chơi trong vườn       : 0.1876\n",
            " - Bộ phim mới thật tuyệt vời    : 0.1328\n",
            " - Một người phụ nữ xem TV       : 0.1142\n",
            "Một người đàn ông đang chơi đàn guitar\n",
            " - Con chó chơi trong vườn       : 0.0676\n",
            " - Bộ phim mới thật tuyệt vời    : -0.1965\n",
            " - Một người phụ nữ xem TV       : 0.0440\n"
          ]
        }
      ],
      "source": [
        "# Output the pairs with their score\n",
        "### YOUR CODE HERE ###\n",
        "\n",
        "### YOUR CODE HERE ###"
      ]
    },
    {
      "cell_type": "markdown",
      "metadata": {
        "id": "ddSrqXfxkxM1"
      },
      "source": [
        "## Cross-encoder"
      ]
    },
    {
      "cell_type": "markdown",
      "metadata": {
        "id": "1z7SQ2uVkxM1"
      },
      "source": [
        "- Model Cross Encoder nhận vào 2 văn bản được ghép lại, tính toán độ tương đồng giữa 2 văn bản. Output là độ đo chứ không phải vector\n",
        "- 2 list gồm n, m văn bản => cần n*m lần embedding"
      ]
    },
    {
      "cell_type": "code",
      "execution_count": null,
      "metadata": {
        "colab": {
          "base_uri": "https://localhost:8080/"
        },
        "execution": {
          "iopub.execute_input": "2025-05-08T03:37:50.847061Z",
          "iopub.status.busy": "2025-05-08T03:37:50.846712Z",
          "iopub.status.idle": "2025-05-08T03:38:13.616025Z",
          "shell.execute_reply": "2025-05-08T03:38:13.615084Z",
          "shell.execute_reply.started": "2025-05-08T03:37:50.847029Z"
        },
        "id": "YxG2U3GakxM1",
        "outputId": "19e0feb1-8f88-45e1-f531-32c3b8d68edf",
        "trusted": true
      },
      "outputs": [
        {
          "name": "stdout",
          "output_type": "stream",
          "text": [
            "Query: Berlin có bao nhiêu bảo tàng?\n"
          ]
        },
        {
          "name": "stderr",
          "output_type": "stream",
          "text": [
            "initial target device: 100%|██████████| 2/2 [00:16<00:00,  8.45s/it]\n",
            "Chunks: 100%|██████████| 1/1 [00:02<00:00,  2.15s/it]\n"
          ]
        },
        {
          "name": "stdout",
          "output_type": "stream",
          "text": [
            "0.01\tBerlin có 3.520.031 cư dân đăng ký trên diện tích 891,82 km².\n"
          ]
        },
        {
          "name": "stderr",
          "output_type": "stream",
          "text": [
            "Chunks: 100%|██████████| 1/1 [00:01<00:00,  1.72s/it]\n"
          ]
        },
        {
          "name": "stdout",
          "output_type": "stream",
          "text": [
            "0.86\tBerlin nổi tiếng với các bảo tàng.\n"
          ]
        },
        {
          "name": "stderr",
          "output_type": "stream",
          "text": [
            "Chunks: 100%|██████████| 1/1 [00:00<00:00, 22.99it/s]\n"
          ]
        },
        {
          "name": "stdout",
          "output_type": "stream",
          "text": [
            "0.00\tNăm 2014, bang Berlin có 37.368 ca sinh (+6,6%), con số kỷ lục kể từ năm 1991.\n"
          ]
        },
        {
          "name": "stderr",
          "output_type": "stream",
          "text": [
            "Chunks: 100%|██████████| 1/1 [00:00<00:00, 24.99it/s]\n"
          ]
        },
        {
          "name": "stdout",
          "output_type": "stream",
          "text": [
            "0.00\tVùng đô thị Berlin có khoảng 4,1 triệu người vào năm 2014, khiến nó trở thành khu vực đô thị đông dân thứ bảy trong Liên minh châu Âu.\n"
          ]
        },
        {
          "name": "stderr",
          "output_type": "stream",
          "text": [
            "Chunks: 100%|██████████| 1/1 [00:00<00:00, 25.33it/s]\n"
          ]
        },
        {
          "name": "stdout",
          "output_type": "stream",
          "text": [
            "0.00\tThành phố Paris có dân số 2.165.423 người trong giới hạn hành chính của nó tính đến ngày 1 tháng 1 năm 2019.\n"
          ]
        },
        {
          "name": "stderr",
          "output_type": "stream",
          "text": [
            "Chunks: 100%|██████████| 1/1 [00:00<00:00, 24.43it/s]\n"
          ]
        },
        {
          "name": "stdout",
          "output_type": "stream",
          "text": [
            "0.00\tƯớc tính có khoảng 300.000-420.000 người Hồi giáo cư trú tại Berlin, chiếm khoảng 8-11% dân số.\n"
          ]
        },
        {
          "name": "stderr",
          "output_type": "stream",
          "text": [
            "Chunks: 100%|██████████| 1/1 [00:00<00:00, 24.66it/s]\n"
          ]
        },
        {
          "name": "stdout",
          "output_type": "stream",
          "text": [
            "0.01\tBerlin được chia thành 12 quận (Bezirk).\n"
          ]
        },
        {
          "name": "stderr",
          "output_type": "stream",
          "text": [
            "Chunks: 100%|██████████| 1/1 [00:00<00:00, 25.14it/s]\n"
          ]
        },
        {
          "name": "stdout",
          "output_type": "stream",
          "text": [
            "0.00\tNăm 2015, tổng lực lượng lao động tại Berlin là 1,85 triệu người.\n"
          ]
        },
        {
          "name": "stderr",
          "output_type": "stream",
          "text": [
            "Chunks: 100%|██████████| 1/1 [00:00<00:00, 24.53it/s]\n"
          ]
        },
        {
          "name": "stdout",
          "output_type": "stream",
          "text": [
            "0.00\tNăm 2013, khoảng 600.000 người Berlin đã đăng ký tham gia hơn 2.300 câu lạc bộ thể thao và thể hình.\n"
          ]
        },
        {
          "name": "stderr",
          "output_type": "stream",
          "text": [
            "Chunks: 100%|██████████| 1/1 [00:00<00:00, 24.73it/s]\n"
          ]
        },
        {
          "name": "stdout",
          "output_type": "stream",
          "text": [
            "0.00\tBerlin có tổng số khoảng 135 triệu lượt khách trong một năm, đưa nó lên vị trí thứ ba trong số các điểm đến thành phố được ghé thăm nhiều nhất ở Liên minh châu Âu.\n"
          ]
        },
        {
          "name": "stderr",
          "output_type": "stream",
          "text": [
            "Chunks: 100%|██████████| 1/1 [00:00<00:00, 25.02it/s]"
          ]
        },
        {
          "name": "stdout",
          "output_type": "stream",
          "text": [
            "1.00\tBerlin có hơn 1000 bảo tàng.\n"
          ]
        },
        {
          "name": "stderr",
          "output_type": "stream",
          "text": [
            "\n"
          ]
        }
      ],
      "source": [
        "# Rank a list of passages for a query\n",
        "query = \"Berlin có bao nhiêu bảo tàng?\"\n",
        "\n",
        "passages = [\n",
        "    \"Berlin có 3.520.031 cư dân đăng ký trên diện tích 891,82 km².\",\n",
        "    \"Berlin nổi tiếng với các bảo tàng.\",\n",
        "    \"Năm 2014, bang Berlin có 37.368 ca sinh (+6,6%), con số kỷ lục kể từ năm 1991.\",\n",
        "    \"Vùng đô thị Berlin có khoảng 4,1 triệu người vào năm 2014, khiến nó trở thành khu vực đô thị đông dân thứ bảy trong Liên minh châu Âu.\",\n",
        "    \"Thành phố Paris có dân số 2.165.423 người trong giới hạn hành chính của nó tính đến ngày 1 tháng 1 năm 2019.\",\n",
        "    \"Ước tính có khoảng 300.000-420.000 người Hồi giáo cư trú tại Berlin, chiếm khoảng 8-11% dân số.\",\n",
        "    \"Berlin được chia thành 12 quận (Bezirk).\",\n",
        "    \"Năm 2015, tổng lực lượng lao động tại Berlin là 1,85 triệu người.\",\n",
        "    \"Năm 2013, khoảng 600.000 người Berlin đã đăng ký tham gia hơn 2.300 câu lạc bộ thể thao và thể hình.\",\n",
        "    \"Berlin có tổng số khoảng 135 triệu lượt khách trong một năm, đưa nó lên vị trí thứ ba trong số các điểm đến thành phố được ghé thăm nhiều nhất ở Liên minh châu Âu.\",\n",
        "    \"Berlin có hơn 1000 bảo tàng.\",\n",
        "]\n",
        "\n",
        "# ranks = pretrain_cross_encoder.rank(query, passages)\n",
        "# # Print the scores\n",
        "# print(\"Query:\", query)\n",
        "# for rank in ranks:\n",
        "#     print(f\"{rank['score']:.2f}\\t{passages[rank['corpus_id']]}\")\n",
        "\n",
        "print(\"Query:\", query)\n",
        "for ans in passages:\n",
        "    score = reranker.compute_score([query, ans], normalize=True)[0]\n",
        "    print(f\"{score:.2f}\\t{ans}\")"
      ]
    },
    {
      "cell_type": "markdown",
      "metadata": {
        "id": "37B9TSdskxM2"
      },
      "source": [
        "## Nhận xét"
      ]
    },
    {
      "cell_type": "markdown",
      "metadata": {
        "id": "N6BoIvlRkxM2"
      },
      "source": [
        "- Các mô hình Cross Encoder thường có độ chính xác cao hơn các mô hình bi-encoder (do xét quan hệ giữa 2 văn bản ghi ghép lại), tuy nhiên chúng lại có tốc độ tính toán chậm hơn\n",
        "  - Model bi-encoder sẽ mất n + 1 lần encode ( n là sô văn bản), còn cross-encoder sẽ mất 2n lần encode(do encode query n lần)\n",
        "- Việc kết hợp 1 model bi-encoder(Retrieve) với 1 model Cross Encoder(Re-Rank) giúp ta tối ưu tốc độ mà vấn giữ được độ chính xác cao.\n",
        "=> Model bi-encoder lọc ra 1 lượng văn bản gần với query, sau đó re-rank bằng cross-encoder 1 lần nữa"
      ]
    },
    {
      "cell_type": "markdown",
      "metadata": {
        "id": "rLzoHA7WkxM3"
      },
      "source": [
        "# Bài toán Truy xuất thông tin văn bản pháp luật"
      ]
    },
    {
      "cell_type": "markdown",
      "metadata": {
        "id": "tyN22A8DkxM3"
      },
      "source": [
        "## Load Dataset"
      ]
    },
    {
      "cell_type": "code",
      "execution_count": null,
      "metadata": {
        "execution": {
          "iopub.execute_input": "2025-05-08T03:38:40.325488Z",
          "iopub.status.busy": "2025-05-08T03:38:40.325175Z",
          "iopub.status.idle": "2025-05-08T03:38:43.463903Z",
          "shell.execute_reply": "2025-05-08T03:38:43.463140Z",
          "shell.execute_reply.started": "2025-05-08T03:38:40.325463Z"
        },
        "id": "01qWuPD2kxM3",
        "trusted": true
      },
      "outputs": [],
      "source": [
        "dataset_json_path = \"/kaggle/input/clean-legal-corpus/clean_legal_corpus.json\"\n",
        "with open(dataset_json_path, \"r\") as f:\n",
        "  dataset_json = json.load(f)"
      ]
    },
    {
      "cell_type": "code",
      "execution_count": null,
      "metadata": {
        "colab": {
          "base_uri": "https://localhost:8080/"
        },
        "execution": {
          "iopub.execute_input": "2025-05-08T03:38:43.465520Z",
          "iopub.status.busy": "2025-05-08T03:38:43.465174Z",
          "iopub.status.idle": "2025-05-08T03:38:43.470408Z",
          "shell.execute_reply": "2025-05-08T03:38:43.469654Z",
          "shell.execute_reply.started": "2025-05-08T03:38:43.465485Z"
        },
        "id": "0Ywzsp9JkxM3",
        "outputId": "b65233cf-7479-4c2c-9443-613304f9f6a1",
        "trusted": true
      },
      "outputs": [
        {
          "name": "stdout",
          "output_type": "stream",
          "text": [
            "3263\n"
          ]
        }
      ],
      "source": [
        "print(len(dataset_json))"
      ]
    },
    {
      "cell_type": "code",
      "execution_count": null,
      "metadata": {
        "colab": {
          "base_uri": "https://localhost:8080/"
        },
        "execution": {
          "iopub.execute_input": "2025-05-08T03:38:43.472258Z",
          "iopub.status.busy": "2025-05-08T03:38:43.472033Z",
          "iopub.status.idle": "2025-05-08T03:38:43.494710Z",
          "shell.execute_reply": "2025-05-08T03:38:43.493874Z",
          "shell.execute_reply.started": "2025-05-08T03:38:43.472237Z"
        },
        "id": "mEdCbQ34kxM4",
        "outputId": "1765645f-754e-40df-af5b-055d41d4b20a",
        "trusted": true
      },
      "outputs": [
        {
          "data": {
            "text/plain": [
              "{'article_id': '1',\n",
              " 'title': 'Điều 1. Phạm vi áp dụng',\n",
              " 'text': 'Thông tư này hướng dẫn tuần tra, canh gác bảo vệ đê Điều trong mùa lũ đối với các tuyến đê sông được phân loại, phân cấp theo quy định tại Điều 4 của Luật Đê Điều.'}"
            ]
          },
          "execution_count": 12,
          "metadata": {},
          "output_type": "execute_result"
        }
      ],
      "source": [
        "dataset_json[0][\"articles\"][0]"
      ]
    },
    {
      "cell_type": "code",
      "execution_count": null,
      "metadata": {
        "execution": {
          "iopub.execute_input": "2025-05-08T03:38:43.496173Z",
          "iopub.status.busy": "2025-05-08T03:38:43.495860Z",
          "iopub.status.idle": "2025-05-08T03:38:43.667962Z",
          "shell.execute_reply": "2025-05-08T03:38:43.667137Z",
          "shell.execute_reply.started": "2025-05-08T03:38:43.496136Z"
        },
        "id": "KDUDjH_Pl6bp",
        "trusted": true
      },
      "outputs": [],
      "source": [
        "passages = []\n",
        "article_ids = []\n",
        "law_ids = []\n",
        "for law in dataset_json:\n",
        "    law_id = law[\"law_id\"]\n",
        "    for article in law[\"articles\"]:\n",
        "        text = f\"{article['title']}: {article['text']}\"\n",
        "        passages.append(text)\n",
        "        article_ids.append(article[\"article_id\"])\n",
        "        law_ids.append(law_id)"
      ]
    },
    {
      "cell_type": "code",
      "execution_count": null,
      "metadata": {
        "colab": {
          "base_uri": "https://localhost:8080/",
          "height": 54
        },
        "execution": {
          "iopub.execute_input": "2025-05-08T03:38:43.669108Z",
          "iopub.status.busy": "2025-05-08T03:38:43.668842Z",
          "iopub.status.idle": "2025-05-08T03:38:43.673970Z",
          "shell.execute_reply": "2025-05-08T03:38:43.673300Z",
          "shell.execute_reply.started": "2025-05-08T03:38:43.669083Z"
        },
        "id": "Zv6seFAdkxM4",
        "outputId": "c52d1b60-0bbb-46b1-fd56-b29be95f5575",
        "trusted": true
      },
      "outputs": [
        {
          "data": {
            "text/plain": [
              "'Điều 1. Phạm vi áp dụng: Thông tư này hướng dẫn tuần tra, canh gác bảo vệ đê Điều trong mùa lũ đối với các tuyến đê sông được phân loại, phân cấp theo quy định tại Điều 4 của Luật Đê Điều.'"
            ]
          },
          "execution_count": 14,
          "metadata": {},
          "output_type": "execute_result"
        }
      ],
      "source": [
        "passages[0]"
      ]
    },
    {
      "cell_type": "markdown",
      "metadata": {
        "id": "vwrJgSHrkxM4"
      },
      "source": [
        "## Test Dataset"
      ]
    },
    {
      "cell_type": "code",
      "execution_count": null,
      "metadata": {
        "execution": {
          "iopub.execute_input": "2025-05-08T03:38:43.674974Z",
          "iopub.status.busy": "2025-05-08T03:38:43.674728Z",
          "iopub.status.idle": "2025-05-08T03:38:43.706391Z",
          "shell.execute_reply": "2025-05-08T03:38:43.705470Z",
          "shell.execute_reply.started": "2025-05-08T03:38:43.674935Z"
        },
        "id": "GcXrr1mckxM5",
        "trusted": true
      },
      "outputs": [],
      "source": [
        "test_qa_path = \"/kaggle/input/test-qa/test_question_answer_final.json\"\n",
        "with open(test_qa_path, \"r\") as f:\n",
        "    test_qa_json = json.load(f)"
      ]
    },
    {
      "cell_type": "code",
      "execution_count": null,
      "metadata": {
        "colab": {
          "base_uri": "https://localhost:8080/"
        },
        "execution": {
          "iopub.execute_input": "2025-05-08T03:38:43.886363Z",
          "iopub.status.busy": "2025-05-08T03:38:43.886089Z",
          "iopub.status.idle": "2025-05-08T03:38:43.890912Z",
          "shell.execute_reply": "2025-05-08T03:38:43.889949Z",
          "shell.execute_reply.started": "2025-05-08T03:38:43.886339Z"
        },
        "id": "X9XZyJs5kxM5",
        "outputId": "4aa0fa1b-84ac-44e4-994d-f5b164d753cc",
        "trusted": true
      },
      "outputs": [
        {
          "name": "stdout",
          "output_type": "stream",
          "text": [
            "<class 'dict'>\n"
          ]
        }
      ],
      "source": [
        "print(type(test_qa_json))"
      ]
    },
    {
      "cell_type": "code",
      "execution_count": null,
      "metadata": {
        "execution": {
          "iopub.execute_input": "2025-05-08T03:38:44.070121Z",
          "iopub.status.busy": "2025-05-08T03:38:44.069839Z",
          "iopub.status.idle": "2025-05-08T03:38:44.075225Z",
          "shell.execute_reply": "2025-05-08T03:38:44.074217Z",
          "shell.execute_reply.started": "2025-05-08T03:38:44.070094Z"
        },
        "id": "Puknnr79kxM6",
        "trusted": true
      },
      "outputs": [],
      "source": [
        "test_questions = []\n",
        "test_law_ids = []\n",
        "test_article_ids = []\n",
        "for item in test_qa_json[\"items\"]:\n",
        "    test_questions.append(item[\"question\"])\n",
        "    test_law_ids.append(item[\"relevant_articles\"][0][\"law_id\"])\n",
        "    test_article_ids.append(str(item[\"relevant_articles\"][0][\"article_id\"]))"
      ]
    },
    {
      "cell_type": "code",
      "execution_count": null,
      "metadata": {
        "colab": {
          "base_uri": "https://localhost:8080/"
        },
        "execution": {
          "iopub.execute_input": "2025-05-08T03:38:44.425642Z",
          "iopub.status.busy": "2025-05-08T03:38:44.425320Z",
          "iopub.status.idle": "2025-05-08T03:38:44.430781Z",
          "shell.execute_reply": "2025-05-08T03:38:44.429989Z",
          "shell.execute_reply.started": "2025-05-08T03:38:44.425614Z"
        },
        "id": "vNviRgDukxM6",
        "outputId": "0152ce15-45a3-45ee-f0be-e435da6c6f57",
        "trusted": true
      },
      "outputs": [
        {
          "name": "stdout",
          "output_type": "stream",
          "text": [
            "Question: Đới khoáng hóa là gì?\n",
            "Law_id: 42/2016/tt-btnmt\n",
            "Article_id: 3\n"
          ]
        }
      ],
      "source": [
        "print(f\"Question: {test_questions[0]}\")\n",
        "print(f\"Law_id: {test_law_ids[0]}\")\n",
        "print(f\"Article_id: {test_article_ids[0]}\")"
      ]
    },
    {
      "cell_type": "markdown",
      "metadata": {
        "id": "osDna9qVkxM6"
      },
      "source": [
        "## Hàm xử lý"
      ]
    },
    {
      "cell_type": "code",
      "execution_count": null,
      "metadata": {
        "execution": {
          "iopub.execute_input": "2025-05-08T03:38:45.731560Z",
          "iopub.status.busy": "2025-05-08T03:38:45.731228Z",
          "iopub.status.idle": "2025-05-08T03:38:45.735990Z",
          "shell.execute_reply": "2025-05-08T03:38:45.734854Z",
          "shell.execute_reply.started": "2025-05-08T03:38:45.731532Z"
        },
        "id": "pTd6Rt-Qmwxe",
        "trusted": true
      },
      "outputs": [],
      "source": [
        "def embed_copus(model):\n",
        "    corpus_embeddings = model.encode(passages, convert_to_tensor=True, show_progress_bar=True)\n",
        "    return corpus_embeddings"
      ]
    },
    {
      "cell_type": "code",
      "execution_count": null,
      "metadata": {
        "execution": {
          "iopub.execute_input": "2025-05-08T03:38:46.084637Z",
          "iopub.status.busy": "2025-05-08T03:38:46.084284Z",
          "iopub.status.idle": "2025-05-08T03:38:46.090645Z",
          "shell.execute_reply": "2025-05-08T03:38:46.089714Z",
          "shell.execute_reply.started": "2025-05-08T03:38:46.084602Z"
        },
        "id": "3YRlZPYCm0W1",
        "trusted": true
      },
      "outputs": [],
      "source": [
        "def search(bi_encoder, cross_encoder, corpus_embeddings, query):\n",
        "# def search(bi_encoder, reranker, corpus_embeddings, query):\n",
        "    query_embedding = bi_encoder.encode(query, convert_to_tensor=True, show_progress_bar=False)\n",
        "    hits = util.semantic_search(query_embedding, corpus_embeddings, top_k=top_k)\n",
        "    hits = hits[0]\n",
        "    # Chuẩn bị đầu vào cho Cross-Encoder\n",
        "    cross_inp = [[query, passages[hit['corpus_id']]] for hit in hits]\n",
        "    # cross_scores = cross_encoder.predict(cross_inp, show_progress_bar=False)\n",
        "    cross_scores = reranker.compute_score(cross_inp, normalize=True)\n",
        "\n",
        "    # Gán điểm số của Cross-Encoder vào kết quả\n",
        "    for i, score in enumerate(cross_scores):\n",
        "        hits[i]['cross-score'] = score\n",
        "\n",
        "    # Sắp xếp lại kết quả theo điểm số của Cross-Encoder\n",
        "    hits = sorted(hits, key=lambda x: x['cross-score'], reverse=True)\n",
        "\n",
        "    # Hiển thị kết quả\n",
        "    # print(\"\\n **Top 3 results:**\")\n",
        "    # for hit in hits[:3]:\n",
        "    #     idx = hit['corpus_id']\n",
        "    #     print(f\"{hit['cross-score']:.3f} - {passages[idx]} - {article_ids[idx]} - {law_ids[idx]}\")\n",
        "    idx = hits[0]['corpus_id']\n",
        "    return article_ids[idx], law_ids[idx]"
      ]
    },
    {
      "cell_type": "code",
      "execution_count": null,
      "metadata": {
        "execution": {
          "iopub.execute_input": "2025-05-08T03:38:48.001246Z",
          "iopub.status.busy": "2025-05-08T03:38:48.000871Z",
          "iopub.status.idle": "2025-05-08T03:38:48.006298Z",
          "shell.execute_reply": "2025-05-08T03:38:48.005255Z",
          "shell.execute_reply.started": "2025-05-08T03:38:48.001212Z"
        },
        "id": "zYQrrYIQkxM7",
        "trusted": true
      },
      "outputs": [],
      "source": [
        "def predict(bi_encoder, cross_encoder, corpus_embeddings):\n",
        "    pred_law_ids = []\n",
        "    pred_article_ids = []\n",
        "    for question in tqdm(test_questions, desc=\"Processing: \"):\n",
        "        article_id, law_id = search(bi_encoder, cross_encoder, corpus_embeddings, question)\n",
        "        # article_id, law_id = search(pretrain_bi_encoder, reranker ,pretrain_corpus_embeddings, question)\n",
        "        pred_law_ids.append(law_id)\n",
        "        pred_article_ids.append(article_id)\n",
        "    return pred_law_ids, pred_article_ids"
      ]
    },
    {
      "cell_type": "code",
      "execution_count": null,
      "metadata": {
        "execution": {
          "iopub.execute_input": "2025-05-08T03:38:48.273108Z",
          "iopub.status.busy": "2025-05-08T03:38:48.272816Z",
          "iopub.status.idle": "2025-05-08T03:38:48.277802Z",
          "shell.execute_reply": "2025-05-08T03:38:48.276916Z",
          "shell.execute_reply.started": "2025-05-08T03:38:48.273084Z"
        },
        "id": "Sm4vdc9ekxM7",
        "trusted": true
      },
      "outputs": [],
      "source": [
        "def eval_accuracy(pred_law_ids, pred_article_ids):\n",
        "    correct_count = sum(\n",
        "        1 for true_law, true_article, pred_law, pred_article in zip(test_law_ids, test_article_ids, pred_law_ids, pred_article_ids)\n",
        "        if str(true_law).strip().lower() == str(pred_law).strip().lower()\n",
        "        and str(true_article).strip().lower() == str(pred_article).strip().lower()\n",
        "    )\n",
        "\n",
        "    accuracy = correct_count / len(test_law_ids)\n",
        "    return accuracy"
      ]
    },
    {
      "cell_type": "markdown",
      "metadata": {
        "id": "92IHK4XIkxM8"
      },
      "source": [
        "## Sử dụng pretrained model"
      ]
    },
    {
      "cell_type": "code",
      "execution_count": null,
      "metadata": {
        "colab": {
          "base_uri": "https://localhost:8080/",
          "referenced_widgets": [
            "ec6b353033ff4bfa8d538e12bb6b93d5",
            "4bfba952cb4b4631b4cc6cbdd52a5314"
          ]
        },
        "execution": {
          "iopub.execute_input": "2025-05-08T03:38:49.798337Z",
          "iopub.status.busy": "2025-05-08T03:38:49.798028Z",
          "iopub.status.idle": "2025-05-08T03:38:50.325058Z",
          "shell.execute_reply": "2025-05-08T03:38:50.324031Z",
          "shell.execute_reply.started": "2025-05-08T03:38:49.798311Z"
        },
        "id": "xFh2ybSJkxM8",
        "outputId": "c93ce3a4-1752-4f0e-cf2f-4fe4e4c24f13",
        "trusted": true
      },
      "outputs": [
        {
          "data": {
            "application/vnd.jupyter.widget-view+json": {
              "model_id": "ec6b353033ff4bfa8d538e12bb6b93d5",
              "version_major": 2,
              "version_minor": 0
            },
            "text/plain": [
              "Batches:   0%|          | 0/1 [00:00<?, ?it/s]"
            ]
          },
          "metadata": {},
          "output_type": "display_data"
        },
        {
          "data": {
            "application/vnd.jupyter.widget-view+json": {
              "model_id": "4bfba952cb4b4631b4cc6cbdd52a5314",
              "version_major": 2,
              "version_minor": 0
            },
            "text/plain": [
              "Batches:   0%|          | 0/1 [00:00<?, ?it/s]"
            ]
          },
          "metadata": {},
          "output_type": "display_data"
        },
        {
          "name": "stdout",
          "output_type": "stream",
          "text": [
            "(768,)\n",
            "Thời gian viên chức nghỉ thai sản có đánh giá chất lượng không?\n",
            " - 1. Việc đánh giá, xếp loại chất lượng cán bộ, công chức, viên chức được thực hiện theo từng năm công tác.\n",
            "Đối với cán bộ, công chức, viên chức chuyển công tác thì cơ quan, tổ chức, đơn vị mới có trách nhiệm đánh giá, xếp loại chất lượng. Trường hợp có thời gian công tác ở cơ quan, tổ chức, đơn vị cũ từ 06 tháng trở lên thì phải kết hợp với ý kiến nhận xét của cơ quan, tổ chức, đơn vị cũ, trừ trường hợp không còn cơ quan, tổ chức, đơn vị cũ.\n",
            "2. Thời điểm đánh giá, xếp loại chất lượng cán bộ, công chức, viên chức được tiến hành trước ngày 15 tháng 12 hàng năm, trước khi thực hiện việc đánh giá, xếp loại chất lượng đảng viên và tổng kết công tác bình xét thi đua, khen thưởng hàng năm của cơ quan, tổ chức, đơn vị.\n",
            "Đối với đơn vị sự nghiệp công lập hoạt động trong lĩnh vực giáo dục, đào tạo và một số lĩnh vực khác có thời điểm kết thúc năm công tác trước tháng 12 hàng năm thì người đứng đầu đơn vị sự nghiệp công lập quyết định thời điểm đánh giá, xếp loại chất lượng viên chức.\n",
            "3. Tại thời điểm đánh giá, xếp loại chất lượng, trường hợp vắng mặt có lý do chính đáng hoặc nghỉ ốm, nghỉ chế độ thai sản theo quy định của pháp luật, cán bộ, công chức, viên chức có trách nhiệm làm báo cáo tự đánh giá, nhận mức xếp loại kết quả công tác theo chức trách, nhiệm vụ được giao, gửi cơ quan, tổ chức, đơn vị đang công tác để thực hiện việc đánh giá, xếp loại chất lượng theo quy định tại Nghị định này.\n",
            "Căn cứ khoản 1 và khoản 2 Điều này và đặc thù của cơ quan, tổ chức, đơn vị, tập thể lãnh đạo cơ quan, tổ chức, đơn vị thống nhất với cấp ủy cùng cấp về việc kết hợp tổ chức cuộc họp đánh giá, xếp loại trong cơ quan, tổ chức, đơn vị mình, bảo đảm nghiêm túc, hiệu quả, tránh hình thức, lãng phí.: 0.3867\n",
            " - 1. Căn cứ điều kiện cụ thể của cơ quan, tổ chức, đơn vị, người đứng đầu cơ quan, tổ chức, đơn vị quản lý công chức, viên chức ban hành hoặc giao người đứng đầu cơ quan, tổ chức, đơn vị sử dụng công chức, viên chức ban hành Quy chế đánh giá phù hợp với đặc thù của cơ quan, tổ chức, đơn vị mình.\n",
            "Nội dung Quy chế phải xác định rõ sản phẩm cụ thể gắn với từng vị trí việc làm, tiêu chí đánh giá chất lượng, hiệu quả, thời điểm đánh giá theo quý, tháng hoặc tuần (nếu có); căn cứ để xác định tỉ lệ % mức độ hoàn thành công việc; các tiêu chí thành phần để đánh giá và xếp loại chất lượng cán bộ, công chức, viên chức, trong đó có tính đến tỷ lệ khối lượng công việc của cán bộ, công chức, viên chức đã thực hiện so với khối lượng công việc chung của cơ quan, tổ chức, đơn vị; khuyến khích áp dụng công nghệ thông tin để thực hiện đánh giá, xếp loại chất lượng cán bộ, công chức, viên chức, bảo đảm phù hợp với các quy định tại Nghị định này.\n",
            "Việc đánh giá, xếp loại chất lượng đối với người làm việc trong tổ chức cơ yếu thực hiện theo quy định của pháp luật về cơ yếu và không trái với nguyên tắc đánh giá, xếp loại cán bộ của cấp có thẩm quyền.\n",
            "2. Kết quả đánh giá của các năm trước năm 2020 được tính liên tục để áp dụng các quy định có liên quan đối với cán bộ, công chức, viên chức.\n",
            "3. Người đứng đầu cơ quan quản lý cán bộ, công chức, viên chức chịu trách nhiệm tổ chức thực hiện việc đánh giá, xếp loại chất lượng đối với cán bộ, công chức, viên chức hàng năm theo quy định tại Nghị định này; chịu trách nhiệm về số lượng, chất lượng công tác đánh giá, xếp loại chất lượng và gửi báo cáo kết quả đánh giá, xếp loại chất lượng cán bộ, công chức, viên chức thuộc thẩm quyền quản lý về Bộ Nội vụ để tổng hợp trước ngày 01 tháng 3 hàng năm.\n",
            "4. Bộ Nội vụ có trách nhiệm theo dõi, kiểm tra, tổng hợp, báo cáo Chính phủ, Thủ tướng Chính phủ kết quả đánh giá, xếp loại chất lượng cán bộ, công chức, viên chức hàng năm của các bộ, ngành, địa phương và công khai kết quả tổng hợp đánh giá, xếp loại chất lượng cán bộ, công chức, viên chức hàng năm.: 0.2914\n",
            " - Nghị định này quy định về công khai kết quả kiểm toán, kết quả thực hiện kết luận, kiến nghị kiểm toán của Kiểm toán Nhà nước (sau đây gọi tắt là công khai kết quả kiểm toán) và trách nhiệm của Kiểm toán Nhà nước; các cơ quan, đơn vị, tổ chức đã được kiểm toán; các Bộ, ngành, cơ quan, đơn vị, tổ chức và cá nhân có liên quan trong việc tổ chức công khai kết quả kiểm toán.: 0.1026\n"
          ]
        }
      ],
      "source": [
        "query = \"Thời gian viên chức nghỉ thai sản có đánh giá chất lượng không?\"\n",
        "sentences = [\n",
        "    \"1. Việc đánh giá, xếp loại chất lượng cán bộ, công chức, viên chức được thực hiện theo từng năm công tác.\\nĐối với cán bộ, công chức, viên chức chuyển công tác thì cơ quan, tổ chức, đơn vị mới có trách nhiệm đánh giá, xếp loại chất lượng. Trường hợp có thời gian công tác ở cơ quan, tổ chức, đơn vị cũ từ 06 tháng trở lên thì phải kết hợp với ý kiến nhận xét của cơ quan, tổ chức, đơn vị cũ, trừ trường hợp không còn cơ quan, tổ chức, đơn vị cũ.\\n2. Thời điểm đánh giá, xếp loại chất lượng cán bộ, công chức, viên chức được tiến hành trước ngày 15 tháng 12 hàng năm, trước khi thực hiện việc đánh giá, xếp loại chất lượng đảng viên và tổng kết công tác bình xét thi đua, khen thưởng hàng năm của cơ quan, tổ chức, đơn vị.\\nĐối với đơn vị sự nghiệp công lập hoạt động trong lĩnh vực giáo dục, đào tạo và một số lĩnh vực khác có thời điểm kết thúc năm công tác trước tháng 12 hàng năm thì người đứng đầu đơn vị sự nghiệp công lập quyết định thời điểm đánh giá, xếp loại chất lượng viên chức.\\n3. Tại thời điểm đánh giá, xếp loại chất lượng, trường hợp vắng mặt có lý do chính đáng hoặc nghỉ ốm, nghỉ chế độ thai sản theo quy định của pháp luật, cán bộ, công chức, viên chức có trách nhiệm làm báo cáo tự đánh giá, nhận mức xếp loại kết quả công tác theo chức trách, nhiệm vụ được giao, gửi cơ quan, tổ chức, đơn vị đang công tác để thực hiện việc đánh giá, xếp loại chất lượng theo quy định tại Nghị định này.\\nCăn cứ khoản 1 và khoản 2 Điều này và đặc thù của cơ quan, tổ chức, đơn vị, tập thể lãnh đạo cơ quan, tổ chức, đơn vị thống nhất với cấp ủy cùng cấp về việc kết hợp tổ chức cuộc họp đánh giá, xếp loại trong cơ quan, tổ chức, đơn vị mình, bảo đảm nghiêm túc, hiệu quả, tránh hình thức, lãng phí.\",\n",
        "    \"1. Căn cứ điều kiện cụ thể của cơ quan, tổ chức, đơn vị, người đứng đầu cơ quan, tổ chức, đơn vị quản lý công chức, viên chức ban hành hoặc giao người đứng đầu cơ quan, tổ chức, đơn vị sử dụng công chức, viên chức ban hành Quy chế đánh giá phù hợp với đặc thù của cơ quan, tổ chức, đơn vị mình.\\nNội dung Quy chế phải xác định rõ sản phẩm cụ thể gắn với từng vị trí việc làm, tiêu chí đánh giá chất lượng, hiệu quả, thời điểm đánh giá theo quý, tháng hoặc tuần (nếu có); căn cứ để xác định tỉ lệ % mức độ hoàn thành công việc; các tiêu chí thành phần để đánh giá và xếp loại chất lượng cán bộ, công chức, viên chức, trong đó có tính đến tỷ lệ khối lượng công việc của cán bộ, công chức, viên chức đã thực hiện so với khối lượng công việc chung của cơ quan, tổ chức, đơn vị; khuyến khích áp dụng công nghệ thông tin để thực hiện đánh giá, xếp loại chất lượng cán bộ, công chức, viên chức, bảo đảm phù hợp với các quy định tại Nghị định này.\\nViệc đánh giá, xếp loại chất lượng đối với người làm việc trong tổ chức cơ yếu thực hiện theo quy định của pháp luật về cơ yếu và không trái với nguyên tắc đánh giá, xếp loại cán bộ của cấp có thẩm quyền.\\n2. Kết quả đánh giá của các năm trước năm 2020 được tính liên tục để áp dụng các quy định có liên quan đối với cán bộ, công chức, viên chức.\\n3. Người đứng đầu cơ quan quản lý cán bộ, công chức, viên chức chịu trách nhiệm tổ chức thực hiện việc đánh giá, xếp loại chất lượng đối với cán bộ, công chức, viên chức hàng năm theo quy định tại Nghị định này; chịu trách nhiệm về số lượng, chất lượng công tác đánh giá, xếp loại chất lượng và gửi báo cáo kết quả đánh giá, xếp loại chất lượng cán bộ, công chức, viên chức thuộc thẩm quyền quản lý về Bộ Nội vụ để tổng hợp trước ngày 01 tháng 3 hàng năm.\\n4. Bộ Nội vụ có trách nhiệm theo dõi, kiểm tra, tổng hợp, báo cáo Chính phủ, Thủ tướng Chính phủ kết quả đánh giá, xếp loại chất lượng cán bộ, công chức, viên chức hàng năm của các bộ, ngành, địa phương và công khai kết quả tổng hợp đánh giá, xếp loại chất lượng cán bộ, công chức, viên chức hàng năm.\",\n",
        "    \"Nghị định này quy định về công khai kết quả kiểm toán, kết quả thực hiện kết luận, kiến nghị kiểm toán của Kiểm toán Nhà nước (sau đây gọi tắt là công khai kết quả kiểm toán) và trách nhiệm của Kiểm toán Nhà nước; các cơ quan, đơn vị, tổ chức đã được kiểm toán; các Bộ, ngành, cơ quan, đơn vị, tổ chức và cá nhân có liên quan trong việc tổ chức công khai kết quả kiểm toán.\",\n",
        "]\n",
        "# Calculate embeddings by calling model.encode()\n",
        "embeddings1 = pretrain_bi_encoder.encode(query)\n",
        "embeddings2 = pretrain_bi_encoder.encode(sentences)\n",
        "print(embeddings1.shape)\n",
        "\n",
        "# Output the pairs with their score\n",
        "similarities = pretrain_bi_encoder.similarity(embeddings1, embeddings2)\n",
        "print(query)\n",
        "for idx_j, sentence in enumerate(sentences):\n",
        "    print(f\" - {sentence: <30}: {similarities[0][idx_j]:.4f}\")"
      ]
    },
    {
      "cell_type": "code",
      "execution_count": null,
      "metadata": {
        "colab": {
          "background_save": true,
          "base_uri": "https://localhost:8080/",
          "height": 49,
          "referenced_widgets": [
            "b12367360d4a4be7bab8059e52511183",
            "37a3d2a331a44d978a7b51d21a907b97",
            "9e67e76714a2412c8530481c66fbf9c2",
            "029a10472ed842d48d2d761034ccb187",
            "5273febc59c544f2b7f9b07324ba1ef3",
            "1e43ee5427054ba78291d42d91b62f15",
            "f4e3287e316f4118be6f47b5e8679bd7",
            "7d74ca7063824d8aaeefe6fb697271a8",
            "8d713ed7b7ac4d3d9aa93d906fd46e53",
            "39751d8b870b4f9894f9c5854016910d",
            "c978f7ea124c458f8b3d41866fefa0d0",
            "4c23b73bb7644d48b24efa30c50e84c4"
          ]
        },
        "execution": {
          "iopub.execute_input": "2025-05-08T03:38:51.026894Z",
          "iopub.status.busy": "2025-05-08T03:38:51.026500Z",
          "iopub.status.idle": "2025-05-08T03:49:25.780367Z",
          "shell.execute_reply": "2025-05-08T03:49:25.779496Z",
          "shell.execute_reply.started": "2025-05-08T03:38:51.026864Z"
        },
        "id": "qDXyBtkMkxM8",
        "outputId": "9de38dd4-7067-4abb-b6ae-19908808c9ca",
        "trusted": true
      },
      "outputs": [
        {
          "data": {
            "application/vnd.jupyter.widget-view+json": {
              "model_id": "4c23b73bb7644d48b24efa30c50e84c4",
              "version_major": 2,
              "version_minor": 0
            },
            "text/plain": [
              "Batches:   0%|          | 0/1901 [00:00<?, ?it/s]"
            ]
          },
          "metadata": {},
          "output_type": "display_data"
        }
      ],
      "source": [
        "pretrain_corpus_embeddings = embed_copus(pretrain_bi_encoder)"
      ]
    },
    {
      "cell_type": "code",
      "execution_count": null,
      "metadata": {
        "colab": {
          "background_save": true
        },
        "execution": {
          "iopub.execute_input": "2025-05-08T03:51:14.513801Z",
          "iopub.status.busy": "2025-05-08T03:51:14.513424Z",
          "iopub.status.idle": "2025-05-08T03:51:15.850264Z",
          "shell.execute_reply": "2025-05-08T03:51:15.849190Z",
          "shell.execute_reply.started": "2025-05-08T03:51:14.513773Z"
        },
        "id": "qLPmyVJskxNL",
        "outputId": "e2c68366-99d8-4264-bfdd-140c112279bd",
        "trusted": true
      },
      "outputs": [
        {
          "name": "stderr",
          "output_type": "stream",
          "text": [
            "Chunks: 100%|██████████| 2/2 [00:01<00:00,  1.76it/s]\n"
          ]
        },
        {
          "data": {
            "text/plain": [
              "('13', '03/2015/nđ-cp')"
            ]
          },
          "execution_count": 25,
          "metadata": {},
          "output_type": "execute_result"
        }
      ],
      "source": [
        "query = \"Nguyên tắc xác định tổ chức, cá nhân làm môi trường bị ô nhiễm, suy thoái theo quy định của pháp luật\"\n",
        "# search(pretrain_bi_encoder, pretrain_cross_encoder,pretrain_corpus_embeddings, query)\n",
        "search(pretrain_bi_encoder, reranker,pretrain_corpus_embeddings, query)"
      ]
    },
    {
      "cell_type": "code",
      "execution_count": null,
      "metadata": {
        "collapsed": true,
        "execution": {
          "iopub.execute_input": "2025-05-08T03:51:18.277034Z",
          "iopub.status.busy": "2025-05-08T03:51:18.276660Z",
          "iopub.status.idle": "2025-05-08T04:02:01.724622Z",
          "shell.execute_reply": "2025-05-08T04:02:01.723763Z",
          "shell.execute_reply.started": "2025-05-08T03:51:18.276976Z"
        },
        "id": "P6dstb9NkxNM",
        "outputId": "6075b1af-ba11-4a8e-f9f2-f3d3598f9c7b",
        "trusted": true
      },
      "outputs": [
        {
          "name": "stderr",
          "output_type": "stream",
          "text": [
            "Processing:   0%|          | 0/511 [00:00<?, ?it/s]\n",
            "Chunks:   0%|          | 0/2 [00:00<?, ?it/s]\u001b[A\n",
            "Chunks: 100%|██████████| 2/2 [00:01<00:00,  1.79it/s]\u001b[A\n",
            "Processing:   0%|          | 1/511 [00:01<09:42,  1.14s/it]\n",
            "Chunks:   0%|          | 0/2 [00:00<?, ?it/s]\u001b[A\n",
            "Chunks: 100%|██████████| 2/2 [00:01<00:00,  1.88it/s]\u001b[A\n",
            "Processing:   0%|          | 2/511 [00:02<09:25,  1.11s/it]\n",
            "Chunks:   0%|          | 0/2 [00:00<?, ?it/s]\u001b[A\n",
            "Chunks: 100%|██████████| 2/2 [00:01<00:00,  1.85it/s]\u001b[A\n",
            "Processing:   1%|          | 3/511 [00:03<09:24,  1.11s/it]\n",
            "Chunks:   0%|          | 0/2 [00:00<?, ?it/s]\u001b[A\n",
            "Chunks: 100%|██████████| 2/2 [00:01<00:00,  1.78it/s]\u001b[A\n",
            "Processing:   1%|          | 4/511 [00:04<09:31,  1.13s/it]\n",
            "Chunks:   0%|          | 0/2 [00:00<?, ?it/s]\u001b[A\n",
            "Chunks: 100%|██████████| 2/2 [00:01<00:00,  1.80it/s]\u001b[A\n",
            "Processing:   1%|          | 5/511 [00:05<09:31,  1.13s/it]\n",
            "Chunks:   0%|          | 0/2 [00:00<?, ?it/s]\u001b[A\n",
            "Chunks: 100%|██████████| 2/2 [00:01<00:00,  1.82it/s]\u001b[A\n",
            "Processing:   1%|          | 6/511 [00:06<09:29,  1.13s/it]\n",
            "Chunks:   0%|          | 0/2 [00:00<?, ?it/s]\u001b[A\n",
            "Chunks: 100%|██████████| 2/2 [00:01<00:00,  1.84it/s]\u001b[A\n",
            "Processing:   1%|▏         | 7/511 [00:07<09:32,  1.14s/it]\n",
            "Chunks:   0%|          | 0/2 [00:00<?, ?it/s]\u001b[A\n",
            "Chunks: 100%|██████████| 2/2 [00:01<00:00,  1.78it/s]\u001b[A\n",
            "Processing:   2%|▏         | 8/511 [00:09<09:34,  1.14s/it]\n",
            "Chunks:   0%|          | 0/2 [00:00<?, ?it/s]\u001b[A\n",
            "Chunks: 100%|██████████| 2/2 [00:01<00:00,  1.76it/s]\u001b[A\n",
            "Processing:   2%|▏         | 9/511 [00:10<09:38,  1.15s/it]\n",
            "Chunks:   0%|          | 0/2 [00:00<?, ?it/s]\u001b[A\n",
            "Chunks: 100%|██████████| 2/2 [00:01<00:00,  1.82it/s]\u001b[A\n",
            "Processing:   2%|▏         | 10/511 [00:11<09:32,  1.14s/it]\n",
            "Chunks:   0%|          | 0/2 [00:00<?, ?it/s]\u001b[A\n",
            "Chunks: 100%|██████████| 2/2 [00:01<00:00,  1.82it/s]\u001b[A\n",
            "Processing:   2%|▏         | 11/511 [00:12<09:27,  1.14s/it]\n",
            "Chunks:   0%|          | 0/2 [00:00<?, ?it/s]\u001b[A\n",
            "Chunks: 100%|██████████| 2/2 [00:01<00:00,  1.78it/s]\u001b[A\n",
            "Processing:   2%|▏         | 12/511 [00:13<09:28,  1.14s/it]\n",
            "Chunks:   0%|          | 0/2 [00:00<?, ?it/s]\u001b[A\n",
            "Chunks: 100%|██████████| 2/2 [00:01<00:00,  1.81it/s]\u001b[A\n",
            "Processing:   3%|▎         | 13/511 [00:14<09:26,  1.14s/it]\n",
            "Chunks:   0%|          | 0/2 [00:00<?, ?it/s]\u001b[A\n",
            "Chunks: 100%|██████████| 2/2 [00:01<00:00,  1.79it/s]\u001b[A\n",
            "Processing:   3%|▎         | 14/511 [00:15<09:26,  1.14s/it]\n",
            "Chunks:   0%|          | 0/2 [00:00<?, ?it/s]\u001b[A\n",
            "Chunks: 100%|██████████| 2/2 [00:01<00:00,  1.77it/s]\u001b[A\n",
            "Processing:   3%|▎         | 15/511 [00:17<09:28,  1.15s/it]\n",
            "Chunks:   0%|          | 0/2 [00:00<?, ?it/s]\u001b[A\n",
            "Chunks: 100%|██████████| 2/2 [00:01<00:00,  1.79it/s]\u001b[A\n",
            "Processing:   3%|▎         | 16/511 [00:18<09:27,  1.15s/it]\n",
            "Chunks:   0%|          | 0/2 [00:00<?, ?it/s]\u001b[A\n",
            "Chunks: 100%|██████████| 2/2 [00:01<00:00,  1.80it/s]\u001b[A\n",
            "Processing:   3%|▎         | 17/511 [00:19<09:24,  1.14s/it]\n",
            "Chunks:   0%|          | 0/2 [00:00<?, ?it/s]\u001b[A\n",
            "Chunks: 100%|██████████| 2/2 [00:01<00:00,  1.67it/s]\u001b[A\n",
            "Processing:   4%|▎         | 18/511 [00:20<09:35,  1.17s/it]\n",
            "Chunks:   0%|          | 0/2 [00:00<?, ?it/s]\u001b[A\n",
            "Chunks: 100%|██████████| 2/2 [00:01<00:00,  1.79it/s]\u001b[A\n",
            "Processing:   4%|▎         | 19/511 [00:21<09:30,  1.16s/it]\n",
            "Chunks:   0%|          | 0/2 [00:00<?, ?it/s]\u001b[A\n",
            "Chunks: 100%|██████████| 2/2 [00:01<00:00,  1.73it/s]\u001b[A\n",
            "Processing:   4%|▍         | 20/511 [00:22<09:32,  1.17s/it]\n",
            "Chunks:   0%|          | 0/2 [00:00<?, ?it/s]\u001b[A\n",
            "Chunks: 100%|██████████| 2/2 [00:01<00:00,  1.74it/s]\u001b[A\n",
            "Processing:   4%|▍         | 21/511 [00:24<09:32,  1.17s/it]\n",
            "Chunks:   0%|          | 0/2 [00:00<?, ?it/s]\u001b[A\n",
            "Chunks:  50%|█████     | 1/2 [00:00<00:00,  1.01it/s]\u001b[A\n",
            "Chunks: 100%|██████████| 2/2 [00:01<00:00,  1.83it/s]\u001b[A\n",
            "Processing:   4%|▍         | 22/511 [00:25<09:23,  1.15s/it]\n",
            "Chunks:   0%|          | 0/2 [00:00<?, ?it/s]\u001b[A\n",
            "Chunks: 100%|██████████| 2/2 [00:01<00:00,  1.71it/s]\u001b[A\n",
            "Processing:   5%|▍         | 23/511 [00:26<09:28,  1.17s/it]\n",
            "Chunks:   0%|          | 0/2 [00:00<?, ?it/s]\u001b[A\n",
            "Chunks: 100%|██████████| 2/2 [00:01<00:00,  1.76it/s]\u001b[A\n",
            "Processing:   5%|▍         | 24/511 [00:27<09:26,  1.16s/it]\n",
            "Chunks:   0%|          | 0/2 [00:00<?, ?it/s]\u001b[A\n",
            "Chunks: 100%|██████████| 2/2 [00:01<00:00,  1.69it/s]\u001b[A\n",
            "Processing:   5%|▍         | 25/511 [00:28<09:31,  1.18s/it]\n",
            "Chunks:   0%|          | 0/2 [00:00<?, ?it/s]\u001b[A\n",
            "Chunks: 100%|██████████| 2/2 [00:01<00:00,  1.74it/s]\u001b[A\n",
            "Processing:   5%|▌         | 26/511 [00:29<09:30,  1.18s/it]\n",
            "Chunks:   0%|          | 0/2 [00:00<?, ?it/s]\u001b[A\n",
            "Chunks: 100%|██████████| 2/2 [00:01<00:00,  1.73it/s]\u001b[A\n",
            "Processing:   5%|▌         | 27/511 [00:31<09:29,  1.18s/it]\n",
            "Chunks:   0%|          | 0/2 [00:00<?, ?it/s]\u001b[A\n",
            "Chunks: 100%|██████████| 2/2 [00:01<00:00,  1.66it/s]\u001b[A\n",
            "Processing:   5%|▌         | 28/511 [00:32<09:36,  1.19s/it]\n",
            "Chunks:   0%|          | 0/2 [00:00<?, ?it/s]\u001b[A\n",
            "Chunks: 100%|██████████| 2/2 [00:01<00:00,  1.58it/s]\u001b[A\n",
            "Processing:   6%|▌         | 29/511 [00:33<09:48,  1.22s/it]\n",
            "Chunks:   0%|          | 0/2 [00:00<?, ?it/s]\u001b[A\n",
            "Chunks: 100%|██████████| 2/2 [00:01<00:00,  1.68it/s]\u001b[A\n",
            "Processing:   6%|▌         | 30/511 [00:34<09:47,  1.22s/it]\n",
            "Chunks:   0%|          | 0/2 [00:00<?, ?it/s]\u001b[A\n",
            "Chunks: 100%|██████████| 2/2 [00:01<00:00,  1.67it/s]\u001b[A\n",
            "Processing:   6%|▌         | 31/511 [00:36<09:45,  1.22s/it]\n",
            "Chunks:   0%|          | 0/2 [00:00<?, ?it/s]\u001b[A\n",
            "Chunks: 100%|██████████| 2/2 [00:01<00:00,  1.70it/s]\u001b[A\n",
            "Processing:   6%|▋         | 32/511 [00:37<09:42,  1.22s/it]\n",
            "Chunks:   0%|          | 0/2 [00:00<?, ?it/s]\u001b[A\n",
            "Chunks: 100%|██████████| 2/2 [00:01<00:00,  1.69it/s]\u001b[A\n",
            "Processing:   6%|▋         | 33/511 [00:38<09:40,  1.21s/it]\n",
            "Chunks:   0%|          | 0/2 [00:00<?, ?it/s]\u001b[A\n",
            "Chunks: 100%|██████████| 2/2 [00:01<00:00,  1.72it/s]\u001b[A\n",
            "Processing:   7%|▋         | 34/511 [00:39<09:35,  1.21s/it]\n",
            "Chunks:   0%|          | 0/2 [00:00<?, ?it/s]\u001b[A\n",
            "Chunks: 100%|██████████| 2/2 [00:01<00:00,  1.78it/s]\u001b[A\n",
            "Processing:   7%|▋         | 35/511 [00:40<09:25,  1.19s/it]\n",
            "Chunks:   0%|          | 0/2 [00:00<?, ?it/s]\u001b[A\n",
            "Chunks: 100%|██████████| 2/2 [00:01<00:00,  1.64it/s]\u001b[A\n",
            "Processing:   7%|▋         | 36/511 [00:42<09:33,  1.21s/it]\n",
            "Chunks:   0%|          | 0/2 [00:00<?, ?it/s]\u001b[A\n",
            "Chunks: 100%|██████████| 2/2 [00:01<00:00,  1.77it/s]\u001b[A\n",
            "Processing:   7%|▋         | 37/511 [00:43<09:25,  1.19s/it]\n",
            "Chunks:   0%|          | 0/2 [00:00<?, ?it/s]\u001b[A\n",
            "Chunks: 100%|██████████| 2/2 [00:01<00:00,  1.76it/s]\u001b[A\n",
            "Processing:   7%|▋         | 38/511 [00:44<09:19,  1.18s/it]\n",
            "Chunks:   0%|          | 0/2 [00:00<?, ?it/s]\u001b[A\n",
            "Chunks: 100%|██████████| 2/2 [00:01<00:00,  1.74it/s]\u001b[A\n",
            "Processing:   8%|▊         | 39/511 [00:45<09:17,  1.18s/it]\n",
            "Chunks:   0%|          | 0/2 [00:00<?, ?it/s]\u001b[A\n",
            "Chunks: 100%|██████████| 2/2 [00:01<00:00,  1.73it/s]\u001b[A\n",
            "Processing:   8%|▊         | 40/511 [00:46<09:16,  1.18s/it]\n",
            "Chunks:   0%|          | 0/2 [00:00<?, ?it/s]\u001b[A\n",
            "Chunks: 100%|██████████| 2/2 [00:01<00:00,  1.77it/s]\u001b[A\n",
            "Processing:   8%|▊         | 41/511 [00:47<09:11,  1.17s/it]\n",
            "Chunks:   0%|          | 0/2 [00:00<?, ?it/s]\u001b[A\n",
            "Chunks: 100%|██████████| 2/2 [00:01<00:00,  1.69it/s]\u001b[A\n",
            "Processing:   8%|▊         | 42/511 [00:49<09:15,  1.18s/it]\n",
            "Chunks:   0%|          | 0/2 [00:00<?, ?it/s]\u001b[A\n",
            "Chunks: 100%|██████████| 2/2 [00:01<00:00,  1.70it/s]\u001b[A\n",
            "Processing:   8%|▊         | 43/511 [00:50<09:16,  1.19s/it]\n",
            "Chunks:   0%|          | 0/2 [00:00<?, ?it/s]\u001b[A\n",
            "Chunks: 100%|██████████| 2/2 [00:01<00:00,  1.83it/s]\u001b[A\n",
            "Processing:   9%|▊         | 44/511 [00:51<09:05,  1.17s/it]\n",
            "Chunks:   0%|          | 0/2 [00:00<?, ?it/s]\u001b[A\n",
            "Chunks: 100%|██████████| 2/2 [00:01<00:00,  1.68it/s]\u001b[A\n",
            "Processing:   9%|▉         | 45/511 [00:52<09:10,  1.18s/it]\n",
            "Chunks:   0%|          | 0/2 [00:00<?, ?it/s]\u001b[A\n",
            "Chunks: 100%|██████████| 2/2 [00:01<00:00,  1.75it/s]\u001b[A\n",
            "Processing:   9%|▉         | 46/511 [00:53<09:07,  1.18s/it]\n",
            "Chunks:   0%|          | 0/2 [00:00<?, ?it/s]\u001b[A\n",
            "Chunks: 100%|██████████| 2/2 [00:01<00:00,  1.73it/s]\u001b[A\n",
            "Processing:   9%|▉         | 47/511 [00:54<09:06,  1.18s/it]\n",
            "Chunks:   0%|          | 0/2 [00:00<?, ?it/s]\u001b[A\n",
            "Chunks: 100%|██████████| 2/2 [00:01<00:00,  1.78it/s]\u001b[A\n",
            "Processing:   9%|▉         | 48/511 [00:56<09:01,  1.17s/it]\n",
            "Chunks:   0%|          | 0/2 [00:00<?, ?it/s]\u001b[A\n",
            "Chunks: 100%|██████████| 2/2 [00:01<00:00,  1.83it/s]\u001b[A\n",
            "Processing:  10%|▉         | 49/511 [00:57<08:52,  1.15s/it]\n",
            "Chunks:   0%|          | 0/2 [00:00<?, ?it/s]\u001b[A\n",
            "Chunks: 100%|██████████| 2/2 [00:01<00:00,  1.72it/s]\u001b[A\n",
            "Processing:  10%|▉         | 50/511 [00:58<08:56,  1.16s/it]\n",
            "Chunks:   0%|          | 0/2 [00:00<?, ?it/s]\u001b[A\n",
            "Chunks: 100%|██████████| 2/2 [00:01<00:00,  1.76it/s]\u001b[A\n",
            "Processing:  10%|▉         | 51/511 [00:59<08:55,  1.16s/it]\n",
            "Chunks:   0%|          | 0/2 [00:00<?, ?it/s]\u001b[A\n",
            "Chunks: 100%|██████████| 2/2 [00:01<00:00,  1.75it/s]\u001b[A\n",
            "Processing:  10%|█         | 52/511 [01:00<08:55,  1.17s/it]\n",
            "Chunks:   0%|          | 0/2 [00:00<?, ?it/s]\u001b[A\n",
            "Chunks: 100%|██████████| 2/2 [00:01<00:00,  1.78it/s]\u001b[A\n",
            "Processing:  10%|█         | 53/511 [01:01<08:51,  1.16s/it]\n",
            "Chunks:   0%|          | 0/2 [00:00<?, ?it/s]\u001b[A\n",
            "Chunks: 100%|██████████| 2/2 [00:01<00:00,  1.77it/s]\u001b[A\n",
            "Processing:  11%|█         | 54/511 [01:03<08:50,  1.16s/it]\n",
            "Chunks:   0%|          | 0/2 [00:00<?, ?it/s]\u001b[A\n",
            "Chunks: 100%|██████████| 2/2 [00:01<00:00,  1.72it/s]\u001b[A\n",
            "Processing:  11%|█         | 55/511 [01:04<08:52,  1.17s/it]\n",
            "Chunks:   0%|          | 0/2 [00:00<?, ?it/s]\u001b[A\n",
            "Chunks: 100%|██████████| 2/2 [00:01<00:00,  1.68it/s]\u001b[A\n",
            "Processing:  11%|█         | 56/511 [01:05<08:58,  1.18s/it]\n",
            "Chunks:   0%|          | 0/2 [00:00<?, ?it/s]\u001b[A\n",
            "Chunks: 100%|██████████| 2/2 [00:01<00:00,  1.76it/s]\u001b[A\n",
            "Processing:  11%|█         | 57/511 [01:06<08:53,  1.18s/it]\n",
            "Chunks:   0%|          | 0/2 [00:00<?, ?it/s]\u001b[A\n",
            "Chunks: 100%|██████████| 2/2 [00:01<00:00,  1.83it/s]\u001b[A\n",
            "Processing:  11%|█▏        | 58/511 [01:07<08:45,  1.16s/it]\n",
            "Chunks:   0%|          | 0/2 [00:00<?, ?it/s]\u001b[A\n",
            "Chunks: 100%|██████████| 2/2 [00:01<00:00,  1.79it/s]\u001b[A\n",
            "Processing:  12%|█▏        | 59/511 [01:08<08:41,  1.15s/it]\n",
            "Chunks:   0%|          | 0/2 [00:00<?, ?it/s]\u001b[A\n",
            "Chunks: 100%|██████████| 2/2 [00:01<00:00,  1.69it/s]\u001b[A\n",
            "Processing:  12%|█▏        | 60/511 [01:10<08:48,  1.17s/it]\n",
            "Chunks:   0%|          | 0/2 [00:00<?, ?it/s]\u001b[A\n",
            "Chunks: 100%|██████████| 2/2 [00:01<00:00,  1.80it/s]\u001b[A\n",
            "Processing:  12%|█▏        | 61/511 [01:11<08:43,  1.16s/it]\n",
            "Chunks:   0%|          | 0/2 [00:00<?, ?it/s]\u001b[A\n",
            "Chunks: 100%|██████████| 2/2 [00:01<00:00,  1.79it/s]\u001b[A\n",
            "Processing:  12%|█▏        | 62/511 [01:12<08:39,  1.16s/it]\n",
            "Chunks:   0%|          | 0/2 [00:00<?, ?it/s]\u001b[A\n",
            "Chunks: 100%|██████████| 2/2 [00:01<00:00,  1.77it/s]\u001b[A\n",
            "Processing:  12%|█▏        | 63/511 [01:13<08:39,  1.16s/it]\n",
            "Chunks:   0%|          | 0/2 [00:00<?, ?it/s]\u001b[A\n",
            "Chunks:  50%|█████     | 1/2 [00:01<00:01,  1.15s/it]\u001b[A\n",
            "Chunks: 100%|██████████| 2/2 [00:01<00:00,  1.60it/s]\u001b[A\n",
            "Processing:  13%|█▎        | 64/511 [01:14<08:54,  1.19s/it]\n",
            "Chunks:   0%|          | 0/2 [00:00<?, ?it/s]\u001b[A\n",
            "Chunks: 100%|██████████| 2/2 [00:01<00:00,  1.80it/s]\u001b[A\n",
            "Processing:  13%|█▎        | 65/511 [01:15<08:45,  1.18s/it]\n",
            "Chunks:   0%|          | 0/2 [00:00<?, ?it/s]\u001b[A\n",
            "Chunks: 100%|██████████| 2/2 [00:01<00:00,  1.78it/s]\u001b[A\n",
            "Processing:  13%|█▎        | 66/511 [01:17<08:39,  1.17s/it]\n",
            "Chunks:   0%|          | 0/2 [00:00<?, ?it/s]\u001b[A\n",
            "Chunks: 100%|██████████| 2/2 [00:01<00:00,  1.75it/s]\u001b[A\n",
            "Processing:  13%|█▎        | 67/511 [01:18<08:38,  1.17s/it]\n",
            "Chunks:   0%|          | 0/2 [00:00<?, ?it/s]\u001b[A\n",
            "Chunks: 100%|██████████| 2/2 [00:01<00:00,  1.82it/s]\u001b[A\n",
            "Processing:  13%|█▎        | 68/511 [01:19<08:31,  1.16s/it]\n",
            "Chunks:   0%|          | 0/2 [00:00<?, ?it/s]\u001b[A\n",
            "Chunks: 100%|██████████| 2/2 [00:01<00:00,  1.71it/s]\u001b[A\n",
            "Processing:  14%|█▎        | 69/511 [01:20<08:35,  1.17s/it]\n",
            "Chunks:   0%|          | 0/2 [00:00<?, ?it/s]\u001b[A\n",
            "Chunks: 100%|██████████| 2/2 [00:01<00:00,  1.80it/s]\u001b[A\n",
            "Processing:  14%|█▎        | 70/511 [01:21<08:30,  1.16s/it]\n",
            "Chunks:   0%|          | 0/2 [00:00<?, ?it/s]\u001b[A\n",
            "Chunks: 100%|██████████| 2/2 [00:01<00:00,  1.76it/s]\u001b[A\n",
            "Processing:  14%|█▍        | 71/511 [01:22<08:30,  1.16s/it]\n",
            "Chunks:   0%|          | 0/2 [00:00<?, ?it/s]\u001b[A\n",
            "Chunks: 100%|██████████| 2/2 [00:01<00:00,  1.81it/s]\u001b[A\n",
            "Processing:  14%|█▍        | 72/511 [01:24<08:24,  1.15s/it]\n",
            "Chunks:   0%|          | 0/2 [00:00<?, ?it/s]\u001b[A\n",
            "Chunks: 100%|██████████| 2/2 [00:01<00:00,  1.76it/s]\u001b[A\n",
            "Processing:  14%|█▍        | 73/511 [01:25<08:25,  1.15s/it]\n",
            "Chunks:   0%|          | 0/2 [00:00<?, ?it/s]\u001b[A\n",
            "Chunks: 100%|██████████| 2/2 [00:01<00:00,  1.69it/s]\u001b[A\n",
            "Processing:  14%|█▍        | 74/511 [01:26<08:31,  1.17s/it]\n",
            "Chunks:   0%|          | 0/2 [00:00<?, ?it/s]\u001b[A\n",
            "Chunks: 100%|██████████| 2/2 [00:01<00:00,  1.72it/s]\u001b[A\n",
            "Processing:  15%|█▍        | 75/511 [01:27<08:33,  1.18s/it]\n",
            "Chunks:   0%|          | 0/2 [00:00<?, ?it/s]\u001b[A\n",
            "Chunks: 100%|██████████| 2/2 [00:01<00:00,  1.73it/s]\u001b[A\n",
            "Processing:  15%|█▍        | 76/511 [01:28<08:32,  1.18s/it]\n",
            "Chunks:   0%|          | 0/2 [00:00<?, ?it/s]\u001b[A\n",
            "Chunks: 100%|██████████| 2/2 [00:01<00:00,  1.74it/s]\u001b[A\n",
            "Processing:  15%|█▌        | 77/511 [01:29<08:31,  1.18s/it]\n",
            "Chunks:   0%|          | 0/2 [00:00<?, ?it/s]\u001b[A\n",
            "Chunks:  50%|█████     | 1/2 [00:00<00:00,  1.00it/s]\u001b[A\n",
            "Chunks: 100%|██████████| 2/2 [00:01<00:00,  1.78it/s]\u001b[A\n",
            "Processing:  15%|█▌        | 78/511 [01:31<08:26,  1.17s/it]\n",
            "Chunks:   0%|          | 0/2 [00:00<?, ?it/s]\u001b[A\n",
            "Chunks: 100%|██████████| 2/2 [00:01<00:00,  1.72it/s]\u001b[A\n",
            "Processing:  15%|█▌        | 79/511 [01:32<08:27,  1.18s/it]\n",
            "Chunks:   0%|          | 0/2 [00:00<?, ?it/s]\u001b[A\n",
            "Chunks: 100%|██████████| 2/2 [00:01<00:00,  1.77it/s]\u001b[A\n",
            "Processing:  16%|█▌        | 80/511 [01:33<08:24,  1.17s/it]\n",
            "Chunks:   0%|          | 0/2 [00:00<?, ?it/s]\u001b[A\n",
            "Chunks: 100%|██████████| 2/2 [00:01<00:00,  1.72it/s]\u001b[A\n",
            "Processing:  16%|█▌        | 81/511 [01:34<08:26,  1.18s/it]\n",
            "Chunks:   0%|          | 0/2 [00:00<?, ?it/s]\u001b[A\n",
            "Chunks: 100%|██████████| 2/2 [00:01<00:00,  1.74it/s]\u001b[A\n",
            "Processing:  16%|█▌        | 82/511 [01:35<08:24,  1.18s/it]\n",
            "Chunks:   0%|          | 0/2 [00:00<?, ?it/s]\u001b[A\n",
            "Chunks: 100%|██████████| 2/2 [00:01<00:00,  1.69it/s]\u001b[A\n",
            "Processing:  16%|█▌        | 83/511 [01:37<08:28,  1.19s/it]\n",
            "Chunks:   0%|          | 0/2 [00:00<?, ?it/s]\u001b[A\n",
            "Chunks: 100%|██████████| 2/2 [00:01<00:00,  1.65it/s]\u001b[A\n",
            "Processing:  16%|█▋        | 84/511 [01:38<08:33,  1.20s/it]\n",
            "Chunks:   0%|          | 0/2 [00:00<?, ?it/s]\u001b[A\n",
            "Chunks: 100%|██████████| 2/2 [00:01<00:00,  1.73it/s]\u001b[A\n",
            "Processing:  17%|█▋        | 85/511 [01:39<08:29,  1.20s/it]\n",
            "Chunks:   0%|          | 0/2 [00:00<?, ?it/s]\u001b[A\n",
            "Chunks: 100%|██████████| 2/2 [00:01<00:00,  1.83it/s]\u001b[A\n",
            "Processing:  17%|█▋        | 86/511 [01:40<08:18,  1.17s/it]\n",
            "Chunks:   0%|          | 0/2 [00:00<?, ?it/s]\u001b[A\n",
            "Chunks: 100%|██████████| 2/2 [00:01<00:00,  1.66it/s]\u001b[A\n",
            "Processing:  17%|█▋        | 87/511 [01:41<08:24,  1.19s/it]\n",
            "Chunks:   0%|          | 0/2 [00:00<?, ?it/s]\u001b[A\n",
            "Chunks: 100%|██████████| 2/2 [00:01<00:00,  1.73it/s]\u001b[A\n",
            "Processing:  17%|█▋        | 88/511 [01:42<08:22,  1.19s/it]\n",
            "Chunks:   0%|          | 0/2 [00:00<?, ?it/s]\u001b[A\n",
            "Chunks: 100%|██████████| 2/2 [00:01<00:00,  1.72it/s]\u001b[A\n",
            "Processing:  17%|█▋        | 89/511 [01:44<08:20,  1.19s/it]\n",
            "Chunks:   0%|          | 0/2 [00:00<?, ?it/s]\u001b[A\n",
            "Chunks: 100%|██████████| 2/2 [00:01<00:00,  1.72it/s]\u001b[A\n",
            "Processing:  18%|█▊        | 90/511 [01:45<08:20,  1.19s/it]\n",
            "Chunks:   0%|          | 0/2 [00:00<?, ?it/s]\u001b[A\n",
            "Chunks: 100%|██████████| 2/2 [00:01<00:00,  1.66it/s]\u001b[A\n",
            "Processing:  18%|█▊        | 91/511 [01:46<08:25,  1.20s/it]\n",
            "Chunks:   0%|          | 0/2 [00:00<?, ?it/s]\u001b[A\n",
            "Chunks: 100%|██████████| 2/2 [00:01<00:00,  1.69it/s]\u001b[A\n",
            "Processing:  18%|█▊        | 92/511 [01:47<08:25,  1.21s/it]\n",
            "Chunks:   0%|          | 0/2 [00:00<?, ?it/s]\u001b[A\n",
            "Chunks: 100%|██████████| 2/2 [00:01<00:00,  1.71it/s]\u001b[A\n",
            "Processing:  18%|█▊        | 93/511 [01:49<08:22,  1.20s/it]\n",
            "Chunks:   0%|          | 0/2 [00:00<?, ?it/s]\u001b[A\n",
            "Chunks: 100%|██████████| 2/2 [00:01<00:00,  1.71it/s]\u001b[A\n",
            "Processing:  18%|█▊        | 94/511 [01:50<08:20,  1.20s/it]\n",
            "Chunks:   0%|          | 0/2 [00:00<?, ?it/s]\u001b[A\n",
            "Chunks: 100%|██████████| 2/2 [00:01<00:00,  1.71it/s]\u001b[A\n",
            "Processing:  19%|█▊        | 95/511 [01:51<08:18,  1.20s/it]\n",
            "Chunks:   0%|          | 0/2 [00:00<?, ?it/s]\u001b[A\n",
            "Chunks: 100%|██████████| 2/2 [00:01<00:00,  1.74it/s]\u001b[A\n",
            "Processing:  19%|█▉        | 96/511 [01:52<08:14,  1.19s/it]\n",
            "Chunks:   0%|          | 0/2 [00:00<?, ?it/s]\u001b[A\n",
            "Chunks: 100%|██████████| 2/2 [00:01<00:00,  1.68it/s]\u001b[A\n",
            "Processing:  19%|█▉        | 97/511 [01:53<08:16,  1.20s/it]\n",
            "Chunks:   0%|          | 0/2 [00:00<?, ?it/s]\u001b[A\n",
            "Chunks: 100%|██████████| 2/2 [00:01<00:00,  1.76it/s]\u001b[A\n",
            "Processing:  19%|█▉        | 98/511 [01:54<08:10,  1.19s/it]\n",
            "Chunks:   0%|          | 0/2 [00:00<?, ?it/s]\u001b[A\n",
            "Chunks: 100%|██████████| 2/2 [00:01<00:00,  1.66it/s]\u001b[A\n",
            "Processing:  19%|█▉        | 99/511 [01:56<08:14,  1.20s/it]\n",
            "Chunks:   0%|          | 0/2 [00:00<?, ?it/s]\u001b[A\n",
            "Chunks: 100%|██████████| 2/2 [00:01<00:00,  1.74it/s]\u001b[A\n",
            "Processing:  20%|█▉        | 100/511 [01:57<08:10,  1.19s/it]\n",
            "Chunks:   0%|          | 0/2 [00:00<?, ?it/s]\u001b[A\n",
            "Chunks: 100%|██████████| 2/2 [00:01<00:00,  1.62it/s]\u001b[A\n",
            "Processing:  20%|█▉        | 101/511 [01:58<08:17,  1.21s/it]\n",
            "Chunks:   0%|          | 0/2 [00:00<?, ?it/s]\u001b[A\n",
            "Chunks: 100%|██████████| 2/2 [00:01<00:00,  1.68it/s]\u001b[A\n",
            "Processing:  20%|█▉        | 102/511 [01:59<08:16,  1.21s/it]\n",
            "Chunks:   0%|          | 0/2 [00:00<?, ?it/s]\u001b[A\n",
            "Chunks: 100%|██████████| 2/2 [00:01<00:00,  1.58it/s]\u001b[A\n",
            "Processing:  20%|██        | 103/511 [02:01<08:24,  1.24s/it]\n",
            "Chunks:   0%|          | 0/2 [00:00<?, ?it/s]\u001b[A\n",
            "Chunks: 100%|██████████| 2/2 [00:01<00:00,  1.70it/s]\u001b[A\n",
            "Processing:  20%|██        | 104/511 [02:02<08:18,  1.23s/it]\n",
            "Chunks:   0%|          | 0/2 [00:00<?, ?it/s]\u001b[A\n",
            "Chunks: 100%|██████████| 2/2 [00:01<00:00,  1.59it/s]\u001b[A\n",
            "Processing:  21%|██        | 105/511 [02:03<08:24,  1.24s/it]\n",
            "Chunks:   0%|          | 0/2 [00:00<?, ?it/s]\u001b[A\n",
            "Chunks: 100%|██████████| 2/2 [00:01<00:00,  1.68it/s]\u001b[A\n",
            "Processing:  21%|██        | 106/511 [02:04<08:20,  1.24s/it]\n",
            "Chunks:   0%|          | 0/2 [00:00<?, ?it/s]\u001b[A\n",
            "Chunks: 100%|██████████| 2/2 [00:01<00:00,  1.70it/s]\u001b[A\n",
            "Processing:  21%|██        | 107/511 [02:06<08:15,  1.23s/it]\n",
            "Chunks:   0%|          | 0/2 [00:00<?, ?it/s]\u001b[A\n",
            "Chunks: 100%|██████████| 2/2 [00:01<00:00,  1.68it/s]\u001b[A\n",
            "Processing:  21%|██        | 108/511 [02:07<08:13,  1.22s/it]\n",
            "Chunks:   0%|          | 0/2 [00:00<?, ?it/s]\u001b[A\n",
            "Chunks: 100%|██████████| 2/2 [00:01<00:00,  1.63it/s]\u001b[A\n",
            "Processing:  21%|██▏       | 109/511 [02:08<08:15,  1.23s/it]\n",
            "Chunks:   0%|          | 0/2 [00:00<?, ?it/s]\u001b[A\n",
            "Chunks: 100%|██████████| 2/2 [00:01<00:00,  1.70it/s]\u001b[A\n",
            "Processing:  22%|██▏       | 110/511 [02:09<08:11,  1.22s/it]\n",
            "Chunks:   0%|          | 0/2 [00:00<?, ?it/s]\u001b[A\n",
            "Chunks: 100%|██████████| 2/2 [00:01<00:00,  1.66it/s]\u001b[A\n",
            "Processing:  22%|██▏       | 111/511 [02:10<08:10,  1.23s/it]\n",
            "Chunks:   0%|          | 0/2 [00:00<?, ?it/s]\u001b[A\n",
            "Chunks: 100%|██████████| 2/2 [00:01<00:00,  1.74it/s]\u001b[A\n",
            "Processing:  22%|██▏       | 112/511 [02:12<08:03,  1.21s/it]\n",
            "Chunks:   0%|          | 0/2 [00:00<?, ?it/s]\u001b[A\n",
            "Chunks: 100%|██████████| 2/2 [00:01<00:00,  1.65it/s]\u001b[A\n",
            "Processing:  22%|██▏       | 113/511 [02:13<08:04,  1.22s/it]\n",
            "Chunks:   0%|          | 0/2 [00:00<?, ?it/s]\u001b[A\n",
            "Chunks: 100%|██████████| 2/2 [00:01<00:00,  1.71it/s]\u001b[A\n",
            "Processing:  22%|██▏       | 114/511 [02:14<08:00,  1.21s/it]\n",
            "Chunks:   0%|          | 0/2 [00:00<?, ?it/s]\u001b[A\n",
            "Chunks: 100%|██████████| 2/2 [00:01<00:00,  1.62it/s]\u001b[A\n",
            "Processing:  23%|██▎       | 115/511 [02:15<08:05,  1.23s/it]\n",
            "Chunks:   0%|          | 0/2 [00:00<?, ?it/s]\u001b[A\n",
            "Chunks: 100%|██████████| 2/2 [00:01<00:00,  1.75it/s]\u001b[A\n",
            "Processing:  23%|██▎       | 116/511 [02:16<07:57,  1.21s/it]\n",
            "Chunks:   0%|          | 0/2 [00:00<?, ?it/s]\u001b[A\n",
            "Chunks: 100%|██████████| 2/2 [00:01<00:00,  1.67it/s]\u001b[A\n",
            "Processing:  23%|██▎       | 117/511 [02:18<07:58,  1.21s/it]\n",
            "Chunks:   0%|          | 0/2 [00:00<?, ?it/s]\u001b[A\n",
            "Chunks:  50%|█████     | 1/2 [00:01<00:01,  1.16s/it]\u001b[A\n",
            "Chunks: 100%|██████████| 2/2 [00:01<00:00,  1.58it/s]\u001b[A\n",
            "Processing:  23%|██▎       | 118/511 [02:19<08:06,  1.24s/it]\n",
            "Chunks:   0%|          | 0/2 [00:00<?, ?it/s]\u001b[A\n",
            "Chunks: 100%|██████████| 2/2 [00:01<00:00,  1.67it/s]\u001b[A\n",
            "Processing:  23%|██▎       | 119/511 [02:20<08:04,  1.23s/it]\n",
            "Chunks:   0%|          | 0/2 [00:00<?, ?it/s]\u001b[A\n",
            "Chunks: 100%|██████████| 2/2 [00:01<00:00,  1.70it/s]\u001b[A\n",
            "Processing:  23%|██▎       | 120/511 [02:21<07:58,  1.22s/it]\n",
            "Chunks:   0%|          | 0/2 [00:00<?, ?it/s]\u001b[A\n",
            "Chunks: 100%|██████████| 2/2 [00:01<00:00,  1.63it/s]\u001b[A\n",
            "Processing:  24%|██▎       | 121/511 [02:23<08:00,  1.23s/it]\n",
            "Chunks:   0%|          | 0/2 [00:00<?, ?it/s]\u001b[A\n",
            "Chunks: 100%|██████████| 2/2 [00:01<00:00,  1.66it/s]\u001b[A\n",
            "Processing:  24%|██▍       | 122/511 [02:24<07:59,  1.23s/it]\n",
            "Chunks:   0%|          | 0/2 [00:00<?, ?it/s]\u001b[A\n",
            "Chunks: 100%|██████████| 2/2 [00:01<00:00,  1.62it/s]\u001b[A\n",
            "Processing:  24%|██▍       | 123/511 [02:25<08:01,  1.24s/it]\n",
            "Chunks:   0%|          | 0/2 [00:00<?, ?it/s]\u001b[A\n",
            "Chunks: 100%|██████████| 2/2 [00:01<00:00,  1.57it/s]\u001b[A\n",
            "Processing:  24%|██▍       | 124/511 [02:26<08:07,  1.26s/it]\n",
            "Chunks:   0%|          | 0/2 [00:00<?, ?it/s]\u001b[A\n",
            "Chunks: 100%|██████████| 2/2 [00:01<00:00,  1.65it/s]\u001b[A\n",
            "Processing:  24%|██▍       | 125/511 [02:28<08:03,  1.25s/it]\n",
            "Chunks:   0%|          | 0/2 [00:00<?, ?it/s]\u001b[A\n",
            "Chunks: 100%|██████████| 2/2 [00:01<00:00,  1.74it/s]\u001b[A\n",
            "Processing:  25%|██▍       | 126/511 [02:29<07:53,  1.23s/it]\n",
            "Chunks:   0%|          | 0/2 [00:00<?, ?it/s]\u001b[A\n",
            "Chunks: 100%|██████████| 2/2 [00:01<00:00,  1.66it/s]\u001b[A\n",
            "Processing:  25%|██▍       | 127/511 [02:30<07:52,  1.23s/it]\n",
            "Chunks:   0%|          | 0/2 [00:00<?, ?it/s]\u001b[A\n",
            "Chunks: 100%|██████████| 2/2 [00:01<00:00,  1.69it/s]\u001b[A\n",
            "Processing:  25%|██▌       | 128/511 [02:31<07:48,  1.22s/it]\n",
            "Chunks:   0%|          | 0/2 [00:00<?, ?it/s]\u001b[A\n",
            "Chunks: 100%|██████████| 2/2 [00:01<00:00,  1.68it/s]\u001b[A\n",
            "Processing:  25%|██▌       | 129/511 [02:33<07:46,  1.22s/it]\n",
            "Chunks:   0%|          | 0/2 [00:00<?, ?it/s]\u001b[A\n",
            "Chunks: 100%|██████████| 2/2 [00:01<00:00,  1.67it/s]\u001b[A\n",
            "Processing:  25%|██▌       | 130/511 [02:34<07:45,  1.22s/it]\n",
            "Chunks:   0%|          | 0/2 [00:00<?, ?it/s]\u001b[A\n",
            "Chunks: 100%|██████████| 2/2 [00:01<00:00,  1.64it/s]\u001b[A\n",
            "Processing:  26%|██▌       | 131/511 [02:35<07:47,  1.23s/it]\n",
            "Chunks:   0%|          | 0/2 [00:00<?, ?it/s]\u001b[A\n",
            "Chunks: 100%|██████████| 2/2 [00:01<00:00,  1.62it/s]\u001b[A\n",
            "Processing:  26%|██▌       | 132/511 [02:36<07:49,  1.24s/it]\n",
            "Chunks:   0%|          | 0/2 [00:00<?, ?it/s]\u001b[A\n",
            "Chunks: 100%|██████████| 2/2 [00:01<00:00,  1.69it/s]\u001b[A\n",
            "Processing:  26%|██▌       | 133/511 [02:37<07:44,  1.23s/it]\n",
            "Chunks:   0%|          | 0/2 [00:00<?, ?it/s]\u001b[A\n",
            "Chunks:  50%|█████     | 1/2 [00:01<00:01,  1.11s/it]\u001b[A\n",
            "Chunks: 100%|██████████| 2/2 [00:01<00:00,  1.64it/s]\u001b[A\n",
            "Processing:  26%|██▌       | 134/511 [02:39<07:45,  1.23s/it]\n",
            "Chunks:   0%|          | 0/2 [00:00<?, ?it/s]\u001b[A\n",
            "Chunks: 100%|██████████| 2/2 [00:01<00:00,  1.65it/s]\u001b[A\n",
            "Processing:  26%|██▋       | 135/511 [02:40<07:44,  1.24s/it]\n",
            "Chunks:   0%|          | 0/2 [00:00<?, ?it/s]\u001b[A\n",
            "Chunks: 100%|██████████| 2/2 [00:01<00:00,  1.71it/s]\u001b[A\n",
            "Processing:  27%|██▋       | 136/511 [02:41<07:39,  1.22s/it]\n",
            "Chunks:   0%|          | 0/2 [00:00<?, ?it/s]\u001b[A\n",
            "Chunks: 100%|██████████| 2/2 [00:01<00:00,  1.67it/s]\u001b[A\n",
            "Processing:  27%|██▋       | 137/511 [02:42<07:38,  1.22s/it]\n",
            "Chunks:   0%|          | 0/2 [00:00<?, ?it/s]\u001b[A\n",
            "Chunks: 100%|██████████| 2/2 [00:01<00:00,  1.65it/s]\u001b[A\n",
            "Processing:  27%|██▋       | 138/511 [02:44<07:38,  1.23s/it]\n",
            "Chunks:   0%|          | 0/2 [00:00<?, ?it/s]\u001b[A\n",
            "Chunks: 100%|██████████| 2/2 [00:01<00:00,  1.68it/s]\u001b[A\n",
            "Processing:  27%|██▋       | 139/511 [02:45<07:35,  1.23s/it]\n",
            "Chunks:   0%|          | 0/2 [00:00<?, ?it/s]\u001b[A\n",
            "Chunks: 100%|██████████| 2/2 [00:01<00:00,  1.69it/s]\u001b[A\n",
            "Processing:  27%|██▋       | 140/511 [02:46<07:32,  1.22s/it]\n",
            "Chunks:   0%|          | 0/2 [00:00<?, ?it/s]\u001b[A\n",
            "Chunks: 100%|██████████| 2/2 [00:01<00:00,  1.69it/s]\u001b[A\n",
            "Processing:  28%|██▊       | 141/511 [02:47<07:30,  1.22s/it]\n",
            "Chunks:   0%|          | 0/2 [00:00<?, ?it/s]\u001b[A\n",
            "Chunks: 100%|██████████| 2/2 [00:01<00:00,  1.65it/s]\u001b[A\n",
            "Processing:  28%|██▊       | 142/511 [02:48<07:30,  1.22s/it]\n",
            "Chunks:   0%|          | 0/2 [00:00<?, ?it/s]\u001b[A\n",
            "Chunks: 100%|██████████| 2/2 [00:01<00:00,  1.63it/s]\u001b[A\n",
            "Processing:  28%|██▊       | 143/511 [02:50<07:32,  1.23s/it]\n",
            "Chunks:   0%|          | 0/2 [00:00<?, ?it/s]\u001b[A\n",
            "Chunks: 100%|██████████| 2/2 [00:01<00:00,  1.61it/s]\u001b[A\n",
            "Processing:  28%|██▊       | 144/511 [02:51<07:35,  1.24s/it]\n",
            "Chunks:   0%|          | 0/2 [00:00<?, ?it/s]\u001b[A\n",
            "Chunks: 100%|██████████| 2/2 [00:01<00:00,  1.62it/s]\u001b[A\n",
            "Processing:  28%|██▊       | 145/511 [02:52<07:37,  1.25s/it]\n",
            "Chunks:   0%|          | 0/2 [00:00<?, ?it/s]\u001b[A\n",
            "Chunks: 100%|██████████| 2/2 [00:01<00:00,  1.69it/s]\u001b[A\n",
            "Processing:  29%|██▊       | 146/511 [02:53<07:31,  1.24s/it]\n",
            "Chunks:   0%|          | 0/2 [00:00<?, ?it/s]\u001b[A\n",
            "Chunks:  50%|█████     | 1/2 [00:01<00:01,  1.12s/it]\u001b[A\n",
            "Chunks: 100%|██████████| 2/2 [00:01<00:00,  1.63it/s]\u001b[A\n",
            "Processing:  29%|██▉       | 147/511 [02:55<07:31,  1.24s/it]\n",
            "Chunks:   0%|          | 0/2 [00:00<?, ?it/s]\u001b[A\n",
            "Chunks:  50%|█████     | 1/2 [00:01<00:01,  1.11s/it]\u001b[A\n",
            "Chunks: 100%|██████████| 2/2 [00:01<00:00,  1.63it/s]\u001b[A\n",
            "Processing:  29%|██▉       | 148/511 [02:56<07:32,  1.25s/it]\n",
            "Chunks:   0%|          | 0/2 [00:00<?, ?it/s]\u001b[A\n",
            "Chunks: 100%|██████████| 2/2 [00:01<00:00,  1.68it/s]\u001b[A\n",
            "Processing:  29%|██▉       | 149/511 [02:57<07:27,  1.24s/it]\n",
            "Chunks:   0%|          | 0/2 [00:00<?, ?it/s]\u001b[A\n",
            "Chunks: 100%|██████████| 2/2 [00:01<00:00,  1.70it/s]\u001b[A\n",
            "Processing:  29%|██▉       | 150/511 [02:58<07:22,  1.23s/it]\n",
            "Chunks:   0%|          | 0/2 [00:00<?, ?it/s]\u001b[A\n",
            "Chunks:  50%|█████     | 1/2 [00:01<00:01,  1.12s/it]\u001b[A\n",
            "Chunks: 100%|██████████| 2/2 [00:01<00:00,  1.62it/s]\u001b[A\n",
            "Processing:  30%|██▉       | 151/511 [03:00<07:24,  1.24s/it]\n",
            "Chunks:   0%|          | 0/2 [00:00<?, ?it/s]\u001b[A\n",
            "Chunks: 100%|██████████| 2/2 [00:01<00:00,  1.66it/s]\u001b[A\n",
            "Processing:  30%|██▉       | 152/511 [03:01<07:22,  1.23s/it]\n",
            "Chunks:   0%|          | 0/2 [00:00<?, ?it/s]\u001b[A\n",
            "Chunks:  50%|█████     | 1/2 [00:01<00:01,  1.13s/it]\u001b[A\n",
            "Chunks: 100%|██████████| 2/2 [00:01<00:00,  1.58it/s]\u001b[A\n",
            "Processing:  30%|██▉       | 153/511 [03:02<07:27,  1.25s/it]\n",
            "Chunks:   0%|          | 0/2 [00:00<?, ?it/s]\u001b[A\n",
            "Chunks: 100%|██████████| 2/2 [00:01<00:00,  1.74it/s]\u001b[A\n",
            "Processing:  30%|███       | 154/511 [03:03<07:18,  1.23s/it]\n",
            "Chunks:   0%|          | 0/2 [00:00<?, ?it/s]\u001b[A\n",
            "Chunks: 100%|██████████| 2/2 [00:01<00:00,  1.66it/s]\u001b[A\n",
            "Processing:  30%|███       | 155/511 [03:05<07:17,  1.23s/it]\n",
            "Chunks:   0%|          | 0/2 [00:00<?, ?it/s]\u001b[A\n",
            "Chunks:  50%|█████     | 1/2 [00:01<00:01,  1.14s/it]\u001b[A\n",
            "Chunks: 100%|██████████| 2/2 [00:01<00:00,  1.60it/s]\u001b[A\n",
            "Processing:  31%|███       | 156/511 [03:06<07:21,  1.24s/it]\n",
            "Chunks:   0%|          | 0/2 [00:00<?, ?it/s]\u001b[A\n",
            "Chunks: 100%|██████████| 2/2 [00:01<00:00,  1.65it/s]\u001b[A\n",
            "Processing:  31%|███       | 157/511 [03:07<07:19,  1.24s/it]\n",
            "Chunks:   0%|          | 0/2 [00:00<?, ?it/s]\u001b[A\n",
            "Chunks: 100%|██████████| 2/2 [00:01<00:00,  1.67it/s]\u001b[A\n",
            "Processing:  31%|███       | 158/511 [03:08<07:16,  1.24s/it]\n",
            "Chunks:   0%|          | 0/2 [00:00<?, ?it/s]\u001b[A\n",
            "Chunks: 100%|██████████| 2/2 [00:01<00:00,  1.62it/s]\u001b[A\n",
            "Processing:  31%|███       | 159/511 [03:10<07:17,  1.24s/it]\n",
            "Chunks:   0%|          | 0/2 [00:00<?, ?it/s]\u001b[A\n",
            "Chunks: 100%|██████████| 2/2 [00:01<00:00,  1.68it/s]\u001b[A\n",
            "Processing:  31%|███▏      | 160/511 [03:11<07:13,  1.24s/it]\n",
            "Chunks:   0%|          | 0/2 [00:00<?, ?it/s]\u001b[A\n",
            "Chunks: 100%|██████████| 2/2 [00:01<00:00,  1.60it/s]\u001b[A\n",
            "Processing:  32%|███▏      | 161/511 [03:12<07:16,  1.25s/it]\n",
            "Chunks:   0%|          | 0/2 [00:00<?, ?it/s]\u001b[A\n",
            "Chunks: 100%|██████████| 2/2 [00:01<00:00,  1.67it/s]\u001b[A\n",
            "Processing:  32%|███▏      | 162/511 [03:13<07:12,  1.24s/it]\n",
            "Chunks:   0%|          | 0/2 [00:00<?, ?it/s]\u001b[A\n",
            "Chunks:  50%|█████     | 1/2 [00:01<00:01,  1.13s/it]\u001b[A\n",
            "Chunks: 100%|██████████| 2/2 [00:01<00:00,  1.59it/s]\u001b[A\n",
            "Processing:  32%|███▏      | 163/511 [03:15<07:16,  1.25s/it]\n",
            "Chunks:   0%|          | 0/2 [00:00<?, ?it/s]\u001b[A\n",
            "Chunks:  50%|█████     | 1/2 [00:01<00:01,  1.15s/it]\u001b[A\n",
            "Chunks: 100%|██████████| 2/2 [00:01<00:00,  1.55it/s]\u001b[A\n",
            "Processing:  32%|███▏      | 164/511 [03:16<07:21,  1.27s/it]\n",
            "Chunks:   0%|          | 0/2 [00:00<?, ?it/s]\u001b[A\n",
            "Chunks: 100%|██████████| 2/2 [00:01<00:00,  1.65it/s]\u001b[A\n",
            "Processing:  32%|███▏      | 165/511 [03:17<07:16,  1.26s/it]\n",
            "Chunks:   0%|          | 0/2 [00:00<?, ?it/s]\u001b[A\n",
            "Chunks:  50%|█████     | 1/2 [00:01<00:01,  1.13s/it]\u001b[A\n",
            "Chunks: 100%|██████████| 2/2 [00:01<00:00,  1.58it/s]\u001b[A\n",
            "Processing:  32%|███▏      | 166/511 [03:18<07:18,  1.27s/it]\n",
            "Chunks:   0%|          | 0/2 [00:00<?, ?it/s]\u001b[A\n",
            "Chunks:  50%|█████     | 1/2 [00:01<00:01,  1.14s/it]\u001b[A\n",
            "Chunks: 100%|██████████| 2/2 [00:01<00:00,  1.61it/s]\u001b[A\n",
            "Processing:  33%|███▎      | 167/511 [03:20<07:17,  1.27s/it]\n",
            "Chunks:   0%|          | 0/2 [00:00<?, ?it/s]\u001b[A\n",
            "Chunks: 100%|██████████| 2/2 [00:01<00:00,  1.58it/s]\u001b[A\n",
            "Processing:  33%|███▎      | 168/511 [03:21<07:18,  1.28s/it]\n",
            "Chunks:   0%|          | 0/2 [00:00<?, ?it/s]\u001b[A\n",
            "Chunks:  50%|█████     | 1/2 [00:01<00:01,  1.12s/it]\u001b[A\n",
            "Chunks: 100%|██████████| 2/2 [00:01<00:00,  1.60it/s]\u001b[A\n",
            "Processing:  33%|███▎      | 169/511 [03:22<07:16,  1.28s/it]\n",
            "Chunks:   0%|          | 0/2 [00:00<?, ?it/s]\u001b[A\n",
            "Chunks: 100%|██████████| 2/2 [00:01<00:00,  1.65it/s]\u001b[A\n",
            "Processing:  33%|███▎      | 170/511 [03:24<07:11,  1.27s/it]\n",
            "Chunks:   0%|          | 0/2 [00:00<?, ?it/s]\u001b[A\n",
            "Chunks:  50%|█████     | 1/2 [00:01<00:01,  1.12s/it]\u001b[A\n",
            "Chunks: 100%|██████████| 2/2 [00:01<00:00,  1.59it/s]\u001b[A\n",
            "Processing:  33%|███▎      | 171/511 [03:25<07:11,  1.27s/it]\n",
            "Chunks:   0%|          | 0/2 [00:00<?, ?it/s]\u001b[A\n",
            "Chunks:  50%|█████     | 1/2 [00:01<00:01,  1.09s/it]\u001b[A\n",
            "Chunks: 100%|██████████| 2/2 [00:01<00:00,  1.65it/s]\u001b[A\n",
            "Processing:  34%|███▎      | 172/511 [03:26<07:07,  1.26s/it]\n",
            "Chunks:   0%|          | 0/2 [00:00<?, ?it/s]\u001b[A\n",
            "Chunks: 100%|██████████| 2/2 [00:01<00:00,  1.69it/s]\u001b[A\n",
            "Processing:  34%|███▍      | 173/511 [03:27<07:01,  1.25s/it]\n",
            "Chunks:   0%|          | 0/2 [00:00<?, ?it/s]\u001b[A\n",
            "Chunks: 100%|██████████| 2/2 [00:01<00:00,  1.60it/s]\u001b[A\n",
            "Processing:  34%|███▍      | 174/511 [03:29<07:03,  1.26s/it]\n",
            "Chunks:   0%|          | 0/2 [00:00<?, ?it/s]\u001b[A\n",
            "Chunks: 100%|██████████| 2/2 [00:01<00:00,  1.64it/s]\u001b[A\n",
            "Processing:  34%|███▍      | 175/511 [03:30<07:00,  1.25s/it]\n",
            "Chunks:   0%|          | 0/2 [00:00<?, ?it/s]\u001b[A\n",
            "Chunks:  50%|█████     | 1/2 [00:01<00:01,  1.14s/it]\u001b[A\n",
            "Chunks: 100%|██████████| 2/2 [00:01<00:00,  1.61it/s]\u001b[A\n",
            "Processing:  34%|███▍      | 176/511 [03:31<07:00,  1.26s/it]\n",
            "Chunks:   0%|          | 0/2 [00:00<?, ?it/s]\u001b[A\n",
            "Chunks:  50%|█████     | 1/2 [00:01<00:01,  1.14s/it]\u001b[A\n",
            "Chunks: 100%|██████████| 2/2 [00:01<00:00,  1.60it/s]\u001b[A\n",
            "Processing:  35%|███▍      | 177/511 [03:32<07:01,  1.26s/it]\n",
            "Chunks:   0%|          | 0/2 [00:00<?, ?it/s]\u001b[A\n",
            "Chunks: 100%|██████████| 2/2 [00:01<00:00,  1.66it/s]\u001b[A\n",
            "Processing:  35%|███▍      | 178/511 [03:34<06:57,  1.25s/it]\n",
            "Chunks:   0%|          | 0/2 [00:00<?, ?it/s]\u001b[A\n",
            "Chunks: 100%|██████████| 2/2 [00:01<00:00,  1.63it/s]\u001b[A\n",
            "Processing:  35%|███▌      | 179/511 [03:35<06:56,  1.25s/it]\n",
            "Chunks:   0%|          | 0/2 [00:00<?, ?it/s]\u001b[A\n",
            "Chunks:  50%|█████     | 1/2 [00:01<00:01,  1.14s/it]\u001b[A\n",
            "Chunks: 100%|██████████| 2/2 [00:01<00:00,  1.61it/s]\u001b[A\n",
            "Processing:  35%|███▌      | 180/511 [03:36<06:56,  1.26s/it]\n",
            "Chunks:   0%|          | 0/2 [00:00<?, ?it/s]\u001b[A\n",
            "Chunks:  50%|█████     | 1/2 [00:01<00:01,  1.15s/it]\u001b[A\n",
            "Chunks: 100%|██████████| 2/2 [00:01<00:00,  1.59it/s]\u001b[A\n",
            "Processing:  35%|███▌      | 181/511 [03:37<06:57,  1.27s/it]\n",
            "Chunks:   0%|          | 0/2 [00:00<?, ?it/s]\u001b[A\n",
            "Chunks: 100%|██████████| 2/2 [00:01<00:00,  1.57it/s]\u001b[A\n",
            "Processing:  36%|███▌      | 182/511 [03:39<06:59,  1.27s/it]\n",
            "Chunks:   0%|          | 0/2 [00:00<?, ?it/s]\u001b[A\n",
            "Chunks: 100%|██████████| 2/2 [00:01<00:00,  1.66it/s]\u001b[A\n",
            "Processing:  36%|███▌      | 183/511 [03:40<06:53,  1.26s/it]\n",
            "Chunks:   0%|          | 0/2 [00:00<?, ?it/s]\u001b[A\n",
            "Chunks: 100%|██████████| 2/2 [00:01<00:00,  1.62it/s]\u001b[A\n",
            "Processing:  36%|███▌      | 184/511 [03:41<06:51,  1.26s/it]\n",
            "Chunks:   0%|          | 0/2 [00:00<?, ?it/s]\u001b[A\n",
            "Chunks: 100%|██████████| 2/2 [00:01<00:00,  1.57it/s]\u001b[A\n",
            "Processing:  36%|███▌      | 185/511 [03:42<06:54,  1.27s/it]\n",
            "Chunks:   0%|          | 0/2 [00:00<?, ?it/s]\u001b[A\n",
            "Chunks:  50%|█████     | 1/2 [00:01<00:01,  1.11s/it]\u001b[A\n",
            "Chunks: 100%|██████████| 2/2 [00:01<00:00,  1.62it/s]\u001b[A\n",
            "Processing:  36%|███▋      | 186/511 [03:44<06:52,  1.27s/it]\n",
            "Chunks:   0%|          | 0/2 [00:00<?, ?it/s]\u001b[A\n",
            "Chunks: 100%|██████████| 2/2 [00:01<00:00,  1.60it/s]\u001b[A\n",
            "Processing:  37%|███▋      | 187/511 [03:45<06:51,  1.27s/it]\n",
            "Chunks:   0%|          | 0/2 [00:00<?, ?it/s]\u001b[A\n",
            "Chunks: 100%|██████████| 2/2 [00:01<00:00,  1.56it/s]\u001b[A\n",
            "Processing:  37%|███▋      | 188/511 [03:46<06:53,  1.28s/it]\n",
            "Chunks:   0%|          | 0/2 [00:00<?, ?it/s]\u001b[A\n",
            "Chunks: 100%|██████████| 2/2 [00:01<00:00,  1.61it/s]\u001b[A\n",
            "Processing:  37%|███▋      | 189/511 [03:48<06:50,  1.28s/it]\n",
            "Chunks:   0%|          | 0/2 [00:00<?, ?it/s]\u001b[A\n",
            "Chunks: 100%|██████████| 2/2 [00:01<00:00,  1.59it/s]\u001b[A\n",
            "Processing:  37%|███▋      | 190/511 [03:49<06:50,  1.28s/it]\n",
            "Chunks:   0%|          | 0/2 [00:00<?, ?it/s]\u001b[A\n",
            "Chunks: 100%|██████████| 2/2 [00:01<00:00,  1.67it/s]\u001b[A\n",
            "Processing:  37%|███▋      | 191/511 [03:50<06:43,  1.26s/it]\n",
            "Chunks:   0%|          | 0/2 [00:00<?, ?it/s]\u001b[A\n",
            "Chunks: 100%|██████████| 2/2 [00:01<00:00,  1.61it/s]\u001b[A\n",
            "Processing:  38%|███▊      | 192/511 [03:51<06:42,  1.26s/it]\n",
            "Chunks:   0%|          | 0/2 [00:00<?, ?it/s]\u001b[A\n",
            "Chunks:  50%|█████     | 1/2 [00:01<00:01,  1.09s/it]\u001b[A\n",
            "Chunks: 100%|██████████| 2/2 [00:01<00:00,  1.65it/s]\u001b[A\n",
            "Processing:  38%|███▊      | 193/511 [03:53<06:39,  1.26s/it]\n",
            "Chunks:   0%|          | 0/2 [00:00<?, ?it/s]\u001b[A\n",
            "Chunks: 100%|██████████| 2/2 [00:01<00:00,  1.62it/s]\u001b[A\n",
            "Processing:  38%|███▊      | 194/511 [03:54<06:38,  1.26s/it]\n",
            "Chunks:   0%|          | 0/2 [00:00<?, ?it/s]\u001b[A\n",
            "Chunks: 100%|██████████| 2/2 [00:01<00:00,  1.65it/s]\u001b[A\n",
            "Processing:  38%|███▊      | 195/511 [03:55<06:36,  1.25s/it]\n",
            "Chunks:   0%|          | 0/2 [00:00<?, ?it/s]\u001b[A\n",
            "Chunks:  50%|█████     | 1/2 [00:01<00:01,  1.13s/it]\u001b[A\n",
            "Chunks: 100%|██████████| 2/2 [00:01<00:00,  1.60it/s]\u001b[A\n",
            "Processing:  38%|███▊      | 196/511 [03:56<06:37,  1.26s/it]\n",
            "Chunks:   0%|          | 0/2 [00:00<?, ?it/s]\u001b[A\n",
            "Chunks:  50%|█████     | 1/2 [00:01<00:01,  1.13s/it]\u001b[A\n",
            "Chunks: 100%|██████████| 2/2 [00:01<00:00,  1.61it/s]\u001b[A\n",
            "Processing:  39%|███▊      | 197/511 [03:58<06:36,  1.26s/it]\n",
            "Chunks:   0%|          | 0/2 [00:00<?, ?it/s]\u001b[A\n",
            "Chunks:  50%|█████     | 1/2 [00:01<00:01,  1.14s/it]\u001b[A\n",
            "Chunks: 100%|██████████| 2/2 [00:01<00:00,  1.58it/s]\u001b[A\n",
            "Processing:  39%|███▊      | 198/511 [03:59<06:37,  1.27s/it]\n",
            "Chunks:   0%|          | 0/2 [00:00<?, ?it/s]\u001b[A\n",
            "Chunks: 100%|██████████| 2/2 [00:01<00:00,  1.62it/s]\u001b[A\n",
            "Processing:  39%|███▉      | 199/511 [04:00<06:35,  1.27s/it]\n",
            "Chunks:   0%|          | 0/2 [00:00<?, ?it/s]\u001b[A\n",
            "Chunks: 100%|██████████| 2/2 [00:01<00:00,  1.61it/s]\u001b[A\n",
            "Processing:  39%|███▉      | 200/511 [04:01<06:34,  1.27s/it]\n",
            "Chunks:   0%|          | 0/2 [00:00<?, ?it/s]\u001b[A\n",
            "Chunks:  50%|█████     | 1/2 [00:01<00:01,  1.13s/it]\u001b[A\n",
            "Chunks: 100%|██████████| 2/2 [00:01<00:00,  1.62it/s]\u001b[A\n",
            "Processing:  39%|███▉      | 201/511 [04:03<06:32,  1.27s/it]\n",
            "Chunks:   0%|          | 0/2 [00:00<?, ?it/s]\u001b[A\n",
            "Chunks: 100%|██████████| 2/2 [00:01<00:00,  1.61it/s]\u001b[A\n",
            "Processing:  40%|███▉      | 202/511 [04:04<06:31,  1.27s/it]\n",
            "Chunks:   0%|          | 0/2 [00:00<?, ?it/s]\u001b[A\n",
            "Chunks:  50%|█████     | 1/2 [00:01<00:01,  1.14s/it]\u001b[A\n",
            "Chunks: 100%|██████████| 2/2 [00:01<00:00,  1.57it/s]\u001b[A\n",
            "Processing:  40%|███▉      | 203/511 [04:05<06:32,  1.27s/it]\n",
            "Chunks:   0%|          | 0/2 [00:00<?, ?it/s]\u001b[A\n",
            "Chunks:  50%|█████     | 1/2 [00:01<00:01,  1.13s/it]\u001b[A\n",
            "Chunks: 100%|██████████| 2/2 [00:01<00:00,  1.58it/s]\u001b[A\n",
            "Processing:  40%|███▉      | 204/511 [04:07<06:32,  1.28s/it]\n",
            "Chunks:   0%|          | 0/2 [00:00<?, ?it/s]\u001b[A\n",
            "Chunks:  50%|█████     | 1/2 [00:01<00:01,  1.14s/it]\u001b[A\n",
            "Chunks: 100%|██████████| 2/2 [00:01<00:00,  1.59it/s]\u001b[A\n",
            "Processing:  40%|████      | 205/511 [04:08<06:31,  1.28s/it]\n",
            "Chunks:   0%|          | 0/2 [00:00<?, ?it/s]\u001b[A\n",
            "Chunks:  50%|█████     | 1/2 [00:01<00:01,  1.11s/it]\u001b[A\n",
            "Chunks: 100%|██████████| 2/2 [00:01<00:00,  1.62it/s]\u001b[A\n",
            "Processing:  40%|████      | 206/511 [04:09<06:28,  1.27s/it]\n",
            "Chunks:   0%|          | 0/2 [00:00<?, ?it/s]\u001b[A\n",
            "Chunks:  50%|█████     | 1/2 [00:01<00:01,  1.18s/it]\u001b[A\n",
            "Chunks: 100%|██████████| 2/2 [00:01<00:00,  1.55it/s]\u001b[A\n",
            "Processing:  41%|████      | 207/511 [04:10<06:31,  1.29s/it]\n",
            "Chunks:   0%|          | 0/2 [00:00<?, ?it/s]\u001b[A\n",
            "Chunks: 100%|██████████| 2/2 [00:01<00:00,  1.65it/s]\u001b[A\n",
            "Processing:  41%|████      | 208/511 [04:12<06:25,  1.27s/it]\n",
            "Chunks:   0%|          | 0/2 [00:00<?, ?it/s]\u001b[A\n",
            "Chunks: 100%|██████████| 2/2 [00:01<00:00,  1.65it/s]\u001b[A\n",
            "Processing:  41%|████      | 209/511 [04:13<06:20,  1.26s/it]\n",
            "Chunks:   0%|          | 0/2 [00:00<?, ?it/s]\u001b[A\n",
            "Chunks:  50%|█████     | 1/2 [00:01<00:01,  1.11s/it]\u001b[A\n",
            "Chunks: 100%|██████████| 2/2 [00:01<00:00,  1.59it/s]\u001b[A\n",
            "Processing:  41%|████      | 210/511 [04:14<06:21,  1.27s/it]\n",
            "Chunks:   0%|          | 0/2 [00:00<?, ?it/s]\u001b[A\n",
            "Chunks: 100%|██████████| 2/2 [00:01<00:00,  1.66it/s]\u001b[A\n",
            "Processing:  41%|████▏     | 211/511 [04:15<06:17,  1.26s/it]\n",
            "Chunks:   0%|          | 0/2 [00:00<?, ?it/s]\u001b[A\n",
            "Chunks:  50%|█████     | 1/2 [00:01<00:01,  1.09s/it]\u001b[A\n",
            "Chunks: 100%|██████████| 2/2 [00:01<00:00,  1.66it/s]\u001b[A\n",
            "Processing:  41%|████▏     | 212/511 [04:17<06:13,  1.25s/it]\n",
            "Chunks:   0%|          | 0/2 [00:00<?, ?it/s]\u001b[A\n",
            "Chunks:  50%|█████     | 1/2 [00:01<00:01,  1.12s/it]\u001b[A\n",
            "Chunks: 100%|██████████| 2/2 [00:01<00:00,  1.59it/s]\u001b[A\n",
            "Processing:  42%|████▏     | 213/511 [04:18<06:15,  1.26s/it]\n",
            "Chunks:   0%|          | 0/2 [00:00<?, ?it/s]\u001b[A\n",
            "Chunks:  50%|█████     | 1/2 [00:01<00:01,  1.14s/it]\u001b[A\n",
            "Chunks: 100%|██████████| 2/2 [00:01<00:00,  1.61it/s]\u001b[A\n",
            "Processing:  42%|████▏     | 214/511 [04:19<06:14,  1.26s/it]\n",
            "Chunks:   0%|          | 0/2 [00:00<?, ?it/s]\u001b[A\n",
            "Chunks:  50%|█████     | 1/2 [00:01<00:01,  1.16s/it]\u001b[A\n",
            "Chunks: 100%|██████████| 2/2 [00:01<00:00,  1.55it/s]\u001b[A\n",
            "Processing:  42%|████▏     | 215/511 [04:20<06:18,  1.28s/it]\n",
            "Chunks:   0%|          | 0/2 [00:00<?, ?it/s]\u001b[A\n",
            "Chunks:  50%|█████     | 1/2 [00:01<00:01,  1.14s/it]\u001b[A\n",
            "Chunks: 100%|██████████| 2/2 [00:01<00:00,  1.58it/s]\u001b[A\n",
            "Processing:  42%|████▏     | 216/511 [04:22<06:17,  1.28s/it]\n",
            "Chunks:   0%|          | 0/2 [00:00<?, ?it/s]\u001b[A\n",
            "Chunks:  50%|█████     | 1/2 [00:01<00:01,  1.15s/it]\u001b[A\n",
            "Chunks: 100%|██████████| 2/2 [00:01<00:00,  1.59it/s]\u001b[A\n",
            "Processing:  42%|████▏     | 217/511 [04:23<06:16,  1.28s/it]\n",
            "Chunks:   0%|          | 0/2 [00:00<?, ?it/s]\u001b[A\n",
            "Chunks:  50%|█████     | 1/2 [00:01<00:01,  1.13s/it]\u001b[A\n",
            "Chunks: 100%|██████████| 2/2 [00:01<00:00,  1.56it/s]\u001b[A\n",
            "Processing:  43%|████▎     | 218/511 [04:24<06:17,  1.29s/it]\n",
            "Chunks:   0%|          | 0/2 [00:00<?, ?it/s]\u001b[A\n",
            "Chunks:  50%|█████     | 1/2 [00:01<00:01,  1.10s/it]\u001b[A\n",
            "Chunks: 100%|██████████| 2/2 [00:01<00:00,  1.60it/s]\u001b[A\n",
            "Processing:  43%|████▎     | 219/511 [04:26<06:15,  1.28s/it]\n",
            "Chunks:   0%|          | 0/2 [00:00<?, ?it/s]\u001b[A\n",
            "Chunks: 100%|██████████| 2/2 [00:01<00:00,  1.63it/s]\u001b[A\n",
            "Processing:  43%|████▎     | 220/511 [04:27<06:11,  1.28s/it]\n",
            "Chunks:   0%|          | 0/2 [00:00<?, ?it/s]\u001b[A\n",
            "Chunks:  50%|█████     | 1/2 [00:01<00:01,  1.14s/it]\u001b[A\n",
            "Chunks: 100%|██████████| 2/2 [00:01<00:00,  1.61it/s]\u001b[A\n",
            "Processing:  43%|████▎     | 221/511 [04:28<06:09,  1.27s/it]\n",
            "Chunks:   0%|          | 0/2 [00:00<?, ?it/s]\u001b[A\n",
            "Chunks:  50%|█████     | 1/2 [00:01<00:01,  1.14s/it]\u001b[A\n",
            "Chunks: 100%|██████████| 2/2 [00:01<00:00,  1.59it/s]\u001b[A\n",
            "Processing:  43%|████▎     | 222/511 [04:29<06:08,  1.28s/it]\n",
            "Chunks:   0%|          | 0/2 [00:00<?, ?it/s]\u001b[A\n",
            "Chunks:  50%|█████     | 1/2 [00:01<00:01,  1.17s/it]\u001b[A\n",
            "Chunks: 100%|██████████| 2/2 [00:01<00:00,  1.57it/s]\u001b[A\n",
            "Processing:  44%|████▎     | 223/511 [04:31<06:09,  1.28s/it]\n",
            "Chunks:   0%|          | 0/2 [00:00<?, ?it/s]\u001b[A\n",
            "Chunks: 100%|██████████| 2/2 [00:01<00:00,  1.62it/s]\u001b[A\n",
            "Processing:  44%|████▍     | 224/511 [04:32<06:06,  1.28s/it]\n",
            "Chunks:   0%|          | 0/2 [00:00<?, ?it/s]\u001b[A\n",
            "Chunks:  50%|█████     | 1/2 [00:01<00:01,  1.14s/it]\u001b[A\n",
            "Chunks: 100%|██████████| 2/2 [00:01<00:00,  1.61it/s]\u001b[A\n",
            "Processing:  44%|████▍     | 225/511 [04:33<06:04,  1.27s/it]\n",
            "Chunks:   0%|          | 0/2 [00:00<?, ?it/s]\u001b[A\n",
            "Chunks:  50%|█████     | 1/2 [00:01<00:01,  1.18s/it]\u001b[A\n",
            "Chunks: 100%|██████████| 2/2 [00:01<00:00,  1.55it/s]\u001b[A\n",
            "Processing:  44%|████▍     | 226/511 [04:35<06:06,  1.29s/it]\n",
            "Chunks:   0%|          | 0/2 [00:00<?, ?it/s]\u001b[A\n",
            "Chunks: 100%|██████████| 2/2 [00:01<00:00,  1.60it/s]\u001b[A\n",
            "Processing:  44%|████▍     | 227/511 [04:36<06:04,  1.28s/it]\n",
            "Chunks:   0%|          | 0/2 [00:00<?, ?it/s]\u001b[A\n",
            "Chunks: 100%|██████████| 2/2 [00:01<00:00,  1.64it/s]\u001b[A\n",
            "Processing:  45%|████▍     | 228/511 [04:37<06:00,  1.27s/it]\n",
            "Chunks:   0%|          | 0/2 [00:00<?, ?it/s]\u001b[A\n",
            "Chunks:  50%|█████     | 1/2 [00:01<00:01,  1.12s/it]\u001b[A\n",
            "Chunks: 100%|██████████| 2/2 [00:01<00:00,  1.62it/s]\u001b[A\n",
            "Processing:  45%|████▍     | 229/511 [04:38<05:57,  1.27s/it]\n",
            "Chunks:   0%|          | 0/2 [00:00<?, ?it/s]\u001b[A\n",
            "Chunks: 100%|██████████| 2/2 [00:01<00:00,  1.68it/s]\u001b[A\n",
            "Processing:  45%|████▌     | 230/511 [04:40<05:52,  1.25s/it]\n",
            "Chunks:   0%|          | 0/2 [00:00<?, ?it/s]\u001b[A\n",
            "Chunks: 100%|██████████| 2/2 [00:01<00:00,  1.66it/s]\u001b[A\n",
            "Processing:  45%|████▌     | 231/511 [04:41<05:48,  1.24s/it]\n",
            "Chunks:   0%|          | 0/2 [00:00<?, ?it/s]\u001b[A\n",
            "Chunks:  50%|█████     | 1/2 [00:01<00:01,  1.12s/it]\u001b[A\n",
            "Chunks: 100%|██████████| 2/2 [00:01<00:00,  1.62it/s]\u001b[A\n",
            "Processing:  45%|████▌     | 232/511 [04:42<05:48,  1.25s/it]\n",
            "Chunks:   0%|          | 0/2 [00:00<?, ?it/s]\u001b[A\n",
            "Chunks:  50%|█████     | 1/2 [00:01<00:01,  1.16s/it]\u001b[A\n",
            "Chunks: 100%|██████████| 2/2 [00:01<00:00,  1.56it/s]\u001b[A\n",
            "Processing:  46%|████▌     | 233/511 [04:43<05:51,  1.27s/it]\n",
            "Chunks:   0%|          | 0/2 [00:00<?, ?it/s]\u001b[A\n",
            "Chunks:  50%|█████     | 1/2 [00:01<00:01,  1.13s/it]\u001b[A\n",
            "Chunks: 100%|██████████| 2/2 [00:01<00:00,  1.59it/s]\u001b[A\n",
            "Processing:  46%|████▌     | 234/511 [04:45<05:52,  1.27s/it]\n",
            "Chunks:   0%|          | 0/2 [00:00<?, ?it/s]\u001b[A\n",
            "Chunks:  50%|█████     | 1/2 [00:01<00:01,  1.14s/it]\u001b[A\n",
            "Chunks: 100%|██████████| 2/2 [00:01<00:00,  1.61it/s]\u001b[A\n",
            "Processing:  46%|████▌     | 235/511 [04:46<05:50,  1.27s/it]\n",
            "Chunks:   0%|          | 0/2 [00:00<?, ?it/s]\u001b[A\n",
            "Chunks: 100%|██████████| 2/2 [00:01<00:00,  1.57it/s]\u001b[A\n",
            "Processing:  46%|████▌     | 236/511 [04:47<05:51,  1.28s/it]\n",
            "Chunks:   0%|          | 0/2 [00:00<?, ?it/s]\u001b[A\n",
            "Chunks:  50%|█████     | 1/2 [00:01<00:01,  1.20s/it]\u001b[A\n",
            "Chunks: 100%|██████████| 2/2 [00:01<00:00,  1.53it/s]\u001b[A\n",
            "Processing:  46%|████▋     | 237/511 [04:49<05:55,  1.30s/it]\n",
            "Chunks:   0%|          | 0/2 [00:00<?, ?it/s]\u001b[A\n",
            "Chunks:  50%|█████     | 1/2 [00:01<00:01,  1.09s/it]\u001b[A\n",
            "Chunks: 100%|██████████| 2/2 [00:01<00:00,  1.65it/s]\u001b[A\n",
            "Processing:  47%|████▋     | 238/511 [04:50<05:48,  1.28s/it]\n",
            "Chunks:   0%|          | 0/2 [00:00<?, ?it/s]\u001b[A\n",
            "Chunks:  50%|█████     | 1/2 [00:01<00:01,  1.14s/it]\u001b[A\n",
            "Chunks: 100%|██████████| 2/2 [00:01<00:00,  1.59it/s]\u001b[A\n",
            "Processing:  47%|████▋     | 239/511 [04:51<05:47,  1.28s/it]\n",
            "Chunks:   0%|          | 0/2 [00:00<?, ?it/s]\u001b[A\n",
            "Chunks:  50%|█████     | 1/2 [00:01<00:01,  1.11s/it]\u001b[A\n",
            "Chunks: 100%|██████████| 2/2 [00:01<00:00,  1.63it/s]\u001b[A\n",
            "Processing:  47%|████▋     | 240/511 [04:52<05:44,  1.27s/it]\n",
            "Chunks:   0%|          | 0/2 [00:00<?, ?it/s]\u001b[A\n",
            "Chunks:  50%|█████     | 1/2 [00:01<00:01,  1.17s/it]\u001b[A\n",
            "Chunks: 100%|██████████| 2/2 [00:01<00:00,  1.54it/s]\u001b[A\n",
            "Processing:  47%|████▋     | 241/511 [04:54<05:47,  1.29s/it]\n",
            "Chunks:   0%|          | 0/2 [00:00<?, ?it/s]\u001b[A\n",
            "Chunks:  50%|█████     | 1/2 [00:01<00:01,  1.09s/it]\u001b[A\n",
            "Chunks: 100%|██████████| 2/2 [00:01<00:00,  1.64it/s]\u001b[A\n",
            "Processing:  47%|████▋     | 242/511 [04:55<05:42,  1.27s/it]\n",
            "Chunks:   0%|          | 0/2 [00:00<?, ?it/s]\u001b[A\n",
            "Chunks:  50%|█████     | 1/2 [00:01<00:01,  1.15s/it]\u001b[A\n",
            "Chunks: 100%|██████████| 2/2 [00:01<00:00,  1.57it/s]\u001b[A\n",
            "Processing:  48%|████▊     | 243/511 [04:56<05:43,  1.28s/it]\n",
            "Chunks:   0%|          | 0/2 [00:00<?, ?it/s]\u001b[A\n",
            "Chunks:  50%|█████     | 1/2 [00:01<00:01,  1.10s/it]\u001b[A\n",
            "Chunks: 100%|██████████| 2/2 [00:01<00:00,  1.62it/s]\u001b[A\n",
            "Processing:  48%|████▊     | 244/511 [04:57<05:40,  1.28s/it]\n",
            "Chunks:   0%|          | 0/2 [00:00<?, ?it/s]\u001b[A\n",
            "Chunks:  50%|█████     | 1/2 [00:01<00:01,  1.16s/it]\u001b[A\n",
            "Chunks: 100%|██████████| 2/2 [00:01<00:00,  1.54it/s]\u001b[A\n",
            "Processing:  48%|████▊     | 245/511 [04:59<05:43,  1.29s/it]\n",
            "Chunks:   0%|          | 0/2 [00:00<?, ?it/s]\u001b[A\n",
            "Chunks:  50%|█████     | 1/2 [00:01<00:01,  1.08s/it]\u001b[A\n",
            "Chunks: 100%|██████████| 2/2 [00:01<00:00,  1.60it/s]\u001b[A\n",
            "Processing:  48%|████▊     | 246/511 [05:00<05:41,  1.29s/it]\n",
            "Chunks:   0%|          | 0/2 [00:00<?, ?it/s]\u001b[A\n",
            "Chunks: 100%|██████████| 2/2 [00:01<00:00,  1.67it/s]\u001b[A\n",
            "Processing:  48%|████▊     | 247/511 [05:01<05:34,  1.27s/it]\n",
            "Chunks:   0%|          | 0/2 [00:00<?, ?it/s]\u001b[A\n",
            "Chunks:  50%|█████     | 1/2 [00:01<00:01,  1.12s/it]\u001b[A\n",
            "Chunks: 100%|██████████| 2/2 [00:01<00:00,  1.58it/s]\u001b[A\n",
            "Processing:  49%|████▊     | 248/511 [05:03<05:35,  1.27s/it]\n",
            "Chunks:   0%|          | 0/2 [00:00<?, ?it/s]\u001b[A\n",
            "Chunks: 100%|██████████| 2/2 [00:01<00:00,  1.64it/s]\u001b[A\n",
            "Processing:  49%|████▊     | 249/511 [05:04<05:31,  1.26s/it]\n",
            "Chunks:   0%|          | 0/2 [00:00<?, ?it/s]\u001b[A\n",
            "Chunks:  50%|█████     | 1/2 [00:01<00:01,  1.17s/it]\u001b[A\n",
            "Chunks: 100%|██████████| 2/2 [00:01<00:00,  1.55it/s]\u001b[A\n",
            "Processing:  49%|████▉     | 250/511 [05:05<05:33,  1.28s/it]\n",
            "Chunks:   0%|          | 0/2 [00:00<?, ?it/s]\u001b[A\n",
            "Chunks:  50%|█████     | 1/2 [00:01<00:01,  1.15s/it]\u001b[A\n",
            "Chunks: 100%|██████████| 2/2 [00:01<00:00,  1.56it/s]\u001b[A\n",
            "Processing:  49%|████▉     | 251/511 [05:06<05:34,  1.29s/it]\n",
            "Chunks:   0%|          | 0/2 [00:00<?, ?it/s]\u001b[A\n",
            "Chunks:  50%|█████     | 1/2 [00:01<00:01,  1.13s/it]\u001b[A\n",
            "Chunks: 100%|██████████| 2/2 [00:01<00:00,  1.60it/s]\u001b[A\n",
            "Processing:  49%|████▉     | 252/511 [05:08<05:32,  1.28s/it]\n",
            "Chunks:   0%|          | 0/2 [00:00<?, ?it/s]\u001b[A\n",
            "Chunks:  50%|█████     | 1/2 [00:01<00:01,  1.13s/it]\u001b[A\n",
            "Chunks: 100%|██████████| 2/2 [00:01<00:00,  1.59it/s]\u001b[A\n",
            "Processing:  50%|████▉     | 253/511 [05:09<05:30,  1.28s/it]\n",
            "Chunks:   0%|          | 0/2 [00:00<?, ?it/s]\u001b[A\n",
            "Chunks:  50%|█████     | 1/2 [00:01<00:01,  1.11s/it]\u001b[A\n",
            "Chunks: 100%|██████████| 2/2 [00:01<00:00,  1.60it/s]\u001b[A\n",
            "Processing:  50%|████▉     | 254/511 [05:10<05:29,  1.28s/it]\n",
            "Chunks:   0%|          | 0/2 [00:00<?, ?it/s]\u001b[A\n",
            "Chunks: 100%|██████████| 2/2 [00:01<00:00,  1.60it/s]\u001b[A\n",
            "Processing:  50%|████▉     | 255/511 [05:12<05:27,  1.28s/it]\n",
            "Chunks:   0%|          | 0/2 [00:00<?, ?it/s]\u001b[A\n",
            "Chunks:  50%|█████     | 1/2 [00:01<00:01,  1.13s/it]\u001b[A\n",
            "Chunks: 100%|██████████| 2/2 [00:01<00:00,  1.58it/s]\u001b[A\n",
            "Processing:  50%|█████     | 256/511 [05:13<05:27,  1.28s/it]\n",
            "Chunks:   0%|          | 0/2 [00:00<?, ?it/s]\u001b[A\n",
            "Chunks:  50%|█████     | 1/2 [00:01<00:01,  1.11s/it]\u001b[A\n",
            "Chunks: 100%|██████████| 2/2 [00:01<00:00,  1.63it/s]\u001b[A\n",
            "Processing:  50%|█████     | 257/511 [05:14<05:23,  1.27s/it]\n",
            "Chunks:   0%|          | 0/2 [00:00<?, ?it/s]\u001b[A\n",
            "Chunks:  50%|█████     | 1/2 [00:01<00:01,  1.14s/it]\u001b[A\n",
            "Chunks: 100%|██████████| 2/2 [00:01<00:00,  1.59it/s]\u001b[A\n",
            "Processing:  50%|█████     | 258/511 [05:15<05:23,  1.28s/it]\n",
            "Chunks:   0%|          | 0/2 [00:00<?, ?it/s]\u001b[A\n",
            "Chunks:  50%|█████     | 1/2 [00:01<00:01,  1.10s/it]\u001b[A\n",
            "Chunks: 100%|██████████| 2/2 [00:01<00:00,  1.63it/s]\u001b[A\n",
            "Processing:  51%|█████     | 259/511 [05:17<05:20,  1.27s/it]\n",
            "Chunks:   0%|          | 0/2 [00:00<?, ?it/s]\u001b[A\n",
            "Chunks:  50%|█████     | 1/2 [00:01<00:01,  1.10s/it]\u001b[A\n",
            "Chunks: 100%|██████████| 2/2 [00:01<00:00,  1.63it/s]\u001b[A\n",
            "Processing:  51%|█████     | 260/511 [05:18<05:17,  1.27s/it]\n",
            "Chunks:   0%|          | 0/2 [00:00<?, ?it/s]\u001b[A\n",
            "Chunks:  50%|█████     | 1/2 [00:01<00:01,  1.12s/it]\u001b[A\n",
            "Chunks: 100%|██████████| 2/2 [00:01<00:00,  1.61it/s]\u001b[A\n",
            "Processing:  51%|█████     | 261/511 [05:19<05:16,  1.27s/it]\n",
            "Chunks:   0%|          | 0/2 [00:00<?, ?it/s]\u001b[A\n",
            "Chunks:  50%|█████     | 1/2 [00:01<00:01,  1.10s/it]\u001b[A\n",
            "Chunks: 100%|██████████| 2/2 [00:01<00:00,  1.59it/s]\u001b[A\n",
            "Processing:  51%|█████▏    | 262/511 [05:20<05:16,  1.27s/it]\n",
            "Chunks:   0%|          | 0/2 [00:00<?, ?it/s]\u001b[A\n",
            "Chunks:  50%|█████     | 1/2 [00:01<00:01,  1.12s/it]\u001b[A\n",
            "Chunks: 100%|██████████| 2/2 [00:01<00:00,  1.59it/s]\u001b[A\n",
            "Processing:  51%|█████▏    | 263/511 [05:22<05:16,  1.28s/it]\n",
            "Chunks:   0%|          | 0/2 [00:00<?, ?it/s]\u001b[A\n",
            "Chunks:  50%|█████     | 1/2 [00:01<00:01,  1.14s/it]\u001b[A\n",
            "Chunks: 100%|██████████| 2/2 [00:01<00:00,  1.60it/s]\u001b[A\n",
            "Processing:  52%|█████▏    | 264/511 [05:23<05:14,  1.27s/it]\n",
            "Chunks:   0%|          | 0/2 [00:00<?, ?it/s]\u001b[A\n",
            "Chunks:  50%|█████     | 1/2 [00:01<00:01,  1.09s/it]\u001b[A\n",
            "Chunks: 100%|██████████| 2/2 [00:01<00:00,  1.65it/s]\u001b[A\n",
            "Processing:  52%|█████▏    | 265/511 [05:24<05:10,  1.26s/it]\n",
            "Chunks:   0%|          | 0/2 [00:00<?, ?it/s]\u001b[A\n",
            "Chunks:  50%|█████     | 1/2 [00:01<00:01,  1.09s/it]\u001b[A\n",
            "Chunks: 100%|██████████| 2/2 [00:01<00:00,  1.63it/s]\u001b[A\n",
            "Processing:  52%|█████▏    | 266/511 [05:25<05:08,  1.26s/it]\n",
            "Chunks:   0%|          | 0/2 [00:00<?, ?it/s]\u001b[A\n",
            "Chunks:  50%|█████     | 1/2 [00:01<00:01,  1.14s/it]\u001b[A\n",
            "Chunks: 100%|██████████| 2/2 [00:01<00:00,  1.55it/s]\u001b[A\n",
            "Processing:  52%|█████▏    | 267/511 [05:27<05:11,  1.28s/it]\n",
            "Chunks:   0%|          | 0/2 [00:00<?, ?it/s]\u001b[A\n",
            "Chunks:  50%|█████     | 1/2 [00:01<00:01,  1.13s/it]\u001b[A\n",
            "Chunks: 100%|██████████| 2/2 [00:01<00:00,  1.55it/s]\u001b[A\n",
            "Processing:  52%|█████▏    | 268/511 [05:28<05:12,  1.29s/it]\n",
            "Chunks:   0%|          | 0/2 [00:00<?, ?it/s]\u001b[A\n",
            "Chunks:  50%|█████     | 1/2 [00:01<00:01,  1.13s/it]\u001b[A\n",
            "Chunks: 100%|██████████| 2/2 [00:01<00:00,  1.52it/s]\u001b[A\n",
            "Processing:  53%|█████▎    | 269/511 [05:29<05:15,  1.30s/it]\n",
            "Chunks:   0%|          | 0/2 [00:00<?, ?it/s]\u001b[A\n",
            "Chunks:  50%|█████     | 1/2 [00:01<00:01,  1.09s/it]\u001b[A\n",
            "Chunks: 100%|██████████| 2/2 [00:01<00:00,  1.64it/s]\u001b[A\n",
            "Processing:  53%|█████▎    | 270/511 [05:31<05:10,  1.29s/it]\n",
            "Chunks:   0%|          | 0/2 [00:00<?, ?it/s]\u001b[A\n",
            "Chunks:  50%|█████     | 1/2 [00:01<00:01,  1.10s/it]\u001b[A\n",
            "Chunks: 100%|██████████| 2/2 [00:01<00:00,  1.57it/s]\u001b[A\n",
            "Processing:  53%|█████▎    | 271/511 [05:32<05:09,  1.29s/it]\n",
            "Chunks:   0%|          | 0/2 [00:00<?, ?it/s]\u001b[A\n",
            "Chunks:  50%|█████     | 1/2 [00:01<00:01,  1.12s/it]\u001b[A\n",
            "Chunks: 100%|██████████| 2/2 [00:01<00:00,  1.60it/s]\u001b[A\n",
            "Processing:  53%|█████▎    | 272/511 [05:33<05:07,  1.29s/it]\n",
            "Chunks:   0%|          | 0/2 [00:00<?, ?it/s]\u001b[A\n",
            "Chunks:  50%|█████     | 1/2 [00:01<00:01,  1.12s/it]\u001b[A\n",
            "Chunks: 100%|██████████| 2/2 [00:01<00:00,  1.64it/s]\u001b[A\n",
            "Processing:  53%|█████▎    | 273/511 [05:35<05:03,  1.27s/it]\n",
            "Chunks:   0%|          | 0/2 [00:00<?, ?it/s]\u001b[A\n",
            "Chunks:  50%|█████     | 1/2 [00:01<00:01,  1.15s/it]\u001b[A\n",
            "Chunks: 100%|██████████| 2/2 [00:01<00:00,  1.55it/s]\u001b[A\n",
            "Processing:  54%|█████▎    | 274/511 [05:36<05:05,  1.29s/it]\n",
            "Chunks:   0%|          | 0/2 [00:00<?, ?it/s]\u001b[A\n",
            "Chunks:  50%|█████     | 1/2 [00:01<00:01,  1.12s/it]\u001b[A\n",
            "Chunks: 100%|██████████| 2/2 [00:01<00:00,  1.61it/s]\u001b[A\n",
            "Processing:  54%|█████▍    | 275/511 [05:37<05:02,  1.28s/it]\n",
            "Chunks:   0%|          | 0/2 [00:00<?, ?it/s]\u001b[A\n",
            "Chunks:  50%|█████     | 1/2 [00:01<00:01,  1.16s/it]\u001b[A\n",
            "Chunks: 100%|██████████| 2/2 [00:01<00:00,  1.57it/s]\u001b[A\n",
            "Processing:  54%|█████▍    | 276/511 [05:38<05:02,  1.29s/it]\n",
            "Chunks:   0%|          | 0/2 [00:00<?, ?it/s]\u001b[A\n",
            "Chunks:  50%|█████     | 1/2 [00:01<00:01,  1.17s/it]\u001b[A\n",
            "Chunks: 100%|██████████| 2/2 [00:01<00:00,  1.57it/s]\u001b[A\n",
            "Processing:  54%|█████▍    | 277/511 [05:40<05:01,  1.29s/it]\n",
            "Chunks:   0%|          | 0/2 [00:00<?, ?it/s]\u001b[A\n",
            "Chunks:  50%|█████     | 1/2 [00:01<00:01,  1.20s/it]\u001b[A\n",
            "Chunks: 100%|██████████| 2/2 [00:01<00:00,  1.54it/s]\u001b[A\n",
            "Processing:  54%|█████▍    | 278/511 [05:41<05:03,  1.30s/it]\n",
            "Chunks:   0%|          | 0/2 [00:00<?, ?it/s]\u001b[A\n",
            "Chunks: 100%|██████████| 2/2 [00:01<00:00,  1.53it/s]\u001b[A\n",
            "Processing:  55%|█████▍    | 279/511 [05:42<05:04,  1.31s/it]\n",
            "Chunks:   0%|          | 0/2 [00:00<?, ?it/s]\u001b[A\n",
            "Chunks:  50%|█████     | 1/2 [00:01<00:01,  1.12s/it]\u001b[A\n",
            "Chunks: 100%|██████████| 2/2 [00:01<00:00,  1.59it/s]\u001b[A\n",
            "Processing:  55%|█████▍    | 280/511 [05:44<05:00,  1.30s/it]\n",
            "Chunks:   0%|          | 0/2 [00:00<?, ?it/s]\u001b[A\n",
            "Chunks:  50%|█████     | 1/2 [00:01<00:01,  1.13s/it]\u001b[A\n",
            "Chunks: 100%|██████████| 2/2 [00:01<00:00,  1.56it/s]\u001b[A\n",
            "Processing:  55%|█████▍    | 281/511 [05:45<05:00,  1.31s/it]\n",
            "Chunks:   0%|          | 0/2 [00:00<?, ?it/s]\u001b[A\n",
            "Chunks:  50%|█████     | 1/2 [00:01<00:01,  1.13s/it]\u001b[A\n",
            "Chunks: 100%|██████████| 2/2 [00:01<00:00,  1.56it/s]\u001b[A\n",
            "Processing:  55%|█████▌    | 282/511 [05:46<04:59,  1.31s/it]\n",
            "Chunks:   0%|          | 0/2 [00:00<?, ?it/s]\u001b[A\n",
            "Chunks: 100%|██████████| 2/2 [00:01<00:00,  1.69it/s]\u001b[A\n",
            "Processing:  55%|█████▌    | 283/511 [05:47<04:51,  1.28s/it]\n",
            "Chunks:   0%|          | 0/2 [00:00<?, ?it/s]\u001b[A\n",
            "Chunks:  50%|█████     | 1/2 [00:01<00:01,  1.13s/it]\u001b[A\n",
            "Chunks: 100%|██████████| 2/2 [00:01<00:00,  1.60it/s]\u001b[A\n",
            "Processing:  56%|█████▌    | 284/511 [05:49<04:49,  1.28s/it]\n",
            "Chunks:   0%|          | 0/2 [00:00<?, ?it/s]\u001b[A\n",
            "Chunks:  50%|█████     | 1/2 [00:01<00:01,  1.11s/it]\u001b[A\n",
            "Chunks: 100%|██████████| 2/2 [00:01<00:00,  1.61it/s]\u001b[A\n",
            "Processing:  56%|█████▌    | 285/511 [05:50<04:47,  1.27s/it]\n",
            "Chunks:   0%|          | 0/2 [00:00<?, ?it/s]\u001b[A\n",
            "Chunks: 100%|██████████| 2/2 [00:01<00:00,  1.58it/s]\u001b[A\n",
            "Processing:  56%|█████▌    | 286/511 [05:51<04:47,  1.28s/it]\n",
            "Chunks:   0%|          | 0/2 [00:00<?, ?it/s]\u001b[A\n",
            "Chunks:  50%|█████     | 1/2 [00:01<00:01,  1.12s/it]\u001b[A\n",
            "Chunks: 100%|██████████| 2/2 [00:01<00:00,  1.62it/s]\u001b[A\n",
            "Processing:  56%|█████▌    | 287/511 [05:53<04:45,  1.27s/it]\n",
            "Chunks:   0%|          | 0/2 [00:00<?, ?it/s]\u001b[A\n",
            "Chunks:  50%|█████     | 1/2 [00:01<00:01,  1.15s/it]\u001b[A\n",
            "Chunks: 100%|██████████| 2/2 [00:01<00:00,  1.56it/s]\u001b[A\n",
            "Processing:  56%|█████▋    | 288/511 [05:54<04:46,  1.28s/it]\n",
            "Chunks:   0%|          | 0/2 [00:00<?, ?it/s]\u001b[A\n",
            "Chunks:  50%|█████     | 1/2 [00:01<00:01,  1.15s/it]\u001b[A\n",
            "Chunks: 100%|██████████| 2/2 [00:01<00:00,  1.53it/s]\u001b[A\n",
            "Processing:  57%|█████▋    | 289/511 [05:55<04:48,  1.30s/it]\n",
            "Chunks:   0%|          | 0/2 [00:00<?, ?it/s]\u001b[A\n",
            "Chunks:  50%|█████     | 1/2 [00:01<00:01,  1.14s/it]\u001b[A\n",
            "Chunks: 100%|██████████| 2/2 [00:01<00:00,  1.56it/s]\u001b[A\n",
            "Processing:  57%|█████▋    | 290/511 [05:57<04:47,  1.30s/it]\n",
            "Chunks:   0%|          | 0/2 [00:00<?, ?it/s]\u001b[A\n",
            "Chunks:  50%|█████     | 1/2 [00:01<00:01,  1.11s/it]\u001b[A\n",
            "Chunks: 100%|██████████| 2/2 [00:01<00:00,  1.59it/s]\u001b[A\n",
            "Processing:  57%|█████▋    | 291/511 [05:58<04:45,  1.30s/it]\n",
            "Chunks:   0%|          | 0/2 [00:00<?, ?it/s]\u001b[A\n",
            "Chunks:  50%|█████     | 1/2 [00:01<00:01,  1.10s/it]\u001b[A\n",
            "Chunks: 100%|██████████| 2/2 [00:01<00:00,  1.60it/s]\u001b[A\n",
            "Processing:  57%|█████▋    | 292/511 [05:59<04:42,  1.29s/it]\n",
            "Chunks:   0%|          | 0/2 [00:00<?, ?it/s]\u001b[A\n",
            "Chunks: 100%|██████████| 2/2 [00:01<00:00,  1.61it/s]\u001b[A\n",
            "Processing:  57%|█████▋    | 293/511 [06:00<04:39,  1.28s/it]\n",
            "Chunks:   0%|          | 0/2 [00:00<?, ?it/s]\u001b[A\n",
            "Chunks:  50%|█████     | 1/2 [00:01<00:01,  1.14s/it]\u001b[A\n",
            "Chunks: 100%|██████████| 2/2 [00:01<00:00,  1.57it/s]\u001b[A\n",
            "Processing:  58%|█████▊    | 294/511 [06:02<04:39,  1.29s/it]\n",
            "Chunks:   0%|          | 0/2 [00:00<?, ?it/s]\u001b[A\n",
            "Chunks: 100%|██████████| 2/2 [00:01<00:00,  1.59it/s]\u001b[A\n",
            "Processing:  58%|█████▊    | 295/511 [06:03<04:38,  1.29s/it]\n",
            "Chunks:   0%|          | 0/2 [00:00<?, ?it/s]\u001b[A\n",
            "Chunks: 100%|██████████| 2/2 [00:01<00:00,  1.63it/s]\u001b[A\n",
            "Processing:  58%|█████▊    | 296/511 [06:04<04:35,  1.28s/it]\n",
            "Chunks:   0%|          | 0/2 [00:00<?, ?it/s]\u001b[A\n",
            "Chunks:  50%|█████     | 1/2 [00:01<00:01,  1.12s/it]\u001b[A\n",
            "Chunks: 100%|██████████| 2/2 [00:01<00:00,  1.61it/s]\u001b[A\n",
            "Processing:  58%|█████▊    | 297/511 [06:05<04:32,  1.27s/it]\n",
            "Chunks:   0%|          | 0/2 [00:00<?, ?it/s]\u001b[A\n",
            "Chunks:  50%|█████     | 1/2 [00:01<00:01,  1.14s/it]\u001b[A\n",
            "Chunks: 100%|██████████| 2/2 [00:01<00:00,  1.57it/s]\u001b[A\n",
            "Processing:  58%|█████▊    | 298/511 [06:07<04:33,  1.28s/it]\n",
            "Chunks:   0%|          | 0/2 [00:00<?, ?it/s]\u001b[A\n",
            "Chunks:  50%|█████     | 1/2 [00:01<00:01,  1.14s/it]\u001b[A\n",
            "Chunks: 100%|██████████| 2/2 [00:01<00:00,  1.55it/s]\u001b[A\n",
            "Processing:  59%|█████▊    | 299/511 [06:08<04:34,  1.29s/it]\n",
            "Chunks:   0%|          | 0/2 [00:00<?, ?it/s]\u001b[A\n",
            "Chunks:  50%|█████     | 1/2 [00:01<00:01,  1.11s/it]\u001b[A\n",
            "Chunks: 100%|██████████| 2/2 [00:01<00:00,  1.59it/s]\u001b[A\n",
            "Processing:  59%|█████▊    | 300/511 [06:09<04:32,  1.29s/it]\n",
            "Chunks:   0%|          | 0/2 [00:00<?, ?it/s]\u001b[A\n",
            "Chunks:  50%|█████     | 1/2 [00:01<00:01,  1.14s/it]\u001b[A\n",
            "Chunks: 100%|██████████| 2/2 [00:01<00:00,  1.58it/s]\u001b[A\n",
            "Processing:  59%|█████▉    | 301/511 [06:11<04:31,  1.29s/it]\n",
            "Chunks:   0%|          | 0/2 [00:00<?, ?it/s]\u001b[A\n",
            "Chunks:  50%|█████     | 1/2 [00:01<00:01,  1.10s/it]\u001b[A\n",
            "Chunks: 100%|██████████| 2/2 [00:01<00:00,  1.61it/s]\u001b[A\n",
            "Processing:  59%|█████▉    | 302/511 [06:12<04:28,  1.28s/it]\n",
            "Chunks:   0%|          | 0/2 [00:00<?, ?it/s]\u001b[A\n",
            "Chunks:  50%|█████     | 1/2 [00:01<00:01,  1.12s/it]\u001b[A\n",
            "Chunks: 100%|██████████| 2/2 [00:01<00:00,  1.59it/s]\u001b[A\n",
            "Processing:  59%|█████▉    | 303/511 [06:13<04:27,  1.28s/it]\n",
            "Chunks:   0%|          | 0/2 [00:00<?, ?it/s]\u001b[A\n",
            "Chunks: 100%|██████████| 2/2 [00:01<00:00,  1.60it/s]\u001b[A\n",
            "Processing:  59%|█████▉    | 304/511 [06:14<04:25,  1.28s/it]\n",
            "Chunks:   0%|          | 0/2 [00:00<?, ?it/s]\u001b[A\n",
            "Chunks:  50%|█████     | 1/2 [00:01<00:01,  1.10s/it]\u001b[A\n",
            "Chunks: 100%|██████████| 2/2 [00:01<00:00,  1.64it/s]\u001b[A\n",
            "Processing:  60%|█████▉    | 305/511 [06:16<04:21,  1.27s/it]\n",
            "Chunks:   0%|          | 0/2 [00:00<?, ?it/s]\u001b[A\n",
            "Chunks:  50%|█████     | 1/2 [00:01<00:01,  1.16s/it]\u001b[A\n",
            "Chunks: 100%|██████████| 2/2 [00:01<00:00,  1.55it/s]\u001b[A\n",
            "Processing:  60%|█████▉    | 306/511 [06:17<04:23,  1.28s/it]\n",
            "Chunks:   0%|          | 0/2 [00:00<?, ?it/s]\u001b[A\n",
            "Chunks:  50%|█████     | 1/2 [00:01<00:01,  1.15s/it]\u001b[A\n",
            "Chunks: 100%|██████████| 2/2 [00:01<00:00,  1.53it/s]\u001b[A\n",
            "Processing:  60%|██████    | 307/511 [06:18<04:24,  1.30s/it]\n",
            "Chunks:   0%|          | 0/2 [00:00<?, ?it/s]\u001b[A\n",
            "Chunks:  50%|█████     | 1/2 [00:01<00:01,  1.13s/it]\u001b[A\n",
            "Chunks: 100%|██████████| 2/2 [00:01<00:00,  1.60it/s]\u001b[A\n",
            "Processing:  60%|██████    | 308/511 [06:20<04:22,  1.29s/it]\n",
            "Chunks:   0%|          | 0/2 [00:00<?, ?it/s]\u001b[A\n",
            "Chunks:  50%|█████     | 1/2 [00:01<00:01,  1.18s/it]\u001b[A\n",
            "Chunks: 100%|██████████| 2/2 [00:01<00:00,  1.55it/s]\u001b[A\n",
            "Processing:  60%|██████    | 309/511 [06:21<04:22,  1.30s/it]\n",
            "Chunks:   0%|          | 0/2 [00:00<?, ?it/s]\u001b[A\n",
            "Chunks:  50%|█████     | 1/2 [00:01<00:01,  1.10s/it]\u001b[A\n",
            "Chunks: 100%|██████████| 2/2 [00:01<00:00,  1.65it/s]\u001b[A\n",
            "Processing:  61%|██████    | 310/511 [06:22<04:17,  1.28s/it]\n",
            "Chunks:   0%|          | 0/2 [00:00<?, ?it/s]\u001b[A\n",
            "Chunks:  50%|█████     | 1/2 [00:01<00:01,  1.10s/it]\u001b[A\n",
            "Chunks: 100%|██████████| 2/2 [00:01<00:00,  1.55it/s]\u001b[A\n",
            "Processing:  61%|██████    | 311/511 [06:24<04:18,  1.29s/it]\n",
            "Chunks:   0%|          | 0/2 [00:00<?, ?it/s]\u001b[A\n",
            "Chunks:  50%|█████     | 1/2 [00:01<00:01,  1.11s/it]\u001b[A\n",
            "Chunks: 100%|██████████| 2/2 [00:01<00:00,  1.62it/s]\u001b[A\n",
            "Processing:  61%|██████    | 312/511 [06:25<04:14,  1.28s/it]\n",
            "Chunks:   0%|          | 0/2 [00:00<?, ?it/s]\u001b[A\n",
            "Chunks:  50%|█████     | 1/2 [00:01<00:01,  1.17s/it]\u001b[A\n",
            "Chunks: 100%|██████████| 2/2 [00:01<00:00,  1.57it/s]\u001b[A\n",
            "Processing:  61%|██████▏   | 313/511 [06:26<04:14,  1.29s/it]\n",
            "Chunks:   0%|          | 0/2 [00:00<?, ?it/s]\u001b[A\n",
            "Chunks:  50%|█████     | 1/2 [00:01<00:01,  1.16s/it]\u001b[A\n",
            "Chunks: 100%|██████████| 2/2 [00:01<00:00,  1.54it/s]\u001b[A\n",
            "Processing:  61%|██████▏   | 314/511 [06:27<04:15,  1.30s/it]\n",
            "Chunks:   0%|          | 0/2 [00:00<?, ?it/s]\u001b[A\n",
            "Chunks:  50%|█████     | 1/2 [00:01<00:01,  1.18s/it]\u001b[A\n",
            "Chunks: 100%|██████████| 2/2 [00:01<00:00,  1.52it/s]\u001b[A\n",
            "Processing:  62%|██████▏   | 315/511 [06:29<04:17,  1.31s/it]\n",
            "Chunks:   0%|          | 0/2 [00:00<?, ?it/s]\u001b[A\n",
            "Chunks:  50%|█████     | 1/2 [00:01<00:01,  1.12s/it]\u001b[A\n",
            "Chunks: 100%|██████████| 2/2 [00:01<00:00,  1.56it/s]\u001b[A\n",
            "Processing:  62%|██████▏   | 316/511 [06:30<04:15,  1.31s/it]\n",
            "Chunks:   0%|          | 0/2 [00:00<?, ?it/s]\u001b[A\n",
            "Chunks:  50%|█████     | 1/2 [00:01<00:01,  1.11s/it]\u001b[A\n",
            "Chunks: 100%|██████████| 2/2 [00:01<00:00,  1.53it/s]\u001b[A\n",
            "Processing:  62%|██████▏   | 317/511 [06:31<04:15,  1.32s/it]\n",
            "Chunks:   0%|          | 0/2 [00:00<?, ?it/s]\u001b[A\n",
            "Chunks:  50%|█████     | 1/2 [00:01<00:01,  1.12s/it]\u001b[A\n",
            "Chunks: 100%|██████████| 2/2 [00:01<00:00,  1.59it/s]\u001b[A\n",
            "Processing:  62%|██████▏   | 318/511 [06:33<04:12,  1.31s/it]\n",
            "Chunks:   0%|          | 0/2 [00:00<?, ?it/s]\u001b[A\n",
            "Chunks:  50%|█████     | 1/2 [00:01<00:01,  1.14s/it]\u001b[A\n",
            "Chunks: 100%|██████████| 2/2 [00:01<00:00,  1.56it/s]\u001b[A\n",
            "Processing:  62%|██████▏   | 319/511 [06:34<04:10,  1.31s/it]\n",
            "Chunks:   0%|          | 0/2 [00:00<?, ?it/s]\u001b[A\n",
            "Chunks:  50%|█████     | 1/2 [00:01<00:01,  1.11s/it]\u001b[A\n",
            "Chunks: 100%|██████████| 2/2 [00:01<00:00,  1.62it/s]\u001b[A\n",
            "Processing:  63%|██████▎   | 320/511 [06:35<04:06,  1.29s/it]\n",
            "Chunks:   0%|          | 0/2 [00:00<?, ?it/s]\u001b[A\n",
            "Chunks: 100%|██████████| 2/2 [00:01<00:00,  1.53it/s]\u001b[A\n",
            "Processing:  63%|██████▎   | 321/511 [06:37<04:07,  1.30s/it]\n",
            "Chunks:   0%|          | 0/2 [00:00<?, ?it/s]\u001b[A\n",
            "Chunks:  50%|█████     | 1/2 [00:01<00:01,  1.11s/it]\u001b[A\n",
            "Chunks: 100%|██████████| 2/2 [00:01<00:00,  1.62it/s]\u001b[A\n",
            "Processing:  63%|██████▎   | 322/511 [06:38<04:03,  1.29s/it]\n",
            "Chunks:   0%|          | 0/2 [00:00<?, ?it/s]\u001b[A\n",
            "Chunks:  50%|█████     | 1/2 [00:01<00:01,  1.08s/it]\u001b[A\n",
            "Chunks: 100%|██████████| 2/2 [00:01<00:00,  1.59it/s]\u001b[A\n",
            "Processing:  63%|██████▎   | 323/511 [06:39<04:02,  1.29s/it]\n",
            "Chunks:   0%|          | 0/2 [00:00<?, ?it/s]\u001b[A\n",
            "Chunks: 100%|██████████| 2/2 [00:01<00:00,  1.60it/s]\u001b[A\n",
            "Processing:  63%|██████▎   | 324/511 [06:40<04:00,  1.28s/it]\n",
            "Chunks:   0%|          | 0/2 [00:00<?, ?it/s]\u001b[A\n",
            "Chunks:  50%|█████     | 1/2 [00:01<00:01,  1.14s/it]\u001b[A\n",
            "Chunks: 100%|██████████| 2/2 [00:01<00:00,  1.57it/s]\u001b[A\n",
            "Processing:  64%|██████▎   | 325/511 [06:42<03:59,  1.29s/it]\n",
            "Chunks:   0%|          | 0/2 [00:00<?, ?it/s]\u001b[A\n",
            "Chunks:  50%|█████     | 1/2 [00:01<00:01,  1.14s/it]\u001b[A\n",
            "Chunks: 100%|██████████| 2/2 [00:01<00:00,  1.53it/s]\u001b[A\n",
            "Processing:  64%|██████▍   | 326/511 [06:43<04:00,  1.30s/it]\n",
            "Chunks:   0%|          | 0/2 [00:00<?, ?it/s]\u001b[A\n",
            "Chunks: 100%|██████████| 2/2 [00:01<00:00,  1.55it/s]\u001b[A\n",
            "Processing:  64%|██████▍   | 327/511 [06:44<04:00,  1.31s/it]\n",
            "Chunks:   0%|          | 0/2 [00:00<?, ?it/s]\u001b[A\n",
            "Chunks:  50%|█████     | 1/2 [00:01<00:01,  1.20s/it]\u001b[A\n",
            "Chunks: 100%|██████████| 2/2 [00:01<00:00,  1.46it/s]\u001b[A\n",
            "Processing:  64%|██████▍   | 328/511 [06:46<04:04,  1.33s/it]\n",
            "Chunks:   0%|          | 0/2 [00:00<?, ?it/s]\u001b[A\n",
            "Chunks:  50%|█████     | 1/2 [00:01<00:01,  1.12s/it]\u001b[A\n",
            "Chunks: 100%|██████████| 2/2 [00:01<00:00,  1.57it/s]\u001b[A\n",
            "Processing:  64%|██████▍   | 329/511 [06:47<04:01,  1.32s/it]\n",
            "Chunks:   0%|          | 0/2 [00:00<?, ?it/s]\u001b[A\n",
            "Chunks:  50%|█████     | 1/2 [00:01<00:01,  1.09s/it]\u001b[A\n",
            "Chunks: 100%|██████████| 2/2 [00:01<00:00,  1.60it/s]\u001b[A\n",
            "Processing:  65%|██████▍   | 330/511 [06:48<03:57,  1.31s/it]\n",
            "Chunks:   0%|          | 0/2 [00:00<?, ?it/s]\u001b[A\n",
            "Chunks:  50%|█████     | 1/2 [00:01<00:01,  1.09s/it]\u001b[A\n",
            "Chunks: 100%|██████████| 2/2 [00:01<00:00,  1.57it/s]\u001b[A\n",
            "Processing:  65%|██████▍   | 331/511 [06:50<03:55,  1.31s/it]\n",
            "Chunks:   0%|          | 0/2 [00:00<?, ?it/s]\u001b[A\n",
            "Chunks:  50%|█████     | 1/2 [00:01<00:01,  1.16s/it]\u001b[A\n",
            "Chunks: 100%|██████████| 2/2 [00:01<00:00,  1.55it/s]\u001b[A\n",
            "Processing:  65%|██████▍   | 332/511 [06:51<03:54,  1.31s/it]\n",
            "Chunks:   0%|          | 0/2 [00:00<?, ?it/s]\u001b[A\n",
            "Chunks:  50%|█████     | 1/2 [00:01<00:01,  1.12s/it]\u001b[A\n",
            "Chunks: 100%|██████████| 2/2 [00:01<00:00,  1.54it/s]\u001b[A\n",
            "Processing:  65%|██████▌   | 333/511 [06:52<03:53,  1.31s/it]\n",
            "Chunks:   0%|          | 0/2 [00:00<?, ?it/s]\u001b[A\n",
            "Chunks:  50%|█████     | 1/2 [00:01<00:01,  1.14s/it]\u001b[A\n",
            "Chunks: 100%|██████████| 2/2 [00:01<00:00,  1.59it/s]\u001b[A\n",
            "Processing:  65%|██████▌   | 334/511 [06:54<03:50,  1.30s/it]\n",
            "Chunks:   0%|          | 0/2 [00:00<?, ?it/s]\u001b[A\n",
            "Chunks:  50%|█████     | 1/2 [00:01<00:01,  1.13s/it]\u001b[A\n",
            "Chunks: 100%|██████████| 2/2 [00:01<00:00,  1.58it/s]\u001b[A\n",
            "Processing:  66%|██████▌   | 335/511 [06:55<03:48,  1.30s/it]\n",
            "Chunks:   0%|          | 0/2 [00:00<?, ?it/s]\u001b[A\n",
            "Chunks:  50%|█████     | 1/2 [00:01<00:01,  1.08s/it]\u001b[A\n",
            "Chunks: 100%|██████████| 2/2 [00:01<00:00,  1.67it/s]\u001b[A\n",
            "Processing:  66%|██████▌   | 336/511 [06:56<03:43,  1.28s/it]\n",
            "Chunks:   0%|          | 0/2 [00:00<?, ?it/s]\u001b[A\n",
            "Chunks:  50%|█████     | 1/2 [00:01<00:01,  1.11s/it]\u001b[A\n",
            "Chunks: 100%|██████████| 2/2 [00:01<00:00,  1.56it/s]\u001b[A\n",
            "Processing:  66%|██████▌   | 337/511 [06:57<03:44,  1.29s/it]\n",
            "Chunks:   0%|          | 0/2 [00:00<?, ?it/s]\u001b[A\n",
            "Chunks:  50%|█████     | 1/2 [00:01<00:01,  1.11s/it]\u001b[A\n",
            "Chunks: 100%|██████████| 2/2 [00:01<00:00,  1.60it/s]\u001b[A\n",
            "Processing:  66%|██████▌   | 338/511 [06:59<03:42,  1.28s/it]\n",
            "Chunks:   0%|          | 0/2 [00:00<?, ?it/s]\u001b[A\n",
            "Chunks:  50%|█████     | 1/2 [00:01<00:01,  1.12s/it]\u001b[A\n",
            "Chunks: 100%|██████████| 2/2 [00:01<00:00,  1.58it/s]\u001b[A\n",
            "Processing:  66%|██████▋   | 339/511 [07:00<03:41,  1.29s/it]\n",
            "Chunks:   0%|          | 0/2 [00:00<?, ?it/s]\u001b[A\n",
            "Chunks: 100%|██████████| 2/2 [00:01<00:00,  1.61it/s]\u001b[A\n",
            "Processing:  67%|██████▋   | 340/511 [07:01<03:38,  1.28s/it]\n",
            "Chunks:   0%|          | 0/2 [00:00<?, ?it/s]\u001b[A\n",
            "Chunks:  50%|█████     | 1/2 [00:01<00:01,  1.11s/it]\u001b[A\n",
            "Chunks: 100%|██████████| 2/2 [00:01<00:00,  1.59it/s]\u001b[A\n",
            "Processing:  67%|██████▋   | 341/511 [07:02<03:37,  1.28s/it]\n",
            "Chunks:   0%|          | 0/2 [00:00<?, ?it/s]\u001b[A\n",
            "Chunks:  50%|█████     | 1/2 [00:01<00:01,  1.14s/it]\u001b[A\n",
            "Chunks: 100%|██████████| 2/2 [00:01<00:00,  1.57it/s]\u001b[A\n",
            "Processing:  67%|██████▋   | 342/511 [07:04<03:37,  1.29s/it]\n",
            "Chunks:   0%|          | 0/2 [00:00<?, ?it/s]\u001b[A\n",
            "Chunks:  50%|█████     | 1/2 [00:01<00:01,  1.13s/it]\u001b[A\n",
            "Chunks: 100%|██████████| 2/2 [00:01<00:00,  1.58it/s]\u001b[A\n",
            "Processing:  67%|██████▋   | 343/511 [07:05<03:36,  1.29s/it]\n",
            "Chunks:   0%|          | 0/2 [00:00<?, ?it/s]\u001b[A\n",
            "Chunks: 100%|██████████| 2/2 [00:01<00:00,  1.67it/s]\u001b[A\n",
            "Processing:  67%|██████▋   | 344/511 [07:06<03:31,  1.27s/it]\n",
            "Chunks:   0%|          | 0/2 [00:00<?, ?it/s]\u001b[A\n",
            "Chunks:  50%|█████     | 1/2 [00:01<00:01,  1.13s/it]\u001b[A\n",
            "Chunks: 100%|██████████| 2/2 [00:01<00:00,  1.59it/s]\u001b[A\n",
            "Processing:  68%|██████▊   | 345/511 [07:08<03:31,  1.27s/it]\n",
            "Chunks:   0%|          | 0/2 [00:00<?, ?it/s]\u001b[A\n",
            "Chunks: 100%|██████████| 2/2 [00:01<00:00,  1.58it/s]\u001b[A\n",
            "Processing:  68%|██████▊   | 346/511 [07:09<03:30,  1.28s/it]\n",
            "Chunks:   0%|          | 0/2 [00:00<?, ?it/s]\u001b[A\n",
            "Chunks:  50%|█████     | 1/2 [00:01<00:01,  1.13s/it]\u001b[A\n",
            "Chunks: 100%|██████████| 2/2 [00:01<00:00,  1.56it/s]\u001b[A\n",
            "Processing:  68%|██████▊   | 347/511 [07:10<03:30,  1.29s/it]\n",
            "Chunks:   0%|          | 0/2 [00:00<?, ?it/s]\u001b[A\n",
            "Chunks: 100%|██████████| 2/2 [00:01<00:00,  1.62it/s]\u001b[A\n",
            "Processing:  68%|██████▊   | 348/511 [07:11<03:28,  1.28s/it]\n",
            "Chunks:   0%|          | 0/2 [00:00<?, ?it/s]\u001b[A\n",
            "Chunks:  50%|█████     | 1/2 [00:01<00:01,  1.09s/it]\u001b[A\n",
            "Chunks: 100%|██████████| 2/2 [00:01<00:00,  1.62it/s]\u001b[A\n",
            "Processing:  68%|██████▊   | 349/511 [07:13<03:25,  1.27s/it]\n",
            "Chunks:   0%|          | 0/2 [00:00<?, ?it/s]\u001b[A\n",
            "Chunks:  50%|█████     | 1/2 [00:01<00:01,  1.15s/it]\u001b[A\n",
            "Chunks: 100%|██████████| 2/2 [00:01<00:00,  1.53it/s]\u001b[A\n",
            "Processing:  68%|██████▊   | 350/511 [07:14<03:27,  1.29s/it]\n",
            "Chunks:   0%|          | 0/2 [00:00<?, ?it/s]\u001b[A\n",
            "Chunks:  50%|█████     | 1/2 [00:01<00:01,  1.17s/it]\u001b[A\n",
            "Chunks: 100%|██████████| 2/2 [00:01<00:00,  1.52it/s]\u001b[A\n",
            "Processing:  69%|██████▊   | 351/511 [07:15<03:28,  1.30s/it]\n",
            "Chunks:   0%|          | 0/2 [00:00<?, ?it/s]\u001b[A\n",
            "Chunks: 100%|██████████| 2/2 [00:01<00:00,  1.61it/s]\u001b[A\n",
            "Processing:  69%|██████▉   | 352/511 [07:17<03:25,  1.29s/it]\n",
            "Chunks:   0%|          | 0/2 [00:00<?, ?it/s]\u001b[A\n",
            "Chunks:  50%|█████     | 1/2 [00:01<00:01,  1.15s/it]\u001b[A\n",
            "Chunks: 100%|██████████| 2/2 [00:01<00:00,  1.53it/s]\u001b[A\n",
            "Processing:  69%|██████▉   | 353/511 [07:18<03:26,  1.30s/it]\n",
            "Chunks:   0%|          | 0/2 [00:00<?, ?it/s]\u001b[A\n",
            "Chunks:  50%|█████     | 1/2 [00:01<00:01,  1.13s/it]\u001b[A\n",
            "Chunks: 100%|██████████| 2/2 [00:01<00:00,  1.60it/s]\u001b[A\n",
            "Processing:  69%|██████▉   | 354/511 [07:19<03:23,  1.30s/it]\n",
            "Chunks:   0%|          | 0/2 [00:00<?, ?it/s]\u001b[A\n",
            "Chunks:  50%|█████     | 1/2 [00:01<00:01,  1.10s/it]\u001b[A\n",
            "Chunks: 100%|██████████| 2/2 [00:01<00:00,  1.54it/s]\u001b[A\n",
            "Processing:  69%|██████▉   | 355/511 [07:21<03:23,  1.31s/it]\n",
            "Chunks:   0%|          | 0/2 [00:00<?, ?it/s]\u001b[A\n",
            "Chunks:  50%|█████     | 1/2 [00:01<00:01,  1.11s/it]\u001b[A\n",
            "Chunks: 100%|██████████| 2/2 [00:01<00:00,  1.61it/s]\u001b[A\n",
            "Processing:  70%|██████▉   | 356/511 [07:22<03:20,  1.29s/it]\n",
            "Chunks:   0%|          | 0/2 [00:00<?, ?it/s]\u001b[A\n",
            "Chunks: 100%|██████████| 2/2 [00:01<00:00,  1.59it/s]\u001b[A\n",
            "Processing:  70%|██████▉   | 357/511 [07:23<03:18,  1.29s/it]\n",
            "Chunks:   0%|          | 0/2 [00:00<?, ?it/s]\u001b[A\n",
            "Chunks:  50%|█████     | 1/2 [00:01<00:01,  1.14s/it]\u001b[A\n",
            "Chunks: 100%|██████████| 2/2 [00:01<00:00,  1.57it/s]\u001b[A\n",
            "Processing:  70%|███████   | 358/511 [07:24<03:17,  1.29s/it]\n",
            "Chunks:   0%|          | 0/2 [00:00<?, ?it/s]\u001b[A\n",
            "Chunks:  50%|█████     | 1/2 [00:01<00:01,  1.14s/it]\u001b[A\n",
            "Chunks: 100%|██████████| 2/2 [00:01<00:00,  1.55it/s]\u001b[A\n",
            "Processing:  70%|███████   | 359/511 [07:26<03:17,  1.30s/it]\n",
            "Chunks:   0%|          | 0/2 [00:00<?, ?it/s]\u001b[A\n",
            "Chunks:  50%|█████     | 1/2 [00:01<00:01,  1.15s/it]\u001b[A\n",
            "Chunks: 100%|██████████| 2/2 [00:01<00:00,  1.51it/s]\u001b[A\n",
            "Processing:  70%|███████   | 360/511 [07:27<03:18,  1.32s/it]\n",
            "Chunks:   0%|          | 0/2 [00:00<?, ?it/s]\u001b[A\n",
            "Chunks:  50%|█████     | 1/2 [00:01<00:01,  1.12s/it]\u001b[A\n",
            "Chunks: 100%|██████████| 2/2 [00:01<00:00,  1.61it/s]\u001b[A\n",
            "Processing:  71%|███████   | 361/511 [07:28<03:15,  1.30s/it]\n",
            "Chunks:   0%|          | 0/2 [00:00<?, ?it/s]\u001b[A\n",
            "Chunks:  50%|█████     | 1/2 [00:01<00:01,  1.10s/it]\u001b[A\n",
            "Chunks: 100%|██████████| 2/2 [00:01<00:00,  1.63it/s]\u001b[A\n",
            "Processing:  71%|███████   | 362/511 [07:30<03:11,  1.29s/it]\n",
            "Chunks:   0%|          | 0/2 [00:00<?, ?it/s]\u001b[A\n",
            "Chunks:  50%|█████     | 1/2 [00:01<00:01,  1.13s/it]\u001b[A\n",
            "Chunks: 100%|██████████| 2/2 [00:01<00:00,  1.56it/s]\u001b[A\n",
            "Processing:  71%|███████   | 363/511 [07:31<03:11,  1.29s/it]\n",
            "Chunks:   0%|          | 0/2 [00:00<?, ?it/s]\u001b[A\n",
            "Chunks:  50%|█████     | 1/2 [00:01<00:01,  1.09s/it]\u001b[A\n",
            "Chunks: 100%|██████████| 2/2 [00:01<00:00,  1.63it/s]\u001b[A\n",
            "Processing:  71%|███████   | 364/511 [07:32<03:08,  1.28s/it]\n",
            "Chunks:   0%|          | 0/2 [00:00<?, ?it/s]\u001b[A\n",
            "Chunks:  50%|█████     | 1/2 [00:01<00:01,  1.10s/it]\u001b[A\n",
            "Chunks: 100%|██████████| 2/2 [00:01<00:00,  1.61it/s]\u001b[A\n",
            "Processing:  71%|███████▏  | 365/511 [07:33<03:06,  1.28s/it]\n",
            "Chunks:   0%|          | 0/2 [00:00<?, ?it/s]\u001b[A\n",
            "Chunks:  50%|█████     | 1/2 [00:01<00:01,  1.15s/it]\u001b[A\n",
            "Chunks: 100%|██████████| 2/2 [00:01<00:00,  1.58it/s]\u001b[A\n",
            "Processing:  72%|███████▏  | 366/511 [07:35<03:05,  1.28s/it]\n",
            "Chunks:   0%|          | 0/2 [00:00<?, ?it/s]\u001b[A\n",
            "Chunks:  50%|█████     | 1/2 [00:01<00:01,  1.13s/it]\u001b[A\n",
            "Chunks: 100%|██████████| 2/2 [00:01<00:00,  1.56it/s]\u001b[A\n",
            "Processing:  72%|███████▏  | 367/511 [07:36<03:05,  1.29s/it]\n",
            "Chunks:   0%|          | 0/2 [00:00<?, ?it/s]\u001b[A\n",
            "Chunks:  50%|█████     | 1/2 [00:01<00:01,  1.12s/it]\u001b[A\n",
            "Chunks: 100%|██████████| 2/2 [00:01<00:00,  1.61it/s]\u001b[A\n",
            "Processing:  72%|███████▏  | 368/511 [07:37<03:03,  1.28s/it]\n",
            "Chunks:   0%|          | 0/2 [00:00<?, ?it/s]\u001b[A\n",
            "Chunks:  50%|█████     | 1/2 [00:01<00:01,  1.13s/it]\u001b[A\n",
            "Chunks: 100%|██████████| 2/2 [00:01<00:00,  1.59it/s]\u001b[A\n",
            "Processing:  72%|███████▏  | 369/511 [07:39<03:02,  1.28s/it]\n",
            "Chunks:   0%|          | 0/2 [00:00<?, ?it/s]\u001b[A\n",
            "Chunks:  50%|█████     | 1/2 [00:01<00:01,  1.09s/it]\u001b[A\n",
            "Chunks: 100%|██████████| 2/2 [00:01<00:00,  1.67it/s]\u001b[A\n",
            "Processing:  72%|███████▏  | 370/511 [07:40<02:58,  1.27s/it]\n",
            "Chunks:   0%|          | 0/2 [00:00<?, ?it/s]\u001b[A\n",
            "Chunks: 100%|██████████| 2/2 [00:01<00:00,  1.51it/s]\u001b[A\n",
            "Processing:  73%|███████▎  | 371/511 [07:41<03:00,  1.29s/it]\n",
            "Chunks:   0%|          | 0/2 [00:00<?, ?it/s]\u001b[A\n",
            "Chunks:  50%|█████     | 1/2 [00:01<00:01,  1.13s/it]\u001b[A\n",
            "Chunks: 100%|██████████| 2/2 [00:01<00:00,  1.62it/s]\u001b[A\n",
            "Processing:  73%|███████▎  | 372/511 [07:42<02:58,  1.28s/it]\n",
            "Chunks:   0%|          | 0/2 [00:00<?, ?it/s]\u001b[A\n",
            "Chunks:  50%|█████     | 1/2 [00:01<00:01,  1.07s/it]\u001b[A\n",
            "Chunks: 100%|██████████| 2/2 [00:01<00:00,  1.62it/s]\u001b[A\n",
            "Processing:  73%|███████▎  | 373/511 [07:44<02:56,  1.28s/it]\n",
            "Chunks:   0%|          | 0/2 [00:00<?, ?it/s]\u001b[A\n",
            "Chunks:  50%|█████     | 1/2 [00:01<00:01,  1.15s/it]\u001b[A\n",
            "Chunks: 100%|██████████| 2/2 [00:01<00:00,  1.54it/s]\u001b[A\n",
            "Processing:  73%|███████▎  | 374/511 [07:45<02:57,  1.29s/it]\n",
            "Chunks:   0%|          | 0/2 [00:00<?, ?it/s]\u001b[A\n",
            "Chunks:  50%|█████     | 1/2 [00:01<00:01,  1.17s/it]\u001b[A\n",
            "Chunks: 100%|██████████| 2/2 [00:01<00:00,  1.56it/s]\u001b[A\n",
            "Processing:  73%|███████▎  | 375/511 [07:46<02:56,  1.30s/it]\n",
            "Chunks:   0%|          | 0/2 [00:00<?, ?it/s]\u001b[A\n",
            "Chunks:  50%|█████     | 1/2 [00:01<00:01,  1.13s/it]\u001b[A\n",
            "Chunks: 100%|██████████| 2/2 [00:01<00:00,  1.61it/s]\u001b[A\n",
            "Processing:  74%|███████▎  | 376/511 [07:48<02:54,  1.29s/it]\n",
            "Chunks:   0%|          | 0/2 [00:00<?, ?it/s]\u001b[A\n",
            "Chunks:  50%|█████     | 1/2 [00:01<00:01,  1.14s/it]\u001b[A\n",
            "Chunks: 100%|██████████| 2/2 [00:01<00:00,  1.56it/s]\u001b[A\n",
            "Processing:  74%|███████▍  | 377/511 [07:49<02:53,  1.29s/it]\n",
            "Chunks:   0%|          | 0/2 [00:00<?, ?it/s]\u001b[A\n",
            "Chunks:  50%|█████     | 1/2 [00:01<00:01,  1.09s/it]\u001b[A\n",
            "Chunks: 100%|██████████| 2/2 [00:01<00:00,  1.61it/s]\u001b[A\n",
            "Processing:  74%|███████▍  | 378/511 [07:50<02:51,  1.29s/it]\n",
            "Chunks:   0%|          | 0/2 [00:00<?, ?it/s]\u001b[A\n",
            "Chunks: 100%|██████████| 2/2 [00:01<00:00,  1.63it/s]\u001b[A\n",
            "Processing:  74%|███████▍  | 379/511 [07:51<02:48,  1.28s/it]\n",
            "Chunks:   0%|          | 0/2 [00:00<?, ?it/s]\u001b[A\n",
            "Chunks:  50%|█████     | 1/2 [00:01<00:01,  1.17s/it]\u001b[A\n",
            "Chunks: 100%|██████████| 2/2 [00:01<00:00,  1.55it/s]\u001b[A\n",
            "Processing:  74%|███████▍  | 380/511 [07:53<02:48,  1.29s/it]\n",
            "Chunks:   0%|          | 0/2 [00:00<?, ?it/s]\u001b[A\n",
            "Chunks:  50%|█████     | 1/2 [00:01<00:01,  1.13s/it]\u001b[A\n",
            "Chunks: 100%|██████████| 2/2 [00:01<00:00,  1.60it/s]\u001b[A\n",
            "Processing:  75%|███████▍  | 381/511 [07:54<02:46,  1.28s/it]\n",
            "Chunks:   0%|          | 0/2 [00:00<?, ?it/s]\u001b[A\n",
            "Chunks:  50%|█████     | 1/2 [00:01<00:01,  1.12s/it]\u001b[A\n",
            "Chunks: 100%|██████████| 2/2 [00:01<00:00,  1.63it/s]\u001b[A\n",
            "Processing:  75%|███████▍  | 382/511 [07:55<02:44,  1.27s/it]\n",
            "Chunks:   0%|          | 0/2 [00:00<?, ?it/s]\u001b[A\n",
            "Chunks:  50%|█████     | 1/2 [00:01<00:01,  1.12s/it]\u001b[A\n",
            "Chunks: 100%|██████████| 2/2 [00:01<00:00,  1.56it/s]\u001b[A\n",
            "Processing:  75%|███████▍  | 383/511 [07:57<02:44,  1.28s/it]\n",
            "Chunks:   0%|          | 0/2 [00:00<?, ?it/s]\u001b[A\n",
            "Chunks:  50%|█████     | 1/2 [00:01<00:01,  1.18s/it]\u001b[A\n",
            "Chunks: 100%|██████████| 2/2 [00:01<00:00,  1.56it/s]\u001b[A\n",
            "Processing:  75%|███████▌  | 384/511 [07:58<02:43,  1.29s/it]\n",
            "Chunks:   0%|          | 0/2 [00:00<?, ?it/s]\u001b[A\n",
            "Chunks:  50%|█████     | 1/2 [00:01<00:01,  1.13s/it]\u001b[A\n",
            "Chunks: 100%|██████████| 2/2 [00:01<00:00,  1.58it/s]\u001b[A\n",
            "Processing:  75%|███████▌  | 385/511 [07:59<02:42,  1.29s/it]\n",
            "Chunks:   0%|          | 0/2 [00:00<?, ?it/s]\u001b[A\n",
            "Chunks:  50%|█████     | 1/2 [00:01<00:01,  1.15s/it]\u001b[A\n",
            "Chunks: 100%|██████████| 2/2 [00:01<00:00,  1.50it/s]\u001b[A\n",
            "Processing:  76%|███████▌  | 386/511 [08:00<02:44,  1.31s/it]\n",
            "Chunks:   0%|          | 0/2 [00:00<?, ?it/s]\u001b[A\n",
            "Chunks:  50%|█████     | 1/2 [00:01<00:01,  1.14s/it]\u001b[A\n",
            "Chunks: 100%|██████████| 2/2 [00:01<00:00,  1.59it/s]\u001b[A\n",
            "Processing:  76%|███████▌  | 387/511 [08:02<02:41,  1.30s/it]\n",
            "Chunks:   0%|          | 0/2 [00:00<?, ?it/s]\u001b[A\n",
            "Chunks:  50%|█████     | 1/2 [00:01<00:01,  1.19s/it]\u001b[A\n",
            "Chunks: 100%|██████████| 2/2 [00:01<00:00,  1.54it/s]\u001b[A\n",
            "Processing:  76%|███████▌  | 388/511 [08:03<02:41,  1.31s/it]\n",
            "Chunks:   0%|          | 0/2 [00:00<?, ?it/s]\u001b[A\n",
            "Chunks:  50%|█████     | 1/2 [00:01<00:01,  1.10s/it]\u001b[A\n",
            "Chunks: 100%|██████████| 2/2 [00:01<00:00,  1.63it/s]\u001b[A\n",
            "Processing:  76%|███████▌  | 389/511 [08:04<02:37,  1.29s/it]\n",
            "Chunks:   0%|          | 0/2 [00:00<?, ?it/s]\u001b[A\n",
            "Chunks:  50%|█████     | 1/2 [00:01<00:01,  1.15s/it]\u001b[A\n",
            "Chunks: 100%|██████████| 2/2 [00:01<00:00,  1.57it/s]\u001b[A\n",
            "Processing:  76%|███████▋  | 390/511 [08:06<02:36,  1.29s/it]\n",
            "Chunks:   0%|          | 0/2 [00:00<?, ?it/s]\u001b[A\n",
            "Chunks:  50%|█████     | 1/2 [00:01<00:01,  1.17s/it]\u001b[A\n",
            "Chunks: 100%|██████████| 2/2 [00:01<00:00,  1.55it/s]\u001b[A\n",
            "Processing:  77%|███████▋  | 391/511 [08:07<02:36,  1.30s/it]\n",
            "Chunks:   0%|          | 0/2 [00:00<?, ?it/s]\u001b[A\n",
            "Chunks:  50%|█████     | 1/2 [00:01<00:01,  1.09s/it]\u001b[A\n",
            "Chunks: 100%|██████████| 2/2 [00:01<00:00,  1.61it/s]\u001b[A\n",
            "Processing:  77%|███████▋  | 392/511 [08:08<02:33,  1.29s/it]\n",
            "Chunks:   0%|          | 0/2 [00:00<?, ?it/s]\u001b[A\n",
            "Chunks:  50%|█████     | 1/2 [00:01<00:01,  1.17s/it]\u001b[A\n",
            "Chunks: 100%|██████████| 2/2 [00:01<00:00,  1.54it/s]\u001b[A\n",
            "Processing:  77%|███████▋  | 393/511 [08:10<02:33,  1.30s/it]\n",
            "Chunks:   0%|          | 0/2 [00:00<?, ?it/s]\u001b[A\n",
            "Chunks:  50%|█████     | 1/2 [00:01<00:01,  1.13s/it]\u001b[A\n",
            "Chunks: 100%|██████████| 2/2 [00:01<00:00,  1.54it/s]\u001b[A\n",
            "Processing:  77%|███████▋  | 394/511 [08:11<02:33,  1.31s/it]\n",
            "Chunks:   0%|          | 0/2 [00:00<?, ?it/s]\u001b[A\n",
            "Chunks:  50%|█████     | 1/2 [00:01<00:01,  1.21s/it]\u001b[A\n",
            "Chunks: 100%|██████████| 2/2 [00:01<00:00,  1.48it/s]\u001b[A\n",
            "Processing:  77%|███████▋  | 395/511 [08:12<02:34,  1.33s/it]\n",
            "Chunks:   0%|          | 0/2 [00:00<?, ?it/s]\u001b[A\n",
            "Chunks:  50%|█████     | 1/2 [00:01<00:01,  1.18s/it]\u001b[A\n",
            "Chunks: 100%|██████████| 2/2 [00:01<00:00,  1.50it/s]\u001b[A\n",
            "Processing:  77%|███████▋  | 396/511 [08:14<02:34,  1.34s/it]\n",
            "Chunks:   0%|          | 0/2 [00:00<?, ?it/s]\u001b[A\n",
            "Chunks:  50%|█████     | 1/2 [00:01<00:01,  1.10s/it]\u001b[A\n",
            "Chunks: 100%|██████████| 2/2 [00:01<00:00,  1.60it/s]\u001b[A\n",
            "Processing:  78%|███████▊  | 397/511 [08:15<02:30,  1.32s/it]\n",
            "Chunks:   0%|          | 0/2 [00:00<?, ?it/s]\u001b[A\n",
            "Chunks:  50%|█████     | 1/2 [00:01<00:01,  1.11s/it]\u001b[A\n",
            "Chunks: 100%|██████████| 2/2 [00:01<00:00,  1.62it/s]\u001b[A\n",
            "Processing:  78%|███████▊  | 398/511 [08:16<02:27,  1.30s/it]\n",
            "Chunks:   0%|          | 0/2 [00:00<?, ?it/s]\u001b[A\n",
            "Chunks:  50%|█████     | 1/2 [00:01<00:01,  1.10s/it]\u001b[A\n",
            "Chunks: 100%|██████████| 2/2 [00:01<00:00,  1.60it/s]\u001b[A\n",
            "Processing:  78%|███████▊  | 399/511 [08:17<02:25,  1.30s/it]\n",
            "Chunks:   0%|          | 0/2 [00:00<?, ?it/s]\u001b[A\n",
            "Chunks:  50%|█████     | 1/2 [00:01<00:01,  1.10s/it]\u001b[A\n",
            "Chunks: 100%|██████████| 2/2 [00:01<00:00,  1.63it/s]\u001b[A\n",
            "Processing:  78%|███████▊  | 400/511 [08:19<02:22,  1.28s/it]\n",
            "Chunks:   0%|          | 0/2 [00:00<?, ?it/s]\u001b[A\n",
            "Chunks:  50%|█████     | 1/2 [00:01<00:01,  1.16s/it]\u001b[A\n",
            "Chunks: 100%|██████████| 2/2 [00:01<00:00,  1.49it/s]\u001b[A\n",
            "Processing:  78%|███████▊  | 401/511 [08:20<02:24,  1.31s/it]\n",
            "Chunks:   0%|          | 0/2 [00:00<?, ?it/s]\u001b[A\n",
            "Chunks:  50%|█████     | 1/2 [00:01<00:01,  1.10s/it]\u001b[A\n",
            "Chunks: 100%|██████████| 2/2 [00:01<00:00,  1.56it/s]\u001b[A\n",
            "Processing:  79%|███████▊  | 402/511 [08:21<02:22,  1.31s/it]\n",
            "Chunks:   0%|          | 0/2 [00:00<?, ?it/s]\u001b[A\n",
            "Chunks:  50%|█████     | 1/2 [00:01<00:01,  1.18s/it]\u001b[A\n",
            "Chunks: 100%|██████████| 2/2 [00:01<00:00,  1.52it/s]\u001b[A\n",
            "Processing:  79%|███████▉  | 403/511 [08:23<02:22,  1.32s/it]\n",
            "Chunks:   0%|          | 0/2 [00:00<?, ?it/s]\u001b[A\n",
            "Chunks:  50%|█████     | 1/2 [00:01<00:01,  1.17s/it]\u001b[A\n",
            "Chunks: 100%|██████████| 2/2 [00:01<00:00,  1.57it/s]\u001b[A\n",
            "Processing:  79%|███████▉  | 404/511 [08:24<02:20,  1.31s/it]\n",
            "Chunks:   0%|          | 0/2 [00:00<?, ?it/s]\u001b[A\n",
            "Chunks:  50%|█████     | 1/2 [00:01<00:01,  1.10s/it]\u001b[A\n",
            "Chunks: 100%|██████████| 2/2 [00:01<00:00,  1.62it/s]\u001b[A\n",
            "Processing:  79%|███████▉  | 405/511 [08:25<02:17,  1.30s/it]\n",
            "Chunks:   0%|          | 0/2 [00:00<?, ?it/s]\u001b[A\n",
            "Chunks:  50%|█████     | 1/2 [00:01<00:01,  1.13s/it]\u001b[A\n",
            "Chunks: 100%|██████████| 2/2 [00:01<00:00,  1.59it/s]\u001b[A\n",
            "Processing:  79%|███████▉  | 406/511 [08:27<02:15,  1.29s/it]\n",
            "Chunks:   0%|          | 0/2 [00:00<?, ?it/s]\u001b[A\n",
            "Chunks:  50%|█████     | 1/2 [00:01<00:01,  1.13s/it]\u001b[A\n",
            "Chunks: 100%|██████████| 2/2 [00:01<00:00,  1.54it/s]\u001b[A\n",
            "Processing:  80%|███████▉  | 407/511 [08:28<02:15,  1.30s/it]\n",
            "Chunks:   0%|          | 0/2 [00:00<?, ?it/s]\u001b[A\n",
            "Chunks:  50%|█████     | 1/2 [00:01<00:01,  1.13s/it]\u001b[A\n",
            "Chunks: 100%|██████████| 2/2 [00:01<00:00,  1.55it/s]\u001b[A\n",
            "Processing:  80%|███████▉  | 408/511 [08:29<02:14,  1.30s/it]\n",
            "Chunks:   0%|          | 0/2 [00:00<?, ?it/s]\u001b[A\n",
            "Chunks:  50%|█████     | 1/2 [00:01<00:01,  1.16s/it]\u001b[A\n",
            "Chunks: 100%|██████████| 2/2 [00:01<00:00,  1.51it/s]\u001b[A\n",
            "Processing:  80%|████████  | 409/511 [08:31<02:14,  1.32s/it]\n",
            "Chunks:   0%|          | 0/2 [00:00<?, ?it/s]\u001b[A\n",
            "Chunks:  50%|█████     | 1/2 [00:01<00:01,  1.14s/it]\u001b[A\n",
            "Chunks: 100%|██████████| 2/2 [00:01<00:00,  1.57it/s]\u001b[A\n",
            "Processing:  80%|████████  | 410/511 [08:32<02:12,  1.31s/it]\n",
            "Chunks:   0%|          | 0/2 [00:00<?, ?it/s]\u001b[A\n",
            "Chunks:  50%|█████     | 1/2 [00:01<00:01,  1.14s/it]\u001b[A\n",
            "Chunks: 100%|██████████| 2/2 [00:01<00:00,  1.53it/s]\u001b[A\n",
            "Processing:  80%|████████  | 411/511 [08:33<02:11,  1.32s/it]\n",
            "Chunks:   0%|          | 0/2 [00:00<?, ?it/s]\u001b[A\n",
            "Chunks:  50%|█████     | 1/2 [00:01<00:01,  1.10s/it]\u001b[A\n",
            "Chunks: 100%|██████████| 2/2 [00:01<00:00,  1.66it/s]\u001b[A\n",
            "Processing:  81%|████████  | 412/511 [08:34<02:07,  1.29s/it]\n",
            "Chunks:   0%|          | 0/2 [00:00<?, ?it/s]\u001b[A\n",
            "Chunks:  50%|█████     | 1/2 [00:01<00:01,  1.13s/it]\u001b[A\n",
            "Chunks: 100%|██████████| 2/2 [00:01<00:00,  1.56it/s]\u001b[A\n",
            "Processing:  81%|████████  | 413/511 [08:36<02:07,  1.30s/it]\n",
            "Chunks:   0%|          | 0/2 [00:00<?, ?it/s]\u001b[A\n",
            "Chunks:  50%|█████     | 1/2 [00:01<00:01,  1.16s/it]\u001b[A\n",
            "Chunks: 100%|██████████| 2/2 [00:01<00:00,  1.49it/s]\u001b[A\n",
            "Processing:  81%|████████  | 414/511 [08:37<02:07,  1.32s/it]\n",
            "Chunks:   0%|          | 0/2 [00:00<?, ?it/s]\u001b[A\n",
            "Chunks: 100%|██████████| 2/2 [00:01<00:00,  1.63it/s]\u001b[A\n",
            "Processing:  81%|████████  | 415/511 [08:38<02:04,  1.30s/it]\n",
            "Chunks:   0%|          | 0/2 [00:00<?, ?it/s]\u001b[A\n",
            "Chunks:  50%|█████     | 1/2 [00:01<00:01,  1.12s/it]\u001b[A\n",
            "Chunks: 100%|██████████| 2/2 [00:01<00:00,  1.56it/s]\u001b[A\n",
            "Processing:  81%|████████▏ | 416/511 [08:40<02:03,  1.30s/it]\n",
            "Chunks:   0%|          | 0/2 [00:00<?, ?it/s]\u001b[A\n",
            "Chunks:  50%|█████     | 1/2 [00:01<00:01,  1.12s/it]\u001b[A\n",
            "Chunks: 100%|██████████| 2/2 [00:01<00:00,  1.52it/s]\u001b[A\n",
            "Processing:  82%|████████▏ | 417/511 [08:41<02:03,  1.31s/it]\n",
            "Chunks:   0%|          | 0/2 [00:00<?, ?it/s]\u001b[A\n",
            "Chunks:  50%|█████     | 1/2 [00:01<00:01,  1.10s/it]\u001b[A\n",
            "Chunks: 100%|██████████| 2/2 [00:01<00:00,  1.55it/s]\u001b[A\n",
            "Processing:  82%|████████▏ | 418/511 [08:42<02:02,  1.31s/it]\n",
            "Chunks:   0%|          | 0/2 [00:00<?, ?it/s]\u001b[A\n",
            "Chunks:  50%|█████     | 1/2 [00:01<00:01,  1.12s/it]\u001b[A\n",
            "Chunks: 100%|██████████| 2/2 [00:01<00:00,  1.60it/s]\u001b[A\n",
            "Processing:  82%|████████▏ | 419/511 [08:44<01:59,  1.30s/it]\n",
            "Chunks:   0%|          | 0/2 [00:00<?, ?it/s]\u001b[A\n",
            "Chunks:  50%|█████     | 1/2 [00:01<00:01,  1.13s/it]\u001b[A\n",
            "Chunks: 100%|██████████| 2/2 [00:01<00:00,  1.57it/s]\u001b[A\n",
            "Processing:  82%|████████▏ | 420/511 [08:45<01:58,  1.30s/it]\n",
            "Chunks:   0%|          | 0/2 [00:00<?, ?it/s]\u001b[A\n",
            "Chunks:  50%|█████     | 1/2 [00:01<00:01,  1.18s/it]\u001b[A\n",
            "Chunks: 100%|██████████| 2/2 [00:01<00:00,  1.52it/s]\u001b[A\n",
            "Processing:  82%|████████▏ | 421/511 [08:46<01:58,  1.31s/it]\n",
            "Chunks:   0%|          | 0/2 [00:00<?, ?it/s]\u001b[A\n",
            "Chunks:  50%|█████     | 1/2 [00:01<00:01,  1.13s/it]\u001b[A\n",
            "Chunks: 100%|██████████| 2/2 [00:01<00:00,  1.56it/s]\u001b[A\n",
            "Processing:  83%|████████▎ | 422/511 [08:48<01:56,  1.31s/it]\n",
            "Chunks:   0%|          | 0/2 [00:00<?, ?it/s]\u001b[A\n",
            "Chunks:  50%|█████     | 1/2 [00:01<00:01,  1.13s/it]\u001b[A\n",
            "Chunks: 100%|██████████| 2/2 [00:01<00:00,  1.54it/s]\u001b[A\n",
            "Processing:  83%|████████▎ | 423/511 [08:49<01:55,  1.31s/it]\n",
            "Chunks:   0%|          | 0/2 [00:00<?, ?it/s]\u001b[A\n",
            "Chunks:  50%|█████     | 1/2 [00:01<00:01,  1.15s/it]\u001b[A\n",
            "Chunks: 100%|██████████| 2/2 [00:01<00:00,  1.51it/s]\u001b[A\n",
            "Processing:  83%|████████▎ | 424/511 [08:50<01:55,  1.33s/it]\n",
            "Chunks:   0%|          | 0/2 [00:00<?, ?it/s]\u001b[A\n",
            "Chunks:  50%|█████     | 1/2 [00:01<00:01,  1.17s/it]\u001b[A\n",
            "Chunks: 100%|██████████| 2/2 [00:01<00:00,  1.53it/s]\u001b[A\n",
            "Processing:  83%|████████▎ | 425/511 [08:52<01:54,  1.33s/it]\n",
            "Chunks:   0%|          | 0/2 [00:00<?, ?it/s]\u001b[A\n",
            "Chunks:  50%|█████     | 1/2 [00:01<00:01,  1.13s/it]\u001b[A\n",
            "Chunks: 100%|██████████| 2/2 [00:01<00:00,  1.55it/s]\u001b[A\n",
            "Processing:  83%|████████▎ | 426/511 [08:53<01:52,  1.32s/it]\n",
            "Chunks:   0%|          | 0/2 [00:00<?, ?it/s]\u001b[A\n",
            "Chunks:  50%|█████     | 1/2 [00:01<00:01,  1.13s/it]\u001b[A\n",
            "Chunks: 100%|██████████| 2/2 [00:01<00:00,  1.54it/s]\u001b[A\n",
            "Processing:  84%|████████▎ | 427/511 [08:54<01:51,  1.32s/it]\n",
            "Chunks:   0%|          | 0/2 [00:00<?, ?it/s]\u001b[A\n",
            "Chunks:  50%|█████     | 1/2 [00:01<00:01,  1.11s/it]\u001b[A\n",
            "Chunks: 100%|██████████| 2/2 [00:01<00:00,  1.60it/s]\u001b[A\n",
            "Processing:  84%|████████▍ | 428/511 [08:55<01:48,  1.31s/it]\n",
            "Chunks:   0%|          | 0/2 [00:00<?, ?it/s]\u001b[A\n",
            "Chunks:  50%|█████     | 1/2 [00:01<00:01,  1.12s/it]\u001b[A\n",
            "Chunks: 100%|██████████| 2/2 [00:01<00:00,  1.57it/s]\u001b[A\n",
            "Processing:  84%|████████▍ | 429/511 [08:57<01:47,  1.31s/it]\n",
            "Chunks:   0%|          | 0/2 [00:00<?, ?it/s]\u001b[A\n",
            "Chunks:  50%|█████     | 1/2 [00:01<00:01,  1.13s/it]\u001b[A\n",
            "Chunks: 100%|██████████| 2/2 [00:01<00:00,  1.53it/s]\u001b[A\n",
            "Processing:  84%|████████▍ | 430/511 [08:58<01:46,  1.31s/it]\n",
            "Chunks:   0%|          | 0/2 [00:00<?, ?it/s]\u001b[A\n",
            "Chunks: 100%|██████████| 2/2 [00:01<00:00,  1.65it/s]\u001b[A\n",
            "Processing:  84%|████████▍ | 431/511 [08:59<01:43,  1.29s/it]\n",
            "Chunks:   0%|          | 0/2 [00:00<?, ?it/s]\u001b[A\n",
            "Chunks:  50%|█████     | 1/2 [00:01<00:01,  1.15s/it]\u001b[A\n",
            "Chunks: 100%|██████████| 2/2 [00:01<00:00,  1.57it/s]\u001b[A\n",
            "Processing:  85%|████████▍ | 432/511 [09:01<01:42,  1.29s/it]\n",
            "Chunks:   0%|          | 0/2 [00:00<?, ?it/s]\u001b[A\n",
            "Chunks:  50%|█████     | 1/2 [00:01<00:01,  1.13s/it]\u001b[A\n",
            "Chunks: 100%|██████████| 2/2 [00:01<00:00,  1.51it/s]\u001b[A\n",
            "Processing:  85%|████████▍ | 433/511 [09:02<01:42,  1.31s/it]\n",
            "Chunks:   0%|          | 0/2 [00:00<?, ?it/s]\u001b[A\n",
            "Chunks:  50%|█████     | 1/2 [00:01<00:01,  1.14s/it]\u001b[A\n",
            "Chunks: 100%|██████████| 2/2 [00:01<00:00,  1.58it/s]\u001b[A\n",
            "Processing:  85%|████████▍ | 434/511 [09:03<01:40,  1.31s/it]\n",
            "Chunks:   0%|          | 0/2 [00:00<?, ?it/s]\u001b[A\n",
            "Chunks:  50%|█████     | 1/2 [00:01<00:01,  1.17s/it]\u001b[A\n",
            "Chunks: 100%|██████████| 2/2 [00:01<00:00,  1.52it/s]\u001b[A\n",
            "Processing:  85%|████████▌ | 435/511 [09:05<01:39,  1.31s/it]\n",
            "Chunks:   0%|          | 0/2 [00:00<?, ?it/s]\u001b[A\n",
            "Chunks:  50%|█████     | 1/2 [00:01<00:01,  1.11s/it]\u001b[A\n",
            "Chunks: 100%|██████████| 2/2 [00:01<00:00,  1.61it/s]\u001b[A\n",
            "Processing:  85%|████████▌ | 436/511 [09:06<01:37,  1.30s/it]\n",
            "Chunks:   0%|          | 0/2 [00:00<?, ?it/s]\u001b[A\n",
            "Chunks:  50%|█████     | 1/2 [00:01<00:01,  1.16s/it]\u001b[A\n",
            "Chunks: 100%|██████████| 2/2 [00:01<00:00,  1.57it/s]\u001b[A\n",
            "Processing:  86%|████████▌ | 437/511 [09:07<01:36,  1.30s/it]\n",
            "Chunks:   0%|          | 0/2 [00:00<?, ?it/s]\u001b[A\n",
            "Chunks:  50%|█████     | 1/2 [00:01<00:01,  1.18s/it]\u001b[A\n",
            "Chunks: 100%|██████████| 2/2 [00:01<00:00,  1.55it/s]\u001b[A\n",
            "Processing:  86%|████████▌ | 438/511 [09:08<01:35,  1.31s/it]\n",
            "Chunks:   0%|          | 0/2 [00:00<?, ?it/s]\u001b[A\n",
            "Chunks: 100%|██████████| 2/2 [00:01<00:00,  1.60it/s]\u001b[A\n",
            "Processing:  86%|████████▌ | 439/511 [09:10<01:33,  1.30s/it]\n",
            "Chunks:   0%|          | 0/2 [00:00<?, ?it/s]\u001b[A\n",
            "Chunks:  50%|█████     | 1/2 [00:01<00:01,  1.15s/it]\u001b[A\n",
            "Chunks: 100%|██████████| 2/2 [00:01<00:00,  1.54it/s]\u001b[A\n",
            "Processing:  86%|████████▌ | 440/511 [09:11<01:32,  1.30s/it]\n",
            "Chunks:   0%|          | 0/2 [00:00<?, ?it/s]\u001b[A\n",
            "Chunks:  50%|█████     | 1/2 [00:01<00:01,  1.11s/it]\u001b[A\n",
            "Chunks: 100%|██████████| 2/2 [00:01<00:00,  1.60it/s]\u001b[A\n",
            "Processing:  86%|████████▋ | 441/511 [09:12<01:30,  1.30s/it]\n",
            "Chunks:   0%|          | 0/2 [00:00<?, ?it/s]\u001b[A\n",
            "Chunks:  50%|█████     | 1/2 [00:01<00:01,  1.13s/it]\u001b[A\n",
            "Chunks: 100%|██████████| 2/2 [00:01<00:00,  1.54it/s]\u001b[A\n",
            "Processing:  86%|████████▋ | 442/511 [09:14<01:30,  1.31s/it]\n",
            "Chunks:   0%|          | 0/2 [00:00<?, ?it/s]\u001b[A\n",
            "Chunks:  50%|█████     | 1/2 [00:01<00:01,  1.11s/it]\u001b[A\n",
            "Chunks: 100%|██████████| 2/2 [00:01<00:00,  1.59it/s]\u001b[A\n",
            "Processing:  87%|████████▋ | 443/511 [09:15<01:28,  1.30s/it]\n",
            "Chunks:   0%|          | 0/2 [00:00<?, ?it/s]\u001b[A\n",
            "Chunks:  50%|█████     | 1/2 [00:01<00:01,  1.16s/it]\u001b[A\n",
            "Chunks: 100%|██████████| 2/2 [00:01<00:00,  1.52it/s]\u001b[A\n",
            "Processing:  87%|████████▋ | 444/511 [09:16<01:27,  1.31s/it]\n",
            "Chunks:   0%|          | 0/2 [00:00<?, ?it/s]\u001b[A\n",
            "Chunks:  50%|█████     | 1/2 [00:01<00:01,  1.14s/it]\u001b[A\n",
            "Chunks: 100%|██████████| 2/2 [00:01<00:00,  1.57it/s]\u001b[A\n",
            "Processing:  87%|████████▋ | 445/511 [09:18<01:26,  1.31s/it]\n",
            "Chunks:   0%|          | 0/2 [00:00<?, ?it/s]\u001b[A\n",
            "Chunks:  50%|█████     | 1/2 [00:01<00:01,  1.16s/it]\u001b[A\n",
            "Chunks: 100%|██████████| 2/2 [00:01<00:00,  1.53it/s]\u001b[A\n",
            "Processing:  87%|████████▋ | 446/511 [09:19<01:25,  1.32s/it]\n",
            "Chunks:   0%|          | 0/2 [00:00<?, ?it/s]\u001b[A\n",
            "Chunks:  50%|█████     | 1/2 [00:01<00:01,  1.13s/it]\u001b[A\n",
            "Chunks: 100%|██████████| 2/2 [00:01<00:00,  1.54it/s]\u001b[A\n",
            "Processing:  87%|████████▋ | 447/511 [09:20<01:24,  1.32s/it]\n",
            "Chunks:   0%|          | 0/2 [00:00<?, ?it/s]\u001b[A\n",
            "Chunks: 100%|██████████| 2/2 [00:01<00:00,  1.58it/s]\u001b[A\n",
            "Processing:  88%|████████▊ | 448/511 [09:22<01:22,  1.31s/it]\n",
            "Chunks:   0%|          | 0/2 [00:00<?, ?it/s]\u001b[A\n",
            "Chunks:  50%|█████     | 1/2 [00:01<00:01,  1.11s/it]\u001b[A\n",
            "Chunks: 100%|██████████| 2/2 [00:01<00:00,  1.60it/s]\u001b[A\n",
            "Processing:  88%|████████▊ | 449/511 [09:23<01:20,  1.30s/it]\n",
            "Chunks:   0%|          | 0/2 [00:00<?, ?it/s]\u001b[A\n",
            "Chunks: 100%|██████████| 2/2 [00:01<00:00,  1.74it/s]\u001b[A\n",
            "Processing:  88%|████████▊ | 450/511 [09:24<01:16,  1.26s/it]\n",
            "Chunks:   0%|          | 0/2 [00:00<?, ?it/s]\u001b[A\n",
            "Chunks:  50%|█████     | 1/2 [00:01<00:01,  1.12s/it]\u001b[A\n",
            "Chunks: 100%|██████████| 2/2 [00:01<00:00,  1.59it/s]\u001b[A\n",
            "Processing:  88%|████████▊ | 451/511 [09:25<01:16,  1.27s/it]\n",
            "Chunks:   0%|          | 0/2 [00:00<?, ?it/s]\u001b[A\n",
            "Chunks:  50%|█████     | 1/2 [00:01<00:01,  1.11s/it]\u001b[A\n",
            "Chunks: 100%|██████████| 2/2 [00:01<00:00,  1.59it/s]\u001b[A\n",
            "Processing:  88%|████████▊ | 452/511 [09:27<01:14,  1.27s/it]\n",
            "Chunks:   0%|          | 0/2 [00:00<?, ?it/s]\u001b[A\n",
            "Chunks:  50%|█████     | 1/2 [00:01<00:01,  1.10s/it]\u001b[A\n",
            "Chunks: 100%|██████████| 2/2 [00:01<00:00,  1.64it/s]\u001b[A\n",
            "Processing:  89%|████████▊ | 453/511 [09:28<01:13,  1.26s/it]\n",
            "Chunks:   0%|          | 0/2 [00:00<?, ?it/s]\u001b[A\n",
            "Chunks:  50%|█████     | 1/2 [00:01<00:01,  1.17s/it]\u001b[A\n",
            "Chunks: 100%|██████████| 2/2 [00:01<00:00,  1.55it/s]\u001b[A\n",
            "Processing:  89%|████████▉ | 454/511 [09:29<01:12,  1.28s/it]\n",
            "Chunks:   0%|          | 0/2 [00:00<?, ?it/s]\u001b[A\n",
            "Chunks:  50%|█████     | 1/2 [00:01<00:01,  1.15s/it]\u001b[A\n",
            "Chunks: 100%|██████████| 2/2 [00:01<00:00,  1.56it/s]\u001b[A\n",
            "Processing:  89%|████████▉ | 455/511 [09:30<01:12,  1.29s/it]\n",
            "Chunks:   0%|          | 0/2 [00:00<?, ?it/s]\u001b[A\n",
            "Chunks:  50%|█████     | 1/2 [00:01<00:01,  1.11s/it]\u001b[A\n",
            "Chunks: 100%|██████████| 2/2 [00:01<00:00,  1.59it/s]\u001b[A\n",
            "Processing:  89%|████████▉ | 456/511 [09:32<01:10,  1.29s/it]\n",
            "Chunks:   0%|          | 0/2 [00:00<?, ?it/s]\u001b[A\n",
            "Chunks:  50%|█████     | 1/2 [00:01<00:01,  1.08s/it]\u001b[A\n",
            "Chunks: 100%|██████████| 2/2 [00:01<00:00,  1.65it/s]\u001b[A\n",
            "Processing:  89%|████████▉ | 457/511 [09:33<01:08,  1.27s/it]\n",
            "Chunks:   0%|          | 0/2 [00:00<?, ?it/s]\u001b[A\n",
            "Chunks:  50%|█████     | 1/2 [00:01<00:01,  1.18s/it]\u001b[A\n",
            "Chunks: 100%|██████████| 2/2 [00:01<00:00,  1.54it/s]\u001b[A\n",
            "Processing:  90%|████████▉ | 458/511 [09:34<01:08,  1.29s/it]\n",
            "Chunks:   0%|          | 0/2 [00:00<?, ?it/s]\u001b[A\n",
            "Chunks:  50%|█████     | 1/2 [00:01<00:01,  1.11s/it]\u001b[A\n",
            "Chunks: 100%|██████████| 2/2 [00:01<00:00,  1.59it/s]\u001b[A\n",
            "Processing:  90%|████████▉ | 459/511 [09:36<01:07,  1.29s/it]\n",
            "Chunks:   0%|          | 0/2 [00:00<?, ?it/s]\u001b[A\n",
            "Chunks: 100%|██████████| 2/2 [00:01<00:00,  1.62it/s]\u001b[A\n",
            "Processing:  90%|█████████ | 460/511 [09:37<01:05,  1.28s/it]\n",
            "Chunks:   0%|          | 0/2 [00:00<?, ?it/s]\u001b[A\n",
            "Chunks: 100%|██████████| 2/2 [00:01<00:00,  1.55it/s]\u001b[A\n",
            "Processing:  90%|█████████ | 461/511 [09:38<01:04,  1.29s/it]\n",
            "Chunks:   0%|          | 0/2 [00:00<?, ?it/s]\u001b[A\n",
            "Chunks:  50%|█████     | 1/2 [00:01<00:01,  1.17s/it]\u001b[A\n",
            "Chunks: 100%|██████████| 2/2 [00:01<00:00,  1.57it/s]\u001b[A\n",
            "Processing:  90%|█████████ | 462/511 [09:39<01:03,  1.29s/it]\n",
            "Chunks:   0%|          | 0/2 [00:00<?, ?it/s]\u001b[A\n",
            "Chunks:  50%|█████     | 1/2 [00:01<00:01,  1.11s/it]\u001b[A\n",
            "Chunks: 100%|██████████| 2/2 [00:01<00:00,  1.61it/s]\u001b[A\n",
            "Processing:  91%|█████████ | 463/511 [09:41<01:01,  1.28s/it]\n",
            "Chunks:   0%|          | 0/2 [00:00<?, ?it/s]\u001b[A\n",
            "Chunks:  50%|█████     | 1/2 [00:01<00:01,  1.18s/it]\u001b[A\n",
            "Chunks: 100%|██████████| 2/2 [00:01<00:00,  1.49it/s]\u001b[A\n",
            "Processing:  91%|█████████ | 464/511 [09:42<01:01,  1.31s/it]\n",
            "Chunks:   0%|          | 0/2 [00:00<?, ?it/s]\u001b[A\n",
            "Chunks: 100%|██████████| 2/2 [00:01<00:00,  1.61it/s]\u001b[A\n",
            "Processing:  91%|█████████ | 465/511 [09:43<00:59,  1.30s/it]\n",
            "Chunks:   0%|          | 0/2 [00:00<?, ?it/s]\u001b[A\n",
            "Chunks:  50%|█████     | 1/2 [00:01<00:01,  1.17s/it]\u001b[A\n",
            "Chunks: 100%|██████████| 2/2 [00:01<00:00,  1.54it/s]\u001b[A\n",
            "Processing:  91%|█████████ | 466/511 [09:45<00:58,  1.31s/it]\n",
            "Chunks:   0%|          | 0/2 [00:00<?, ?it/s]\u001b[A\n",
            "Chunks:  50%|█████     | 1/2 [00:01<00:01,  1.13s/it]\u001b[A\n",
            "Chunks: 100%|██████████| 2/2 [00:01<00:00,  1.61it/s]\u001b[A\n",
            "Processing:  91%|█████████▏| 467/511 [09:46<00:56,  1.29s/it]\n",
            "Chunks:   0%|          | 0/2 [00:00<?, ?it/s]\u001b[A\n",
            "Chunks:  50%|█████     | 1/2 [00:01<00:01,  1.13s/it]\u001b[A\n",
            "Chunks: 100%|██████████| 2/2 [00:01<00:00,  1.59it/s]\u001b[A\n",
            "Processing:  92%|█████████▏| 468/511 [09:47<00:55,  1.29s/it]\n",
            "Chunks:   0%|          | 0/2 [00:00<?, ?it/s]\u001b[A\n",
            "Chunks: 100%|██████████| 2/2 [00:01<00:00,  1.53it/s]\u001b[A\n",
            "Processing:  92%|█████████▏| 469/511 [09:49<00:54,  1.30s/it]\n",
            "Chunks:   0%|          | 0/2 [00:00<?, ?it/s]\u001b[A\n",
            "Chunks:  50%|█████     | 1/2 [00:00<00:00,  1.10it/s]\u001b[A\n",
            "Chunks: 100%|██████████| 2/2 [00:01<00:00,  1.63it/s]\u001b[A\n",
            "Processing:  92%|█████████▏| 470/511 [09:50<00:52,  1.29s/it]\n",
            "Chunks:   0%|          | 0/2 [00:00<?, ?it/s]\u001b[A\n",
            "Chunks:  50%|█████     | 1/2 [00:01<00:01,  1.15s/it]\u001b[A\n",
            "Chunks: 100%|██████████| 2/2 [00:01<00:00,  1.53it/s]\u001b[A\n",
            "Processing:  92%|█████████▏| 471/511 [09:51<00:52,  1.30s/it]\n",
            "Chunks:   0%|          | 0/2 [00:00<?, ?it/s]\u001b[A\n",
            "Chunks:  50%|█████     | 1/2 [00:01<00:01,  1.10s/it]\u001b[A\n",
            "Chunks: 100%|██████████| 2/2 [00:01<00:00,  1.64it/s]\u001b[A\n",
            "Processing:  92%|█████████▏| 472/511 [09:52<00:50,  1.28s/it]\n",
            "Chunks:   0%|          | 0/2 [00:00<?, ?it/s]\u001b[A\n",
            "Chunks:  50%|█████     | 1/2 [00:01<00:01,  1.13s/it]\u001b[A\n",
            "Chunks: 100%|██████████| 2/2 [00:01<00:00,  1.60it/s]\u001b[A\n",
            "Processing:  93%|█████████▎| 473/511 [09:54<00:48,  1.28s/it]\n",
            "Chunks:   0%|          | 0/2 [00:00<?, ?it/s]\u001b[A\n",
            "Chunks:  50%|█████     | 1/2 [00:01<00:01,  1.15s/it]\u001b[A\n",
            "Chunks: 100%|██████████| 2/2 [00:01<00:00,  1.55it/s]\u001b[A\n",
            "Processing:  93%|█████████▎| 474/511 [09:55<00:47,  1.29s/it]\n",
            "Chunks:   0%|          | 0/2 [00:00<?, ?it/s]\u001b[A\n",
            "Chunks: 100%|██████████| 2/2 [00:01<00:00,  1.60it/s]\u001b[A\n",
            "Processing:  93%|█████████▎| 475/511 [09:56<00:46,  1.29s/it]\n",
            "Chunks:   0%|          | 0/2 [00:00<?, ?it/s]\u001b[A\n",
            "Chunks:  50%|█████     | 1/2 [00:01<00:01,  1.12s/it]\u001b[A\n",
            "Chunks: 100%|██████████| 2/2 [00:01<00:00,  1.60it/s]\u001b[A\n",
            "Processing:  93%|█████████▎| 476/511 [09:58<00:44,  1.28s/it]\n",
            "Chunks:   0%|          | 0/2 [00:00<?, ?it/s]\u001b[A\n",
            "Chunks:  50%|█████     | 1/2 [00:01<00:01,  1.13s/it]\u001b[A\n",
            "Chunks: 100%|██████████| 2/2 [00:01<00:00,  1.61it/s]\u001b[A\n",
            "Processing:  93%|█████████▎| 477/511 [09:59<00:43,  1.28s/it]\n",
            "Chunks:   0%|          | 0/2 [00:00<?, ?it/s]\u001b[A\n",
            "Chunks:  50%|█████     | 1/2 [00:01<00:01,  1.16s/it]\u001b[A\n",
            "Chunks: 100%|██████████| 2/2 [00:01<00:00,  1.52it/s]\u001b[A\n",
            "Processing:  94%|█████████▎| 478/511 [10:00<00:42,  1.30s/it]\n",
            "Chunks:   0%|          | 0/2 [00:00<?, ?it/s]\u001b[A\n",
            "Chunks:  50%|█████     | 1/2 [00:01<00:01,  1.11s/it]\u001b[A\n",
            "Chunks: 100%|██████████| 2/2 [00:01<00:00,  1.61it/s]\u001b[A\n",
            "Processing:  94%|█████████▎| 479/511 [10:01<00:41,  1.29s/it]\n",
            "Chunks:   0%|          | 0/2 [00:00<?, ?it/s]\u001b[A\n",
            "Chunks:  50%|█████     | 1/2 [00:01<00:01,  1.09s/it]\u001b[A\n",
            "Chunks: 100%|██████████| 2/2 [00:01<00:00,  1.61it/s]\u001b[A\n",
            "Processing:  94%|█████████▍| 480/511 [10:03<00:39,  1.28s/it]\n",
            "Chunks:   0%|          | 0/2 [00:00<?, ?it/s]\u001b[A\n",
            "Chunks:  50%|█████     | 1/2 [00:01<00:01,  1.14s/it]\u001b[A\n",
            "Chunks: 100%|██████████| 2/2 [00:01<00:00,  1.56it/s]\u001b[A\n",
            "Processing:  94%|█████████▍| 481/511 [10:04<00:38,  1.29s/it]\n",
            "Chunks:   0%|          | 0/2 [00:00<?, ?it/s]\u001b[A\n",
            "Chunks:  50%|█████     | 1/2 [00:01<00:01,  1.14s/it]\u001b[A\n",
            "Chunks: 100%|██████████| 2/2 [00:01<00:00,  1.56it/s]\u001b[A\n",
            "Processing:  94%|█████████▍| 482/511 [10:05<00:37,  1.30s/it]\n",
            "Chunks:   0%|          | 0/2 [00:00<?, ?it/s]\u001b[A\n",
            "Chunks:  50%|█████     | 1/2 [00:01<00:01,  1.12s/it]\u001b[A\n",
            "Chunks: 100%|██████████| 2/2 [00:01<00:00,  1.54it/s]\u001b[A\n",
            "Processing:  95%|█████████▍| 483/511 [10:07<00:36,  1.30s/it]\n",
            "Chunks:   0%|          | 0/2 [00:00<?, ?it/s]\u001b[A\n",
            "Chunks:  50%|█████     | 1/2 [00:01<00:01,  1.13s/it]\u001b[A\n",
            "Chunks: 100%|██████████| 2/2 [00:01<00:00,  1.57it/s]\u001b[A\n",
            "Processing:  95%|█████████▍| 484/511 [10:08<00:35,  1.30s/it]\n",
            "Chunks:   0%|          | 0/2 [00:00<?, ?it/s]\u001b[A\n",
            "Chunks:  50%|█████     | 1/2 [00:01<00:01,  1.12s/it]\u001b[A\n",
            "Chunks: 100%|██████████| 2/2 [00:01<00:00,  1.58it/s]\u001b[A\n",
            "Processing:  95%|█████████▍| 485/511 [10:09<00:33,  1.30s/it]\n",
            "Chunks:   0%|          | 0/2 [00:00<?, ?it/s]\u001b[A\n",
            "Chunks:  50%|█████     | 1/2 [00:01<00:01,  1.13s/it]\u001b[A\n",
            "Chunks: 100%|██████████| 2/2 [00:01<00:00,  1.57it/s]\u001b[A\n",
            "Processing:  95%|█████████▌| 486/511 [10:10<00:32,  1.30s/it]\n",
            "Chunks:   0%|          | 0/2 [00:00<?, ?it/s]\u001b[A\n",
            "Chunks: 100%|██████████| 2/2 [00:01<00:00,  1.67it/s]\u001b[A\n",
            "Processing:  95%|█████████▌| 487/511 [10:12<00:30,  1.28s/it]\n",
            "Chunks:   0%|          | 0/2 [00:00<?, ?it/s]\u001b[A\n",
            "Chunks:  50%|█████     | 1/2 [00:01<00:01,  1.14s/it]\u001b[A\n",
            "Chunks: 100%|██████████| 2/2 [00:01<00:00,  1.58it/s]\u001b[A\n",
            "Processing:  95%|█████████▌| 488/511 [10:13<00:29,  1.28s/it]\n",
            "Chunks:   0%|          | 0/2 [00:00<?, ?it/s]\u001b[A\n",
            "Chunks:  50%|█████     | 1/2 [00:01<00:01,  1.15s/it]\u001b[A\n",
            "Chunks: 100%|██████████| 2/2 [00:01<00:00,  1.53it/s]\u001b[A\n",
            "Processing:  96%|█████████▌| 489/511 [10:14<00:28,  1.30s/it]\n",
            "Chunks:   0%|          | 0/2 [00:00<?, ?it/s]\u001b[A\n",
            "Chunks:  50%|█████     | 1/2 [00:01<00:01,  1.13s/it]\u001b[A\n",
            "Chunks: 100%|██████████| 2/2 [00:01<00:00,  1.58it/s]\u001b[A\n",
            "Processing:  96%|█████████▌| 490/511 [10:16<00:27,  1.30s/it]\n",
            "Chunks:   0%|          | 0/2 [00:00<?, ?it/s]\u001b[A\n",
            "Chunks:  50%|█████     | 1/2 [00:01<00:01,  1.14s/it]\u001b[A\n",
            "Chunks: 100%|██████████| 2/2 [00:01<00:00,  1.55it/s]\u001b[A\n",
            "Processing:  96%|█████████▌| 491/511 [10:17<00:26,  1.30s/it]\n",
            "Chunks:   0%|          | 0/2 [00:00<?, ?it/s]\u001b[A\n",
            "Chunks: 100%|██████████| 2/2 [00:01<00:00,  1.58it/s]\u001b[A\n",
            "Processing:  96%|█████████▋| 492/511 [10:18<00:24,  1.30s/it]\n",
            "Chunks:   0%|          | 0/2 [00:00<?, ?it/s]\u001b[A\n",
            "Chunks:  50%|█████     | 1/2 [00:01<00:01,  1.15s/it]\u001b[A\n",
            "Chunks: 100%|██████████| 2/2 [00:01<00:00,  1.51it/s]\u001b[A\n",
            "Processing:  96%|█████████▋| 493/511 [10:20<00:23,  1.32s/it]\n",
            "Chunks:   0%|          | 0/2 [00:00<?, ?it/s]\u001b[A\n",
            "Chunks:  50%|█████     | 1/2 [00:01<00:01,  1.12s/it]\u001b[A\n",
            "Chunks: 100%|██████████| 2/2 [00:01<00:00,  1.59it/s]\u001b[A\n",
            "Processing:  97%|█████████▋| 494/511 [10:21<00:22,  1.31s/it]\n",
            "Chunks:   0%|          | 0/2 [00:00<?, ?it/s]\u001b[A\n",
            "Chunks:  50%|█████     | 1/2 [00:01<00:01,  1.11s/it]\u001b[A\n",
            "Chunks: 100%|██████████| 2/2 [00:01<00:00,  1.61it/s]\u001b[A\n",
            "Processing:  97%|█████████▋| 495/511 [10:22<00:20,  1.29s/it]\n",
            "Chunks:   0%|          | 0/2 [00:00<?, ?it/s]\u001b[A\n",
            "Chunks:  50%|█████     | 1/2 [00:01<00:01,  1.15s/it]\u001b[A\n",
            "Chunks: 100%|██████████| 2/2 [00:01<00:00,  1.58it/s]\u001b[A\n",
            "Processing:  97%|█████████▋| 496/511 [10:23<00:19,  1.29s/it]\n",
            "Chunks:   0%|          | 0/2 [00:00<?, ?it/s]\u001b[A\n",
            "Chunks:  50%|█████     | 1/2 [00:01<00:01,  1.11s/it]\u001b[A\n",
            "Chunks: 100%|██████████| 2/2 [00:01<00:00,  1.57it/s]\u001b[A\n",
            "Processing:  97%|█████████▋| 497/511 [10:25<00:18,  1.30s/it]\n",
            "Chunks:   0%|          | 0/2 [00:00<?, ?it/s]\u001b[A\n",
            "Chunks:  50%|█████     | 1/2 [00:01<00:01,  1.11s/it]\u001b[A\n",
            "Chunks: 100%|██████████| 2/2 [00:01<00:00,  1.61it/s]\u001b[A\n",
            "Processing:  97%|█████████▋| 498/511 [10:26<00:16,  1.29s/it]\n",
            "Chunks:   0%|          | 0/2 [00:00<?, ?it/s]\u001b[A\n",
            "Chunks:  50%|█████     | 1/2 [00:01<00:01,  1.17s/it]\u001b[A\n",
            "Chunks: 100%|██████████| 2/2 [00:01<00:00,  1.55it/s]\u001b[A\n",
            "Processing:  98%|█████████▊| 499/511 [10:27<00:15,  1.30s/it]\n",
            "Chunks:   0%|          | 0/2 [00:00<?, ?it/s]\u001b[A\n",
            "Chunks:  50%|█████     | 1/2 [00:01<00:01,  1.19s/it]\u001b[A\n",
            "Chunks: 100%|██████████| 2/2 [00:01<00:00,  1.51it/s]\u001b[A\n",
            "Processing:  98%|█████████▊| 500/511 [10:29<00:14,  1.31s/it]\n",
            "Chunks:   0%|          | 0/2 [00:00<?, ?it/s]\u001b[A\n",
            "Chunks:  50%|█████     | 1/2 [00:01<00:01,  1.12s/it]\u001b[A\n",
            "Chunks: 100%|██████████| 2/2 [00:01<00:00,  1.59it/s]\u001b[A\n",
            "Processing:  98%|█████████▊| 501/511 [10:30<00:13,  1.30s/it]\n",
            "Chunks:   0%|          | 0/2 [00:00<?, ?it/s]\u001b[A\n",
            "Chunks:  50%|█████     | 1/2 [00:01<00:01,  1.19s/it]\u001b[A\n",
            "Chunks: 100%|██████████| 2/2 [00:01<00:00,  1.55it/s]\u001b[A\n",
            "Processing:  98%|█████████▊| 502/511 [10:31<00:11,  1.31s/it]\n",
            "Chunks:   0%|          | 0/2 [00:00<?, ?it/s]\u001b[A\n",
            "Chunks: 100%|██████████| 2/2 [00:01<00:00,  1.56it/s]\u001b[A\n",
            "Processing:  98%|█████████▊| 503/511 [10:33<00:10,  1.31s/it]\n",
            "Chunks:   0%|          | 0/2 [00:00<?, ?it/s]\u001b[A\n",
            "Chunks:  50%|█████     | 1/2 [00:01<00:01,  1.12s/it]\u001b[A\n",
            "Chunks: 100%|██████████| 2/2 [00:01<00:00,  1.58it/s]\u001b[A\n",
            "Processing:  99%|█████████▊| 504/511 [10:34<00:09,  1.30s/it]\n",
            "Chunks:   0%|          | 0/2 [00:00<?, ?it/s]\u001b[A\n",
            "Chunks:  50%|█████     | 1/2 [00:01<00:01,  1.11s/it]\u001b[A\n",
            "Chunks: 100%|██████████| 2/2 [00:01<00:00,  1.51it/s]\u001b[A\n",
            "Processing:  99%|█████████▉| 505/511 [10:35<00:07,  1.31s/it]\n",
            "Chunks:   0%|          | 0/2 [00:00<?, ?it/s]\u001b[A\n",
            "Chunks:  50%|█████     | 1/2 [00:01<00:01,  1.10s/it]\u001b[A\n",
            "Chunks: 100%|██████████| 2/2 [00:01<00:00,  1.59it/s]\u001b[A\n",
            "Processing:  99%|█████████▉| 506/511 [10:36<00:06,  1.31s/it]\n",
            "Chunks:   0%|          | 0/2 [00:00<?, ?it/s]\u001b[A\n",
            "Chunks:  50%|█████     | 1/2 [00:01<00:01,  1.11s/it]\u001b[A\n",
            "Chunks: 100%|██████████| 2/2 [00:01<00:00,  1.55it/s]\u001b[A\n",
            "Processing:  99%|█████████▉| 507/511 [10:38<00:05,  1.31s/it]\n",
            "Chunks:   0%|          | 0/2 [00:00<?, ?it/s]\u001b[A\n",
            "Chunks: 100%|██████████| 2/2 [00:01<00:00,  1.60it/s]\u001b[A\n",
            "Processing:  99%|█████████▉| 508/511 [10:39<00:03,  1.30s/it]\n",
            "Chunks:   0%|          | 0/2 [00:00<?, ?it/s]\u001b[A\n",
            "Chunks:  50%|█████     | 1/2 [00:01<00:01,  1.13s/it]\u001b[A\n",
            "Chunks: 100%|██████████| 2/2 [00:01<00:00,  1.55it/s]\u001b[A\n",
            "Processing: 100%|█████████▉| 509/511 [10:40<00:02,  1.30s/it]\n",
            "Chunks:   0%|          | 0/2 [00:00<?, ?it/s]\u001b[A\n",
            "Chunks:  50%|█████     | 1/2 [00:01<00:01,  1.13s/it]\u001b[A\n",
            "Chunks: 100%|██████████| 2/2 [00:01<00:00,  1.59it/s]\u001b[A\n",
            "Processing: 100%|█████████▉| 510/511 [10:42<00:01,  1.30s/it]\n",
            "Chunks:   0%|          | 0/2 [00:00<?, ?it/s]\u001b[A\n",
            "Chunks:  50%|█████     | 1/2 [00:01<00:01,  1.11s/it]\u001b[A\n",
            "Chunks: 100%|██████████| 2/2 [00:01<00:00,  1.61it/s]\u001b[A\n",
            "Processing: 100%|██████████| 511/511 [10:43<00:00,  1.26s/it]"
          ]
        },
        {
          "name": "stdout",
          "output_type": "stream",
          "text": [
            "Accuracy: 66.54%\n"
          ]
        },
        {
          "name": "stderr",
          "output_type": "stream",
          "text": [
            "\n"
          ]
        }
      ],
      "source": [
        "# pretrain_pred_law_ids, pretrain_pred_article_ids = predict(pretrain_bi_encoder, pretrain_cross_encoder, pretrain_corpus_embeddings)\n",
        "pretrain_pred_law_ids, pretrain_pred_article_ids = predict(pretrain_bi_encoder, reranker, pretrain_corpus_embeddings)\n",
        "pretrain_accuracy = eval_accuracy(pretrain_pred_law_ids, pretrain_pred_article_ids)"
      ]
    },
    {
      "cell_type": "code",
      "execution_count": null,
      "metadata": {
        "execution": {
          "iopub.execute_input": "2025-05-08T04:03:29.090289Z",
          "iopub.status.busy": "2025-05-08T04:03:29.089894Z",
          "iopub.status.idle": "2025-05-08T04:03:29.095209Z",
          "shell.execute_reply": "2025-05-08T04:03:29.094363Z",
          "shell.execute_reply.started": "2025-05-08T04:03:29.090256Z"
        },
        "id": "8ChoAZOMSfE2",
        "outputId": "5f04c8c7-d5a8-4e76-e2c7-81f322077c99",
        "trusted": true
      },
      "outputs": [
        {
          "name": "stdout",
          "output_type": "stream",
          "text": [
            "Accuracy: 66.54%\n"
          ]
        }
      ],
      "source": [
        "print(f\"Accuracy: {pretrain_accuracy:.2%}\")"
      ]
    },
    {
      "cell_type": "code",
      "execution_count": null,
      "metadata": {
        "colab": {
          "base_uri": "https://localhost:8080/"
        },
        "execution": {
          "iopub.execute_input": "2025-05-08T04:03:30.976207Z",
          "iopub.status.busy": "2025-05-08T04:03:30.975881Z",
          "iopub.status.idle": "2025-05-08T04:03:30.981485Z",
          "shell.execute_reply": "2025-05-08T04:03:30.980694Z",
          "shell.execute_reply.started": "2025-05-08T04:03:30.976179Z"
        },
        "id": "aA26mDwPkxNM",
        "outputId": "9847b1e1-971e-47f3-9cbf-6076e9512145",
        "trusted": true
      },
      "outputs": [
        {
          "name": "stdout",
          "output_type": "stream",
          "text": [
            "['42/2016/tt-btnmt', '55/2020/nđ-cp', '90/2020/nđ-cp', '11/2021/nđ-cp', '19/2020/nđ-cp', '03/2015/nđ-cp', '16/2020/tt-bqp']\n",
            "['42/2016/tt-btnmt', '55/2020/nđ-cp', '90/2020/nđ-cp', '11/2021/nđ-cp', '19/2020/nđ-cp', '03/2015/nđ-cp', '99/2017/tt-bqp']\n"
          ]
        }
      ],
      "source": [
        "print(test_law_ids[:7])\n",
        "print(pretrain_pred_law_ids[:7])"
      ]
    },
    {
      "cell_type": "code",
      "execution_count": null,
      "metadata": {
        "colab": {
          "base_uri": "https://localhost:8080/"
        },
        "execution": {
          "iopub.execute_input": "2025-05-08T04:03:32.291288Z",
          "iopub.status.busy": "2025-05-08T04:03:32.290958Z",
          "iopub.status.idle": "2025-05-08T04:03:32.297012Z",
          "shell.execute_reply": "2025-05-08T04:03:32.296047Z",
          "shell.execute_reply.started": "2025-05-08T04:03:32.291257Z"
        },
        "id": "DVSf37JqkxNM",
        "outputId": "86a583d9-6cbb-4a8c-a2c1-ed4537afba5d",
        "trusted": true
      },
      "outputs": [
        {
          "name": "stdout",
          "output_type": "stream",
          "text": [
            "['3', '4', '20', '24', '26', '13', '4']\n",
            "['3', '4', '2', '24', '26', '13', '37']\n"
          ]
        }
      ],
      "source": [
        "print(test_article_ids[:7])\n",
        "print(pretrain_pred_article_ids[:7])"
      ]
    },
    {
      "cell_type": "markdown",
      "metadata": {
        "id": "Sv2xAeW9kxNM"
      },
      "source": [
        "## Fine-tune model"
      ]
    },
    {
      "cell_type": "code",
      "execution_count": null,
      "metadata": {
        "execution": {
          "iopub.execute_input": "2025-05-08T04:03:37.057125Z",
          "iopub.status.busy": "2025-05-08T04:03:37.056801Z",
          "iopub.status.idle": "2025-05-08T04:03:37.061105Z",
          "shell.execute_reply": "2025-05-08T04:03:37.060289Z",
          "shell.execute_reply.started": "2025-05-08T04:03:37.057100Z"
        },
        "id": "fjH1ZX7gkxNN",
        "trusted": true
      },
      "outputs": [],
      "source": [
        "from sentence_transformers import InputExample, SentenceTransformer, losses, datasets\n",
        "from torch.utils.data import DataLoader"
      ]
    },
    {
      "cell_type": "markdown",
      "metadata": {
        "id": "9iM0q5bMkxNN"
      },
      "source": [
        "### Fine-tune Bi-encoder model"
      ]
    },
    {
      "cell_type": "code",
      "execution_count": null,
      "metadata": {
        "execution": {
          "iopub.execute_input": "2025-05-08T04:03:39.301064Z",
          "iopub.status.busy": "2025-05-08T04:03:39.300735Z",
          "iopub.status.idle": "2025-05-08T04:03:51.489442Z",
          "shell.execute_reply": "2025-05-08T04:03:51.488647Z",
          "shell.execute_reply.started": "2025-05-08T04:03:39.301037Z"
        },
        "id": "GBnoHpBikxNN",
        "trusted": true
      },
      "outputs": [],
      "source": [
        "finetune_bi_dataset = \"/kaggle/input/finetune-bi-data/finetune_bienc_data.csv\"\n",
        "bi_df = pd.read_csv(finetune_bi_dataset)\n",
        "bi_df = bi_df.sample(frac=1, random_state=42).reset_index(drop=True)"
      ]
    },
    {
      "cell_type": "code",
      "execution_count": null,
      "metadata": {
        "colab": {
          "base_uri": "https://localhost:8080/",
          "height": 206
        },
        "execution": {
          "iopub.execute_input": "2025-05-08T04:03:51.491043Z",
          "iopub.status.busy": "2025-05-08T04:03:51.490696Z",
          "iopub.status.idle": "2025-05-08T04:03:51.524722Z",
          "shell.execute_reply": "2025-05-08T04:03:51.523885Z",
          "shell.execute_reply.started": "2025-05-08T04:03:51.491008Z"
        },
        "id": "iCnybKyRkxNN",
        "outputId": "ae8c9e59-9b1f-44b1-d1f3-3a5a629b8bca",
        "trusted": true
      },
      "outputs": [
        {
          "data": {
            "text/html": [
              "<div>\n",
              "<style scoped>\n",
              "    .dataframe tbody tr th:only-of-type {\n",
              "        vertical-align: middle;\n",
              "    }\n",
              "\n",
              "    .dataframe tbody tr th {\n",
              "        vertical-align: top;\n",
              "    }\n",
              "\n",
              "    .dataframe thead th {\n",
              "        text-align: right;\n",
              "    }\n",
              "</style>\n",
              "<table border=\"1\" class=\"dataframe\">\n",
              "  <thead>\n",
              "    <tr style=\"text-align: right;\">\n",
              "      <th></th>\n",
              "      <th>question</th>\n",
              "      <th>answer</th>\n",
              "      <th>label</th>\n",
              "    </tr>\n",
              "  </thead>\n",
              "  <tbody>\n",
              "    <tr>\n",
              "      <th>0</th>\n",
              "      <td>Mức phạt khi dừng, đỗ xe ô tô trên đường cao t...</td>\n",
              "      <td>Ban hành kèm theo Thông tư liên tịch này các m...</td>\n",
              "      <td>0</td>\n",
              "    </tr>\n",
              "    <tr>\n",
              "      <th>1</th>\n",
              "      <td>Máy móc như thế nào được hiểu là máy móc đã qu...</td>\n",
              "      <td>1. Các loại thuế, khoản thu khác thuộc ngân sá...</td>\n",
              "      <td>0</td>\n",
              "    </tr>\n",
              "    <tr>\n",
              "      <th>2</th>\n",
              "      <td>Phiếu đồng ý tham gia nghiên cứu y sinh học li...</td>\n",
              "      <td>Trong Thông tư này, các từ ngữ dưới đây được h...</td>\n",
              "      <td>1</td>\n",
              "    </tr>\n",
              "    <tr>\n",
              "      <th>3</th>\n",
              "      <td>Xây dựng trang trại nuôi lợn quy mô nhỏ cách c...</td>\n",
              "      <td>Chủ trì, phối hợp với Bộ Tài chính, Bộ Giao th...</td>\n",
              "      <td>0</td>\n",
              "    </tr>\n",
              "    <tr>\n",
              "      <th>4</th>\n",
              "      <td>Mức chi quản lý chương trình đề án khuyến công...</td>\n",
              "      <td>1. Chi hỗ trợ thành lập doanh nghiệp sản xuất ...</td>\n",
              "      <td>1</td>\n",
              "    </tr>\n",
              "  </tbody>\n",
              "</table>\n",
              "</div>"
            ],
            "text/plain": [
              "                                            question  \\\n",
              "0  Mức phạt khi dừng, đỗ xe ô tô trên đường cao t...   \n",
              "1  Máy móc như thế nào được hiểu là máy móc đã qu...   \n",
              "2  Phiếu đồng ý tham gia nghiên cứu y sinh học li...   \n",
              "3  Xây dựng trang trại nuôi lợn quy mô nhỏ cách c...   \n",
              "4  Mức chi quản lý chương trình đề án khuyến công...   \n",
              "\n",
              "                                              answer  label  \n",
              "0  Ban hành kèm theo Thông tư liên tịch này các m...      0  \n",
              "1  1. Các loại thuế, khoản thu khác thuộc ngân sá...      0  \n",
              "2  Trong Thông tư này, các từ ngữ dưới đây được h...      1  \n",
              "3  Chủ trì, phối hợp với Bộ Tài chính, Bộ Giao th...      0  \n",
              "4  1. Chi hỗ trợ thành lập doanh nghiệp sản xuất ...      1  "
            ]
          },
          "execution_count": 32,
          "metadata": {},
          "output_type": "execute_result"
        }
      ],
      "source": [
        "bi_df.head()"
      ]
    },
    {
      "cell_type": "code",
      "execution_count": null,
      "metadata": {
        "colab": {
          "base_uri": "https://localhost:8080/"
        },
        "execution": {
          "iopub.execute_input": "2025-05-08T04:03:51.526436Z",
          "iopub.status.busy": "2025-05-08T04:03:51.526179Z",
          "iopub.status.idle": "2025-05-08T04:03:51.539074Z",
          "shell.execute_reply": "2025-05-08T04:03:51.538290Z",
          "shell.execute_reply.started": "2025-05-08T04:03:51.526412Z"
        },
        "id": "qiC_Op6XkxNN",
        "outputId": "29032e19-f94d-4ac7-c168-4f9bb4478ffa",
        "trusted": true
      },
      "outputs": [
        {
          "name": "stdout",
          "output_type": "stream",
          "text": [
            "question     0\n",
            "answer      67\n",
            "label        0\n",
            "dtype: int64\n"
          ]
        }
      ],
      "source": [
        "print(bi_df.isnull().sum())"
      ]
    },
    {
      "cell_type": "code",
      "execution_count": null,
      "metadata": {
        "execution": {
          "iopub.execute_input": "2025-05-08T04:04:33.656782Z",
          "iopub.status.busy": "2025-05-08T04:04:33.656421Z",
          "iopub.status.idle": "2025-05-08T04:04:33.674415Z",
          "shell.execute_reply": "2025-05-08T04:04:33.673203Z",
          "shell.execute_reply.started": "2025-05-08T04:04:33.656750Z"
        },
        "id": "krqj1qIFkxNO",
        "trusted": true
      },
      "outputs": [],
      "source": [
        "bi_df = bi_df.dropna(subset=['answer'])"
      ]
    },
    {
      "cell_type": "code",
      "execution_count": null,
      "metadata": {
        "colab": {
          "base_uri": "https://localhost:8080/"
        },
        "execution": {
          "iopub.execute_input": "2025-05-08T04:04:34.696390Z",
          "iopub.status.busy": "2025-05-08T04:04:34.696069Z",
          "iopub.status.idle": "2025-05-08T04:04:34.706992Z",
          "shell.execute_reply": "2025-05-08T04:04:34.705980Z",
          "shell.execute_reply.started": "2025-05-08T04:04:34.696364Z"
        },
        "id": "4RBxnc5VkxNO",
        "outputId": "a9ee7b61-afd0-4ec8-c9c2-635ec150f36d",
        "trusted": true
      },
      "outputs": [
        {
          "data": {
            "text/plain": [
              "(8658, 17314)"
            ]
          },
          "execution_count": 35,
          "metadata": {},
          "output_type": "execute_result"
        }
      ],
      "source": [
        "len(bi_df[bi_df[\"label\"] == 1]), len(bi_df[bi_df[\"label\"] == 0])"
      ]
    },
    {
      "cell_type": "code",
      "execution_count": null,
      "metadata": {
        "execution": {
          "iopub.execute_input": "2025-05-08T04:04:37.682234Z",
          "iopub.status.busy": "2025-05-08T04:04:37.681875Z",
          "iopub.status.idle": "2025-05-08T04:04:37.698944Z",
          "shell.execute_reply": "2025-05-08T04:04:37.697967Z",
          "shell.execute_reply.started": "2025-05-08T04:04:37.682193Z"
        },
        "id": "BJXdQWlIkxNO",
        "trusted": true
      },
      "outputs": [],
      "source": [
        "# Đếm số lượng mỗi nhãn\n",
        "num_label_1 = len(bi_df[bi_df[\"label\"] == 1])  # Số lượng nhãn 1\n",
        "num_label_0 = len(bi_df[bi_df[\"label\"] == 0])  # Số lượng nhãn 0\n",
        "\n",
        "# Lấy mẫu ngẫu nhiên từ nhãn 0 sao cho bằng số nhãn 1\n",
        "bi_df_0 = bi_df[bi_df[\"label\"] == 0].sample(n=num_label_1, random_state=42)\n",
        "\n",
        "# Lấy tất cả dữ liệu nhãn 1\n",
        "bi_df_1 = bi_df[bi_df[\"label\"] == 1]\n",
        "\n",
        "# Gộp hai tập dữ liệu lại\n",
        "balanced_bi_df = pd.concat([bi_df_0, bi_df_1]).sample(frac=1, random_state=42).reset_index(drop=True)"
      ]
    },
    {
      "cell_type": "code",
      "execution_count": null,
      "metadata": {
        "colab": {
          "base_uri": "https://localhost:8080/"
        },
        "execution": {
          "iopub.execute_input": "2025-05-08T04:04:39.009869Z",
          "iopub.status.busy": "2025-05-08T04:04:39.009489Z",
          "iopub.status.idle": "2025-05-08T04:04:39.019459Z",
          "shell.execute_reply": "2025-05-08T04:04:39.018414Z",
          "shell.execute_reply.started": "2025-05-08T04:04:39.009835Z"
        },
        "id": "NaqQGVkrkxNO",
        "outputId": "82263a96-962b-4afb-93da-520b7c575df8",
        "trusted": true
      },
      "outputs": [
        {
          "data": {
            "text/plain": [
              "(8658, 8658)"
            ]
          },
          "execution_count": 37,
          "metadata": {},
          "output_type": "execute_result"
        }
      ],
      "source": [
        "len(balanced_bi_df[balanced_bi_df[\"label\"] == 1]), len(balanced_bi_df[balanced_bi_df[\"label\"] == 0])"
      ]
    },
    {
      "cell_type": "code",
      "execution_count": null,
      "metadata": {
        "execution": {
          "iopub.execute_input": "2025-05-08T04:04:39.712671Z",
          "iopub.status.busy": "2025-05-08T04:04:39.712308Z",
          "iopub.status.idle": "2025-05-08T04:04:40.598665Z",
          "shell.execute_reply": "2025-05-08T04:04:40.597938Z",
          "shell.execute_reply.started": "2025-05-08T04:04:39.712638Z"
        },
        "id": "sq5M4iA5kxNO",
        "trusted": true
      },
      "outputs": [],
      "source": [
        "bi_train_samples = []\n",
        "for _, row in balanced_bi_df.iterrows():\n",
        "    bi_train_samples.append(InputExample(texts=[row[\"question\"], row[\"answer\"]], label=row[\"label\"]))"
      ]
    },
    {
      "cell_type": "code",
      "execution_count": null,
      "metadata": {
        "colab": {
          "base_uri": "https://localhost:8080/"
        },
        "execution": {
          "iopub.execute_input": "2025-05-08T04:04:41.046371Z",
          "iopub.status.busy": "2025-05-08T04:04:41.046014Z",
          "iopub.status.idle": "2025-05-08T04:04:41.051422Z",
          "shell.execute_reply": "2025-05-08T04:04:41.050422Z",
          "shell.execute_reply.started": "2025-05-08T04:04:41.046336Z"
        },
        "id": "SzKufWrzkxNO",
        "outputId": "a733e3e1-d306-493e-9ee1-9690a4ccf6f1",
        "trusted": true
      },
      "outputs": [
        {
          "name": "stdout",
          "output_type": "stream",
          "text": [
            "<InputExample> label: 0, texts: Thời hạn sử dụng giấy đăng ký xe của cơ quan đại diện ngoại giao; Chế độ tử tuất đối với thân nhân của người lao động chết mà trước đó có thời gian đóng bảo hiểm xã hội tự nguyện theo Điều 71 của Luật Bảo hiểm xã hội được quy định như sau:\n",
            "1. Thời gian tính hưởng chế độ tử tuất là tổng thời gian đã đóng bảo hiểm xã hội tự nguyện và bảo hiểm xã hội bắt buộc.\n",
            "2. Người lo mai táng được nhận trợ cấp mai táng bằng 10 lần mức lương cơ sở đối với người lao động chết thuộc một trong các trường hợp sau:\n",
            "a) Người lao động có thời gian đóng bảo hiểm xã hội bắt buộc từ đủ 12 tháng trở lên;\n",
            "b) Người lao động có tổng thời gian đóng bảo hiểm xã hội bắt buộc và bảo hiểm xã hội tự nguyện từ đủ 60 tháng trở lên;\n",
            "c) Người lao động chết do tai nạn lao động, bệnh nghề nghiệp hoặc chết trong thời gian điều trị do tai nạn lao động, bệnh nghề nghiệp;\n",
            "d) Người đang hưởng lương hưu; hưởng trợ cấp tai nạn lao động, bệnh nghề nghiệp hằng tháng đã nghỉ việc.\n",
            "3. Người quy định tại Khoản 2 Điều này bị Tòa án tuyên bố là đã chết thì thân nhân được hưởng trợ cấp mai táng bằng 10 lần mức lương cơ sở tại tháng Tòa án tuyên bố là đã chết.\n",
            "4. Người lao động bị chết thuộc một trong các trường hợp dưới đây thì thân nhân đủ điều kiện quy định tại Khoản 2 và Khoản 3 Điều 67 của Luật Bảo hiểm xã hội được hưởng trợ cấp tuất hằng tháng:\n",
            "a) Đã đóng bảo hiểm xã hội bắt buộc từ đủ 15 năm trở lên;\n",
            "Trường hợp người lao động còn thiếu tối đa không quá 6 tháng để đủ 15 năm đóng bảo hiểm xã hội, thì thân nhân được đóng tiếp một lần cho số tháng còn thiếu vào quỹ hưu trí và tử tuất với mức đóng hằng tháng bằng 22% mức tiền lương tháng đóng bảo hiểm xã hội của người lao động trước khi chết;\n",
            "b) Chết do tai nạn lao động, bệnh nghề nghiệp hoặc chết trong thời gian điều trị do tai nạn lao động, bệnh nghề nghiệp;\n",
            "c) Đang hưởng trợ cấp tai nạn lao động, bệnh nghề nghiệp hằng tháng với mức suy giảm khả năng lao động từ 61% trở lên;\n",
            "d) Đang hưởng lương hưu mà trước đó có thời gian đóng bảo hiểm xã hội bắt buộc từ đủ 15 năm trở lên.\n",
            "Mức trợ cấp tuất hằng tháng được thực hiện theo quy định tại Điều 68 của Luật bảo hiểm xã hội.\n",
            "5. Thân nhân của người lao động bị chết được hưởng trợ cấp tuất một lần thuộc một trong các trường hợp sau:\n",
            "a) Người lao động chết không thuộc quy định tại Khoản 4 Điều này;\n",
            "b) Người lao động chết thuộc một trong các trường hợp quy định tại Khoản 4 Điều này nhưng không có thân nhân hưởng trợ cấp hằng tháng theo quy định tại Khoản 2 và Khoản 3 Điều 67 của Luật Bảo hiểm xã hội.\n",
            "c) Thân nhân thuộc diện hưởng trợ cấp tuất hằng tháng theo quy định tại Khoản 2 và Khoản 3 Điều 67 của Luật Bảo hiểm xã hội mà có nguyện vọng hưởng trợ cấp tuất một lần, trừ trường hợp con dưới 06 tuổi, con hoặc vợ hoặc chồng mà bị suy giảm khả năng lao động từ 81% trở lên.\n",
            "6. Mức trợ cấp tuất một lần:\n",
            "a) Đối với thân nhân của người lao động đang tham gia bảo hiểm xã hội bắt buộc hoặc đang bảo lưu thời gian đóng bảo hiểm xã hội chết được tính theo quy định tại Khoản 1 Điều 70 của Luật Bảo hiểm xã hội và được tính trên cơ sở mức bình quân thu nhập và tiền lương tháng đóng bảo hiểm xã hội quy định tại Khoản 4 Điều 11 của Nghị định này.\n",
            "b) Đối với thân nhân người đang hưởng lương hưu chết được tính theo quy định tại Khoản 2 Điều 70 của Luật Bảo hiểm xã hội.\n",
            "c) Đối với thân nhân người lao động đang hưởng trợ cấp tai nạn lao động, bệnh nghề nghiệp hằng tháng với mức suy giảm khả năng lao động từ 61% trở lên mà chưa hưởng bảo hiểm xã hội một lần thì trợ cấp tuất một lần được giải quyết như đối với người đang bảo lưu thời gian đóng bảo hiểm xã hội.\n",
            "Trường hợp người đang hưởng trợ cấp tai nạn lao động, bệnh nghề nghiệp hằng tháng đã hưởng bảo hiểm xã hội một lần thì mức trợ cấp tuất một lần bằng 3 tháng trợ cấp tai nạn lao động, bệnh nghề nghiệp đang hưởng.\n"
          ]
        }
      ],
      "source": [
        "print(bi_train_samples[0])"
      ]
    },
    {
      "cell_type": "code",
      "execution_count": null,
      "metadata": {
        "execution": {
          "iopub.execute_input": "2025-05-08T04:04:43.864372Z",
          "iopub.status.busy": "2025-05-08T04:04:43.864041Z",
          "iopub.status.idle": "2025-05-08T04:04:43.869261Z",
          "shell.execute_reply": "2025-05-08T04:04:43.868281Z",
          "shell.execute_reply.started": "2025-05-08T04:04:43.864345Z"
        },
        "id": "-2QYaKD5kxNP",
        "trusted": true
      },
      "outputs": [],
      "source": [
        "bi_train_dataloader = DataLoader(bi_train_samples, shuffle=True, batch_size=16)\n",
        "\n",
        "# Sử dụng MultipleNegativesRankingLoss để huấn luyện\n",
        "bi_train_loss = losses.MultipleNegativesRankingLoss(pretrain_bi_encoder)"
      ]
    },
    {
      "cell_type": "code",
      "execution_count": null,
      "metadata": {
        "execution": {
          "iopub.execute_input": "2025-05-08T04:05:30.457037Z",
          "iopub.status.busy": "2025-05-08T04:05:30.456525Z",
          "iopub.status.idle": "2025-05-08T04:38:37.580943Z",
          "shell.execute_reply": "2025-05-08T04:38:37.580205Z",
          "shell.execute_reply.started": "2025-05-08T04:05:30.456989Z"
        },
        "id": "NT67AmdZkxNP",
        "trusted": true
      },
      "outputs": [],
      "source": [
        "# Sao chép model gốc để fine-tune mà không ảnh hưởng đến bi_encoder\n",
        "finetuned_bi_encoder = copy.deepcopy(pretrain_bi_encoder)\n",
        "# # Huấn luyện mô hình sao chép\n",
        "finetuned_bi_encoder.fit(\n",
        "    train_objectives=[(bi_train_dataloader, bi_train_loss)],\n",
        "    epochs=2,\n",
        "    warmup_steps=100,\n",
        "    show_progress_bar=True\n",
        ")"
      ]
    },
    {
      "cell_type": "code",
      "execution_count": null,
      "metadata": {
        "execution": {
          "iopub.execute_input": "2025-05-08T04:41:01.452660Z",
          "iopub.status.busy": "2025-05-08T04:41:01.452247Z",
          "iopub.status.idle": "2025-05-08T04:41:03.145783Z",
          "shell.execute_reply": "2025-05-08T04:41:03.145027Z",
          "shell.execute_reply.started": "2025-05-08T04:41:01.452620Z"
        },
        "id": "7uzy0L04kxNP",
        "trusted": true
      },
      "outputs": [],
      "source": [
        "finetuned_bi_encoder.save(\"./finetuned_bi_encoder\")"
      ]
    },
    {
      "cell_type": "code",
      "execution_count": null,
      "metadata": {
        "colab": {
          "base_uri": "https://localhost:8080/",
          "referenced_widgets": [
            "77afb769572f483e8fa5dfc88845e4ec",
            "12004ce696e14e9cb82ef4bae4eb57ff"
          ]
        },
        "execution": {
          "iopub.execute_input": "2025-05-08T04:41:05.684477Z",
          "iopub.status.busy": "2025-05-08T04:41:05.684079Z",
          "iopub.status.idle": "2025-05-08T04:41:05.813823Z",
          "shell.execute_reply": "2025-05-08T04:41:05.813029Z",
          "shell.execute_reply.started": "2025-05-08T04:41:05.684444Z"
        },
        "id": "Rw4ZSpVbkxNP",
        "outputId": "c7575a6b-bce8-4200-ba8b-f542bc0bd044",
        "trusted": true
      },
      "outputs": [
        {
          "data": {
            "application/vnd.jupyter.widget-view+json": {
              "model_id": "77afb769572f483e8fa5dfc88845e4ec",
              "version_major": 2,
              "version_minor": 0
            },
            "text/plain": [
              "Batches:   0%|          | 0/1 [00:00<?, ?it/s]"
            ]
          },
          "metadata": {},
          "output_type": "display_data"
        },
        {
          "data": {
            "application/vnd.jupyter.widget-view+json": {
              "model_id": "12004ce696e14e9cb82ef4bae4eb57ff",
              "version_major": 2,
              "version_minor": 0
            },
            "text/plain": [
              "Batches:   0%|          | 0/1 [00:00<?, ?it/s]"
            ]
          },
          "metadata": {},
          "output_type": "display_data"
        },
        {
          "name": "stdout",
          "output_type": "stream",
          "text": [
            "(768,)\n",
            "Thời gian viên chức nghỉ thai sản có đánh giá chất lượng không?\n",
            " - 1. Việc đánh giá, xếp loại chất lượng cán bộ, công chức, viên chức được thực hiện theo từng năm công tác.\n",
            "Đối với cán bộ, công chức, viên chức chuyển công tác thì cơ quan, tổ chức, đơn vị mới có trách nhiệm đánh giá, xếp loại chất lượng. Trường hợp có thời gian công tác ở cơ quan, tổ chức, đơn vị cũ từ 06 tháng trở lên thì phải kết hợp với ý kiến nhận xét của cơ quan, tổ chức, đơn vị cũ, trừ trường hợp không còn cơ quan, tổ chức, đơn vị cũ.\n",
            "2. Thời điểm đánh giá, xếp loại chất lượng cán bộ, công chức, viên chức được tiến hành trước ngày 15 tháng 12 hàng năm, trước khi thực hiện việc đánh giá, xếp loại chất lượng đảng viên và tổng kết công tác bình xét thi đua, khen thưởng hàng năm của cơ quan, tổ chức, đơn vị.\n",
            "Đối với đơn vị sự nghiệp công lập hoạt động trong lĩnh vực giáo dục, đào tạo và một số lĩnh vực khác có thời điểm kết thúc năm công tác trước tháng 12 hàng năm thì người đứng đầu đơn vị sự nghiệp công lập quyết định thời điểm đánh giá, xếp loại chất lượng viên chức.\n",
            "3. Tại thời điểm đánh giá, xếp loại chất lượng, trường hợp vắng mặt có lý do chính đáng hoặc nghỉ ốm, nghỉ chế độ thai sản theo quy định của pháp luật, cán bộ, công chức, viên chức có trách nhiệm làm báo cáo tự đánh giá, nhận mức xếp loại kết quả công tác theo chức trách, nhiệm vụ được giao, gửi cơ quan, tổ chức, đơn vị đang công tác để thực hiện việc đánh giá, xếp loại chất lượng theo quy định tại Nghị định này.\n",
            "Căn cứ khoản 1 và khoản 2 Điều này và đặc thù của cơ quan, tổ chức, đơn vị, tập thể lãnh đạo cơ quan, tổ chức, đơn vị thống nhất với cấp ủy cùng cấp về việc kết hợp tổ chức cuộc họp đánh giá, xếp loại trong cơ quan, tổ chức, đơn vị mình, bảo đảm nghiêm túc, hiệu quả, tránh hình thức, lãng phí.: 0.3867\n",
            " - 1. Căn cứ điều kiện cụ thể của cơ quan, tổ chức, đơn vị, người đứng đầu cơ quan, tổ chức, đơn vị quản lý công chức, viên chức ban hành hoặc giao người đứng đầu cơ quan, tổ chức, đơn vị sử dụng công chức, viên chức ban hành Quy chế đánh giá phù hợp với đặc thù của cơ quan, tổ chức, đơn vị mình.\n",
            "Nội dung Quy chế phải xác định rõ sản phẩm cụ thể gắn với từng vị trí việc làm, tiêu chí đánh giá chất lượng, hiệu quả, thời điểm đánh giá theo quý, tháng hoặc tuần (nếu có); căn cứ để xác định tỉ lệ % mức độ hoàn thành công việc; các tiêu chí thành phần để đánh giá và xếp loại chất lượng cán bộ, công chức, viên chức, trong đó có tính đến tỷ lệ khối lượng công việc của cán bộ, công chức, viên chức đã thực hiện so với khối lượng công việc chung của cơ quan, tổ chức, đơn vị; khuyến khích áp dụng công nghệ thông tin để thực hiện đánh giá, xếp loại chất lượng cán bộ, công chức, viên chức, bảo đảm phù hợp với các quy định tại Nghị định này.\n",
            "Việc đánh giá, xếp loại chất lượng đối với người làm việc trong tổ chức cơ yếu thực hiện theo quy định của pháp luật về cơ yếu và không trái với nguyên tắc đánh giá, xếp loại cán bộ của cấp có thẩm quyền.\n",
            "2. Kết quả đánh giá của các năm trước năm 2020 được tính liên tục để áp dụng các quy định có liên quan đối với cán bộ, công chức, viên chức.\n",
            "3. Người đứng đầu cơ quan quản lý cán bộ, công chức, viên chức chịu trách nhiệm tổ chức thực hiện việc đánh giá, xếp loại chất lượng đối với cán bộ, công chức, viên chức hàng năm theo quy định tại Nghị định này; chịu trách nhiệm về số lượng, chất lượng công tác đánh giá, xếp loại chất lượng và gửi báo cáo kết quả đánh giá, xếp loại chất lượng cán bộ, công chức, viên chức thuộc thẩm quyền quản lý về Bộ Nội vụ để tổng hợp trước ngày 01 tháng 3 hàng năm.\n",
            "4. Bộ Nội vụ có trách nhiệm theo dõi, kiểm tra, tổng hợp, báo cáo Chính phủ, Thủ tướng Chính phủ kết quả đánh giá, xếp loại chất lượng cán bộ, công chức, viên chức hàng năm của các bộ, ngành, địa phương và công khai kết quả tổng hợp đánh giá, xếp loại chất lượng cán bộ, công chức, viên chức hàng năm.: 0.2914\n",
            " - Nghị định này quy định về công khai kết quả kiểm toán, kết quả thực hiện kết luận, kiến nghị kiểm toán của Kiểm toán Nhà nước (sau đây gọi tắt là công khai kết quả kiểm toán) và trách nhiệm của Kiểm toán Nhà nước; các cơ quan, đơn vị, tổ chức đã được kiểm toán; các Bộ, ngành, cơ quan, đơn vị, tổ chức và cá nhân có liên quan trong việc tổ chức công khai kết quả kiểm toán.: 0.1026\n"
          ]
        }
      ],
      "source": [
        "query = \"Thời gian viên chức nghỉ thai sản có đánh giá chất lượng không?\"\n",
        "sentences = [\n",
        "    \"1. Việc đánh giá, xếp loại chất lượng cán bộ, công chức, viên chức được thực hiện theo từng năm công tác.\\nĐối với cán bộ, công chức, viên chức chuyển công tác thì cơ quan, tổ chức, đơn vị mới có trách nhiệm đánh giá, xếp loại chất lượng. Trường hợp có thời gian công tác ở cơ quan, tổ chức, đơn vị cũ từ 06 tháng trở lên thì phải kết hợp với ý kiến nhận xét của cơ quan, tổ chức, đơn vị cũ, trừ trường hợp không còn cơ quan, tổ chức, đơn vị cũ.\\n2. Thời điểm đánh giá, xếp loại chất lượng cán bộ, công chức, viên chức được tiến hành trước ngày 15 tháng 12 hàng năm, trước khi thực hiện việc đánh giá, xếp loại chất lượng đảng viên và tổng kết công tác bình xét thi đua, khen thưởng hàng năm của cơ quan, tổ chức, đơn vị.\\nĐối với đơn vị sự nghiệp công lập hoạt động trong lĩnh vực giáo dục, đào tạo và một số lĩnh vực khác có thời điểm kết thúc năm công tác trước tháng 12 hàng năm thì người đứng đầu đơn vị sự nghiệp công lập quyết định thời điểm đánh giá, xếp loại chất lượng viên chức.\\n3. Tại thời điểm đánh giá, xếp loại chất lượng, trường hợp vắng mặt có lý do chính đáng hoặc nghỉ ốm, nghỉ chế độ thai sản theo quy định của pháp luật, cán bộ, công chức, viên chức có trách nhiệm làm báo cáo tự đánh giá, nhận mức xếp loại kết quả công tác theo chức trách, nhiệm vụ được giao, gửi cơ quan, tổ chức, đơn vị đang công tác để thực hiện việc đánh giá, xếp loại chất lượng theo quy định tại Nghị định này.\\nCăn cứ khoản 1 và khoản 2 Điều này và đặc thù của cơ quan, tổ chức, đơn vị, tập thể lãnh đạo cơ quan, tổ chức, đơn vị thống nhất với cấp ủy cùng cấp về việc kết hợp tổ chức cuộc họp đánh giá, xếp loại trong cơ quan, tổ chức, đơn vị mình, bảo đảm nghiêm túc, hiệu quả, tránh hình thức, lãng phí.\",\n",
        "    \"1. Căn cứ điều kiện cụ thể của cơ quan, tổ chức, đơn vị, người đứng đầu cơ quan, tổ chức, đơn vị quản lý công chức, viên chức ban hành hoặc giao người đứng đầu cơ quan, tổ chức, đơn vị sử dụng công chức, viên chức ban hành Quy chế đánh giá phù hợp với đặc thù của cơ quan, tổ chức, đơn vị mình.\\nNội dung Quy chế phải xác định rõ sản phẩm cụ thể gắn với từng vị trí việc làm, tiêu chí đánh giá chất lượng, hiệu quả, thời điểm đánh giá theo quý, tháng hoặc tuần (nếu có); căn cứ để xác định tỉ lệ % mức độ hoàn thành công việc; các tiêu chí thành phần để đánh giá và xếp loại chất lượng cán bộ, công chức, viên chức, trong đó có tính đến tỷ lệ khối lượng công việc của cán bộ, công chức, viên chức đã thực hiện so với khối lượng công việc chung của cơ quan, tổ chức, đơn vị; khuyến khích áp dụng công nghệ thông tin để thực hiện đánh giá, xếp loại chất lượng cán bộ, công chức, viên chức, bảo đảm phù hợp với các quy định tại Nghị định này.\\nViệc đánh giá, xếp loại chất lượng đối với người làm việc trong tổ chức cơ yếu thực hiện theo quy định của pháp luật về cơ yếu và không trái với nguyên tắc đánh giá, xếp loại cán bộ của cấp có thẩm quyền.\\n2. Kết quả đánh giá của các năm trước năm 2020 được tính liên tục để áp dụng các quy định có liên quan đối với cán bộ, công chức, viên chức.\\n3. Người đứng đầu cơ quan quản lý cán bộ, công chức, viên chức chịu trách nhiệm tổ chức thực hiện việc đánh giá, xếp loại chất lượng đối với cán bộ, công chức, viên chức hàng năm theo quy định tại Nghị định này; chịu trách nhiệm về số lượng, chất lượng công tác đánh giá, xếp loại chất lượng và gửi báo cáo kết quả đánh giá, xếp loại chất lượng cán bộ, công chức, viên chức thuộc thẩm quyền quản lý về Bộ Nội vụ để tổng hợp trước ngày 01 tháng 3 hàng năm.\\n4. Bộ Nội vụ có trách nhiệm theo dõi, kiểm tra, tổng hợp, báo cáo Chính phủ, Thủ tướng Chính phủ kết quả đánh giá, xếp loại chất lượng cán bộ, công chức, viên chức hàng năm của các bộ, ngành, địa phương và công khai kết quả tổng hợp đánh giá, xếp loại chất lượng cán bộ, công chức, viên chức hàng năm.\",\n",
        "    \"Nghị định này quy định về công khai kết quả kiểm toán, kết quả thực hiện kết luận, kiến nghị kiểm toán của Kiểm toán Nhà nước (sau đây gọi tắt là công khai kết quả kiểm toán) và trách nhiệm của Kiểm toán Nhà nước; các cơ quan, đơn vị, tổ chức đã được kiểm toán; các Bộ, ngành, cơ quan, đơn vị, tổ chức và cá nhân có liên quan trong việc tổ chức công khai kết quả kiểm toán.\",\n",
        "]\n",
        "# Calculate embeddings by calling model.encode()\n",
        "embeddings1 = finetuned_bi_encoder.encode(query)\n",
        "embeddings2 = finetuned_bi_encoder.encode(sentences)\n",
        "print(embeddings1.shape)\n",
        "\n",
        "# Output the pairs with their score\n",
        "similarities = finetuned_bi_encoder.similarity(embeddings1, embeddings2)\n",
        "print(query)\n",
        "for idx_j, sentence in enumerate(sentences):\n",
        "    print(f\" - {sentence: <30}: {similarities[0][idx_j]:.4f}\")"
      ]
    },
    {
      "cell_type": "code",
      "execution_count": null,
      "metadata": {
        "execution": {
          "iopub.execute_input": "2025-05-08T05:03:45.634580Z",
          "iopub.status.busy": "2025-05-08T05:03:45.634214Z",
          "iopub.status.idle": "2025-05-08T05:03:45.638575Z",
          "shell.execute_reply": "2025-05-08T05:03:45.637433Z",
          "shell.execute_reply.started": "2025-05-08T05:03:45.634530Z"
        },
        "id": "N-C2mzeJkxNR",
        "trusted": true
      },
      "outputs": [],
      "source": [
        "finetuned_corpus_embeddings = embed_copus(finetuned_bi_encoder)\n",
        "finetuned_pred_law_ids, finetuned_pred_article_ids = predict(finetuned_bi_encoder, reranker, finetuned_corpus_embeddings)\n",
        "finetuned_accuracy = eval_accuracy(finetuned_pred_lqaw_ids, finetuned_pred_article_ids)"
      ]
    },
    {
      "cell_type": "code",
      "execution_count": null,
      "metadata": {
        "execution": {
          "iopub.execute_input": "2025-05-08T05:04:16.396374Z",
          "iopub.status.busy": "2025-05-08T05:04:16.396038Z",
          "iopub.status.idle": "2025-05-08T05:04:16.401302Z",
          "shell.execute_reply": "2025-05-08T05:04:16.400366Z",
          "shell.execute_reply.started": "2025-05-08T05:04:16.396347Z"
        },
        "id": "Jl2CXeqFkxNR",
        "outputId": "2603e3cc-959b-4084-921a-2968d4e3e581",
        "trusted": true
      },
      "outputs": [
        {
          "name": "stdout",
          "output_type": "stream",
          "text": [
            "Accuracy: 68.72%\n"
          ]
        }
      ],
      "source": [
        "print(f\"Accuracy: {finetuned_accuracy:.2%}\")"
      ]
    },
    {
      "cell_type": "code",
      "execution_count": null,
      "metadata": {
        "id": "xlqvJZYbSfE5",
        "trusted": true
      },
      "outputs": [],
      "source": []
    }
  ],
  "metadata": {
    "accelerator": "GPU",
    "colab": {
      "gpuType": "T4",
      "provenance": []
    },
    "kaggle": {
      "accelerator": "nvidiaTeslaT4",
      "dataSources": [
        {
          "datasetId": 6857357,
          "sourceId": 11013790,
          "sourceType": "datasetVersion"
        },
        {
          "datasetId": 6857674,
          "sourceId": 11014272,
          "sourceType": "datasetVersion"
        },
        {
          "datasetId": 6880716,
          "sourceId": 11045840,
          "sourceType": "datasetVersion"
        },
        {
          "datasetId": 6882709,
          "sourceId": 11048448,
          "sourceType": "datasetVersion"
        }
      ],
      "dockerImageVersionId": 30919,
      "isGpuEnabled": true,
      "isInternetEnabled": true,
      "language": "python",
      "sourceType": "notebook"
    },
    "kernelspec": {
      "display_name": "Python 3",
      "language": "python",
      "name": "python3"
    },
    "language_info": {
      "codemirror_mode": {
        "name": "ipython",
        "version": 3
      },
      "file_extension": ".py",
      "mimetype": "text/x-python",
      "name": "python",
      "nbconvert_exporter": "python",
      "pygments_lexer": "ipython3",
      "version": "3.10.12"
    },
    "widgets": {
      "application/vnd.jupyter.widget-state+json": {
        "019214d7b0384958a2acf093c7c62a47": {
          "model_module": "@jupyter-widgets/base",
          "model_module_version": "1.2.0",
          "model_name": "LayoutModel",
          "state": {
            "_model_module": "@jupyter-widgets/base",
            "_model_module_version": "1.2.0",
            "_model_name": "LayoutModel",
            "_view_count": null,
            "_view_module": "@jupyter-widgets/base",
            "_view_module_version": "1.2.0",
            "_view_name": "LayoutView",
            "align_content": null,
            "align_items": null,
            "align_self": null,
            "border": null,
            "bottom": null,
            "display": null,
            "flex": null,
            "flex_flow": null,
            "grid_area": null,
            "grid_auto_columns": null,
            "grid_auto_flow": null,
            "grid_auto_rows": null,
            "grid_column": null,
            "grid_gap": null,
            "grid_row": null,
            "grid_template_areas": null,
            "grid_template_columns": null,
            "grid_template_rows": null,
            "height": null,
            "justify_content": null,
            "justify_items": null,
            "left": null,
            "margin": null,
            "max_height": null,
            "max_width": null,
            "min_height": null,
            "min_width": null,
            "object_fit": null,
            "object_position": null,
            "order": null,
            "overflow": null,
            "overflow_x": null,
            "overflow_y": null,
            "padding": null,
            "right": null,
            "top": null,
            "visibility": null,
            "width": null
          }
        },
        "01c0d462e917402497c4335db2d3ad58": {
          "model_module": "@jupyter-widgets/controls",
          "model_module_version": "1.5.0",
          "model_name": "DescriptionStyleModel",
          "state": {
            "_model_module": "@jupyter-widgets/controls",
            "_model_module_version": "1.5.0",
            "_model_name": "DescriptionStyleModel",
            "_view_count": null,
            "_view_module": "@jupyter-widgets/base",
            "_view_module_version": "1.2.0",
            "_view_name": "StyleView",
            "description_width": ""
          }
        },
        "029a10472ed842d48d2d761034ccb187": {
          "model_module": "@jupyter-widgets/controls",
          "model_module_version": "1.5.0",
          "model_name": "HTMLModel",
          "state": {
            "_dom_classes": [],
            "_model_module": "@jupyter-widgets/controls",
            "_model_module_version": "1.5.0",
            "_model_name": "HTMLModel",
            "_view_count": null,
            "_view_module": "@jupyter-widgets/controls",
            "_view_module_version": "1.5.0",
            "_view_name": "HTMLView",
            "description": "",
            "description_tooltip": null,
            "layout": "IPY_MODEL_39751d8b870b4f9894f9c5854016910d",
            "placeholder": "​",
            "style": "IPY_MODEL_c978f7ea124c458f8b3d41866fefa0d0",
            "value": " 0/1901 [00:00&lt;?, ?it/s]"
          }
        },
        "074253cff1a64c8dab249c555eada78c": {
          "model_module": "@jupyter-widgets/controls",
          "model_module_version": "1.5.0",
          "model_name": "HBoxModel",
          "state": {
            "_dom_classes": [],
            "_model_module": "@jupyter-widgets/controls",
            "_model_module_version": "1.5.0",
            "_model_name": "HBoxModel",
            "_view_count": null,
            "_view_module": "@jupyter-widgets/controls",
            "_view_module_version": "1.5.0",
            "_view_name": "HBoxView",
            "box_style": "",
            "children": [
              "IPY_MODEL_9b92731d177b4dbd825bb65d9d928de3",
              "IPY_MODEL_ecf9edba34b04c85aeb9ed9a5900a8b3",
              "IPY_MODEL_437ba0619ba24f64be3dd1f9e391e3eb"
            ],
            "layout": "IPY_MODEL_4a1aa3866c4741248ad707ca1a3a7510"
          }
        },
        "179492bea72540c19982112322bc1c58": {
          "model_module": "@jupyter-widgets/base",
          "model_module_version": "1.2.0",
          "model_name": "LayoutModel",
          "state": {
            "_model_module": "@jupyter-widgets/base",
            "_model_module_version": "1.2.0",
            "_model_name": "LayoutModel",
            "_view_count": null,
            "_view_module": "@jupyter-widgets/base",
            "_view_module_version": "1.2.0",
            "_view_name": "LayoutView",
            "align_content": null,
            "align_items": null,
            "align_self": null,
            "border": null,
            "bottom": null,
            "display": null,
            "flex": null,
            "flex_flow": null,
            "grid_area": null,
            "grid_auto_columns": null,
            "grid_auto_flow": null,
            "grid_auto_rows": null,
            "grid_column": null,
            "grid_gap": null,
            "grid_row": null,
            "grid_template_areas": null,
            "grid_template_columns": null,
            "grid_template_rows": null,
            "height": null,
            "justify_content": null,
            "justify_items": null,
            "left": null,
            "margin": null,
            "max_height": null,
            "max_width": null,
            "min_height": null,
            "min_width": null,
            "object_fit": null,
            "object_position": null,
            "order": null,
            "overflow": null,
            "overflow_x": null,
            "overflow_y": null,
            "padding": null,
            "right": null,
            "top": null,
            "visibility": null,
            "width": null
          }
        },
        "18219bdeadf34f358090416d3249deb8": {
          "model_module": "@jupyter-widgets/controls",
          "model_module_version": "1.5.0",
          "model_name": "HTMLModel",
          "state": {
            "_dom_classes": [],
            "_model_module": "@jupyter-widgets/controls",
            "_model_module_version": "1.5.0",
            "_model_name": "HTMLModel",
            "_view_count": null,
            "_view_module": "@jupyter-widgets/controls",
            "_view_module_version": "1.5.0",
            "_view_name": "HTMLView",
            "description": "",
            "description_tooltip": null,
            "layout": "IPY_MODEL_a85dfb60045544dc81fa14a39a7255b6",
            "placeholder": "​",
            "style": "IPY_MODEL_01c0d462e917402497c4335db2d3ad58",
            "value": "tokenizer.json: 100%"
          }
        },
        "1ca87f587e634f0e9698c9d5b945675a": {
          "model_module": "@jupyter-widgets/controls",
          "model_module_version": "1.5.0",
          "model_name": "DescriptionStyleModel",
          "state": {
            "_model_module": "@jupyter-widgets/controls",
            "_model_module_version": "1.5.0",
            "_model_name": "DescriptionStyleModel",
            "_view_count": null,
            "_view_module": "@jupyter-widgets/base",
            "_view_module_version": "1.2.0",
            "_view_name": "StyleView",
            "description_width": ""
          }
        },
        "1e43ee5427054ba78291d42d91b62f15": {
          "model_module": "@jupyter-widgets/base",
          "model_module_version": "1.2.0",
          "model_name": "LayoutModel",
          "state": {
            "_model_module": "@jupyter-widgets/base",
            "_model_module_version": "1.2.0",
            "_model_name": "LayoutModel",
            "_view_count": null,
            "_view_module": "@jupyter-widgets/base",
            "_view_module_version": "1.2.0",
            "_view_name": "LayoutView",
            "align_content": null,
            "align_items": null,
            "align_self": null,
            "border": null,
            "bottom": null,
            "display": null,
            "flex": null,
            "flex_flow": null,
            "grid_area": null,
            "grid_auto_columns": null,
            "grid_auto_flow": null,
            "grid_auto_rows": null,
            "grid_column": null,
            "grid_gap": null,
            "grid_row": null,
            "grid_template_areas": null,
            "grid_template_columns": null,
            "grid_template_rows": null,
            "height": null,
            "justify_content": null,
            "justify_items": null,
            "left": null,
            "margin": null,
            "max_height": null,
            "max_width": null,
            "min_height": null,
            "min_width": null,
            "object_fit": null,
            "object_position": null,
            "order": null,
            "overflow": null,
            "overflow_x": null,
            "overflow_y": null,
            "padding": null,
            "right": null,
            "top": null,
            "visibility": null,
            "width": null
          }
        },
        "1effedc5692d49e398a0b5bf960a2835": {
          "model_module": "@jupyter-widgets/controls",
          "model_module_version": "1.5.0",
          "model_name": "DescriptionStyleModel",
          "state": {
            "_model_module": "@jupyter-widgets/controls",
            "_model_module_version": "1.5.0",
            "_model_name": "DescriptionStyleModel",
            "_view_count": null,
            "_view_module": "@jupyter-widgets/base",
            "_view_module_version": "1.2.0",
            "_view_name": "StyleView",
            "description_width": ""
          }
        },
        "2318ba5df9a14869b1d45fd740a1200a": {
          "model_module": "@jupyter-widgets/controls",
          "model_module_version": "1.5.0",
          "model_name": "HBoxModel",
          "state": {
            "_dom_classes": [],
            "_model_module": "@jupyter-widgets/controls",
            "_model_module_version": "1.5.0",
            "_model_name": "HBoxModel",
            "_view_count": null,
            "_view_module": "@jupyter-widgets/controls",
            "_view_module_version": "1.5.0",
            "_view_name": "HBoxView",
            "box_style": "",
            "children": [
              "IPY_MODEL_18219bdeadf34f358090416d3249deb8",
              "IPY_MODEL_7b4026bb071747c08e4b9553a5755b8f",
              "IPY_MODEL_42262dc525bf4dc1998c25e22d0b41c8"
            ],
            "layout": "IPY_MODEL_d232b47c1c1b4c5d9109885debcef7d6"
          }
        },
        "23d82d23200e47179d5fd2eb2c8b50e1": {
          "model_module": "@jupyter-widgets/controls",
          "model_module_version": "1.5.0",
          "model_name": "DescriptionStyleModel",
          "state": {
            "_model_module": "@jupyter-widgets/controls",
            "_model_module_version": "1.5.0",
            "_model_name": "DescriptionStyleModel",
            "_view_count": null,
            "_view_module": "@jupyter-widgets/base",
            "_view_module_version": "1.2.0",
            "_view_name": "StyleView",
            "description_width": ""
          }
        },
        "25cbbea17dff461c892338eb0eda6a81": {
          "model_module": "@jupyter-widgets/controls",
          "model_module_version": "1.5.0",
          "model_name": "DescriptionStyleModel",
          "state": {
            "_model_module": "@jupyter-widgets/controls",
            "_model_module_version": "1.5.0",
            "_model_name": "DescriptionStyleModel",
            "_view_count": null,
            "_view_module": "@jupyter-widgets/base",
            "_view_module_version": "1.2.0",
            "_view_name": "StyleView",
            "description_width": ""
          }
        },
        "26a3336dc74b417c8268e9fd99cc7edd": {
          "model_module": "@jupyter-widgets/base",
          "model_module_version": "1.2.0",
          "model_name": "LayoutModel",
          "state": {
            "_model_module": "@jupyter-widgets/base",
            "_model_module_version": "1.2.0",
            "_model_name": "LayoutModel",
            "_view_count": null,
            "_view_module": "@jupyter-widgets/base",
            "_view_module_version": "1.2.0",
            "_view_name": "LayoutView",
            "align_content": null,
            "align_items": null,
            "align_self": null,
            "border": null,
            "bottom": null,
            "display": null,
            "flex": null,
            "flex_flow": null,
            "grid_area": null,
            "grid_auto_columns": null,
            "grid_auto_flow": null,
            "grid_auto_rows": null,
            "grid_column": null,
            "grid_gap": null,
            "grid_row": null,
            "grid_template_areas": null,
            "grid_template_columns": null,
            "grid_template_rows": null,
            "height": null,
            "justify_content": null,
            "justify_items": null,
            "left": null,
            "margin": null,
            "max_height": null,
            "max_width": null,
            "min_height": null,
            "min_width": null,
            "object_fit": null,
            "object_position": null,
            "order": null,
            "overflow": null,
            "overflow_x": null,
            "overflow_y": null,
            "padding": null,
            "right": null,
            "top": null,
            "visibility": null,
            "width": null
          }
        },
        "2c3656011526443ca7da848f2a7dd584": {
          "model_module": "@jupyter-widgets/controls",
          "model_module_version": "1.5.0",
          "model_name": "FloatProgressModel",
          "state": {
            "_dom_classes": [],
            "_model_module": "@jupyter-widgets/controls",
            "_model_module_version": "1.5.0",
            "_model_name": "FloatProgressModel",
            "_view_count": null,
            "_view_module": "@jupyter-widgets/controls",
            "_view_module_version": "1.5.0",
            "_view_name": "ProgressView",
            "bar_style": "success",
            "description": "",
            "description_tooltip": null,
            "layout": "IPY_MODEL_3f4c2a986c9045d4bf0de7f3855e5013",
            "max": 1173,
            "min": 0,
            "orientation": "horizontal",
            "style": "IPY_MODEL_900900b9b81444b8a1f5bfe81af6353a",
            "value": 1173
          }
        },
        "2ffeff5ff4c645b4b18f0fcc073d7d28": {
          "model_module": "@jupyter-widgets/controls",
          "model_module_version": "1.5.0",
          "model_name": "HTMLModel",
          "state": {
            "_dom_classes": [],
            "_model_module": "@jupyter-widgets/controls",
            "_model_module_version": "1.5.0",
            "_model_name": "HTMLModel",
            "_view_count": null,
            "_view_module": "@jupyter-widgets/controls",
            "_view_module_version": "1.5.0",
            "_view_name": "HTMLView",
            "description": "",
            "description_tooltip": null,
            "layout": "IPY_MODEL_832b77604631474d9a1db93a47aba442",
            "placeholder": "​",
            "style": "IPY_MODEL_c07c1f2a8f214d84b8995875321e776d",
            "value": " 964/964 [00:00&lt;00:00, 58.0kB/s]"
          }
        },
        "31409ddd8b0d4be69048f0af8a5188c7": {
          "model_module": "@jupyter-widgets/controls",
          "model_module_version": "1.5.0",
          "model_name": "HTMLModel",
          "state": {
            "_dom_classes": [],
            "_model_module": "@jupyter-widgets/controls",
            "_model_module_version": "1.5.0",
            "_model_name": "HTMLModel",
            "_view_count": null,
            "_view_module": "@jupyter-widgets/controls",
            "_view_module_version": "1.5.0",
            "_view_name": "HTMLView",
            "description": "",
            "description_tooltip": null,
            "layout": "IPY_MODEL_b42c7c3957014106939be2558c2cd62a",
            "placeholder": "​",
            "style": "IPY_MODEL_e4db5b89eb5c46848d84d6bab511407e",
            "value": " 1.17k/1.17k [00:00&lt;00:00, 96.3kB/s]"
          }
        },
        "37a3d2a331a44d978a7b51d21a907b97": {
          "model_module": "@jupyter-widgets/controls",
          "model_module_version": "1.5.0",
          "model_name": "HTMLModel",
          "state": {
            "_dom_classes": [],
            "_model_module": "@jupyter-widgets/controls",
            "_model_module_version": "1.5.0",
            "_model_name": "HTMLModel",
            "_view_count": null,
            "_view_module": "@jupyter-widgets/controls",
            "_view_module_version": "1.5.0",
            "_view_name": "HTMLView",
            "description": "",
            "description_tooltip": null,
            "layout": "IPY_MODEL_1e43ee5427054ba78291d42d91b62f15",
            "placeholder": "​",
            "style": "IPY_MODEL_f4e3287e316f4118be6f47b5e8679bd7",
            "value": "Batches:   0%"
          }
        },
        "39751d8b870b4f9894f9c5854016910d": {
          "model_module": "@jupyter-widgets/base",
          "model_module_version": "1.2.0",
          "model_name": "LayoutModel",
          "state": {
            "_model_module": "@jupyter-widgets/base",
            "_model_module_version": "1.2.0",
            "_model_name": "LayoutModel",
            "_view_count": null,
            "_view_module": "@jupyter-widgets/base",
            "_view_module_version": "1.2.0",
            "_view_name": "LayoutView",
            "align_content": null,
            "align_items": null,
            "align_self": null,
            "border": null,
            "bottom": null,
            "display": null,
            "flex": null,
            "flex_flow": null,
            "grid_area": null,
            "grid_auto_columns": null,
            "grid_auto_flow": null,
            "grid_auto_rows": null,
            "grid_column": null,
            "grid_gap": null,
            "grid_row": null,
            "grid_template_areas": null,
            "grid_template_columns": null,
            "grid_template_rows": null,
            "height": null,
            "justify_content": null,
            "justify_items": null,
            "left": null,
            "margin": null,
            "max_height": null,
            "max_width": null,
            "min_height": null,
            "min_width": null,
            "object_fit": null,
            "object_position": null,
            "order": null,
            "overflow": null,
            "overflow_x": null,
            "overflow_y": null,
            "padding": null,
            "right": null,
            "top": null,
            "visibility": null,
            "width": null
          }
        },
        "3aee28199db545acbb43248362329f81": {
          "model_module": "@jupyter-widgets/base",
          "model_module_version": "1.2.0",
          "model_name": "LayoutModel",
          "state": {
            "_model_module": "@jupyter-widgets/base",
            "_model_module_version": "1.2.0",
            "_model_name": "LayoutModel",
            "_view_count": null,
            "_view_module": "@jupyter-widgets/base",
            "_view_module_version": "1.2.0",
            "_view_name": "LayoutView",
            "align_content": null,
            "align_items": null,
            "align_self": null,
            "border": null,
            "bottom": null,
            "display": null,
            "flex": null,
            "flex_flow": null,
            "grid_area": null,
            "grid_auto_columns": null,
            "grid_auto_flow": null,
            "grid_auto_rows": null,
            "grid_column": null,
            "grid_gap": null,
            "grid_row": null,
            "grid_template_areas": null,
            "grid_template_columns": null,
            "grid_template_rows": null,
            "height": null,
            "justify_content": null,
            "justify_items": null,
            "left": null,
            "margin": null,
            "max_height": null,
            "max_width": null,
            "min_height": null,
            "min_width": null,
            "object_fit": null,
            "object_position": null,
            "order": null,
            "overflow": null,
            "overflow_x": null,
            "overflow_y": null,
            "padding": null,
            "right": null,
            "top": null,
            "visibility": null,
            "width": null
          }
        },
        "3f4c2a986c9045d4bf0de7f3855e5013": {
          "model_module": "@jupyter-widgets/base",
          "model_module_version": "1.2.0",
          "model_name": "LayoutModel",
          "state": {
            "_model_module": "@jupyter-widgets/base",
            "_model_module_version": "1.2.0",
            "_model_name": "LayoutModel",
            "_view_count": null,
            "_view_module": "@jupyter-widgets/base",
            "_view_module_version": "1.2.0",
            "_view_name": "LayoutView",
            "align_content": null,
            "align_items": null,
            "align_self": null,
            "border": null,
            "bottom": null,
            "display": null,
            "flex": null,
            "flex_flow": null,
            "grid_area": null,
            "grid_auto_columns": null,
            "grid_auto_flow": null,
            "grid_auto_rows": null,
            "grid_column": null,
            "grid_gap": null,
            "grid_row": null,
            "grid_template_areas": null,
            "grid_template_columns": null,
            "grid_template_rows": null,
            "height": null,
            "justify_content": null,
            "justify_items": null,
            "left": null,
            "margin": null,
            "max_height": null,
            "max_width": null,
            "min_height": null,
            "min_width": null,
            "object_fit": null,
            "object_position": null,
            "order": null,
            "overflow": null,
            "overflow_x": null,
            "overflow_y": null,
            "padding": null,
            "right": null,
            "top": null,
            "visibility": null,
            "width": null
          }
        },
        "42262dc525bf4dc1998c25e22d0b41c8": {
          "model_module": "@jupyter-widgets/controls",
          "model_module_version": "1.5.0",
          "model_name": "HTMLModel",
          "state": {
            "_dom_classes": [],
            "_model_module": "@jupyter-widgets/controls",
            "_model_module_version": "1.5.0",
            "_model_name": "HTMLModel",
            "_view_count": null,
            "_view_module": "@jupyter-widgets/controls",
            "_view_module_version": "1.5.0",
            "_view_name": "HTMLView",
            "description": "",
            "description_tooltip": null,
            "layout": "IPY_MODEL_9215305575534d57b884e8361642874a",
            "placeholder": "​",
            "style": "IPY_MODEL_88d58ac45a9647ffb1887af5b0d4044b",
            "value": " 17.1M/17.1M [00:00&lt;00:00, 54.5MB/s]"
          }
        },
        "437ba0619ba24f64be3dd1f9e391e3eb": {
          "model_module": "@jupyter-widgets/controls",
          "model_module_version": "1.5.0",
          "model_name": "HTMLModel",
          "state": {
            "_dom_classes": [],
            "_model_module": "@jupyter-widgets/controls",
            "_model_module_version": "1.5.0",
            "_model_name": "HTMLModel",
            "_view_count": null,
            "_view_module": "@jupyter-widgets/controls",
            "_view_module_version": "1.5.0",
            "_view_name": "HTMLView",
            "description": "",
            "description_tooltip": null,
            "layout": "IPY_MODEL_f356f66e95484fa89a83937f690ceaba",
            "placeholder": "​",
            "style": "IPY_MODEL_23d82d23200e47179d5fd2eb2c8b50e1",
            "value": " 5.07M/5.07M [00:00&lt;00:00, 22.0MB/s]"
          }
        },
        "4a1aa3866c4741248ad707ca1a3a7510": {
          "model_module": "@jupyter-widgets/base",
          "model_module_version": "1.2.0",
          "model_name": "LayoutModel",
          "state": {
            "_model_module": "@jupyter-widgets/base",
            "_model_module_version": "1.2.0",
            "_model_name": "LayoutModel",
            "_view_count": null,
            "_view_module": "@jupyter-widgets/base",
            "_view_module_version": "1.2.0",
            "_view_name": "LayoutView",
            "align_content": null,
            "align_items": null,
            "align_self": null,
            "border": null,
            "bottom": null,
            "display": null,
            "flex": null,
            "flex_flow": null,
            "grid_area": null,
            "grid_auto_columns": null,
            "grid_auto_flow": null,
            "grid_auto_rows": null,
            "grid_column": null,
            "grid_gap": null,
            "grid_row": null,
            "grid_template_areas": null,
            "grid_template_columns": null,
            "grid_template_rows": null,
            "height": null,
            "justify_content": null,
            "justify_items": null,
            "left": null,
            "margin": null,
            "max_height": null,
            "max_width": null,
            "min_height": null,
            "min_width": null,
            "object_fit": null,
            "object_position": null,
            "order": null,
            "overflow": null,
            "overflow_x": null,
            "overflow_y": null,
            "padding": null,
            "right": null,
            "top": null,
            "visibility": null,
            "width": null
          }
        },
        "4ac8a78c7ff149b4a4b2fb1ef1094412": {
          "model_module": "@jupyter-widgets/base",
          "model_module_version": "1.2.0",
          "model_name": "LayoutModel",
          "state": {
            "_model_module": "@jupyter-widgets/base",
            "_model_module_version": "1.2.0",
            "_model_name": "LayoutModel",
            "_view_count": null,
            "_view_module": "@jupyter-widgets/base",
            "_view_module_version": "1.2.0",
            "_view_name": "LayoutView",
            "align_content": null,
            "align_items": null,
            "align_self": null,
            "border": null,
            "bottom": null,
            "display": null,
            "flex": null,
            "flex_flow": null,
            "grid_area": null,
            "grid_auto_columns": null,
            "grid_auto_flow": null,
            "grid_auto_rows": null,
            "grid_column": null,
            "grid_gap": null,
            "grid_row": null,
            "grid_template_areas": null,
            "grid_template_columns": null,
            "grid_template_rows": null,
            "height": null,
            "justify_content": null,
            "justify_items": null,
            "left": null,
            "margin": null,
            "max_height": null,
            "max_width": null,
            "min_height": null,
            "min_width": null,
            "object_fit": null,
            "object_position": null,
            "order": null,
            "overflow": null,
            "overflow_x": null,
            "overflow_y": null,
            "padding": null,
            "right": null,
            "top": null,
            "visibility": null,
            "width": null
          }
        },
        "4dd0547a307941538b73bf1808429e25": {
          "model_module": "@jupyter-widgets/controls",
          "model_module_version": "1.5.0",
          "model_name": "HTMLModel",
          "state": {
            "_dom_classes": [],
            "_model_module": "@jupyter-widgets/controls",
            "_model_module_version": "1.5.0",
            "_model_name": "HTMLModel",
            "_view_count": null,
            "_view_module": "@jupyter-widgets/controls",
            "_view_module_version": "1.5.0",
            "_view_name": "HTMLView",
            "description": "",
            "description_tooltip": null,
            "layout": "IPY_MODEL_d7e7c8ec417f4b368d5fed5b2d2066f7",
            "placeholder": "​",
            "style": "IPY_MODEL_25cbbea17dff461c892338eb0eda6a81",
            "value": " 2.27G/2.27G [00:29&lt;00:00, 83.9MB/s]"
          }
        },
        "524c73aa20904199bf363b7f53357fc9": {
          "model_module": "@jupyter-widgets/controls",
          "model_module_version": "1.5.0",
          "model_name": "HBoxModel",
          "state": {
            "_dom_classes": [],
            "_model_module": "@jupyter-widgets/controls",
            "_model_module_version": "1.5.0",
            "_model_name": "HBoxModel",
            "_view_count": null,
            "_view_module": "@jupyter-widgets/controls",
            "_view_module_version": "1.5.0",
            "_view_name": "HBoxView",
            "box_style": "",
            "children": [
              "IPY_MODEL_894572dc90f344bcbbb3ec0bd493413e",
              "IPY_MODEL_ab62f830d9964da882d8630327abd8d4",
              "IPY_MODEL_be4c8953d1cd4558b8830246187daac3"
            ],
            "layout": "IPY_MODEL_4ac8a78c7ff149b4a4b2fb1ef1094412"
          }
        },
        "5273febc59c544f2b7f9b07324ba1ef3": {
          "model_module": "@jupyter-widgets/base",
          "model_module_version": "1.2.0",
          "model_name": "LayoutModel",
          "state": {
            "_model_module": "@jupyter-widgets/base",
            "_model_module_version": "1.2.0",
            "_model_name": "LayoutModel",
            "_view_count": null,
            "_view_module": "@jupyter-widgets/base",
            "_view_module_version": "1.2.0",
            "_view_name": "LayoutView",
            "align_content": null,
            "align_items": null,
            "align_self": null,
            "border": null,
            "bottom": null,
            "display": null,
            "flex": null,
            "flex_flow": null,
            "grid_area": null,
            "grid_auto_columns": null,
            "grid_auto_flow": null,
            "grid_auto_rows": null,
            "grid_column": null,
            "grid_gap": null,
            "grid_row": null,
            "grid_template_areas": null,
            "grid_template_columns": null,
            "grid_template_rows": null,
            "height": null,
            "justify_content": null,
            "justify_items": null,
            "left": null,
            "margin": null,
            "max_height": null,
            "max_width": null,
            "min_height": null,
            "min_width": null,
            "object_fit": null,
            "object_position": null,
            "order": null,
            "overflow": null,
            "overflow_x": null,
            "overflow_y": null,
            "padding": null,
            "right": null,
            "top": null,
            "visibility": null,
            "width": null
          }
        },
        "54785c6546b64bec90e099cd9a0ed57e": {
          "model_module": "@jupyter-widgets/base",
          "model_module_version": "1.2.0",
          "model_name": "LayoutModel",
          "state": {
            "_model_module": "@jupyter-widgets/base",
            "_model_module_version": "1.2.0",
            "_model_name": "LayoutModel",
            "_view_count": null,
            "_view_module": "@jupyter-widgets/base",
            "_view_module_version": "1.2.0",
            "_view_name": "LayoutView",
            "align_content": null,
            "align_items": null,
            "align_self": null,
            "border": null,
            "bottom": null,
            "display": null,
            "flex": null,
            "flex_flow": null,
            "grid_area": null,
            "grid_auto_columns": null,
            "grid_auto_flow": null,
            "grid_auto_rows": null,
            "grid_column": null,
            "grid_gap": null,
            "grid_row": null,
            "grid_template_areas": null,
            "grid_template_columns": null,
            "grid_template_rows": null,
            "height": null,
            "justify_content": null,
            "justify_items": null,
            "left": null,
            "margin": null,
            "max_height": null,
            "max_width": null,
            "min_height": null,
            "min_width": null,
            "object_fit": null,
            "object_position": null,
            "order": null,
            "overflow": null,
            "overflow_x": null,
            "overflow_y": null,
            "padding": null,
            "right": null,
            "top": null,
            "visibility": null,
            "width": null
          }
        },
        "57c2c715c70e44c08a7a7884532da619": {
          "model_module": "@jupyter-widgets/controls",
          "model_module_version": "1.5.0",
          "model_name": "HTMLModel",
          "state": {
            "_dom_classes": [],
            "_model_module": "@jupyter-widgets/controls",
            "_model_module_version": "1.5.0",
            "_model_name": "HTMLModel",
            "_view_count": null,
            "_view_module": "@jupyter-widgets/controls",
            "_view_module_version": "1.5.0",
            "_view_name": "HTMLView",
            "description": "",
            "description_tooltip": null,
            "layout": "IPY_MODEL_c049bbf45ecb44d5990e89c68964171f",
            "placeholder": "​",
            "style": "IPY_MODEL_5bcb5dddd5994516b09c8591ce37e256",
            "value": "tokenizer_config.json: 100%"
          }
        },
        "594032efc15c458b9d4409f4d2e5266e": {
          "model_module": "@jupyter-widgets/controls",
          "model_module_version": "1.5.0",
          "model_name": "FloatProgressModel",
          "state": {
            "_dom_classes": [],
            "_model_module": "@jupyter-widgets/controls",
            "_model_module_version": "1.5.0",
            "_model_name": "FloatProgressModel",
            "_view_count": null,
            "_view_module": "@jupyter-widgets/controls",
            "_view_module_version": "1.5.0",
            "_view_name": "ProgressView",
            "bar_style": "success",
            "description": "",
            "description_tooltip": null,
            "layout": "IPY_MODEL_179492bea72540c19982112322bc1c58",
            "max": 964,
            "min": 0,
            "orientation": "horizontal",
            "style": "IPY_MODEL_76813939ca05452e81a6eb2032720e81",
            "value": 964
          }
        },
        "5b2a3684c7ab48c4a9df56aae8f06716": {
          "model_module": "@jupyter-widgets/controls",
          "model_module_version": "1.5.0",
          "model_name": "HBoxModel",
          "state": {
            "_dom_classes": [],
            "_model_module": "@jupyter-widgets/controls",
            "_model_module_version": "1.5.0",
            "_model_name": "HBoxModel",
            "_view_count": null,
            "_view_module": "@jupyter-widgets/controls",
            "_view_module_version": "1.5.0",
            "_view_name": "HBoxView",
            "box_style": "",
            "children": [
              "IPY_MODEL_d5104896ce4142d7b3975218c6b461d9",
              "IPY_MODEL_594032efc15c458b9d4409f4d2e5266e",
              "IPY_MODEL_2ffeff5ff4c645b4b18f0fcc073d7d28"
            ],
            "layout": "IPY_MODEL_b3fd52c599d84dc4806e4720429620d0"
          }
        },
        "5bcb5dddd5994516b09c8591ce37e256": {
          "model_module": "@jupyter-widgets/controls",
          "model_module_version": "1.5.0",
          "model_name": "DescriptionStyleModel",
          "state": {
            "_model_module": "@jupyter-widgets/controls",
            "_model_module_version": "1.5.0",
            "_model_name": "DescriptionStyleModel",
            "_view_count": null,
            "_view_module": "@jupyter-widgets/base",
            "_view_module_version": "1.2.0",
            "_view_name": "StyleView",
            "description_width": ""
          }
        },
        "5f4e8e67499f4662875609bc1b5453c9": {
          "model_module": "@jupyter-widgets/base",
          "model_module_version": "1.2.0",
          "model_name": "LayoutModel",
          "state": {
            "_model_module": "@jupyter-widgets/base",
            "_model_module_version": "1.2.0",
            "_model_name": "LayoutModel",
            "_view_count": null,
            "_view_module": "@jupyter-widgets/base",
            "_view_module_version": "1.2.0",
            "_view_name": "LayoutView",
            "align_content": null,
            "align_items": null,
            "align_self": null,
            "border": null,
            "bottom": null,
            "display": null,
            "flex": null,
            "flex_flow": null,
            "grid_area": null,
            "grid_auto_columns": null,
            "grid_auto_flow": null,
            "grid_auto_rows": null,
            "grid_column": null,
            "grid_gap": null,
            "grid_row": null,
            "grid_template_areas": null,
            "grid_template_columns": null,
            "grid_template_rows": null,
            "height": null,
            "justify_content": null,
            "justify_items": null,
            "left": null,
            "margin": null,
            "max_height": null,
            "max_width": null,
            "min_height": null,
            "min_width": null,
            "object_fit": null,
            "object_position": null,
            "order": null,
            "overflow": null,
            "overflow_x": null,
            "overflow_y": null,
            "padding": null,
            "right": null,
            "top": null,
            "visibility": null,
            "width": null
          }
        },
        "5f9cb883aa234d16877998e431b1e9ae": {
          "model_module": "@jupyter-widgets/controls",
          "model_module_version": "1.5.0",
          "model_name": "HBoxModel",
          "state": {
            "_dom_classes": [],
            "_model_module": "@jupyter-widgets/controls",
            "_model_module_version": "1.5.0",
            "_model_name": "HBoxModel",
            "_view_count": null,
            "_view_module": "@jupyter-widgets/controls",
            "_view_module_version": "1.5.0",
            "_view_name": "HBoxView",
            "box_style": "",
            "children": [
              "IPY_MODEL_778e612d8f934caab3c67052850ffb61",
              "IPY_MODEL_8508c7357a7c43b296f3bc63b8d7e23b",
              "IPY_MODEL_4dd0547a307941538b73bf1808429e25"
            ],
            "layout": "IPY_MODEL_7477980a31834e7e992d69ca9638bb28"
          }
        },
        "7477980a31834e7e992d69ca9638bb28": {
          "model_module": "@jupyter-widgets/base",
          "model_module_version": "1.2.0",
          "model_name": "LayoutModel",
          "state": {
            "_model_module": "@jupyter-widgets/base",
            "_model_module_version": "1.2.0",
            "_model_name": "LayoutModel",
            "_view_count": null,
            "_view_module": "@jupyter-widgets/base",
            "_view_module_version": "1.2.0",
            "_view_name": "LayoutView",
            "align_content": null,
            "align_items": null,
            "align_self": null,
            "border": null,
            "bottom": null,
            "display": null,
            "flex": null,
            "flex_flow": null,
            "grid_area": null,
            "grid_auto_columns": null,
            "grid_auto_flow": null,
            "grid_auto_rows": null,
            "grid_column": null,
            "grid_gap": null,
            "grid_row": null,
            "grid_template_areas": null,
            "grid_template_columns": null,
            "grid_template_rows": null,
            "height": null,
            "justify_content": null,
            "justify_items": null,
            "left": null,
            "margin": null,
            "max_height": null,
            "max_width": null,
            "min_height": null,
            "min_width": null,
            "object_fit": null,
            "object_position": null,
            "order": null,
            "overflow": null,
            "overflow_x": null,
            "overflow_y": null,
            "padding": null,
            "right": null,
            "top": null,
            "visibility": null,
            "width": null
          }
        },
        "76813939ca05452e81a6eb2032720e81": {
          "model_module": "@jupyter-widgets/controls",
          "model_module_version": "1.5.0",
          "model_name": "ProgressStyleModel",
          "state": {
            "_model_module": "@jupyter-widgets/controls",
            "_model_module_version": "1.5.0",
            "_model_name": "ProgressStyleModel",
            "_view_count": null,
            "_view_module": "@jupyter-widgets/base",
            "_view_module_version": "1.2.0",
            "_view_name": "StyleView",
            "bar_color": null,
            "description_width": ""
          }
        },
        "770840e3108f4cc6a375f1b89101662c": {
          "model_module": "@jupyter-widgets/controls",
          "model_module_version": "1.5.0",
          "model_name": "HBoxModel",
          "state": {
            "_dom_classes": [],
            "_model_module": "@jupyter-widgets/controls",
            "_model_module_version": "1.5.0",
            "_model_name": "HBoxModel",
            "_view_count": null,
            "_view_module": "@jupyter-widgets/controls",
            "_view_module_version": "1.5.0",
            "_view_name": "HBoxView",
            "box_style": "",
            "children": [
              "IPY_MODEL_57c2c715c70e44c08a7a7884532da619",
              "IPY_MODEL_2c3656011526443ca7da848f2a7dd584",
              "IPY_MODEL_31409ddd8b0d4be69048f0af8a5188c7"
            ],
            "layout": "IPY_MODEL_84ca6116fc3a4398a1a25653c8915e0e"
          }
        },
        "778e612d8f934caab3c67052850ffb61": {
          "model_module": "@jupyter-widgets/controls",
          "model_module_version": "1.5.0",
          "model_name": "HTMLModel",
          "state": {
            "_dom_classes": [],
            "_model_module": "@jupyter-widgets/controls",
            "_model_module_version": "1.5.0",
            "_model_name": "HTMLModel",
            "_view_count": null,
            "_view_module": "@jupyter-widgets/controls",
            "_view_module_version": "1.5.0",
            "_view_name": "HTMLView",
            "description": "",
            "description_tooltip": null,
            "layout": "IPY_MODEL_019214d7b0384958a2acf093c7c62a47",
            "placeholder": "​",
            "style": "IPY_MODEL_1effedc5692d49e398a0b5bf960a2835",
            "value": "model.safetensors: 100%"
          }
        },
        "7b4026bb071747c08e4b9553a5755b8f": {
          "model_module": "@jupyter-widgets/controls",
          "model_module_version": "1.5.0",
          "model_name": "FloatProgressModel",
          "state": {
            "_dom_classes": [],
            "_model_module": "@jupyter-widgets/controls",
            "_model_module_version": "1.5.0",
            "_model_name": "FloatProgressModel",
            "_view_count": null,
            "_view_module": "@jupyter-widgets/controls",
            "_view_module_version": "1.5.0",
            "_view_name": "ProgressView",
            "bar_style": "success",
            "description": "",
            "description_tooltip": null,
            "layout": "IPY_MODEL_94dfb8a2e6df4814b7edbcec66a14ed3",
            "max": 17098251,
            "min": 0,
            "orientation": "horizontal",
            "style": "IPY_MODEL_a2061eb0ac024b6a994ac74c355efd62",
            "value": 17098251
          }
        },
        "7d74ca7063824d8aaeefe6fb697271a8": {
          "model_module": "@jupyter-widgets/base",
          "model_module_version": "1.2.0",
          "model_name": "LayoutModel",
          "state": {
            "_model_module": "@jupyter-widgets/base",
            "_model_module_version": "1.2.0",
            "_model_name": "LayoutModel",
            "_view_count": null,
            "_view_module": "@jupyter-widgets/base",
            "_view_module_version": "1.2.0",
            "_view_name": "LayoutView",
            "align_content": null,
            "align_items": null,
            "align_self": null,
            "border": null,
            "bottom": null,
            "display": null,
            "flex": null,
            "flex_flow": null,
            "grid_area": null,
            "grid_auto_columns": null,
            "grid_auto_flow": null,
            "grid_auto_rows": null,
            "grid_column": null,
            "grid_gap": null,
            "grid_row": null,
            "grid_template_areas": null,
            "grid_template_columns": null,
            "grid_template_rows": null,
            "height": null,
            "justify_content": null,
            "justify_items": null,
            "left": null,
            "margin": null,
            "max_height": null,
            "max_width": null,
            "min_height": null,
            "min_width": null,
            "object_fit": null,
            "object_position": null,
            "order": null,
            "overflow": null,
            "overflow_x": null,
            "overflow_y": null,
            "padding": null,
            "right": null,
            "top": null,
            "visibility": null,
            "width": null
          }
        },
        "832b77604631474d9a1db93a47aba442": {
          "model_module": "@jupyter-widgets/base",
          "model_module_version": "1.2.0",
          "model_name": "LayoutModel",
          "state": {
            "_model_module": "@jupyter-widgets/base",
            "_model_module_version": "1.2.0",
            "_model_name": "LayoutModel",
            "_view_count": null,
            "_view_module": "@jupyter-widgets/base",
            "_view_module_version": "1.2.0",
            "_view_name": "LayoutView",
            "align_content": null,
            "align_items": null,
            "align_self": null,
            "border": null,
            "bottom": null,
            "display": null,
            "flex": null,
            "flex_flow": null,
            "grid_area": null,
            "grid_auto_columns": null,
            "grid_auto_flow": null,
            "grid_auto_rows": null,
            "grid_column": null,
            "grid_gap": null,
            "grid_row": null,
            "grid_template_areas": null,
            "grid_template_columns": null,
            "grid_template_rows": null,
            "height": null,
            "justify_content": null,
            "justify_items": null,
            "left": null,
            "margin": null,
            "max_height": null,
            "max_width": null,
            "min_height": null,
            "min_width": null,
            "object_fit": null,
            "object_position": null,
            "order": null,
            "overflow": null,
            "overflow_x": null,
            "overflow_y": null,
            "padding": null,
            "right": null,
            "top": null,
            "visibility": null,
            "width": null
          }
        },
        "84ca6116fc3a4398a1a25653c8915e0e": {
          "model_module": "@jupyter-widgets/base",
          "model_module_version": "1.2.0",
          "model_name": "LayoutModel",
          "state": {
            "_model_module": "@jupyter-widgets/base",
            "_model_module_version": "1.2.0",
            "_model_name": "LayoutModel",
            "_view_count": null,
            "_view_module": "@jupyter-widgets/base",
            "_view_module_version": "1.2.0",
            "_view_name": "LayoutView",
            "align_content": null,
            "align_items": null,
            "align_self": null,
            "border": null,
            "bottom": null,
            "display": null,
            "flex": null,
            "flex_flow": null,
            "grid_area": null,
            "grid_auto_columns": null,
            "grid_auto_flow": null,
            "grid_auto_rows": null,
            "grid_column": null,
            "grid_gap": null,
            "grid_row": null,
            "grid_template_areas": null,
            "grid_template_columns": null,
            "grid_template_rows": null,
            "height": null,
            "justify_content": null,
            "justify_items": null,
            "left": null,
            "margin": null,
            "max_height": null,
            "max_width": null,
            "min_height": null,
            "min_width": null,
            "object_fit": null,
            "object_position": null,
            "order": null,
            "overflow": null,
            "overflow_x": null,
            "overflow_y": null,
            "padding": null,
            "right": null,
            "top": null,
            "visibility": null,
            "width": null
          }
        },
        "8508c7357a7c43b296f3bc63b8d7e23b": {
          "model_module": "@jupyter-widgets/controls",
          "model_module_version": "1.5.0",
          "model_name": "FloatProgressModel",
          "state": {
            "_dom_classes": [],
            "_model_module": "@jupyter-widgets/controls",
            "_model_module_version": "1.5.0",
            "_model_name": "FloatProgressModel",
            "_view_count": null,
            "_view_module": "@jupyter-widgets/controls",
            "_view_module_version": "1.5.0",
            "_view_name": "ProgressView",
            "bar_style": "success",
            "description": "",
            "description_tooltip": null,
            "layout": "IPY_MODEL_26a3336dc74b417c8268e9fd99cc7edd",
            "max": 2271071852,
            "min": 0,
            "orientation": "horizontal",
            "style": "IPY_MODEL_f929e2a625b64ae3a39883866176d1ca",
            "value": 2271071852
          }
        },
        "88d58ac45a9647ffb1887af5b0d4044b": {
          "model_module": "@jupyter-widgets/controls",
          "model_module_version": "1.5.0",
          "model_name": "DescriptionStyleModel",
          "state": {
            "_model_module": "@jupyter-widgets/controls",
            "_model_module_version": "1.5.0",
            "_model_name": "DescriptionStyleModel",
            "_view_count": null,
            "_view_module": "@jupyter-widgets/base",
            "_view_module_version": "1.2.0",
            "_view_name": "StyleView",
            "description_width": ""
          }
        },
        "8912cf0d88f446a28301a7fbd4c3bdad": {
          "model_module": "@jupyter-widgets/controls",
          "model_module_version": "1.5.0",
          "model_name": "DescriptionStyleModel",
          "state": {
            "_model_module": "@jupyter-widgets/controls",
            "_model_module_version": "1.5.0",
            "_model_name": "DescriptionStyleModel",
            "_view_count": null,
            "_view_module": "@jupyter-widgets/base",
            "_view_module_version": "1.2.0",
            "_view_name": "StyleView",
            "description_width": ""
          }
        },
        "894572dc90f344bcbbb3ec0bd493413e": {
          "model_module": "@jupyter-widgets/controls",
          "model_module_version": "1.5.0",
          "model_name": "HTMLModel",
          "state": {
            "_dom_classes": [],
            "_model_module": "@jupyter-widgets/controls",
            "_model_module_version": "1.5.0",
            "_model_name": "HTMLModel",
            "_view_count": null,
            "_view_module": "@jupyter-widgets/controls",
            "_view_module_version": "1.5.0",
            "_view_name": "HTMLView",
            "description": "",
            "description_tooltip": null,
            "layout": "IPY_MODEL_db1e1b4e740642f09177cb20e66f4edf",
            "placeholder": "​",
            "style": "IPY_MODEL_f3a1c3ca834e432487ec0763c6d1021a",
            "value": "config.json: 100%"
          }
        },
        "8d713ed7b7ac4d3d9aa93d906fd46e53": {
          "model_module": "@jupyter-widgets/controls",
          "model_module_version": "1.5.0",
          "model_name": "ProgressStyleModel",
          "state": {
            "_model_module": "@jupyter-widgets/controls",
            "_model_module_version": "1.5.0",
            "_model_name": "ProgressStyleModel",
            "_view_count": null,
            "_view_module": "@jupyter-widgets/base",
            "_view_module_version": "1.2.0",
            "_view_name": "StyleView",
            "bar_color": null,
            "description_width": ""
          }
        },
        "900900b9b81444b8a1f5bfe81af6353a": {
          "model_module": "@jupyter-widgets/controls",
          "model_module_version": "1.5.0",
          "model_name": "ProgressStyleModel",
          "state": {
            "_model_module": "@jupyter-widgets/controls",
            "_model_module_version": "1.5.0",
            "_model_name": "ProgressStyleModel",
            "_view_count": null,
            "_view_module": "@jupyter-widgets/base",
            "_view_module_version": "1.2.0",
            "_view_name": "StyleView",
            "bar_color": null,
            "description_width": ""
          }
        },
        "914537bb17614355bf29ffbf0b10c2dc": {
          "model_module": "@jupyter-widgets/base",
          "model_module_version": "1.2.0",
          "model_name": "LayoutModel",
          "state": {
            "_model_module": "@jupyter-widgets/base",
            "_model_module_version": "1.2.0",
            "_model_name": "LayoutModel",
            "_view_count": null,
            "_view_module": "@jupyter-widgets/base",
            "_view_module_version": "1.2.0",
            "_view_name": "LayoutView",
            "align_content": null,
            "align_items": null,
            "align_self": null,
            "border": null,
            "bottom": null,
            "display": null,
            "flex": null,
            "flex_flow": null,
            "grid_area": null,
            "grid_auto_columns": null,
            "grid_auto_flow": null,
            "grid_auto_rows": null,
            "grid_column": null,
            "grid_gap": null,
            "grid_row": null,
            "grid_template_areas": null,
            "grid_template_columns": null,
            "grid_template_rows": null,
            "height": null,
            "justify_content": null,
            "justify_items": null,
            "left": null,
            "margin": null,
            "max_height": null,
            "max_width": null,
            "min_height": null,
            "min_width": null,
            "object_fit": null,
            "object_position": null,
            "order": null,
            "overflow": null,
            "overflow_x": null,
            "overflow_y": null,
            "padding": null,
            "right": null,
            "top": null,
            "visibility": null,
            "width": null
          }
        },
        "9215305575534d57b884e8361642874a": {
          "model_module": "@jupyter-widgets/base",
          "model_module_version": "1.2.0",
          "model_name": "LayoutModel",
          "state": {
            "_model_module": "@jupyter-widgets/base",
            "_model_module_version": "1.2.0",
            "_model_name": "LayoutModel",
            "_view_count": null,
            "_view_module": "@jupyter-widgets/base",
            "_view_module_version": "1.2.0",
            "_view_name": "LayoutView",
            "align_content": null,
            "align_items": null,
            "align_self": null,
            "border": null,
            "bottom": null,
            "display": null,
            "flex": null,
            "flex_flow": null,
            "grid_area": null,
            "grid_auto_columns": null,
            "grid_auto_flow": null,
            "grid_auto_rows": null,
            "grid_column": null,
            "grid_gap": null,
            "grid_row": null,
            "grid_template_areas": null,
            "grid_template_columns": null,
            "grid_template_rows": null,
            "height": null,
            "justify_content": null,
            "justify_items": null,
            "left": null,
            "margin": null,
            "max_height": null,
            "max_width": null,
            "min_height": null,
            "min_width": null,
            "object_fit": null,
            "object_position": null,
            "order": null,
            "overflow": null,
            "overflow_x": null,
            "overflow_y": null,
            "padding": null,
            "right": null,
            "top": null,
            "visibility": null,
            "width": null
          }
        },
        "94dfb8a2e6df4814b7edbcec66a14ed3": {
          "model_module": "@jupyter-widgets/base",
          "model_module_version": "1.2.0",
          "model_name": "LayoutModel",
          "state": {
            "_model_module": "@jupyter-widgets/base",
            "_model_module_version": "1.2.0",
            "_model_name": "LayoutModel",
            "_view_count": null,
            "_view_module": "@jupyter-widgets/base",
            "_view_module_version": "1.2.0",
            "_view_name": "LayoutView",
            "align_content": null,
            "align_items": null,
            "align_self": null,
            "border": null,
            "bottom": null,
            "display": null,
            "flex": null,
            "flex_flow": null,
            "grid_area": null,
            "grid_auto_columns": null,
            "grid_auto_flow": null,
            "grid_auto_rows": null,
            "grid_column": null,
            "grid_gap": null,
            "grid_row": null,
            "grid_template_areas": null,
            "grid_template_columns": null,
            "grid_template_rows": null,
            "height": null,
            "justify_content": null,
            "justify_items": null,
            "left": null,
            "margin": null,
            "max_height": null,
            "max_width": null,
            "min_height": null,
            "min_width": null,
            "object_fit": null,
            "object_position": null,
            "order": null,
            "overflow": null,
            "overflow_x": null,
            "overflow_y": null,
            "padding": null,
            "right": null,
            "top": null,
            "visibility": null,
            "width": null
          }
        },
        "9b92731d177b4dbd825bb65d9d928de3": {
          "model_module": "@jupyter-widgets/controls",
          "model_module_version": "1.5.0",
          "model_name": "HTMLModel",
          "state": {
            "_dom_classes": [],
            "_model_module": "@jupyter-widgets/controls",
            "_model_module_version": "1.5.0",
            "_model_name": "HTMLModel",
            "_view_count": null,
            "_view_module": "@jupyter-widgets/controls",
            "_view_module_version": "1.5.0",
            "_view_name": "HTMLView",
            "description": "",
            "description_tooltip": null,
            "layout": "IPY_MODEL_5f4e8e67499f4662875609bc1b5453c9",
            "placeholder": "​",
            "style": "IPY_MODEL_1ca87f587e634f0e9698c9d5b945675a",
            "value": "sentencepiece.bpe.model: 100%"
          }
        },
        "9dfef6fcb80c4456ba8312ef1db5ee7c": {
          "model_module": "@jupyter-widgets/base",
          "model_module_version": "1.2.0",
          "model_name": "LayoutModel",
          "state": {
            "_model_module": "@jupyter-widgets/base",
            "_model_module_version": "1.2.0",
            "_model_name": "LayoutModel",
            "_view_count": null,
            "_view_module": "@jupyter-widgets/base",
            "_view_module_version": "1.2.0",
            "_view_name": "LayoutView",
            "align_content": null,
            "align_items": null,
            "align_self": null,
            "border": null,
            "bottom": null,
            "display": null,
            "flex": null,
            "flex_flow": null,
            "grid_area": null,
            "grid_auto_columns": null,
            "grid_auto_flow": null,
            "grid_auto_rows": null,
            "grid_column": null,
            "grid_gap": null,
            "grid_row": null,
            "grid_template_areas": null,
            "grid_template_columns": null,
            "grid_template_rows": null,
            "height": null,
            "justify_content": null,
            "justify_items": null,
            "left": null,
            "margin": null,
            "max_height": null,
            "max_width": null,
            "min_height": null,
            "min_width": null,
            "object_fit": null,
            "object_position": null,
            "order": null,
            "overflow": null,
            "overflow_x": null,
            "overflow_y": null,
            "padding": null,
            "right": null,
            "top": null,
            "visibility": null,
            "width": null
          }
        },
        "9e67e76714a2412c8530481c66fbf9c2": {
          "model_module": "@jupyter-widgets/controls",
          "model_module_version": "1.5.0",
          "model_name": "FloatProgressModel",
          "state": {
            "_dom_classes": [],
            "_model_module": "@jupyter-widgets/controls",
            "_model_module_version": "1.5.0",
            "_model_name": "FloatProgressModel",
            "_view_count": null,
            "_view_module": "@jupyter-widgets/controls",
            "_view_module_version": "1.5.0",
            "_view_name": "ProgressView",
            "bar_style": "",
            "description": "",
            "description_tooltip": null,
            "layout": "IPY_MODEL_7d74ca7063824d8aaeefe6fb697271a8",
            "max": 1901,
            "min": 0,
            "orientation": "horizontal",
            "style": "IPY_MODEL_8d713ed7b7ac4d3d9aa93d906fd46e53",
            "value": 0
          }
        },
        "a2061eb0ac024b6a994ac74c355efd62": {
          "model_module": "@jupyter-widgets/controls",
          "model_module_version": "1.5.0",
          "model_name": "ProgressStyleModel",
          "state": {
            "_model_module": "@jupyter-widgets/controls",
            "_model_module_version": "1.5.0",
            "_model_name": "ProgressStyleModel",
            "_view_count": null,
            "_view_module": "@jupyter-widgets/base",
            "_view_module_version": "1.2.0",
            "_view_name": "StyleView",
            "bar_color": null,
            "description_width": ""
          }
        },
        "a85dfb60045544dc81fa14a39a7255b6": {
          "model_module": "@jupyter-widgets/base",
          "model_module_version": "1.2.0",
          "model_name": "LayoutModel",
          "state": {
            "_model_module": "@jupyter-widgets/base",
            "_model_module_version": "1.2.0",
            "_model_name": "LayoutModel",
            "_view_count": null,
            "_view_module": "@jupyter-widgets/base",
            "_view_module_version": "1.2.0",
            "_view_name": "LayoutView",
            "align_content": null,
            "align_items": null,
            "align_self": null,
            "border": null,
            "bottom": null,
            "display": null,
            "flex": null,
            "flex_flow": null,
            "grid_area": null,
            "grid_auto_columns": null,
            "grid_auto_flow": null,
            "grid_auto_rows": null,
            "grid_column": null,
            "grid_gap": null,
            "grid_row": null,
            "grid_template_areas": null,
            "grid_template_columns": null,
            "grid_template_rows": null,
            "height": null,
            "justify_content": null,
            "justify_items": null,
            "left": null,
            "margin": null,
            "max_height": null,
            "max_width": null,
            "min_height": null,
            "min_width": null,
            "object_fit": null,
            "object_position": null,
            "order": null,
            "overflow": null,
            "overflow_x": null,
            "overflow_y": null,
            "padding": null,
            "right": null,
            "top": null,
            "visibility": null,
            "width": null
          }
        },
        "ab62f830d9964da882d8630327abd8d4": {
          "model_module": "@jupyter-widgets/controls",
          "model_module_version": "1.5.0",
          "model_name": "FloatProgressModel",
          "state": {
            "_dom_classes": [],
            "_model_module": "@jupyter-widgets/controls",
            "_model_module_version": "1.5.0",
            "_model_name": "FloatProgressModel",
            "_view_count": null,
            "_view_module": "@jupyter-widgets/controls",
            "_view_module_version": "1.5.0",
            "_view_name": "ProgressView",
            "bar_style": "success",
            "description": "",
            "description_tooltip": null,
            "layout": "IPY_MODEL_914537bb17614355bf29ffbf0b10c2dc",
            "max": 796,
            "min": 0,
            "orientation": "horizontal",
            "style": "IPY_MODEL_bf0621c680e34776bc384b958cb099f7",
            "value": 796
          }
        },
        "b12367360d4a4be7bab8059e52511183": {
          "model_module": "@jupyter-widgets/controls",
          "model_module_version": "1.5.0",
          "model_name": "HBoxModel",
          "state": {
            "_dom_classes": [],
            "_model_module": "@jupyter-widgets/controls",
            "_model_module_version": "1.5.0",
            "_model_name": "HBoxModel",
            "_view_count": null,
            "_view_module": "@jupyter-widgets/controls",
            "_view_module_version": "1.5.0",
            "_view_name": "HBoxView",
            "box_style": "",
            "children": [
              "IPY_MODEL_37a3d2a331a44d978a7b51d21a907b97",
              "IPY_MODEL_9e67e76714a2412c8530481c66fbf9c2",
              "IPY_MODEL_029a10472ed842d48d2d761034ccb187"
            ],
            "layout": "IPY_MODEL_5273febc59c544f2b7f9b07324ba1ef3"
          }
        },
        "b3fd52c599d84dc4806e4720429620d0": {
          "model_module": "@jupyter-widgets/base",
          "model_module_version": "1.2.0",
          "model_name": "LayoutModel",
          "state": {
            "_model_module": "@jupyter-widgets/base",
            "_model_module_version": "1.2.0",
            "_model_name": "LayoutModel",
            "_view_count": null,
            "_view_module": "@jupyter-widgets/base",
            "_view_module_version": "1.2.0",
            "_view_name": "LayoutView",
            "align_content": null,
            "align_items": null,
            "align_self": null,
            "border": null,
            "bottom": null,
            "display": null,
            "flex": null,
            "flex_flow": null,
            "grid_area": null,
            "grid_auto_columns": null,
            "grid_auto_flow": null,
            "grid_auto_rows": null,
            "grid_column": null,
            "grid_gap": null,
            "grid_row": null,
            "grid_template_areas": null,
            "grid_template_columns": null,
            "grid_template_rows": null,
            "height": null,
            "justify_content": null,
            "justify_items": null,
            "left": null,
            "margin": null,
            "max_height": null,
            "max_width": null,
            "min_height": null,
            "min_width": null,
            "object_fit": null,
            "object_position": null,
            "order": null,
            "overflow": null,
            "overflow_x": null,
            "overflow_y": null,
            "padding": null,
            "right": null,
            "top": null,
            "visibility": null,
            "width": null
          }
        },
        "b42c7c3957014106939be2558c2cd62a": {
          "model_module": "@jupyter-widgets/base",
          "model_module_version": "1.2.0",
          "model_name": "LayoutModel",
          "state": {
            "_model_module": "@jupyter-widgets/base",
            "_model_module_version": "1.2.0",
            "_model_name": "LayoutModel",
            "_view_count": null,
            "_view_module": "@jupyter-widgets/base",
            "_view_module_version": "1.2.0",
            "_view_name": "LayoutView",
            "align_content": null,
            "align_items": null,
            "align_self": null,
            "border": null,
            "bottom": null,
            "display": null,
            "flex": null,
            "flex_flow": null,
            "grid_area": null,
            "grid_auto_columns": null,
            "grid_auto_flow": null,
            "grid_auto_rows": null,
            "grid_column": null,
            "grid_gap": null,
            "grid_row": null,
            "grid_template_areas": null,
            "grid_template_columns": null,
            "grid_template_rows": null,
            "height": null,
            "justify_content": null,
            "justify_items": null,
            "left": null,
            "margin": null,
            "max_height": null,
            "max_width": null,
            "min_height": null,
            "min_width": null,
            "object_fit": null,
            "object_position": null,
            "order": null,
            "overflow": null,
            "overflow_x": null,
            "overflow_y": null,
            "padding": null,
            "right": null,
            "top": null,
            "visibility": null,
            "width": null
          }
        },
        "be4c8953d1cd4558b8830246187daac3": {
          "model_module": "@jupyter-widgets/controls",
          "model_module_version": "1.5.0",
          "model_name": "HTMLModel",
          "state": {
            "_dom_classes": [],
            "_model_module": "@jupyter-widgets/controls",
            "_model_module_version": "1.5.0",
            "_model_name": "HTMLModel",
            "_view_count": null,
            "_view_module": "@jupyter-widgets/controls",
            "_view_module_version": "1.5.0",
            "_view_name": "HTMLView",
            "description": "",
            "description_tooltip": null,
            "layout": "IPY_MODEL_3aee28199db545acbb43248362329f81",
            "placeholder": "​",
            "style": "IPY_MODEL_db707a84eb07403481bbac9431af74a9",
            "value": " 796/796 [00:00&lt;00:00, 86.5kB/s]"
          }
        },
        "bf0621c680e34776bc384b958cb099f7": {
          "model_module": "@jupyter-widgets/controls",
          "model_module_version": "1.5.0",
          "model_name": "ProgressStyleModel",
          "state": {
            "_model_module": "@jupyter-widgets/controls",
            "_model_module_version": "1.5.0",
            "_model_name": "ProgressStyleModel",
            "_view_count": null,
            "_view_module": "@jupyter-widgets/base",
            "_view_module_version": "1.2.0",
            "_view_name": "StyleView",
            "bar_color": null,
            "description_width": ""
          }
        },
        "c049bbf45ecb44d5990e89c68964171f": {
          "model_module": "@jupyter-widgets/base",
          "model_module_version": "1.2.0",
          "model_name": "LayoutModel",
          "state": {
            "_model_module": "@jupyter-widgets/base",
            "_model_module_version": "1.2.0",
            "_model_name": "LayoutModel",
            "_view_count": null,
            "_view_module": "@jupyter-widgets/base",
            "_view_module_version": "1.2.0",
            "_view_name": "LayoutView",
            "align_content": null,
            "align_items": null,
            "align_self": null,
            "border": null,
            "bottom": null,
            "display": null,
            "flex": null,
            "flex_flow": null,
            "grid_area": null,
            "grid_auto_columns": null,
            "grid_auto_flow": null,
            "grid_auto_rows": null,
            "grid_column": null,
            "grid_gap": null,
            "grid_row": null,
            "grid_template_areas": null,
            "grid_template_columns": null,
            "grid_template_rows": null,
            "height": null,
            "justify_content": null,
            "justify_items": null,
            "left": null,
            "margin": null,
            "max_height": null,
            "max_width": null,
            "min_height": null,
            "min_width": null,
            "object_fit": null,
            "object_position": null,
            "order": null,
            "overflow": null,
            "overflow_x": null,
            "overflow_y": null,
            "padding": null,
            "right": null,
            "top": null,
            "visibility": null,
            "width": null
          }
        },
        "c07c1f2a8f214d84b8995875321e776d": {
          "model_module": "@jupyter-widgets/controls",
          "model_module_version": "1.5.0",
          "model_name": "DescriptionStyleModel",
          "state": {
            "_model_module": "@jupyter-widgets/controls",
            "_model_module_version": "1.5.0",
            "_model_name": "DescriptionStyleModel",
            "_view_count": null,
            "_view_module": "@jupyter-widgets/base",
            "_view_module_version": "1.2.0",
            "_view_name": "StyleView",
            "description_width": ""
          }
        },
        "c978f7ea124c458f8b3d41866fefa0d0": {
          "model_module": "@jupyter-widgets/controls",
          "model_module_version": "1.5.0",
          "model_name": "DescriptionStyleModel",
          "state": {
            "_model_module": "@jupyter-widgets/controls",
            "_model_module_version": "1.5.0",
            "_model_name": "DescriptionStyleModel",
            "_view_count": null,
            "_view_module": "@jupyter-widgets/base",
            "_view_module_version": "1.2.0",
            "_view_name": "StyleView",
            "description_width": ""
          }
        },
        "d232b47c1c1b4c5d9109885debcef7d6": {
          "model_module": "@jupyter-widgets/base",
          "model_module_version": "1.2.0",
          "model_name": "LayoutModel",
          "state": {
            "_model_module": "@jupyter-widgets/base",
            "_model_module_version": "1.2.0",
            "_model_name": "LayoutModel",
            "_view_count": null,
            "_view_module": "@jupyter-widgets/base",
            "_view_module_version": "1.2.0",
            "_view_name": "LayoutView",
            "align_content": null,
            "align_items": null,
            "align_self": null,
            "border": null,
            "bottom": null,
            "display": null,
            "flex": null,
            "flex_flow": null,
            "grid_area": null,
            "grid_auto_columns": null,
            "grid_auto_flow": null,
            "grid_auto_rows": null,
            "grid_column": null,
            "grid_gap": null,
            "grid_row": null,
            "grid_template_areas": null,
            "grid_template_columns": null,
            "grid_template_rows": null,
            "height": null,
            "justify_content": null,
            "justify_items": null,
            "left": null,
            "margin": null,
            "max_height": null,
            "max_width": null,
            "min_height": null,
            "min_width": null,
            "object_fit": null,
            "object_position": null,
            "order": null,
            "overflow": null,
            "overflow_x": null,
            "overflow_y": null,
            "padding": null,
            "right": null,
            "top": null,
            "visibility": null,
            "width": null
          }
        },
        "d5104896ce4142d7b3975218c6b461d9": {
          "model_module": "@jupyter-widgets/controls",
          "model_module_version": "1.5.0",
          "model_name": "HTMLModel",
          "state": {
            "_dom_classes": [],
            "_model_module": "@jupyter-widgets/controls",
            "_model_module_version": "1.5.0",
            "_model_name": "HTMLModel",
            "_view_count": null,
            "_view_module": "@jupyter-widgets/controls",
            "_view_module_version": "1.5.0",
            "_view_name": "HTMLView",
            "description": "",
            "description_tooltip": null,
            "layout": "IPY_MODEL_54785c6546b64bec90e099cd9a0ed57e",
            "placeholder": "​",
            "style": "IPY_MODEL_8912cf0d88f446a28301a7fbd4c3bdad",
            "value": "special_tokens_map.json: 100%"
          }
        },
        "d7e7c8ec417f4b368d5fed5b2d2066f7": {
          "model_module": "@jupyter-widgets/base",
          "model_module_version": "1.2.0",
          "model_name": "LayoutModel",
          "state": {
            "_model_module": "@jupyter-widgets/base",
            "_model_module_version": "1.2.0",
            "_model_name": "LayoutModel",
            "_view_count": null,
            "_view_module": "@jupyter-widgets/base",
            "_view_module_version": "1.2.0",
            "_view_name": "LayoutView",
            "align_content": null,
            "align_items": null,
            "align_self": null,
            "border": null,
            "bottom": null,
            "display": null,
            "flex": null,
            "flex_flow": null,
            "grid_area": null,
            "grid_auto_columns": null,
            "grid_auto_flow": null,
            "grid_auto_rows": null,
            "grid_column": null,
            "grid_gap": null,
            "grid_row": null,
            "grid_template_areas": null,
            "grid_template_columns": null,
            "grid_template_rows": null,
            "height": null,
            "justify_content": null,
            "justify_items": null,
            "left": null,
            "margin": null,
            "max_height": null,
            "max_width": null,
            "min_height": null,
            "min_width": null,
            "object_fit": null,
            "object_position": null,
            "order": null,
            "overflow": null,
            "overflow_x": null,
            "overflow_y": null,
            "padding": null,
            "right": null,
            "top": null,
            "visibility": null,
            "width": null
          }
        },
        "db1e1b4e740642f09177cb20e66f4edf": {
          "model_module": "@jupyter-widgets/base",
          "model_module_version": "1.2.0",
          "model_name": "LayoutModel",
          "state": {
            "_model_module": "@jupyter-widgets/base",
            "_model_module_version": "1.2.0",
            "_model_name": "LayoutModel",
            "_view_count": null,
            "_view_module": "@jupyter-widgets/base",
            "_view_module_version": "1.2.0",
            "_view_name": "LayoutView",
            "align_content": null,
            "align_items": null,
            "align_self": null,
            "border": null,
            "bottom": null,
            "display": null,
            "flex": null,
            "flex_flow": null,
            "grid_area": null,
            "grid_auto_columns": null,
            "grid_auto_flow": null,
            "grid_auto_rows": null,
            "grid_column": null,
            "grid_gap": null,
            "grid_row": null,
            "grid_template_areas": null,
            "grid_template_columns": null,
            "grid_template_rows": null,
            "height": null,
            "justify_content": null,
            "justify_items": null,
            "left": null,
            "margin": null,
            "max_height": null,
            "max_width": null,
            "min_height": null,
            "min_width": null,
            "object_fit": null,
            "object_position": null,
            "order": null,
            "overflow": null,
            "overflow_x": null,
            "overflow_y": null,
            "padding": null,
            "right": null,
            "top": null,
            "visibility": null,
            "width": null
          }
        },
        "db707a84eb07403481bbac9431af74a9": {
          "model_module": "@jupyter-widgets/controls",
          "model_module_version": "1.5.0",
          "model_name": "DescriptionStyleModel",
          "state": {
            "_model_module": "@jupyter-widgets/controls",
            "_model_module_version": "1.5.0",
            "_model_name": "DescriptionStyleModel",
            "_view_count": null,
            "_view_module": "@jupyter-widgets/base",
            "_view_module_version": "1.2.0",
            "_view_name": "StyleView",
            "description_width": ""
          }
        },
        "e4db5b89eb5c46848d84d6bab511407e": {
          "model_module": "@jupyter-widgets/controls",
          "model_module_version": "1.5.0",
          "model_name": "DescriptionStyleModel",
          "state": {
            "_model_module": "@jupyter-widgets/controls",
            "_model_module_version": "1.5.0",
            "_model_name": "DescriptionStyleModel",
            "_view_count": null,
            "_view_module": "@jupyter-widgets/base",
            "_view_module_version": "1.2.0",
            "_view_name": "StyleView",
            "description_width": ""
          }
        },
        "e61797592ba04cbea0d85eeb050f9e9f": {
          "model_module": "@jupyter-widgets/controls",
          "model_module_version": "1.5.0",
          "model_name": "ProgressStyleModel",
          "state": {
            "_model_module": "@jupyter-widgets/controls",
            "_model_module_version": "1.5.0",
            "_model_name": "ProgressStyleModel",
            "_view_count": null,
            "_view_module": "@jupyter-widgets/base",
            "_view_module_version": "1.2.0",
            "_view_name": "StyleView",
            "bar_color": null,
            "description_width": ""
          }
        },
        "ecf9edba34b04c85aeb9ed9a5900a8b3": {
          "model_module": "@jupyter-widgets/controls",
          "model_module_version": "1.5.0",
          "model_name": "FloatProgressModel",
          "state": {
            "_dom_classes": [],
            "_model_module": "@jupyter-widgets/controls",
            "_model_module_version": "1.5.0",
            "_model_name": "FloatProgressModel",
            "_view_count": null,
            "_view_module": "@jupyter-widgets/controls",
            "_view_module_version": "1.5.0",
            "_view_name": "ProgressView",
            "bar_style": "success",
            "description": "",
            "description_tooltip": null,
            "layout": "IPY_MODEL_9dfef6fcb80c4456ba8312ef1db5ee7c",
            "max": 5069051,
            "min": 0,
            "orientation": "horizontal",
            "style": "IPY_MODEL_e61797592ba04cbea0d85eeb050f9e9f",
            "value": 5069051
          }
        },
        "f356f66e95484fa89a83937f690ceaba": {
          "model_module": "@jupyter-widgets/base",
          "model_module_version": "1.2.0",
          "model_name": "LayoutModel",
          "state": {
            "_model_module": "@jupyter-widgets/base",
            "_model_module_version": "1.2.0",
            "_model_name": "LayoutModel",
            "_view_count": null,
            "_view_module": "@jupyter-widgets/base",
            "_view_module_version": "1.2.0",
            "_view_name": "LayoutView",
            "align_content": null,
            "align_items": null,
            "align_self": null,
            "border": null,
            "bottom": null,
            "display": null,
            "flex": null,
            "flex_flow": null,
            "grid_area": null,
            "grid_auto_columns": null,
            "grid_auto_flow": null,
            "grid_auto_rows": null,
            "grid_column": null,
            "grid_gap": null,
            "grid_row": null,
            "grid_template_areas": null,
            "grid_template_columns": null,
            "grid_template_rows": null,
            "height": null,
            "justify_content": null,
            "justify_items": null,
            "left": null,
            "margin": null,
            "max_height": null,
            "max_width": null,
            "min_height": null,
            "min_width": null,
            "object_fit": null,
            "object_position": null,
            "order": null,
            "overflow": null,
            "overflow_x": null,
            "overflow_y": null,
            "padding": null,
            "right": null,
            "top": null,
            "visibility": null,
            "width": null
          }
        },
        "f3a1c3ca834e432487ec0763c6d1021a": {
          "model_module": "@jupyter-widgets/controls",
          "model_module_version": "1.5.0",
          "model_name": "DescriptionStyleModel",
          "state": {
            "_model_module": "@jupyter-widgets/controls",
            "_model_module_version": "1.5.0",
            "_model_name": "DescriptionStyleModel",
            "_view_count": null,
            "_view_module": "@jupyter-widgets/base",
            "_view_module_version": "1.2.0",
            "_view_name": "StyleView",
            "description_width": ""
          }
        },
        "f4e3287e316f4118be6f47b5e8679bd7": {
          "model_module": "@jupyter-widgets/controls",
          "model_module_version": "1.5.0",
          "model_name": "DescriptionStyleModel",
          "state": {
            "_model_module": "@jupyter-widgets/controls",
            "_model_module_version": "1.5.0",
            "_model_name": "DescriptionStyleModel",
            "_view_count": null,
            "_view_module": "@jupyter-widgets/base",
            "_view_module_version": "1.2.0",
            "_view_name": "StyleView",
            "description_width": ""
          }
        },
        "f929e2a625b64ae3a39883866176d1ca": {
          "model_module": "@jupyter-widgets/controls",
          "model_module_version": "1.5.0",
          "model_name": "ProgressStyleModel",
          "state": {
            "_model_module": "@jupyter-widgets/controls",
            "_model_module_version": "1.5.0",
            "_model_name": "ProgressStyleModel",
            "_view_count": null,
            "_view_module": "@jupyter-widgets/base",
            "_view_module_version": "1.2.0",
            "_view_name": "StyleView",
            "bar_color": null,
            "description_width": ""
          }
        }
      }
    }
  },
  "nbformat": 4,
  "nbformat_minor": 0
}
